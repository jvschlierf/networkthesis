{
 "cells": [
  {
   "cell_type": "code",
   "execution_count": 1,
   "metadata": {},
   "outputs": [],
   "source": [
    "\n",
    "import os\n",
    "import torch\n",
    "from transformers import Trainer, TrainingArguments, AutoTokenizer, AutoModel, pipeline, AutoModelForSequenceClassification\n",
    "import numpy as np\n",
    "from datasets import Dataset, load_metric\n",
    "import pandas as pd\n",
    "from transformers import TextClassificationPipeline"
   ]
  },
  {
   "cell_type": "code",
   "execution_count": 2,
   "metadata": {},
   "outputs": [],
   "source": [
    "files = os.listdir('../../../Files/Comments/train')\n",
    "# remove any files that are not in the .pickle type \n",
    "\n",
    "files = [f for f in files if f.endswith('.pickle')]"
   ]
  },
  {
   "cell_type": "code",
   "execution_count": 15,
   "metadata": {},
   "outputs": [],
   "source": [
    "model_name = 'bert-base-cased'\n",
    "tokenizer = AutoTokenizer.from_pretrained(model_name, padding=True, truncation=True)\n",
    "model = AutoModelForSequenceClassification.from_pretrained('../../../Files/models/bert_base_cased_model/fully_trained/checkpoint-112500/')\n",
    "\n",
    "classifier = TextClassificationPipeline(model=model, tokenizer=tokenizer)\n"
   ]
  },
  {
   "cell_type": "code",
   "execution_count": 8,
   "metadata": {},
   "outputs": [],
   "source": [
    "test = pd.read_pickle('../../../Files/Comments/train/test_split_comments.pickle')\n",
    "\n"
   ]
  },
  {
   "cell_type": "code",
   "execution_count": 9,
   "metadata": {},
   "outputs": [],
   "source": [
    "testlist = []\n",
    "for i,j in test.iterrows():\n",
    "    testlist.append(j['cleanBody'])"
   ]
  },
  {
   "cell_type": "code",
   "execution_count": 16,
   "metadata": {},
   "outputs": [],
   "source": [
    "results = classifier(testlist[:100], top_k=3)"
   ]
  },
  {
   "cell_type": "code",
   "execution_count": 17,
   "metadata": {},
   "outputs": [
    {
     "data": {
      "text/plain": [
       "[[{'label': 'LABEL_0', 'score': 0.3841243088245392},\n",
       "  {'label': 'LABEL_2', 'score': 0.31766819953918457},\n",
       "  {'label': 'LABEL_1', 'score': 0.29820746183395386}],\n",
       " [{'label': 'LABEL_0', 'score': 0.3841243088245392},\n",
       "  {'label': 'LABEL_2', 'score': 0.31766819953918457},\n",
       "  {'label': 'LABEL_1', 'score': 0.29820746183395386}],\n",
       " [{'label': 'LABEL_0', 'score': 0.3841243088245392},\n",
       "  {'label': 'LABEL_2', 'score': 0.31766819953918457},\n",
       "  {'label': 'LABEL_1', 'score': 0.29820746183395386}],\n",
       " [{'label': 'LABEL_0', 'score': 0.3841243088245392},\n",
       "  {'label': 'LABEL_2', 'score': 0.31766819953918457},\n",
       "  {'label': 'LABEL_1', 'score': 0.29820746183395386}],\n",
       " [{'label': 'LABEL_0', 'score': 0.3841243088245392},\n",
       "  {'label': 'LABEL_2', 'score': 0.31766819953918457},\n",
       "  {'label': 'LABEL_1', 'score': 0.29820746183395386}],\n",
       " [{'label': 'LABEL_0', 'score': 0.3841243088245392},\n",
       "  {'label': 'LABEL_2', 'score': 0.31766819953918457},\n",
       "  {'label': 'LABEL_1', 'score': 0.29820746183395386}],\n",
       " [{'label': 'LABEL_0', 'score': 0.3841243088245392},\n",
       "  {'label': 'LABEL_2', 'score': 0.31766819953918457},\n",
       "  {'label': 'LABEL_1', 'score': 0.29820746183395386}],\n",
       " [{'label': 'LABEL_0', 'score': 0.3841243088245392},\n",
       "  {'label': 'LABEL_2', 'score': 0.31766819953918457},\n",
       "  {'label': 'LABEL_1', 'score': 0.29820746183395386}],\n",
       " [{'label': 'LABEL_0', 'score': 0.3841243088245392},\n",
       "  {'label': 'LABEL_2', 'score': 0.31766819953918457},\n",
       "  {'label': 'LABEL_1', 'score': 0.29820746183395386}],\n",
       " [{'label': 'LABEL_0', 'score': 0.3841243088245392},\n",
       "  {'label': 'LABEL_2', 'score': 0.31766819953918457},\n",
       "  {'label': 'LABEL_1', 'score': 0.29820746183395386}],\n",
       " [{'label': 'LABEL_0', 'score': 0.3841243088245392},\n",
       "  {'label': 'LABEL_2', 'score': 0.31766819953918457},\n",
       "  {'label': 'LABEL_1', 'score': 0.29820746183395386}],\n",
       " [{'label': 'LABEL_0', 'score': 0.3841243088245392},\n",
       "  {'label': 'LABEL_2', 'score': 0.31766822934150696},\n",
       "  {'label': 'LABEL_1', 'score': 0.29820746183395386}],\n",
       " [{'label': 'LABEL_0', 'score': 0.3841243088245392},\n",
       "  {'label': 'LABEL_2', 'score': 0.31766819953918457},\n",
       "  {'label': 'LABEL_1', 'score': 0.29820746183395386}],\n",
       " [{'label': 'LABEL_0', 'score': 0.3841243088245392},\n",
       "  {'label': 'LABEL_2', 'score': 0.31766822934150696},\n",
       "  {'label': 'LABEL_1', 'score': 0.29820746183395386}],\n",
       " [{'label': 'LABEL_0', 'score': 0.3841243088245392},\n",
       "  {'label': 'LABEL_2', 'score': 0.31766819953918457},\n",
       "  {'label': 'LABEL_1', 'score': 0.29820746183395386}],\n",
       " [{'label': 'LABEL_0', 'score': 0.3841243088245392},\n",
       "  {'label': 'LABEL_2', 'score': 0.31766819953918457},\n",
       "  {'label': 'LABEL_1', 'score': 0.29820746183395386}],\n",
       " [{'label': 'LABEL_0', 'score': 0.3841243088245392},\n",
       "  {'label': 'LABEL_2', 'score': 0.31766819953918457},\n",
       "  {'label': 'LABEL_1', 'score': 0.29820746183395386}],\n",
       " [{'label': 'LABEL_0', 'score': 0.3841243088245392},\n",
       "  {'label': 'LABEL_2', 'score': 0.3176681697368622},\n",
       "  {'label': 'LABEL_1', 'score': 0.29820746183395386}],\n",
       " [{'label': 'LABEL_0', 'score': 0.3841243088245392},\n",
       "  {'label': 'LABEL_2', 'score': 0.31766822934150696},\n",
       "  {'label': 'LABEL_1', 'score': 0.29820746183395386}],\n",
       " [{'label': 'LABEL_0', 'score': 0.3841243088245392},\n",
       "  {'label': 'LABEL_2', 'score': 0.31766819953918457},\n",
       "  {'label': 'LABEL_1', 'score': 0.29820746183395386}],\n",
       " [{'label': 'LABEL_0', 'score': 0.3841243088245392},\n",
       "  {'label': 'LABEL_2', 'score': 0.31766819953918457},\n",
       "  {'label': 'LABEL_1', 'score': 0.29820746183395386}],\n",
       " [{'label': 'LABEL_0', 'score': 0.3841243088245392},\n",
       "  {'label': 'LABEL_2', 'score': 0.31766819953918457},\n",
       "  {'label': 'LABEL_1', 'score': 0.29820746183395386}],\n",
       " [{'label': 'LABEL_0', 'score': 0.3841243088245392},\n",
       "  {'label': 'LABEL_2', 'score': 0.31766819953918457},\n",
       "  {'label': 'LABEL_1', 'score': 0.29820746183395386}],\n",
       " [{'label': 'LABEL_0', 'score': 0.3841243088245392},\n",
       "  {'label': 'LABEL_2', 'score': 0.31766819953918457},\n",
       "  {'label': 'LABEL_1', 'score': 0.29820746183395386}],\n",
       " [{'label': 'LABEL_0', 'score': 0.3841243088245392},\n",
       "  {'label': 'LABEL_2', 'score': 0.31766819953918457},\n",
       "  {'label': 'LABEL_1', 'score': 0.29820746183395386}],\n",
       " [{'label': 'LABEL_0', 'score': 0.3841243088245392},\n",
       "  {'label': 'LABEL_2', 'score': 0.31766822934150696},\n",
       "  {'label': 'LABEL_1', 'score': 0.29820746183395386}],\n",
       " [{'label': 'LABEL_0', 'score': 0.3841243088245392},\n",
       "  {'label': 'LABEL_2', 'score': 0.31766819953918457},\n",
       "  {'label': 'LABEL_1', 'score': 0.29820746183395386}],\n",
       " [{'label': 'LABEL_0', 'score': 0.3841243088245392},\n",
       "  {'label': 'LABEL_2', 'score': 0.31766819953918457},\n",
       "  {'label': 'LABEL_1', 'score': 0.29820746183395386}],\n",
       " [{'label': 'LABEL_0', 'score': 0.3841243088245392},\n",
       "  {'label': 'LABEL_2', 'score': 0.31766819953918457},\n",
       "  {'label': 'LABEL_1', 'score': 0.29820746183395386}],\n",
       " [{'label': 'LABEL_0', 'score': 0.3841243088245392},\n",
       "  {'label': 'LABEL_2', 'score': 0.31766819953918457},\n",
       "  {'label': 'LABEL_1', 'score': 0.29820746183395386}],\n",
       " [{'label': 'LABEL_0', 'score': 0.3841243088245392},\n",
       "  {'label': 'LABEL_2', 'score': 0.31766819953918457},\n",
       "  {'label': 'LABEL_1', 'score': 0.29820746183395386}],\n",
       " [{'label': 'LABEL_0', 'score': 0.3841243088245392},\n",
       "  {'label': 'LABEL_2', 'score': 0.31766819953918457},\n",
       "  {'label': 'LABEL_1', 'score': 0.29820746183395386}],\n",
       " [{'label': 'LABEL_0', 'score': 0.3841243088245392},\n",
       "  {'label': 'LABEL_2', 'score': 0.3176681697368622},\n",
       "  {'label': 'LABEL_1', 'score': 0.29820746183395386}],\n",
       " [{'label': 'LABEL_0', 'score': 0.3841243088245392},\n",
       "  {'label': 'LABEL_2', 'score': 0.31766819953918457},\n",
       "  {'label': 'LABEL_1', 'score': 0.29820749163627625}],\n",
       " [{'label': 'LABEL_0', 'score': 0.3841243088245392},\n",
       "  {'label': 'LABEL_2', 'score': 0.31766819953918457},\n",
       "  {'label': 'LABEL_1', 'score': 0.29820746183395386}],\n",
       " [{'label': 'LABEL_0', 'score': 0.3841243088245392},\n",
       "  {'label': 'LABEL_2', 'score': 0.3176681697368622},\n",
       "  {'label': 'LABEL_1', 'score': 0.29820746183395386}],\n",
       " [{'label': 'LABEL_0', 'score': 0.3841243088245392},\n",
       "  {'label': 'LABEL_2', 'score': 0.31766819953918457},\n",
       "  {'label': 'LABEL_1', 'score': 0.29820746183395386}],\n",
       " [{'label': 'LABEL_0', 'score': 0.3841243088245392},\n",
       "  {'label': 'LABEL_2', 'score': 0.31766822934150696},\n",
       "  {'label': 'LABEL_1', 'score': 0.29820746183395386}],\n",
       " [{'label': 'LABEL_0', 'score': 0.3841243088245392},\n",
       "  {'label': 'LABEL_2', 'score': 0.31766819953918457},\n",
       "  {'label': 'LABEL_1', 'score': 0.29820746183395386}],\n",
       " [{'label': 'LABEL_0', 'score': 0.3841243088245392},\n",
       "  {'label': 'LABEL_2', 'score': 0.31766819953918457},\n",
       "  {'label': 'LABEL_1', 'score': 0.29820746183395386}],\n",
       " [{'label': 'LABEL_0', 'score': 0.3841243088245392},\n",
       "  {'label': 'LABEL_2', 'score': 0.3176681697368622},\n",
       "  {'label': 'LABEL_1', 'score': 0.29820746183395386}],\n",
       " [{'label': 'LABEL_0', 'score': 0.3841243088245392},\n",
       "  {'label': 'LABEL_2', 'score': 0.31766819953918457},\n",
       "  {'label': 'LABEL_1', 'score': 0.29820746183395386}],\n",
       " [{'label': 'LABEL_0', 'score': 0.3841243088245392},\n",
       "  {'label': 'LABEL_2', 'score': 0.31766819953918457},\n",
       "  {'label': 'LABEL_1', 'score': 0.29820749163627625}],\n",
       " [{'label': 'LABEL_0', 'score': 0.3841243088245392},\n",
       "  {'label': 'LABEL_2', 'score': 0.31766819953918457},\n",
       "  {'label': 'LABEL_1', 'score': 0.29820749163627625}],\n",
       " [{'label': 'LABEL_0', 'score': 0.3841243088245392},\n",
       "  {'label': 'LABEL_2', 'score': 0.31766819953918457},\n",
       "  {'label': 'LABEL_1', 'score': 0.29820746183395386}],\n",
       " [{'label': 'LABEL_0', 'score': 0.3841243088245392},\n",
       "  {'label': 'LABEL_2', 'score': 0.31766819953918457},\n",
       "  {'label': 'LABEL_1', 'score': 0.29820746183395386}],\n",
       " [{'label': 'LABEL_0', 'score': 0.3841243088245392},\n",
       "  {'label': 'LABEL_2', 'score': 0.31766819953918457},\n",
       "  {'label': 'LABEL_1', 'score': 0.29820746183395386}],\n",
       " [{'label': 'LABEL_0', 'score': 0.3841243088245392},\n",
       "  {'label': 'LABEL_2', 'score': 0.31766819953918457},\n",
       "  {'label': 'LABEL_1', 'score': 0.29820749163627625}],\n",
       " [{'label': 'LABEL_0', 'score': 0.3841243088245392},\n",
       "  {'label': 'LABEL_2', 'score': 0.31766822934150696},\n",
       "  {'label': 'LABEL_1', 'score': 0.29820746183395386}],\n",
       " [{'label': 'LABEL_0', 'score': 0.3841243088245392},\n",
       "  {'label': 'LABEL_2', 'score': 0.31766822934150696},\n",
       "  {'label': 'LABEL_1', 'score': 0.29820746183395386}],\n",
       " [{'label': 'LABEL_0', 'score': 0.3841243088245392},\n",
       "  {'label': 'LABEL_2', 'score': 0.31766819953918457},\n",
       "  {'label': 'LABEL_1', 'score': 0.29820746183395386}],\n",
       " [{'label': 'LABEL_0', 'score': 0.3841243088245392},\n",
       "  {'label': 'LABEL_2', 'score': 0.31766822934150696},\n",
       "  {'label': 'LABEL_1', 'score': 0.29820746183395386}],\n",
       " [{'label': 'LABEL_0', 'score': 0.3841243088245392},\n",
       "  {'label': 'LABEL_2', 'score': 0.31766819953918457},\n",
       "  {'label': 'LABEL_1', 'score': 0.29820746183395386}],\n",
       " [{'label': 'LABEL_0', 'score': 0.3841243088245392},\n",
       "  {'label': 'LABEL_2', 'score': 0.31766819953918457},\n",
       "  {'label': 'LABEL_1', 'score': 0.29820746183395386}],\n",
       " [{'label': 'LABEL_0', 'score': 0.3841243088245392},\n",
       "  {'label': 'LABEL_2', 'score': 0.31766822934150696},\n",
       "  {'label': 'LABEL_1', 'score': 0.29820749163627625}],\n",
       " [{'label': 'LABEL_0', 'score': 0.3841243386268616},\n",
       "  {'label': 'LABEL_2', 'score': 0.31766819953918457},\n",
       "  {'label': 'LABEL_1', 'score': 0.29820746183395386}],\n",
       " [{'label': 'LABEL_0', 'score': 0.3841243088245392},\n",
       "  {'label': 'LABEL_2', 'score': 0.31766822934150696},\n",
       "  {'label': 'LABEL_1', 'score': 0.29820746183395386}],\n",
       " [{'label': 'LABEL_0', 'score': 0.3841243088245392},\n",
       "  {'label': 'LABEL_2', 'score': 0.31766819953918457},\n",
       "  {'label': 'LABEL_1', 'score': 0.29820746183395386}],\n",
       " [{'label': 'LABEL_0', 'score': 0.3841243088245392},\n",
       "  {'label': 'LABEL_2', 'score': 0.31766819953918457},\n",
       "  {'label': 'LABEL_1', 'score': 0.29820746183395386}],\n",
       " [{'label': 'LABEL_0', 'score': 0.3841243088245392},\n",
       "  {'label': 'LABEL_2', 'score': 0.31766819953918457},\n",
       "  {'label': 'LABEL_1', 'score': 0.29820746183395386}],\n",
       " [{'label': 'LABEL_0', 'score': 0.3841243088245392},\n",
       "  {'label': 'LABEL_2', 'score': 0.31766822934150696},\n",
       "  {'label': 'LABEL_1', 'score': 0.29820749163627625}],\n",
       " [{'label': 'LABEL_0', 'score': 0.3841243088245392},\n",
       "  {'label': 'LABEL_2', 'score': 0.31766819953918457},\n",
       "  {'label': 'LABEL_1', 'score': 0.29820746183395386}],\n",
       " [{'label': 'LABEL_0', 'score': 0.3841243088245392},\n",
       "  {'label': 'LABEL_2', 'score': 0.31766819953918457},\n",
       "  {'label': 'LABEL_1', 'score': 0.29820746183395386}],\n",
       " [{'label': 'LABEL_0', 'score': 0.3841243088245392},\n",
       "  {'label': 'LABEL_2', 'score': 0.31766819953918457},\n",
       "  {'label': 'LABEL_1', 'score': 0.29820746183395386}],\n",
       " [{'label': 'LABEL_0', 'score': 0.3841243088245392},\n",
       "  {'label': 'LABEL_2', 'score': 0.31766819953918457},\n",
       "  {'label': 'LABEL_1', 'score': 0.29820746183395386}],\n",
       " [{'label': 'LABEL_0', 'score': 0.3841243386268616},\n",
       "  {'label': 'LABEL_2', 'score': 0.31766819953918457},\n",
       "  {'label': 'LABEL_1', 'score': 0.29820746183395386}],\n",
       " [{'label': 'LABEL_0', 'score': 0.3841243088245392},\n",
       "  {'label': 'LABEL_2', 'score': 0.31766819953918457},\n",
       "  {'label': 'LABEL_1', 'score': 0.29820746183395386}],\n",
       " [{'label': 'LABEL_0', 'score': 0.3841243088245392},\n",
       "  {'label': 'LABEL_2', 'score': 0.31766822934150696},\n",
       "  {'label': 'LABEL_1', 'score': 0.29820746183395386}],\n",
       " [{'label': 'LABEL_0', 'score': 0.3841243088245392},\n",
       "  {'label': 'LABEL_2', 'score': 0.3176681697368622},\n",
       "  {'label': 'LABEL_1', 'score': 0.29820746183395386}],\n",
       " [{'label': 'LABEL_0', 'score': 0.3841243088245392},\n",
       "  {'label': 'LABEL_2', 'score': 0.31766819953918457},\n",
       "  {'label': 'LABEL_1', 'score': 0.29820749163627625}],\n",
       " [{'label': 'LABEL_0', 'score': 0.3841243088245392},\n",
       "  {'label': 'LABEL_2', 'score': 0.31766819953918457},\n",
       "  {'label': 'LABEL_1', 'score': 0.29820746183395386}],\n",
       " [{'label': 'LABEL_0', 'score': 0.3841243088245392},\n",
       "  {'label': 'LABEL_2', 'score': 0.31766819953918457},\n",
       "  {'label': 'LABEL_1', 'score': 0.29820746183395386}],\n",
       " [{'label': 'LABEL_0', 'score': 0.3841243088245392},\n",
       "  {'label': 'LABEL_2', 'score': 0.31766819953918457},\n",
       "  {'label': 'LABEL_1', 'score': 0.29820746183395386}],\n",
       " [{'label': 'LABEL_0', 'score': 0.3841243088245392},\n",
       "  {'label': 'LABEL_2', 'score': 0.31766819953918457},\n",
       "  {'label': 'LABEL_1', 'score': 0.29820746183395386}],\n",
       " [{'label': 'LABEL_0', 'score': 0.3841243088245392},\n",
       "  {'label': 'LABEL_2', 'score': 0.31766819953918457},\n",
       "  {'label': 'LABEL_1', 'score': 0.29820746183395386}],\n",
       " [{'label': 'LABEL_0', 'score': 0.3841243088245392},\n",
       "  {'label': 'LABEL_2', 'score': 0.31766819953918457},\n",
       "  {'label': 'LABEL_1', 'score': 0.29820746183395386}],\n",
       " [{'label': 'LABEL_0', 'score': 0.3841243088245392},\n",
       "  {'label': 'LABEL_2', 'score': 0.31766819953918457},\n",
       "  {'label': 'LABEL_1', 'score': 0.29820746183395386}],\n",
       " [{'label': 'LABEL_0', 'score': 0.3841243088245392},\n",
       "  {'label': 'LABEL_2', 'score': 0.31766819953918457},\n",
       "  {'label': 'LABEL_1', 'score': 0.29820746183395386}],\n",
       " [{'label': 'LABEL_0', 'score': 0.3841243088245392},\n",
       "  {'label': 'LABEL_2', 'score': 0.31766819953918457},\n",
       "  {'label': 'LABEL_1', 'score': 0.29820746183395386}],\n",
       " [{'label': 'LABEL_0', 'score': 0.3841243088245392},\n",
       "  {'label': 'LABEL_2', 'score': 0.31766822934150696},\n",
       "  {'label': 'LABEL_1', 'score': 0.29820746183395386}],\n",
       " [{'label': 'LABEL_0', 'score': 0.3841243088245392},\n",
       "  {'label': 'LABEL_2', 'score': 0.31766822934150696},\n",
       "  {'label': 'LABEL_1', 'score': 0.29820746183395386}],\n",
       " [{'label': 'LABEL_0', 'score': 0.3841243088245392},\n",
       "  {'label': 'LABEL_2', 'score': 0.31766819953918457},\n",
       "  {'label': 'LABEL_1', 'score': 0.29820746183395386}],\n",
       " [{'label': 'LABEL_0', 'score': 0.3841243088245392},\n",
       "  {'label': 'LABEL_2', 'score': 0.3176681697368622},\n",
       "  {'label': 'LABEL_1', 'score': 0.29820746183395386}],\n",
       " [{'label': 'LABEL_0', 'score': 0.3841243088245392},\n",
       "  {'label': 'LABEL_2', 'score': 0.31766819953918457},\n",
       "  {'label': 'LABEL_1', 'score': 0.29820746183395386}],\n",
       " [{'label': 'LABEL_0', 'score': 0.3841243088245392},\n",
       "  {'label': 'LABEL_2', 'score': 0.3176681697368622},\n",
       "  {'label': 'LABEL_1', 'score': 0.29820746183395386}],\n",
       " [{'label': 'LABEL_0', 'score': 0.3841243088245392},\n",
       "  {'label': 'LABEL_2', 'score': 0.31766819953918457},\n",
       "  {'label': 'LABEL_1', 'score': 0.29820749163627625}],\n",
       " [{'label': 'LABEL_0', 'score': 0.3841243088245392},\n",
       "  {'label': 'LABEL_2', 'score': 0.31766822934150696},\n",
       "  {'label': 'LABEL_1', 'score': 0.29820746183395386}],\n",
       " [{'label': 'LABEL_0', 'score': 0.3841243088245392},\n",
       "  {'label': 'LABEL_2', 'score': 0.31766819953918457},\n",
       "  {'label': 'LABEL_1', 'score': 0.29820746183395386}],\n",
       " [{'label': 'LABEL_0', 'score': 0.3841243088245392},\n",
       "  {'label': 'LABEL_2', 'score': 0.31766819953918457},\n",
       "  {'label': 'LABEL_1', 'score': 0.29820746183395386}],\n",
       " [{'label': 'LABEL_0', 'score': 0.3841243088245392},\n",
       "  {'label': 'LABEL_2', 'score': 0.31766819953918457},\n",
       "  {'label': 'LABEL_1', 'score': 0.29820746183395386}],\n",
       " [{'label': 'LABEL_0', 'score': 0.3841243088245392},\n",
       "  {'label': 'LABEL_2', 'score': 0.31766822934150696},\n",
       "  {'label': 'LABEL_1', 'score': 0.29820746183395386}],\n",
       " [{'label': 'LABEL_0', 'score': 0.3841243088245392},\n",
       "  {'label': 'LABEL_2', 'score': 0.31766819953918457},\n",
       "  {'label': 'LABEL_1', 'score': 0.29820746183395386}],\n",
       " [{'label': 'LABEL_0', 'score': 0.3841243088245392},\n",
       "  {'label': 'LABEL_2', 'score': 0.31766819953918457},\n",
       "  {'label': 'LABEL_1', 'score': 0.29820746183395386}],\n",
       " [{'label': 'LABEL_0', 'score': 0.3841243088245392},\n",
       "  {'label': 'LABEL_2', 'score': 0.31766819953918457},\n",
       "  {'label': 'LABEL_1', 'score': 0.29820746183395386}],\n",
       " [{'label': 'LABEL_0', 'score': 0.3841243088245392},\n",
       "  {'label': 'LABEL_2', 'score': 0.31766819953918457},\n",
       "  {'label': 'LABEL_1', 'score': 0.29820746183395386}],\n",
       " [{'label': 'LABEL_0', 'score': 0.3841243088245392},\n",
       "  {'label': 'LABEL_2', 'score': 0.31766819953918457},\n",
       "  {'label': 'LABEL_1', 'score': 0.29820746183395386}],\n",
       " [{'label': 'LABEL_0', 'score': 0.3841243088245392},\n",
       "  {'label': 'LABEL_2', 'score': 0.31766819953918457},\n",
       "  {'label': 'LABEL_1', 'score': 0.29820746183395386}],\n",
       " [{'label': 'LABEL_0', 'score': 0.3841243088245392},\n",
       "  {'label': 'LABEL_2', 'score': 0.31766822934150696},\n",
       "  {'label': 'LABEL_1', 'score': 0.29820749163627625}],\n",
       " [{'label': 'LABEL_0', 'score': 0.3841243088245392},\n",
       "  {'label': 'LABEL_2', 'score': 0.31766819953918457},\n",
       "  {'label': 'LABEL_1', 'score': 0.29820749163627625}],\n",
       " [{'label': 'LABEL_0', 'score': 0.3841243088245392},\n",
       "  {'label': 'LABEL_2', 'score': 0.31766819953918457},\n",
       "  {'label': 'LABEL_1', 'score': 0.29820746183395386}]]"
      ]
     },
     "execution_count": 17,
     "metadata": {},
     "output_type": "execute_result"
    }
   ],
   "source": [
    "results"
   ]
  },
  {
   "cell_type": "code",
   "execution_count": 13,
   "metadata": {},
   "outputs": [],
   "source": [
    "model_name = 'bert-base-cased'\n",
    "tokenizer = AutoTokenizer.from_pretrained(model_name, padding=\"max_length\", truncation=True)\n",
    "\n",
    "def tokenize_function(examples):\n",
    "    return tokenizer(examples, padding=\"max_length\", truncation=True)"
   ]
  },
  {
   "cell_type": "code",
   "execution_count": 14,
   "metadata": {},
   "outputs": [],
   "source": [
    "model = AutoModelForSequenceClassification.from_pretrained('../../../Files/models/bert_base_cased_model/fully_trained/checkpoint-3237/')"
   ]
  },
  {
   "cell_type": "code",
   "execution_count": 15,
   "metadata": {},
   "outputs": [],
   "source": [
    "from transformers import TextClassificationPipeline"
   ]
  },
  {
   "cell_type": "code",
   "execution_count": 16,
   "metadata": {},
   "outputs": [],
   "source": [
    "classifier = TextClassificationPipeline(model=model, tokenizer=tokenizer)"
   ]
  },
  {
   "cell_type": "code",
   "execution_count": 50,
   "metadata": {},
   "outputs": [],
   "source": [
    "results = classifier(testlist[:100], top_k=2)"
   ]
  },
  {
   "cell_type": "code",
   "execution_count": 58,
   "metadata": {},
   "outputs": [
    {
     "data": {
      "text/plain": [
       "[{'label': 'LABEL_1', 'score': 0.971824586391449},\n",
       " {'label': 'LABEL_2', 'score': 0.027064817026257515}]"
      ]
     },
     "execution_count": 58,
     "metadata": {},
     "output_type": "execute_result"
    }
   ],
   "source": [
    "results[0]"
   ]
  },
  {
   "cell_type": "code",
   "execution_count": 65,
   "metadata": {},
   "outputs": [],
   "source": [
    "for i, j in test.iterrows():\n",
    "    test.at[i, 'pred_1'] = np.int64(results[i][0]['label'][-1])\n",
    "    test.at[i, 'conf_1'] = results[i][0]['score']\n",
    "    test.at[i, 'pred_2'] = np.int64(results[i][1]['label'][-1])\n",
    "    test.at[i, 'conf_2'] = results[i][1]['score']"
   ]
  },
  {
   "cell_type": "code",
   "execution_count": 67,
   "metadata": {},
   "outputs": [
    {
     "data": {
      "text/plain": [
       "0     0.971825\n",
       "1     0.987370\n",
       "2     0.701290\n",
       "3     0.983072\n",
       "4     0.994879\n",
       "        ...   \n",
       "95    0.991165\n",
       "96    0.991165\n",
       "97    0.991165\n",
       "98    0.732041\n",
       "99    0.732041\n",
       "Name: conf_1, Length: 100, dtype: float64"
      ]
     },
     "execution_count": 67,
     "metadata": {},
     "output_type": "execute_result"
    }
   ],
   "source": [
    "test[\"conf_1\"]"
   ]
  },
  {
   "cell_type": "markdown",
   "metadata": {},
   "source": [
    "### SLOW WAY, don't look here"
   ]
  },
  {
   "cell_type": "code",
   "execution_count": 66,
   "metadata": {},
   "outputs": [
    {
     "name": "stderr",
     "output_type": "stream",
     "text": [
      "  0%|          | 3500/1408474 [04:49<32:17:12, 12.09it/s] \n"
     ]
    },
    {
     "ename": "KeyboardInterrupt",
     "evalue": "",
     "output_type": "error",
     "traceback": [
      "\u001b[0;31m---------------------------------------------------------------------------\u001b[0m",
      "\u001b[0;31mKeyboardInterrupt\u001b[0m                         Traceback (most recent call last)",
      "\u001b[1;32m/Users/jakobschlierf/Desktop/Master/Thesis/Github/classifier/nn/bert_base_cased_eval.ipynb Cell 12\u001b[0m in \u001b[0;36m<cell line: 3>\u001b[0;34m()\u001b[0m\n\u001b[1;32m      <a href='vscode-notebook-cell:/Users/jakobschlierf/Desktop/Master/Thesis/Github/classifier/nn/bert_base_cased_eval.ipynb#X15sZmlsZQ%3D%3D?line=1'>2</a>\u001b[0m predictions \u001b[39m=\u001b[39m []\n\u001b[1;32m      <a href='vscode-notebook-cell:/Users/jakobschlierf/Desktop/Master/Thesis/Github/classifier/nn/bert_base_cased_eval.ipynb#X15sZmlsZQ%3D%3D?line=2'>3</a>\u001b[0m \u001b[39mfor\u001b[39;00m i \u001b[39min\u001b[39;00m tqdm(\u001b[39mrange\u001b[39m(\u001b[39mlen\u001b[39m(test))):\n\u001b[0;32m----> <a href='vscode-notebook-cell:/Users/jakobschlierf/Desktop/Master/Thesis/Github/classifier/nn/bert_base_cased_eval.ipynb#X15sZmlsZQ%3D%3D?line=3'>4</a>\u001b[0m     predictions\u001b[39m.\u001b[39mappend(classifier(test[i]))\n",
      "File \u001b[0;32m~/opt/anaconda3/envs/reddit_env_test/lib/python3.9/site-packages/transformers/pipelines/text_classification.py:138\u001b[0m, in \u001b[0;36mTextClassificationPipeline.__call__\u001b[0;34m(self, *args, **kwargs)\u001b[0m\n\u001b[1;32m    104\u001b[0m \u001b[39mdef\u001b[39;00m \u001b[39m__call__\u001b[39m(\u001b[39mself\u001b[39m, \u001b[39m*\u001b[39margs, \u001b[39m*\u001b[39m\u001b[39m*\u001b[39mkwargs):\n\u001b[1;32m    105\u001b[0m     \u001b[39m\"\"\"\u001b[39;00m\n\u001b[1;32m    106\u001b[0m \u001b[39m    Classify the text(s) given as inputs.\u001b[39;00m\n\u001b[1;32m    107\u001b[0m \n\u001b[0;32m   (...)\u001b[0m\n\u001b[1;32m    136\u001b[0m \u001b[39m        If `top_k` is used, one such dictionary is returned per label.\u001b[39;00m\n\u001b[1;32m    137\u001b[0m \u001b[39m    \"\"\"\u001b[39;00m\n\u001b[0;32m--> 138\u001b[0m     result \u001b[39m=\u001b[39m \u001b[39msuper\u001b[39;49m()\u001b[39m.\u001b[39;49m\u001b[39m__call__\u001b[39;49m(\u001b[39m*\u001b[39;49margs, \u001b[39m*\u001b[39;49m\u001b[39m*\u001b[39;49mkwargs)\n\u001b[1;32m    139\u001b[0m     \u001b[39mif\u001b[39;00m \u001b[39misinstance\u001b[39m(args[\u001b[39m0\u001b[39m], \u001b[39mstr\u001b[39m) \u001b[39mand\u001b[39;00m \u001b[39misinstance\u001b[39m(result, \u001b[39mdict\u001b[39m):\n\u001b[1;32m    140\u001b[0m         \u001b[39m# This pipeline is odd, and return a list when single item is run\u001b[39;00m\n\u001b[1;32m    141\u001b[0m         \u001b[39mreturn\u001b[39;00m [result]\n",
      "File \u001b[0;32m~/opt/anaconda3/envs/reddit_env_test/lib/python3.9/site-packages/transformers/pipelines/base.py:1032\u001b[0m, in \u001b[0;36mPipeline.__call__\u001b[0;34m(self, inputs, num_workers, batch_size, *args, **kwargs)\u001b[0m\n\u001b[1;32m   1028\u001b[0m \u001b[39mif\u001b[39;00m can_use_iterator:\n\u001b[1;32m   1029\u001b[0m     final_iterator \u001b[39m=\u001b[39m \u001b[39mself\u001b[39m\u001b[39m.\u001b[39mget_iterator(\n\u001b[1;32m   1030\u001b[0m         inputs, num_workers, batch_size, preprocess_params, forward_params, postprocess_params\n\u001b[1;32m   1031\u001b[0m     )\n\u001b[0;32m-> 1032\u001b[0m     outputs \u001b[39m=\u001b[39m [output \u001b[39mfor\u001b[39;00m output \u001b[39min\u001b[39;00m final_iterator]\n\u001b[1;32m   1033\u001b[0m     \u001b[39mreturn\u001b[39;00m outputs\n\u001b[1;32m   1034\u001b[0m \u001b[39melse\u001b[39;00m:\n",
      "File \u001b[0;32m~/opt/anaconda3/envs/reddit_env_test/lib/python3.9/site-packages/transformers/pipelines/base.py:1032\u001b[0m, in \u001b[0;36m<listcomp>\u001b[0;34m(.0)\u001b[0m\n\u001b[1;32m   1028\u001b[0m \u001b[39mif\u001b[39;00m can_use_iterator:\n\u001b[1;32m   1029\u001b[0m     final_iterator \u001b[39m=\u001b[39m \u001b[39mself\u001b[39m\u001b[39m.\u001b[39mget_iterator(\n\u001b[1;32m   1030\u001b[0m         inputs, num_workers, batch_size, preprocess_params, forward_params, postprocess_params\n\u001b[1;32m   1031\u001b[0m     )\n\u001b[0;32m-> 1032\u001b[0m     outputs \u001b[39m=\u001b[39m [output \u001b[39mfor\u001b[39;00m output \u001b[39min\u001b[39;00m final_iterator]\n\u001b[1;32m   1033\u001b[0m     \u001b[39mreturn\u001b[39;00m outputs\n\u001b[1;32m   1034\u001b[0m \u001b[39melse\u001b[39;00m:\n",
      "File \u001b[0;32m~/opt/anaconda3/envs/reddit_env_test/lib/python3.9/site-packages/transformers/pipelines/pt_utils.py:111\u001b[0m, in \u001b[0;36mPipelineIterator.__next__\u001b[0;34m(self)\u001b[0m\n\u001b[1;32m    108\u001b[0m     \u001b[39mreturn\u001b[39;00m \u001b[39mself\u001b[39m\u001b[39m.\u001b[39mloader_batch_item()\n\u001b[1;32m    110\u001b[0m \u001b[39m# We're out of items within a batch\u001b[39;00m\n\u001b[0;32m--> 111\u001b[0m item \u001b[39m=\u001b[39m \u001b[39mnext\u001b[39;49m(\u001b[39mself\u001b[39;49m\u001b[39m.\u001b[39;49miterator)\n\u001b[1;32m    112\u001b[0m processed \u001b[39m=\u001b[39m \u001b[39mself\u001b[39m\u001b[39m.\u001b[39minfer(item, \u001b[39m*\u001b[39m\u001b[39m*\u001b[39m\u001b[39mself\u001b[39m\u001b[39m.\u001b[39mparams)\n\u001b[1;32m    113\u001b[0m \u001b[39m# We now have a batch of \"inferred things\".\u001b[39;00m\n",
      "File \u001b[0;32m~/opt/anaconda3/envs/reddit_env_test/lib/python3.9/site-packages/transformers/pipelines/pt_utils.py:112\u001b[0m, in \u001b[0;36mPipelineIterator.__next__\u001b[0;34m(self)\u001b[0m\n\u001b[1;32m    110\u001b[0m \u001b[39m# We're out of items within a batch\u001b[39;00m\n\u001b[1;32m    111\u001b[0m item \u001b[39m=\u001b[39m \u001b[39mnext\u001b[39m(\u001b[39mself\u001b[39m\u001b[39m.\u001b[39miterator)\n\u001b[0;32m--> 112\u001b[0m processed \u001b[39m=\u001b[39m \u001b[39mself\u001b[39;49m\u001b[39m.\u001b[39;49minfer(item, \u001b[39m*\u001b[39;49m\u001b[39m*\u001b[39;49m\u001b[39mself\u001b[39;49m\u001b[39m.\u001b[39;49mparams)\n\u001b[1;32m    113\u001b[0m \u001b[39m# We now have a batch of \"inferred things\".\u001b[39;00m\n\u001b[1;32m    114\u001b[0m \u001b[39mif\u001b[39;00m \u001b[39mself\u001b[39m\u001b[39m.\u001b[39mloader_batch_size \u001b[39mis\u001b[39;00m \u001b[39mnot\u001b[39;00m \u001b[39mNone\u001b[39;00m:\n\u001b[1;32m    115\u001b[0m     \u001b[39m# Try to infer the size of the batch\u001b[39;00m\n",
      "File \u001b[0;32m~/opt/anaconda3/envs/reddit_env_test/lib/python3.9/site-packages/transformers/pipelines/base.py:959\u001b[0m, in \u001b[0;36mPipeline.forward\u001b[0;34m(self, model_inputs, **forward_params)\u001b[0m\n\u001b[1;32m    957\u001b[0m     \u001b[39mwith\u001b[39;00m inference_context():\n\u001b[1;32m    958\u001b[0m         model_inputs \u001b[39m=\u001b[39m \u001b[39mself\u001b[39m\u001b[39m.\u001b[39m_ensure_tensor_on_device(model_inputs, device\u001b[39m=\u001b[39m\u001b[39mself\u001b[39m\u001b[39m.\u001b[39mdevice)\n\u001b[0;32m--> 959\u001b[0m         model_outputs \u001b[39m=\u001b[39m \u001b[39mself\u001b[39;49m\u001b[39m.\u001b[39;49m_forward(model_inputs, \u001b[39m*\u001b[39;49m\u001b[39m*\u001b[39;49mforward_params)\n\u001b[1;32m    960\u001b[0m         model_outputs \u001b[39m=\u001b[39m \u001b[39mself\u001b[39m\u001b[39m.\u001b[39m_ensure_tensor_on_device(model_outputs, device\u001b[39m=\u001b[39mtorch\u001b[39m.\u001b[39mdevice(\u001b[39m\"\u001b[39m\u001b[39mcpu\u001b[39m\u001b[39m\"\u001b[39m))\n\u001b[1;32m    961\u001b[0m \u001b[39melse\u001b[39;00m:\n",
      "File \u001b[0;32m~/opt/anaconda3/envs/reddit_env_test/lib/python3.9/site-packages/transformers/pipelines/text_classification.py:163\u001b[0m, in \u001b[0;36mTextClassificationPipeline._forward\u001b[0;34m(self, model_inputs)\u001b[0m\n\u001b[1;32m    162\u001b[0m \u001b[39mdef\u001b[39;00m \u001b[39m_forward\u001b[39m(\u001b[39mself\u001b[39m, model_inputs):\n\u001b[0;32m--> 163\u001b[0m     \u001b[39mreturn\u001b[39;00m \u001b[39mself\u001b[39;49m\u001b[39m.\u001b[39;49mmodel(\u001b[39m*\u001b[39;49m\u001b[39m*\u001b[39;49mmodel_inputs)\n",
      "File \u001b[0;32m~/opt/anaconda3/envs/reddit_env_test/lib/python3.9/site-packages/torch/nn/modules/module.py:1130\u001b[0m, in \u001b[0;36mModule._call_impl\u001b[0;34m(self, *input, **kwargs)\u001b[0m\n\u001b[1;32m   1126\u001b[0m \u001b[39m# If we don't have any hooks, we want to skip the rest of the logic in\u001b[39;00m\n\u001b[1;32m   1127\u001b[0m \u001b[39m# this function, and just call forward.\u001b[39;00m\n\u001b[1;32m   1128\u001b[0m \u001b[39mif\u001b[39;00m \u001b[39mnot\u001b[39;00m (\u001b[39mself\u001b[39m\u001b[39m.\u001b[39m_backward_hooks \u001b[39mor\u001b[39;00m \u001b[39mself\u001b[39m\u001b[39m.\u001b[39m_forward_hooks \u001b[39mor\u001b[39;00m \u001b[39mself\u001b[39m\u001b[39m.\u001b[39m_forward_pre_hooks \u001b[39mor\u001b[39;00m _global_backward_hooks\n\u001b[1;32m   1129\u001b[0m         \u001b[39mor\u001b[39;00m _global_forward_hooks \u001b[39mor\u001b[39;00m _global_forward_pre_hooks):\n\u001b[0;32m-> 1130\u001b[0m     \u001b[39mreturn\u001b[39;00m forward_call(\u001b[39m*\u001b[39;49m\u001b[39minput\u001b[39;49m, \u001b[39m*\u001b[39;49m\u001b[39m*\u001b[39;49mkwargs)\n\u001b[1;32m   1131\u001b[0m \u001b[39m# Do not call functions when jit is used\u001b[39;00m\n\u001b[1;32m   1132\u001b[0m full_backward_hooks, non_full_backward_hooks \u001b[39m=\u001b[39m [], []\n",
      "File \u001b[0;32m~/opt/anaconda3/envs/reddit_env_test/lib/python3.9/site-packages/transformers/models/bert/modeling_bert.py:1556\u001b[0m, in \u001b[0;36mBertForSequenceClassification.forward\u001b[0;34m(self, input_ids, attention_mask, token_type_ids, position_ids, head_mask, inputs_embeds, labels, output_attentions, output_hidden_states, return_dict)\u001b[0m\n\u001b[1;32m   1548\u001b[0m \u001b[39mr\u001b[39m\u001b[39m\"\"\"\u001b[39;00m\n\u001b[1;32m   1549\u001b[0m \u001b[39mlabels (`torch.LongTensor` of shape `(batch_size,)`, *optional*):\u001b[39;00m\n\u001b[1;32m   1550\u001b[0m \u001b[39m    Labels for computing the sequence classification/regression loss. Indices should be in `[0, ...,\u001b[39;00m\n\u001b[1;32m   1551\u001b[0m \u001b[39m    config.num_labels - 1]`. If `config.num_labels == 1` a regression loss is computed (Mean-Square loss), If\u001b[39;00m\n\u001b[1;32m   1552\u001b[0m \u001b[39m    `config.num_labels > 1` a classification loss is computed (Cross-Entropy).\u001b[39;00m\n\u001b[1;32m   1553\u001b[0m \u001b[39m\"\"\"\u001b[39;00m\n\u001b[1;32m   1554\u001b[0m return_dict \u001b[39m=\u001b[39m return_dict \u001b[39mif\u001b[39;00m return_dict \u001b[39mis\u001b[39;00m \u001b[39mnot\u001b[39;00m \u001b[39mNone\u001b[39;00m \u001b[39melse\u001b[39;00m \u001b[39mself\u001b[39m\u001b[39m.\u001b[39mconfig\u001b[39m.\u001b[39muse_return_dict\n\u001b[0;32m-> 1556\u001b[0m outputs \u001b[39m=\u001b[39m \u001b[39mself\u001b[39;49m\u001b[39m.\u001b[39;49mbert(\n\u001b[1;32m   1557\u001b[0m     input_ids,\n\u001b[1;32m   1558\u001b[0m     attention_mask\u001b[39m=\u001b[39;49mattention_mask,\n\u001b[1;32m   1559\u001b[0m     token_type_ids\u001b[39m=\u001b[39;49mtoken_type_ids,\n\u001b[1;32m   1560\u001b[0m     position_ids\u001b[39m=\u001b[39;49mposition_ids,\n\u001b[1;32m   1561\u001b[0m     head_mask\u001b[39m=\u001b[39;49mhead_mask,\n\u001b[1;32m   1562\u001b[0m     inputs_embeds\u001b[39m=\u001b[39;49minputs_embeds,\n\u001b[1;32m   1563\u001b[0m     output_attentions\u001b[39m=\u001b[39;49moutput_attentions,\n\u001b[1;32m   1564\u001b[0m     output_hidden_states\u001b[39m=\u001b[39;49moutput_hidden_states,\n\u001b[1;32m   1565\u001b[0m     return_dict\u001b[39m=\u001b[39;49mreturn_dict,\n\u001b[1;32m   1566\u001b[0m )\n\u001b[1;32m   1568\u001b[0m pooled_output \u001b[39m=\u001b[39m outputs[\u001b[39m1\u001b[39m]\n\u001b[1;32m   1570\u001b[0m pooled_output \u001b[39m=\u001b[39m \u001b[39mself\u001b[39m\u001b[39m.\u001b[39mdropout(pooled_output)\n",
      "File \u001b[0;32m~/opt/anaconda3/envs/reddit_env_test/lib/python3.9/site-packages/torch/nn/modules/module.py:1130\u001b[0m, in \u001b[0;36mModule._call_impl\u001b[0;34m(self, *input, **kwargs)\u001b[0m\n\u001b[1;32m   1126\u001b[0m \u001b[39m# If we don't have any hooks, we want to skip the rest of the logic in\u001b[39;00m\n\u001b[1;32m   1127\u001b[0m \u001b[39m# this function, and just call forward.\u001b[39;00m\n\u001b[1;32m   1128\u001b[0m \u001b[39mif\u001b[39;00m \u001b[39mnot\u001b[39;00m (\u001b[39mself\u001b[39m\u001b[39m.\u001b[39m_backward_hooks \u001b[39mor\u001b[39;00m \u001b[39mself\u001b[39m\u001b[39m.\u001b[39m_forward_hooks \u001b[39mor\u001b[39;00m \u001b[39mself\u001b[39m\u001b[39m.\u001b[39m_forward_pre_hooks \u001b[39mor\u001b[39;00m _global_backward_hooks\n\u001b[1;32m   1129\u001b[0m         \u001b[39mor\u001b[39;00m _global_forward_hooks \u001b[39mor\u001b[39;00m _global_forward_pre_hooks):\n\u001b[0;32m-> 1130\u001b[0m     \u001b[39mreturn\u001b[39;00m forward_call(\u001b[39m*\u001b[39;49m\u001b[39minput\u001b[39;49m, \u001b[39m*\u001b[39;49m\u001b[39m*\u001b[39;49mkwargs)\n\u001b[1;32m   1131\u001b[0m \u001b[39m# Do not call functions when jit is used\u001b[39;00m\n\u001b[1;32m   1132\u001b[0m full_backward_hooks, non_full_backward_hooks \u001b[39m=\u001b[39m [], []\n",
      "File \u001b[0;32m~/opt/anaconda3/envs/reddit_env_test/lib/python3.9/site-packages/transformers/models/bert/modeling_bert.py:1018\u001b[0m, in \u001b[0;36mBertModel.forward\u001b[0;34m(self, input_ids, attention_mask, token_type_ids, position_ids, head_mask, inputs_embeds, encoder_hidden_states, encoder_attention_mask, past_key_values, use_cache, output_attentions, output_hidden_states, return_dict)\u001b[0m\n\u001b[1;32m   1009\u001b[0m head_mask \u001b[39m=\u001b[39m \u001b[39mself\u001b[39m\u001b[39m.\u001b[39mget_head_mask(head_mask, \u001b[39mself\u001b[39m\u001b[39m.\u001b[39mconfig\u001b[39m.\u001b[39mnum_hidden_layers)\n\u001b[1;32m   1011\u001b[0m embedding_output \u001b[39m=\u001b[39m \u001b[39mself\u001b[39m\u001b[39m.\u001b[39membeddings(\n\u001b[1;32m   1012\u001b[0m     input_ids\u001b[39m=\u001b[39minput_ids,\n\u001b[1;32m   1013\u001b[0m     position_ids\u001b[39m=\u001b[39mposition_ids,\n\u001b[0;32m   (...)\u001b[0m\n\u001b[1;32m   1016\u001b[0m     past_key_values_length\u001b[39m=\u001b[39mpast_key_values_length,\n\u001b[1;32m   1017\u001b[0m )\n\u001b[0;32m-> 1018\u001b[0m encoder_outputs \u001b[39m=\u001b[39m \u001b[39mself\u001b[39;49m\u001b[39m.\u001b[39;49mencoder(\n\u001b[1;32m   1019\u001b[0m     embedding_output,\n\u001b[1;32m   1020\u001b[0m     attention_mask\u001b[39m=\u001b[39;49mextended_attention_mask,\n\u001b[1;32m   1021\u001b[0m     head_mask\u001b[39m=\u001b[39;49mhead_mask,\n\u001b[1;32m   1022\u001b[0m     encoder_hidden_states\u001b[39m=\u001b[39;49mencoder_hidden_states,\n\u001b[1;32m   1023\u001b[0m     encoder_attention_mask\u001b[39m=\u001b[39;49mencoder_extended_attention_mask,\n\u001b[1;32m   1024\u001b[0m     past_key_values\u001b[39m=\u001b[39;49mpast_key_values,\n\u001b[1;32m   1025\u001b[0m     use_cache\u001b[39m=\u001b[39;49muse_cache,\n\u001b[1;32m   1026\u001b[0m     output_attentions\u001b[39m=\u001b[39;49moutput_attentions,\n\u001b[1;32m   1027\u001b[0m     output_hidden_states\u001b[39m=\u001b[39;49moutput_hidden_states,\n\u001b[1;32m   1028\u001b[0m     return_dict\u001b[39m=\u001b[39;49mreturn_dict,\n\u001b[1;32m   1029\u001b[0m )\n\u001b[1;32m   1030\u001b[0m sequence_output \u001b[39m=\u001b[39m encoder_outputs[\u001b[39m0\u001b[39m]\n\u001b[1;32m   1031\u001b[0m pooled_output \u001b[39m=\u001b[39m \u001b[39mself\u001b[39m\u001b[39m.\u001b[39mpooler(sequence_output) \u001b[39mif\u001b[39;00m \u001b[39mself\u001b[39m\u001b[39m.\u001b[39mpooler \u001b[39mis\u001b[39;00m \u001b[39mnot\u001b[39;00m \u001b[39mNone\u001b[39;00m \u001b[39melse\u001b[39;00m \u001b[39mNone\u001b[39;00m\n",
      "File \u001b[0;32m~/opt/anaconda3/envs/reddit_env_test/lib/python3.9/site-packages/torch/nn/modules/module.py:1130\u001b[0m, in \u001b[0;36mModule._call_impl\u001b[0;34m(self, *input, **kwargs)\u001b[0m\n\u001b[1;32m   1126\u001b[0m \u001b[39m# If we don't have any hooks, we want to skip the rest of the logic in\u001b[39;00m\n\u001b[1;32m   1127\u001b[0m \u001b[39m# this function, and just call forward.\u001b[39;00m\n\u001b[1;32m   1128\u001b[0m \u001b[39mif\u001b[39;00m \u001b[39mnot\u001b[39;00m (\u001b[39mself\u001b[39m\u001b[39m.\u001b[39m_backward_hooks \u001b[39mor\u001b[39;00m \u001b[39mself\u001b[39m\u001b[39m.\u001b[39m_forward_hooks \u001b[39mor\u001b[39;00m \u001b[39mself\u001b[39m\u001b[39m.\u001b[39m_forward_pre_hooks \u001b[39mor\u001b[39;00m _global_backward_hooks\n\u001b[1;32m   1129\u001b[0m         \u001b[39mor\u001b[39;00m _global_forward_hooks \u001b[39mor\u001b[39;00m _global_forward_pre_hooks):\n\u001b[0;32m-> 1130\u001b[0m     \u001b[39mreturn\u001b[39;00m forward_call(\u001b[39m*\u001b[39;49m\u001b[39minput\u001b[39;49m, \u001b[39m*\u001b[39;49m\u001b[39m*\u001b[39;49mkwargs)\n\u001b[1;32m   1131\u001b[0m \u001b[39m# Do not call functions when jit is used\u001b[39;00m\n\u001b[1;32m   1132\u001b[0m full_backward_hooks, non_full_backward_hooks \u001b[39m=\u001b[39m [], []\n",
      "File \u001b[0;32m~/opt/anaconda3/envs/reddit_env_test/lib/python3.9/site-packages/transformers/models/bert/modeling_bert.py:607\u001b[0m, in \u001b[0;36mBertEncoder.forward\u001b[0;34m(self, hidden_states, attention_mask, head_mask, encoder_hidden_states, encoder_attention_mask, past_key_values, use_cache, output_attentions, output_hidden_states, return_dict)\u001b[0m\n\u001b[1;32m    598\u001b[0m     layer_outputs \u001b[39m=\u001b[39m torch\u001b[39m.\u001b[39mutils\u001b[39m.\u001b[39mcheckpoint\u001b[39m.\u001b[39mcheckpoint(\n\u001b[1;32m    599\u001b[0m         create_custom_forward(layer_module),\n\u001b[1;32m    600\u001b[0m         hidden_states,\n\u001b[0;32m   (...)\u001b[0m\n\u001b[1;32m    604\u001b[0m         encoder_attention_mask,\n\u001b[1;32m    605\u001b[0m     )\n\u001b[1;32m    606\u001b[0m \u001b[39melse\u001b[39;00m:\n\u001b[0;32m--> 607\u001b[0m     layer_outputs \u001b[39m=\u001b[39m layer_module(\n\u001b[1;32m    608\u001b[0m         hidden_states,\n\u001b[1;32m    609\u001b[0m         attention_mask,\n\u001b[1;32m    610\u001b[0m         layer_head_mask,\n\u001b[1;32m    611\u001b[0m         encoder_hidden_states,\n\u001b[1;32m    612\u001b[0m         encoder_attention_mask,\n\u001b[1;32m    613\u001b[0m         past_key_value,\n\u001b[1;32m    614\u001b[0m         output_attentions,\n\u001b[1;32m    615\u001b[0m     )\n\u001b[1;32m    617\u001b[0m hidden_states \u001b[39m=\u001b[39m layer_outputs[\u001b[39m0\u001b[39m]\n\u001b[1;32m    618\u001b[0m \u001b[39mif\u001b[39;00m use_cache:\n",
      "File \u001b[0;32m~/opt/anaconda3/envs/reddit_env_test/lib/python3.9/site-packages/torch/nn/modules/module.py:1130\u001b[0m, in \u001b[0;36mModule._call_impl\u001b[0;34m(self, *input, **kwargs)\u001b[0m\n\u001b[1;32m   1126\u001b[0m \u001b[39m# If we don't have any hooks, we want to skip the rest of the logic in\u001b[39;00m\n\u001b[1;32m   1127\u001b[0m \u001b[39m# this function, and just call forward.\u001b[39;00m\n\u001b[1;32m   1128\u001b[0m \u001b[39mif\u001b[39;00m \u001b[39mnot\u001b[39;00m (\u001b[39mself\u001b[39m\u001b[39m.\u001b[39m_backward_hooks \u001b[39mor\u001b[39;00m \u001b[39mself\u001b[39m\u001b[39m.\u001b[39m_forward_hooks \u001b[39mor\u001b[39;00m \u001b[39mself\u001b[39m\u001b[39m.\u001b[39m_forward_pre_hooks \u001b[39mor\u001b[39;00m _global_backward_hooks\n\u001b[1;32m   1129\u001b[0m         \u001b[39mor\u001b[39;00m _global_forward_hooks \u001b[39mor\u001b[39;00m _global_forward_pre_hooks):\n\u001b[0;32m-> 1130\u001b[0m     \u001b[39mreturn\u001b[39;00m forward_call(\u001b[39m*\u001b[39;49m\u001b[39minput\u001b[39;49m, \u001b[39m*\u001b[39;49m\u001b[39m*\u001b[39;49mkwargs)\n\u001b[1;32m   1131\u001b[0m \u001b[39m# Do not call functions when jit is used\u001b[39;00m\n\u001b[1;32m   1132\u001b[0m full_backward_hooks, non_full_backward_hooks \u001b[39m=\u001b[39m [], []\n",
      "File \u001b[0;32m~/opt/anaconda3/envs/reddit_env_test/lib/python3.9/site-packages/transformers/models/bert/modeling_bert.py:535\u001b[0m, in \u001b[0;36mBertLayer.forward\u001b[0;34m(self, hidden_states, attention_mask, head_mask, encoder_hidden_states, encoder_attention_mask, past_key_value, output_attentions)\u001b[0m\n\u001b[1;32m    532\u001b[0m     cross_attn_present_key_value \u001b[39m=\u001b[39m cross_attention_outputs[\u001b[39m-\u001b[39m\u001b[39m1\u001b[39m]\n\u001b[1;32m    533\u001b[0m     present_key_value \u001b[39m=\u001b[39m present_key_value \u001b[39m+\u001b[39m cross_attn_present_key_value\n\u001b[0;32m--> 535\u001b[0m layer_output \u001b[39m=\u001b[39m apply_chunking_to_forward(\n\u001b[1;32m    536\u001b[0m     \u001b[39mself\u001b[39;49m\u001b[39m.\u001b[39;49mfeed_forward_chunk, \u001b[39mself\u001b[39;49m\u001b[39m.\u001b[39;49mchunk_size_feed_forward, \u001b[39mself\u001b[39;49m\u001b[39m.\u001b[39;49mseq_len_dim, attention_output\n\u001b[1;32m    537\u001b[0m )\n\u001b[1;32m    538\u001b[0m outputs \u001b[39m=\u001b[39m (layer_output,) \u001b[39m+\u001b[39m outputs\n\u001b[1;32m    540\u001b[0m \u001b[39m# if decoder, return the attn key/values as the last output\u001b[39;00m\n",
      "File \u001b[0;32m~/opt/anaconda3/envs/reddit_env_test/lib/python3.9/site-packages/transformers/pytorch_utils.py:241\u001b[0m, in \u001b[0;36mapply_chunking_to_forward\u001b[0;34m(forward_fn, chunk_size, chunk_dim, *input_tensors)\u001b[0m\n\u001b[1;32m    238\u001b[0m     \u001b[39m# concatenate output at same dimension\u001b[39;00m\n\u001b[1;32m    239\u001b[0m     \u001b[39mreturn\u001b[39;00m torch\u001b[39m.\u001b[39mcat(output_chunks, dim\u001b[39m=\u001b[39mchunk_dim)\n\u001b[0;32m--> 241\u001b[0m \u001b[39mreturn\u001b[39;00m forward_fn(\u001b[39m*\u001b[39;49minput_tensors)\n",
      "File \u001b[0;32m~/opt/anaconda3/envs/reddit_env_test/lib/python3.9/site-packages/transformers/models/bert/modeling_bert.py:548\u001b[0m, in \u001b[0;36mBertLayer.feed_forward_chunk\u001b[0;34m(self, attention_output)\u001b[0m\n\u001b[1;32m    546\u001b[0m \u001b[39mdef\u001b[39;00m \u001b[39mfeed_forward_chunk\u001b[39m(\u001b[39mself\u001b[39m, attention_output):\n\u001b[1;32m    547\u001b[0m     intermediate_output \u001b[39m=\u001b[39m \u001b[39mself\u001b[39m\u001b[39m.\u001b[39mintermediate(attention_output)\n\u001b[0;32m--> 548\u001b[0m     layer_output \u001b[39m=\u001b[39m \u001b[39mself\u001b[39;49m\u001b[39m.\u001b[39;49moutput(intermediate_output, attention_output)\n\u001b[1;32m    549\u001b[0m     \u001b[39mreturn\u001b[39;00m layer_output\n",
      "File \u001b[0;32m~/opt/anaconda3/envs/reddit_env_test/lib/python3.9/site-packages/torch/nn/modules/module.py:1130\u001b[0m, in \u001b[0;36mModule._call_impl\u001b[0;34m(self, *input, **kwargs)\u001b[0m\n\u001b[1;32m   1126\u001b[0m \u001b[39m# If we don't have any hooks, we want to skip the rest of the logic in\u001b[39;00m\n\u001b[1;32m   1127\u001b[0m \u001b[39m# this function, and just call forward.\u001b[39;00m\n\u001b[1;32m   1128\u001b[0m \u001b[39mif\u001b[39;00m \u001b[39mnot\u001b[39;00m (\u001b[39mself\u001b[39m\u001b[39m.\u001b[39m_backward_hooks \u001b[39mor\u001b[39;00m \u001b[39mself\u001b[39m\u001b[39m.\u001b[39m_forward_hooks \u001b[39mor\u001b[39;00m \u001b[39mself\u001b[39m\u001b[39m.\u001b[39m_forward_pre_hooks \u001b[39mor\u001b[39;00m _global_backward_hooks\n\u001b[1;32m   1129\u001b[0m         \u001b[39mor\u001b[39;00m _global_forward_hooks \u001b[39mor\u001b[39;00m _global_forward_pre_hooks):\n\u001b[0;32m-> 1130\u001b[0m     \u001b[39mreturn\u001b[39;00m forward_call(\u001b[39m*\u001b[39;49m\u001b[39minput\u001b[39;49m, \u001b[39m*\u001b[39;49m\u001b[39m*\u001b[39;49mkwargs)\n\u001b[1;32m   1131\u001b[0m \u001b[39m# Do not call functions when jit is used\u001b[39;00m\n\u001b[1;32m   1132\u001b[0m full_backward_hooks, non_full_backward_hooks \u001b[39m=\u001b[39m [], []\n",
      "File \u001b[0;32m~/opt/anaconda3/envs/reddit_env_test/lib/python3.9/site-packages/transformers/models/bert/modeling_bert.py:460\u001b[0m, in \u001b[0;36mBertOutput.forward\u001b[0;34m(self, hidden_states, input_tensor)\u001b[0m\n\u001b[1;32m    459\u001b[0m \u001b[39mdef\u001b[39;00m \u001b[39mforward\u001b[39m(\u001b[39mself\u001b[39m, hidden_states: torch\u001b[39m.\u001b[39mTensor, input_tensor: torch\u001b[39m.\u001b[39mTensor) \u001b[39m-\u001b[39m\u001b[39m>\u001b[39m torch\u001b[39m.\u001b[39mTensor:\n\u001b[0;32m--> 460\u001b[0m     hidden_states \u001b[39m=\u001b[39m \u001b[39mself\u001b[39;49m\u001b[39m.\u001b[39;49mdense(hidden_states)\n\u001b[1;32m    461\u001b[0m     hidden_states \u001b[39m=\u001b[39m \u001b[39mself\u001b[39m\u001b[39m.\u001b[39mdropout(hidden_states)\n\u001b[1;32m    462\u001b[0m     hidden_states \u001b[39m=\u001b[39m \u001b[39mself\u001b[39m\u001b[39m.\u001b[39mLayerNorm(hidden_states \u001b[39m+\u001b[39m input_tensor)\n",
      "File \u001b[0;32m~/opt/anaconda3/envs/reddit_env_test/lib/python3.9/site-packages/torch/nn/modules/module.py:1130\u001b[0m, in \u001b[0;36mModule._call_impl\u001b[0;34m(self, *input, **kwargs)\u001b[0m\n\u001b[1;32m   1126\u001b[0m \u001b[39m# If we don't have any hooks, we want to skip the rest of the logic in\u001b[39;00m\n\u001b[1;32m   1127\u001b[0m \u001b[39m# this function, and just call forward.\u001b[39;00m\n\u001b[1;32m   1128\u001b[0m \u001b[39mif\u001b[39;00m \u001b[39mnot\u001b[39;00m (\u001b[39mself\u001b[39m\u001b[39m.\u001b[39m_backward_hooks \u001b[39mor\u001b[39;00m \u001b[39mself\u001b[39m\u001b[39m.\u001b[39m_forward_hooks \u001b[39mor\u001b[39;00m \u001b[39mself\u001b[39m\u001b[39m.\u001b[39m_forward_pre_hooks \u001b[39mor\u001b[39;00m _global_backward_hooks\n\u001b[1;32m   1129\u001b[0m         \u001b[39mor\u001b[39;00m _global_forward_hooks \u001b[39mor\u001b[39;00m _global_forward_pre_hooks):\n\u001b[0;32m-> 1130\u001b[0m     \u001b[39mreturn\u001b[39;00m forward_call(\u001b[39m*\u001b[39;49m\u001b[39minput\u001b[39;49m, \u001b[39m*\u001b[39;49m\u001b[39m*\u001b[39;49mkwargs)\n\u001b[1;32m   1131\u001b[0m \u001b[39m# Do not call functions when jit is used\u001b[39;00m\n\u001b[1;32m   1132\u001b[0m full_backward_hooks, non_full_backward_hooks \u001b[39m=\u001b[39m [], []\n",
      "File \u001b[0;32m~/opt/anaconda3/envs/reddit_env_test/lib/python3.9/site-packages/torch/nn/modules/linear.py:114\u001b[0m, in \u001b[0;36mLinear.forward\u001b[0;34m(self, input)\u001b[0m\n\u001b[1;32m    113\u001b[0m \u001b[39mdef\u001b[39;00m \u001b[39mforward\u001b[39m(\u001b[39mself\u001b[39m, \u001b[39minput\u001b[39m: Tensor) \u001b[39m-\u001b[39m\u001b[39m>\u001b[39m Tensor:\n\u001b[0;32m--> 114\u001b[0m     \u001b[39mreturn\u001b[39;00m F\u001b[39m.\u001b[39;49mlinear(\u001b[39minput\u001b[39;49m, \u001b[39mself\u001b[39;49m\u001b[39m.\u001b[39;49mweight, \u001b[39mself\u001b[39;49m\u001b[39m.\u001b[39;49mbias)\n",
      "\u001b[0;31mKeyboardInterrupt\u001b[0m: "
     ]
    }
   ],
   "source": [
    "from tqdm import tqdm\n",
    "predictions = []\n",
    "for i in tqdm(range(len(test))):\n",
    "    predictions.append(classifier(test[i]))"
   ]
  }
 ],
 "metadata": {
  "kernelspec": {
   "display_name": "Python 3.9.12 ('reddit_env_test')",
   "language": "python",
   "name": "python3"
  },
  "language_info": {
   "codemirror_mode": {
    "name": "ipython",
    "version": 3
   },
   "file_extension": ".py",
   "mimetype": "text/x-python",
   "name": "python",
   "nbconvert_exporter": "python",
   "pygments_lexer": "ipython3",
   "version": "3.9.12"
  },
  "orig_nbformat": 4,
  "vscode": {
   "interpreter": {
    "hash": "6c5bfe69c2b2d435baea75ee1a7865fc7666bb526179204de658e4f2811cb086"
   }
  }
 },
 "nbformat": 4,
 "nbformat_minor": 2
}
