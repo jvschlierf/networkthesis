{
 "cells": [
  {
   "cell_type": "code",
   "execution_count": 1,
   "metadata": {},
   "outputs": [],
   "source": [
    "\n",
    "import os\n",
    "import torch\n",
    "from transformers import Trainer, TrainingArguments, AutoTokenizer, AutoModel, pipeline, AutoModelForSequenceClassification\n",
    "import numpy as np\n",
    "from datasets import Dataset, load_metric\n",
    "import pandas as pd\n",
    "from transformers import TextClassificationPipeline"
   ]
  },
  {
   "cell_type": "code",
   "execution_count": 2,
   "metadata": {},
   "outputs": [],
   "source": [
    "model_name = 'bert-base-cased'\n",
    "tokenizer = AutoTokenizer.from_pretrained(model_name, padding=True, truncation=True)\n",
    "model = AutoModelForSequenceClassification.from_pretrained('../../../Files/models/bert_base_cased_model/fully_trained/checkpoint-3237/')\n",
    "\n",
    "classifier = TextClassificationPipeline(model=model, tokenizer=tokenizer)\n"
   ]
  },
  {
   "cell_type": "code",
   "execution_count": 3,
   "metadata": {},
   "outputs": [],
   "source": [
    "test = pd.read_pickle('../../../Files/Comments/train/test_split_comments.pickle')\n",
    "\n"
   ]
  },
  {
   "cell_type": "code",
   "execution_count": 4,
   "metadata": {},
   "outputs": [],
   "source": [
    "testlist = []\n",
    "for i,j in test.iterrows():\n",
    "    testlist.append(j['cleanBody'])"
   ]
  },
  {
   "cell_type": "code",
   "execution_count": 5,
   "metadata": {},
   "outputs": [],
   "source": [
    "results = classifier(testlist[:100], top_k=3)"
   ]
  },
  {
   "cell_type": "code",
   "execution_count": 7,
   "metadata": {},
   "outputs": [
    {
     "data": {
      "text/plain": [
       "array([1, 0, 1, 0, 0, 0, 1, 1, 1, 0, 1, 1, 1, 0, 1, 1, 2, 1, 1, 0, 1, 1,\n",
       "       1, 0, 0, 0, 1, 1, 1, 0, 1, 1, 2, 1, 1, 1, 2, 1, 0, 1, 1, 0, 1, 0,\n",
       "       1, 1, 1, 1, 0, 0, 1, 0, 1, 0, 0, 1, 1, 1, 0, 1, 1, 1, 1, 1, 1, 1,\n",
       "       1, 0, 0, 1, 0, 0, 0, 0, 2, 0, 1, 1, 1, 1, 0, 2, 2, 1, 0, 2, 0, 2,\n",
       "       1, 0, 0, 1, 0, 1, 0, 0, 0, 1, 1, 0])"
      ]
     },
     "execution_count": 7,
     "metadata": {},
     "output_type": "execute_result"
    }
   ],
   "source": [
    "test[0:100]['label'].values"
   ]
  },
  {
   "cell_type": "code",
   "execution_count": 8,
   "metadata": {},
   "outputs": [],
   "source": [
    "test2 = test[0:100]"
   ]
  },
  {
   "cell_type": "code",
   "execution_count": 6,
   "metadata": {},
   "outputs": [
    {
     "data": {
      "text/plain": [
       "[[{'label': 'LABEL_1', 'score': 0.9958221912384033},\n",
       "  {'label': 'LABEL_2', 'score': 0.00371171603910625},\n",
       "  {'label': 'LABEL_0', 'score': 0.00046611326979473233}],\n",
       " [{'label': 'LABEL_1', 'score': 0.8922913670539856},\n",
       "  {'label': 'LABEL_0', 'score': 0.06190100684762001},\n",
       "  {'label': 'LABEL_2', 'score': 0.04580756649374962}],\n",
       " [{'label': 'LABEL_2', 'score': 0.39818114042282104},\n",
       "  {'label': 'LABEL_1', 'score': 0.33800938725471497},\n",
       "  {'label': 'LABEL_0', 'score': 0.26380953192710876}],\n",
       " [{'label': 'LABEL_1', 'score': 0.9936386942863464},\n",
       "  {'label': 'LABEL_2', 'score': 0.005611531436443329},\n",
       "  {'label': 'LABEL_0', 'score': 0.0007498113554902375}],\n",
       " [{'label': 'LABEL_1', 'score': 0.9423483610153198},\n",
       "  {'label': 'LABEL_2', 'score': 0.05142098665237427},\n",
       "  {'label': 'LABEL_0', 'score': 0.006230669096112251}],\n",
       " [{'label': 'LABEL_1', 'score': 0.983226478099823},\n",
       "  {'label': 'LABEL_2', 'score': 0.011175542138516903},\n",
       "  {'label': 'LABEL_0', 'score': 0.005597958341240883}],\n",
       " [{'label': 'LABEL_1', 'score': 0.9529594779014587},\n",
       "  {'label': 'LABEL_2', 'score': 0.04577184468507767},\n",
       "  {'label': 'LABEL_0', 'score': 0.0012686473783105612}],\n",
       " [{'label': 'LABEL_0', 'score': 0.9953153133392334},\n",
       "  {'label': 'LABEL_1', 'score': 0.003425627714022994},\n",
       "  {'label': 'LABEL_2', 'score': 0.0012589890975505114}],\n",
       " [{'label': 'LABEL_0', 'score': 0.9985502362251282},\n",
       "  {'label': 'LABEL_1', 'score': 0.0010118635836988688},\n",
       "  {'label': 'LABEL_2', 'score': 0.0004379305464681238}],\n",
       " [{'label': 'LABEL_1', 'score': 0.9927995204925537},\n",
       "  {'label': 'LABEL_2', 'score': 0.00691076647490263},\n",
       "  {'label': 'LABEL_0', 'score': 0.00028969295090064406}],\n",
       " [{'label': 'LABEL_0', 'score': 0.9992045760154724},\n",
       "  {'label': 'LABEL_2', 'score': 0.0004543805553112179},\n",
       "  {'label': 'LABEL_1', 'score': 0.00034098190371878445}],\n",
       " [{'label': 'LABEL_0', 'score': 0.9990435242652893},\n",
       "  {'label': 'LABEL_1', 'score': 0.0005645201308652759},\n",
       "  {'label': 'LABEL_2', 'score': 0.0003918902948498726}],\n",
       " [{'label': 'LABEL_0', 'score': 0.98853999376297},\n",
       "  {'label': 'LABEL_1', 'score': 0.00965113379061222},\n",
       "  {'label': 'LABEL_2', 'score': 0.0018089457880705595}],\n",
       " [{'label': 'LABEL_2', 'score': 0.512831449508667},\n",
       "  {'label': 'LABEL_1', 'score': 0.4869787395000458},\n",
       "  {'label': 'LABEL_0', 'score': 0.00018983134941663593}],\n",
       " [{'label': 'LABEL_0', 'score': 0.9153744578361511},\n",
       "  {'label': 'LABEL_1', 'score': 0.05708002299070358},\n",
       "  {'label': 'LABEL_2', 'score': 0.027545448392629623}],\n",
       " [{'label': 'LABEL_0', 'score': 0.6350510716438293},\n",
       "  {'label': 'LABEL_1', 'score': 0.35202500224113464},\n",
       "  {'label': 'LABEL_2', 'score': 0.012923875823616982}],\n",
       " [{'label': 'LABEL_2', 'score': 0.9983181953430176},\n",
       "  {'label': 'LABEL_1', 'score': 0.0015800296096131206},\n",
       "  {'label': 'LABEL_0', 'score': 0.00010175062925554812}],\n",
       " [{'label': 'LABEL_0', 'score': 0.9905063509941101},\n",
       "  {'label': 'LABEL_1', 'score': 0.008169414475560188},\n",
       "  {'label': 'LABEL_2', 'score': 0.0013242202112451196}],\n",
       " [{'label': 'LABEL_0', 'score': 0.9520002007484436},\n",
       "  {'label': 'LABEL_2', 'score': 0.03886270523071289},\n",
       "  {'label': 'LABEL_1', 'score': 0.009137066081166267}],\n",
       " [{'label': 'LABEL_1', 'score': 0.9126043319702148},\n",
       "  {'label': 'LABEL_0', 'score': 0.08442061394453049},\n",
       "  {'label': 'LABEL_2', 'score': 0.002974958624690771}],\n",
       " [{'label': 'LABEL_1', 'score': 0.9761782288551331},\n",
       "  {'label': 'LABEL_2', 'score': 0.021601302549242973},\n",
       "  {'label': 'LABEL_0', 'score': 0.0022204008419066668}],\n",
       " [{'label': 'LABEL_0', 'score': 0.9989197254180908},\n",
       "  {'label': 'LABEL_1', 'score': 0.000654113944619894},\n",
       "  {'label': 'LABEL_2', 'score': 0.00042620731983333826}],\n",
       " [{'label': 'LABEL_1', 'score': 0.9970406889915466},\n",
       "  {'label': 'LABEL_2', 'score': 0.0024498607963323593},\n",
       "  {'label': 'LABEL_0', 'score': 0.0005094600492157042}],\n",
       " [{'label': 'LABEL_1', 'score': 0.959395706653595},\n",
       "  {'label': 'LABEL_2', 'score': 0.02839832380414009},\n",
       "  {'label': 'LABEL_0', 'score': 0.012205866165459156}],\n",
       " [{'label': 'LABEL_0', 'score': 0.9153744578361511},\n",
       "  {'label': 'LABEL_1', 'score': 0.05708002299070358},\n",
       "  {'label': 'LABEL_2', 'score': 0.027545448392629623}],\n",
       " [{'label': 'LABEL_1', 'score': 0.9961330890655518},\n",
       "  {'label': 'LABEL_2', 'score': 0.0034252116456627846},\n",
       "  {'label': 'LABEL_0', 'score': 0.00044175234506838024}],\n",
       " [{'label': 'LABEL_1', 'score': 0.6766064167022705},\n",
       "  {'label': 'LABEL_0', 'score': 0.31044745445251465},\n",
       "  {'label': 'LABEL_2', 'score': 0.012946157716214657}],\n",
       " [{'label': 'LABEL_0', 'score': 0.9274386167526245},\n",
       "  {'label': 'LABEL_1', 'score': 0.061433013528585434},\n",
       "  {'label': 'LABEL_2', 'score': 0.011128345504403114}],\n",
       " [{'label': 'LABEL_0', 'score': 0.998415470123291},\n",
       "  {'label': 'LABEL_1', 'score': 0.0009671769803389907},\n",
       "  {'label': 'LABEL_2', 'score': 0.0006173511501401663}],\n",
       " [{'label': 'LABEL_1', 'score': 0.9958363771438599},\n",
       "  {'label': 'LABEL_2', 'score': 0.0033044356387108564},\n",
       "  {'label': 'LABEL_0', 'score': 0.000859172607306391}],\n",
       " [{'label': 'LABEL_1', 'score': 0.7136465311050415},\n",
       "  {'label': 'LABEL_0', 'score': 0.24093808233737946},\n",
       "  {'label': 'LABEL_2', 'score': 0.045415375381708145}],\n",
       " [{'label': 'LABEL_0', 'score': 0.9991357922554016},\n",
       "  {'label': 'LABEL_2', 'score': 0.0004981135134585202},\n",
       "  {'label': 'LABEL_1', 'score': 0.0003661290102172643}],\n",
       " [{'label': 'LABEL_2', 'score': 0.9787493348121643},\n",
       "  {'label': 'LABEL_1', 'score': 0.021172838285565376},\n",
       "  {'label': 'LABEL_0', 'score': 7.78586691012606e-05}],\n",
       " [{'label': 'LABEL_2', 'score': 0.7430230379104614},\n",
       "  {'label': 'LABEL_1', 'score': 0.19760143756866455},\n",
       "  {'label': 'LABEL_0', 'score': 0.0593755804002285}],\n",
       " [{'label': 'LABEL_1', 'score': 0.8792884349822998},\n",
       "  {'label': 'LABEL_2', 'score': 0.06117543205618858},\n",
       "  {'label': 'LABEL_0', 'score': 0.05953618139028549}],\n",
       " [{'label': 'LABEL_0', 'score': 0.9984279870986938},\n",
       "  {'label': 'LABEL_1', 'score': 0.0011243503540754318},\n",
       "  {'label': 'LABEL_2', 'score': 0.00044768815860152245}],\n",
       " [{'label': 'LABEL_1', 'score': 0.9364084601402283},\n",
       "  {'label': 'LABEL_2', 'score': 0.06303524971008301},\n",
       "  {'label': 'LABEL_0', 'score': 0.000556347775273025}],\n",
       " [{'label': 'LABEL_0', 'score': 0.8551830649375916},\n",
       "  {'label': 'LABEL_1', 'score': 0.13107922673225403},\n",
       "  {'label': 'LABEL_2', 'score': 0.013737672939896584}],\n",
       " [{'label': 'LABEL_1', 'score': 0.7262214422225952},\n",
       "  {'label': 'LABEL_0', 'score': 0.22782795131206512},\n",
       "  {'label': 'LABEL_2', 'score': 0.045950569212436676}],\n",
       " [{'label': 'LABEL_1', 'score': 0.9981153011322021},\n",
       "  {'label': 'LABEL_2', 'score': 0.0014971890486776829},\n",
       "  {'label': 'LABEL_0', 'score': 0.0003875168622471392}],\n",
       " [{'label': 'LABEL_1', 'score': 0.9657170176506042},\n",
       "  {'label': 'LABEL_0', 'score': 0.03183474764227867},\n",
       "  {'label': 'LABEL_2', 'score': 0.002448329934850335}],\n",
       " [{'label': 'LABEL_0', 'score': 0.9153744578361511},\n",
       "  {'label': 'LABEL_1', 'score': 0.05708002299070358},\n",
       "  {'label': 'LABEL_2', 'score': 0.027545448392629623}],\n",
       " [{'label': 'LABEL_1', 'score': 0.4977323114871979},\n",
       "  {'label': 'LABEL_0', 'score': 0.40810906887054443},\n",
       "  {'label': 'LABEL_2', 'score': 0.09415866434574127}],\n",
       " [{'label': 'LABEL_1', 'score': 0.9933140873908997},\n",
       "  {'label': 'LABEL_2', 'score': 0.0063807182013988495},\n",
       "  {'label': 'LABEL_0', 'score': 0.00030510034412145615}],\n",
       " [{'label': 'LABEL_0', 'score': 0.9910832643508911},\n",
       "  {'label': 'LABEL_1', 'score': 0.005171080585569143},\n",
       "  {'label': 'LABEL_2', 'score': 0.003745768219232559}],\n",
       " [{'label': 'LABEL_1', 'score': 0.9920918941497803},\n",
       "  {'label': 'LABEL_2', 'score': 0.006762092001736164},\n",
       "  {'label': 'LABEL_0', 'score': 0.001146055874414742}],\n",
       " [{'label': 'LABEL_1', 'score': 0.7495509386062622},\n",
       "  {'label': 'LABEL_0', 'score': 0.19499626755714417},\n",
       "  {'label': 'LABEL_2', 'score': 0.055452827364206314}],\n",
       " [{'label': 'LABEL_0', 'score': 0.9990805387496948},\n",
       "  {'label': 'LABEL_2', 'score': 0.0005465398426167667},\n",
       "  {'label': 'LABEL_1', 'score': 0.00037285496364347637}],\n",
       " [{'label': 'LABEL_1', 'score': 0.9025458097457886},\n",
       "  {'label': 'LABEL_0', 'score': 0.079717718064785},\n",
       "  {'label': 'LABEL_2', 'score': 0.017736513167619705}],\n",
       " [{'label': 'LABEL_1', 'score': 0.9931584000587463},\n",
       "  {'label': 'LABEL_2', 'score': 0.006171831861138344},\n",
       "  {'label': 'LABEL_0', 'score': 0.0006697945646010339}],\n",
       " [{'label': 'LABEL_0', 'score': 0.9964894652366638},\n",
       "  {'label': 'LABEL_2', 'score': 0.0022084347438067198},\n",
       "  {'label': 'LABEL_1', 'score': 0.0013021217891946435}],\n",
       " [{'label': 'LABEL_1', 'score': 0.8694433569908142},\n",
       "  {'label': 'LABEL_2', 'score': 0.12160232663154602},\n",
       "  {'label': 'LABEL_0', 'score': 0.008954279124736786}],\n",
       " [{'label': 'LABEL_0', 'score': 0.9678787589073181},\n",
       "  {'label': 'LABEL_1', 'score': 0.029063886031508446},\n",
       "  {'label': 'LABEL_2', 'score': 0.003057328052818775}],\n",
       " [{'label': 'LABEL_1', 'score': 0.9846718907356262},\n",
       "  {'label': 'LABEL_2', 'score': 0.013596546836197376},\n",
       "  {'label': 'LABEL_0', 'score': 0.0017314654542133212}],\n",
       " [{'label': 'LABEL_1', 'score': 0.640346109867096},\n",
       "  {'label': 'LABEL_2', 'score': 0.3593812584877014},\n",
       "  {'label': 'LABEL_0', 'score': 0.0002726711391005665}],\n",
       " [{'label': 'LABEL_1', 'score': 0.8564664721488953},\n",
       "  {'label': 'LABEL_2', 'score': 0.1047697514295578},\n",
       "  {'label': 'LABEL_0', 'score': 0.038763705641031265}],\n",
       " [{'label': 'LABEL_0', 'score': 0.5315024256706238},\n",
       "  {'label': 'LABEL_1', 'score': 0.3491703271865845},\n",
       "  {'label': 'LABEL_2', 'score': 0.11932729184627533}],\n",
       " [{'label': 'LABEL_0', 'score': 0.9662985801696777},\n",
       "  {'label': 'LABEL_1', 'score': 0.018777159973978996},\n",
       "  {'label': 'LABEL_2', 'score': 0.01492422167211771}],\n",
       " [{'label': 'LABEL_1', 'score': 0.9911230802536011},\n",
       "  {'label': 'LABEL_2', 'score': 0.008629177697002888},\n",
       "  {'label': 'LABEL_0', 'score': 0.000247787480475381}],\n",
       " [{'label': 'LABEL_1', 'score': 0.8834840059280396},\n",
       "  {'label': 'LABEL_2', 'score': 0.09123293310403824},\n",
       "  {'label': 'LABEL_0', 'score': 0.025283096358180046}],\n",
       " [{'label': 'LABEL_1', 'score': 0.9898534417152405},\n",
       "  {'label': 'LABEL_0', 'score': 0.005945523735135794},\n",
       "  {'label': 'LABEL_2', 'score': 0.004201005678623915}],\n",
       " [{'label': 'LABEL_0', 'score': 0.9989064931869507},\n",
       "  {'label': 'LABEL_1', 'score': 0.0005932307685725391},\n",
       "  {'label': 'LABEL_2', 'score': 0.0005002598045393825}],\n",
       " [{'label': 'LABEL_0', 'score': 0.9992194175720215},\n",
       "  {'label': 'LABEL_1', 'score': 0.0003914128174073994},\n",
       "  {'label': 'LABEL_2', 'score': 0.00038916501216590405}],\n",
       " [{'label': 'LABEL_0', 'score': 0.9990054965019226},\n",
       "  {'label': 'LABEL_1', 'score': 0.0005853979964740574},\n",
       "  {'label': 'LABEL_2', 'score': 0.0004090965667273849}],\n",
       " [{'label': 'LABEL_0', 'score': 0.9153744578361511},\n",
       "  {'label': 'LABEL_1', 'score': 0.05708002299070358},\n",
       "  {'label': 'LABEL_2', 'score': 0.027545448392629623}],\n",
       " [{'label': 'LABEL_0', 'score': 0.9777324199676514},\n",
       "  {'label': 'LABEL_1', 'score': 0.01906852424144745},\n",
       "  {'label': 'LABEL_2', 'score': 0.00319913262501359}],\n",
       " [{'label': 'LABEL_0', 'score': 0.9992645382881165},\n",
       "  {'label': 'LABEL_1', 'score': 0.00037562273791991174},\n",
       "  {'label': 'LABEL_2', 'score': 0.000359828001819551}],\n",
       " [{'label': 'LABEL_1', 'score': 0.9970554113388062},\n",
       "  {'label': 'LABEL_2', 'score': 0.002412384143099189},\n",
       "  {'label': 'LABEL_0', 'score': 0.0005322431097738445}],\n",
       " [{'label': 'LABEL_1', 'score': 0.7466990947723389},\n",
       "  {'label': 'LABEL_2', 'score': 0.2527864873409271},\n",
       "  {'label': 'LABEL_0', 'score': 0.0005143680609762669}],\n",
       " [{'label': 'LABEL_0', 'score': 0.9986718893051147},\n",
       "  {'label': 'LABEL_2', 'score': 0.0009349253377877176},\n",
       "  {'label': 'LABEL_1', 'score': 0.0003931806131731719}],\n",
       " [{'label': 'LABEL_2', 'score': 0.8276338577270508},\n",
       "  {'label': 'LABEL_1', 'score': 0.17205607891082764},\n",
       "  {'label': 'LABEL_0', 'score': 0.00031006932840682566}],\n",
       " [{'label': 'LABEL_1', 'score': 0.997614860534668},\n",
       "  {'label': 'LABEL_2', 'score': 0.0016369970981031656},\n",
       "  {'label': 'LABEL_0', 'score': 0.0007481182692572474}],\n",
       " [{'label': 'LABEL_2', 'score': 0.8118093013763428},\n",
       "  {'label': 'LABEL_1', 'score': 0.1872948408126831},\n",
       "  {'label': 'LABEL_0', 'score': 0.0008959065889939666}],\n",
       " [{'label': 'LABEL_1', 'score': 0.9846603274345398},\n",
       "  {'label': 'LABEL_2', 'score': 0.009372416883707047},\n",
       "  {'label': 'LABEL_0', 'score': 0.005967312958091497}],\n",
       " [{'label': 'LABEL_1', 'score': 0.861718475818634},\n",
       "  {'label': 'LABEL_0', 'score': 0.09355095028877258},\n",
       "  {'label': 'LABEL_2', 'score': 0.044730592519044876}],\n",
       " [{'label': 'LABEL_0', 'score': 0.9153744578361511},\n",
       "  {'label': 'LABEL_1', 'score': 0.05708002299070358},\n",
       "  {'label': 'LABEL_2', 'score': 0.027545448392629623}],\n",
       " [{'label': 'LABEL_1', 'score': 0.5067548155784607},\n",
       "  {'label': 'LABEL_0', 'score': 0.43080756068229675},\n",
       "  {'label': 'LABEL_2', 'score': 0.06243766471743584}],\n",
       " [{'label': 'LABEL_0', 'score': 0.7626743316650391},\n",
       "  {'label': 'LABEL_1', 'score': 0.20982292294502258},\n",
       "  {'label': 'LABEL_2', 'score': 0.027502791956067085}],\n",
       " [{'label': 'LABEL_0', 'score': 0.9557939767837524},\n",
       "  {'label': 'LABEL_1', 'score': 0.04241921380162239},\n",
       "  {'label': 'LABEL_2', 'score': 0.0017867705319076777}],\n",
       " [{'label': 'LABEL_0', 'score': 0.5315024256706238},\n",
       "  {'label': 'LABEL_1', 'score': 0.3491703271865845},\n",
       "  {'label': 'LABEL_2', 'score': 0.11932729184627533}],\n",
       " [{'label': 'LABEL_1', 'score': 0.6381253600120544},\n",
       "  {'label': 'LABEL_0', 'score': 0.3203083574771881},\n",
       "  {'label': 'LABEL_2', 'score': 0.04156629741191864}],\n",
       " [{'label': 'LABEL_2', 'score': 0.9749665260314941},\n",
       "  {'label': 'LABEL_1', 'score': 0.024841463193297386},\n",
       "  {'label': 'LABEL_0', 'score': 0.00019203583360649645}],\n",
       " [{'label': 'LABEL_1', 'score': 0.7538700699806213},\n",
       "  {'label': 'LABEL_2', 'score': 0.14579319953918457},\n",
       "  {'label': 'LABEL_0', 'score': 0.10033676028251648}],\n",
       " [{'label': 'LABEL_1', 'score': 0.9879289865493774},\n",
       "  {'label': 'LABEL_2', 'score': 0.011330165900290012},\n",
       "  {'label': 'LABEL_0', 'score': 0.0007407930097542703}],\n",
       " [{'label': 'LABEL_1', 'score': 0.5123453140258789},\n",
       "  {'label': 'LABEL_0', 'score': 0.4437800943851471},\n",
       "  {'label': 'LABEL_2', 'score': 0.04387462139129639}],\n",
       " [{'label': 'LABEL_2', 'score': 0.711659848690033},\n",
       "  {'label': 'LABEL_1', 'score': 0.28690987825393677},\n",
       "  {'label': 'LABEL_0', 'score': 0.0014302741037681699}],\n",
       " [{'label': 'LABEL_1', 'score': 0.9895517230033875},\n",
       "  {'label': 'LABEL_2', 'score': 0.00994199886918068},\n",
       "  {'label': 'LABEL_0', 'score': 0.0005063356948085129}],\n",
       " [{'label': 'LABEL_2', 'score': 0.9827575087547302},\n",
       "  {'label': 'LABEL_1', 'score': 0.017179492861032486},\n",
       "  {'label': 'LABEL_0', 'score': 6.297305662883446e-05}],\n",
       " [{'label': 'LABEL_0', 'score': 0.9369446635246277},\n",
       "  {'label': 'LABEL_2', 'score': 0.042250167578458786},\n",
       "  {'label': 'LABEL_1', 'score': 0.02080518566071987}],\n",
       " [{'label': 'LABEL_1', 'score': 0.9761221408843994},\n",
       "  {'label': 'LABEL_0', 'score': 0.01718042977154255},\n",
       "  {'label': 'LABEL_2', 'score': 0.006697441451251507}],\n",
       " [{'label': 'LABEL_0', 'score': 0.5315024256706238},\n",
       "  {'label': 'LABEL_1', 'score': 0.3491703271865845},\n",
       "  {'label': 'LABEL_2', 'score': 0.11932729184627533}],\n",
       " [{'label': 'LABEL_1', 'score': 0.986453115940094},\n",
       "  {'label': 'LABEL_2', 'score': 0.008307024836540222},\n",
       "  {'label': 'LABEL_0', 'score': 0.005239871796220541}],\n",
       " [{'label': 'LABEL_1', 'score': 0.9971535205841064},\n",
       "  {'label': 'LABEL_2', 'score': 0.0023708653170615435},\n",
       "  {'label': 'LABEL_0', 'score': 0.0004755773697979748}],\n",
       " [{'label': 'LABEL_0', 'score': 0.9953525066375732},\n",
       "  {'label': 'LABEL_1', 'score': 0.0028355910908430815},\n",
       "  {'label': 'LABEL_2', 'score': 0.0018118651350960135}],\n",
       " [{'label': 'LABEL_1', 'score': 0.5261558294296265},\n",
       "  {'label': 'LABEL_0', 'score': 0.3325209617614746},\n",
       "  {'label': 'LABEL_2', 'score': 0.1413232535123825}],\n",
       " [{'label': 'LABEL_1', 'score': 0.7344690561294556},\n",
       "  {'label': 'LABEL_2', 'score': 0.2652091383934021},\n",
       "  {'label': 'LABEL_0', 'score': 0.0003218152851331979}],\n",
       " [{'label': 'LABEL_1', 'score': 0.9904060959815979},\n",
       "  {'label': 'LABEL_2', 'score': 0.008816072717308998},\n",
       "  {'label': 'LABEL_0', 'score': 0.0007778546423651278}],\n",
       " [{'label': 'LABEL_0', 'score': 0.9959807395935059},\n",
       "  {'label': 'LABEL_1', 'score': 0.0028572971932590008},\n",
       "  {'label': 'LABEL_2', 'score': 0.0011620486620813608}],\n",
       " [{'label': 'LABEL_0', 'score': 0.9983885288238525},\n",
       "  {'label': 'LABEL_1', 'score': 0.0010017900494858623},\n",
       "  {'label': 'LABEL_2', 'score': 0.0006096937577240169}],\n",
       " [{'label': 'LABEL_1', 'score': 0.9951128363609314},\n",
       "  {'label': 'LABEL_2', 'score': 0.0032275032717734575},\n",
       "  {'label': 'LABEL_0', 'score': 0.001659731613472104}]]"
      ]
     },
     "execution_count": 6,
     "metadata": {},
     "output_type": "execute_result"
    }
   ],
   "source": [
    "results"
   ]
  },
  {
   "cell_type": "code",
   "execution_count": 13,
   "metadata": {},
   "outputs": [],
   "source": [
    "model_name = 'bert-base-cased'\n",
    "tokenizer = AutoTokenizer.from_pretrained(model_name, padding=\"max_length\", truncation=True)\n",
    "\n",
    "def tokenize_function(examples):\n",
    "    return tokenizer(examples, padding=\"max_length\", truncation=True)"
   ]
  },
  {
   "cell_type": "code",
   "execution_count": 14,
   "metadata": {},
   "outputs": [],
   "source": [
    "model = AutoModelForSequenceClassification.from_pretrained('../../../Files/models/bert_base_cased_model/fully_trained/checkpoint-3237/')"
   ]
  },
  {
   "cell_type": "code",
   "execution_count": 15,
   "metadata": {},
   "outputs": [],
   "source": [
    "from transformers import TextClassificationPipeline"
   ]
  },
  {
   "cell_type": "code",
   "execution_count": 16,
   "metadata": {},
   "outputs": [],
   "source": [
    "classifier = TextClassificationPipeline(model=model, tokenizer=tokenizer)"
   ]
  },
  {
   "cell_type": "code",
   "execution_count": 50,
   "metadata": {},
   "outputs": [],
   "source": [
    "results = classifier(testlist[:100], top_k=2)"
   ]
  },
  {
   "cell_type": "code",
   "execution_count": 9,
   "metadata": {},
   "outputs": [
    {
     "data": {
      "text/plain": [
       "[{'label': 'LABEL_1', 'score': 0.9958221912384033},\n",
       " {'label': 'LABEL_2', 'score': 0.00371171603910625},\n",
       " {'label': 'LABEL_0', 'score': 0.00046611326979473233}]"
      ]
     },
     "execution_count": 9,
     "metadata": {},
     "output_type": "execute_result"
    }
   ],
   "source": [
    "results[0]"
   ]
  },
  {
   "cell_type": "code",
   "execution_count": 10,
   "metadata": {},
   "outputs": [
    {
     "name": "stderr",
     "output_type": "stream",
     "text": [
      "/var/folders/fh/yf9jwszj6d5_1_xhfz_l6k000000gn/T/ipykernel_51638/4264278197.py:2: SettingWithCopyWarning: \n",
      "A value is trying to be set on a copy of a slice from a DataFrame.\n",
      "Try using .loc[row_indexer,col_indexer] = value instead\n",
      "\n",
      "See the caveats in the documentation: https://pandas.pydata.org/pandas-docs/stable/user_guide/indexing.html#returning-a-view-versus-a-copy\n",
      "  test2.at[i, 'pred_1'] = np.int64(results[i][0]['label'][-1])\n",
      "/var/folders/fh/yf9jwszj6d5_1_xhfz_l6k000000gn/T/ipykernel_51638/4264278197.py:3: SettingWithCopyWarning: \n",
      "A value is trying to be set on a copy of a slice from a DataFrame.\n",
      "Try using .loc[row_indexer,col_indexer] = value instead\n",
      "\n",
      "See the caveats in the documentation: https://pandas.pydata.org/pandas-docs/stable/user_guide/indexing.html#returning-a-view-versus-a-copy\n",
      "  test2.at[i, 'conf_1'] = results[i][0]['score']\n",
      "/var/folders/fh/yf9jwszj6d5_1_xhfz_l6k000000gn/T/ipykernel_51638/4264278197.py:4: SettingWithCopyWarning: \n",
      "A value is trying to be set on a copy of a slice from a DataFrame.\n",
      "Try using .loc[row_indexer,col_indexer] = value instead\n",
      "\n",
      "See the caveats in the documentation: https://pandas.pydata.org/pandas-docs/stable/user_guide/indexing.html#returning-a-view-versus-a-copy\n",
      "  test2.at[i, 'pred_2'] = np.int64(results[i][1]['label'][-1])\n",
      "/var/folders/fh/yf9jwszj6d5_1_xhfz_l6k000000gn/T/ipykernel_51638/4264278197.py:5: SettingWithCopyWarning: \n",
      "A value is trying to be set on a copy of a slice from a DataFrame.\n",
      "Try using .loc[row_indexer,col_indexer] = value instead\n",
      "\n",
      "See the caveats in the documentation: https://pandas.pydata.org/pandas-docs/stable/user_guide/indexing.html#returning-a-view-versus-a-copy\n",
      "  test2.at[i, 'conf_2'] = results[i][1]['score']\n"
     ]
    }
   ],
   "source": [
    "for i, j in test2.iterrows():\n",
    "    test2.at[i, 'pred_1'] = np.int64(results[i][0]['label'][-1])\n",
    "    test2.at[i, 'conf_1'] = results[i][0]['score']\n",
    "    test2.at[i, 'pred_2'] = np.int64(results[i][1]['label'][-1])\n",
    "    test2.at[i, 'conf_2'] = results[i][1]['score']"
   ]
  },
  {
   "cell_type": "code",
   "execution_count": 17,
   "metadata": {},
   "outputs": [],
   "source": [
    "test2.loc[ test['label'] == 1, 'label'] = 4\n",
    "test2.loc[ test['label'] == 0, 'label'] = 1\n",
    "test.loc[ test['label'] == 4, 'label'] = 0"
   ]
  },
  {
   "cell_type": "code",
   "execution_count": 14,
   "metadata": {},
   "outputs": [],
   "source": [
    "import pandas as pd\n",
    "import xgboost as xbg\n",
    "import numpy as np\n",
    "from sklearn import metrics\n",
    "import matplotlib.pyplot as plt\n",
    "import seaborn as sns"
   ]
  },
  {
   "cell_type": "code",
   "execution_count": 15,
   "metadata": {},
   "outputs": [],
   "source": [
    "def plot_results(y_test, y_pred, model ):\n",
    "    acc = metrics.accuracy_score(y_test, y_pred)\n",
    "    f1 = metrics.f1_score(y_test, y_pred, average='macro')\n",
    "    y_pred_onehot = pd.get_dummies(y_pred)\n",
    "    roc_auc = metrics.roc_auc_score(y_test, y_pred_onehot, multi_class='ovo')\n",
    "    print('Model performance for {model}'.format(model=model))\n",
    "    print('------------------------------------------------')\n",
    "    print('Accuracy is ', acc)\n",
    "    print('F1 is ', f1)\n",
    "    print('ROC AUC Score is ', roc_auc)\n",
    "    print('------------------------------------------------')\n",
    "\n",
    "    metrics.ConfusionMatrixDisplay.from_predictions(y_test, y_pred)\n",
    "    plt.show()\n",
    "    df = pd.DataFrame(metrics.confusion_matrix(y_test, y_pred))\n",
    "    df2 = df.div(df.sum(axis=1), axis=0)\n",
    "    ax = sns.heatmap(df2)\n",
    "    ax.set(xlabel='Predicted', ylabel='Actual', title=f'Confusion Matrix for {model}')\n",
    "    plt.show()"
   ]
  },
  {
   "cell_type": "code",
   "execution_count": 18,
   "metadata": {},
   "outputs": [
    {
     "name": "stdout",
     "output_type": "stream",
     "text": [
      "Model performance for BERT\n",
      "------------------------------------------------\n",
      "Accuracy is  0.7\n",
      "F1 is  0.6606848628125224\n",
      "ROC AUC Score is  0.7680436117936118\n",
      "------------------------------------------------\n"
     ]
    },
    {
     "data": {
      "image/png": "[encoded data removed]",
      "text/plain": [
       "<Figure size 432x288 with 2 Axes>"
      ]
     },
     "metadata": {
      "needs_background": "light"
     },
     "output_type": "display_data"
    },
    {
     "data": {
      "image/png": "[encoded data removed]",
      "text/plain": [
       "<Figure size 432x288 with 2 Axes>"
      ]
     },
     "metadata": {
      "needs_background": "light"
     },
     "output_type": "display_data"
    }
   ],
   "source": [
    "plot_results(test2['label'], test2['pred_1'], 'BERT')"
   ]
  },
  {
   "cell_type": "markdown",
   "metadata": {},
   "source": [
    "### SLOW WAY, don't look here"
   ]
  },
  {
   "cell_type": "code",
   "execution_count": 66,
   "metadata": {},
   "outputs": [
    {
     "name": "stderr",
     "output_type": "stream",
     "text": [
      "  0%|          | 3500/1408474 [04:49<32:17:12, 12.09it/s] \n"
     ]
    },
    {
     "ename": "KeyboardInterrupt",
     "evalue": "",
     "output_type": "error",
     "traceback": [
      "\u001b[0;31m---------------------------------------------------------------------------\u001b[0m",
      "\u001b[0;31mKeyboardInterrupt\u001b[0m                         Traceback (most recent call last)",
      "\u001b[1;32m/Users/jakobschlierf/Desktop/Master/Thesis/Github/classifier/nn/bert_base_cased_eval.ipynb Cell 12\u001b[0m in \u001b[0;36m<cell line: 3>\u001b[0;34m()\u001b[0m\n\u001b[1;32m      <a href='vscode-notebook-cell:/Users/jakobschlierf/Desktop/Master/Thesis/Github/classifier/nn/bert_base_cased_eval.ipynb#X15sZmlsZQ%3D%3D?line=1'>2</a>\u001b[0m predictions \u001b[39m=\u001b[39m []\n\u001b[1;32m      <a href='vscode-notebook-cell:/Users/jakobschlierf/Desktop/Master/Thesis/Github/classifier/nn/bert_base_cased_eval.ipynb#X15sZmlsZQ%3D%3D?line=2'>3</a>\u001b[0m \u001b[39mfor\u001b[39;00m i \u001b[39min\u001b[39;00m tqdm(\u001b[39mrange\u001b[39m(\u001b[39mlen\u001b[39m(test))):\n\u001b[0;32m----> <a href='vscode-notebook-cell:/Users/jakobschlierf/Desktop/Master/Thesis/Github/classifier/nn/bert_base_cased_eval.ipynb#X15sZmlsZQ%3D%3D?line=3'>4</a>\u001b[0m     predictions\u001b[39m.\u001b[39mappend(classifier(test[i]))\n",
      "File \u001b[0;32m~/opt/anaconda3/envs/reddit_env_test/lib/python3.9/site-packages/transformers/pipelines/text_classification.py:138\u001b[0m, in \u001b[0;36mTextClassificationPipeline.__call__\u001b[0;34m(self, *args, **kwargs)\u001b[0m\n\u001b[1;32m    104\u001b[0m \u001b[39mdef\u001b[39;00m \u001b[39m__call__\u001b[39m(\u001b[39mself\u001b[39m, \u001b[39m*\u001b[39margs, \u001b[39m*\u001b[39m\u001b[39m*\u001b[39mkwargs):\n\u001b[1;32m    105\u001b[0m     \u001b[39m\"\"\"\u001b[39;00m\n\u001b[1;32m    106\u001b[0m \u001b[39m    Classify the text(s) given as inputs.\u001b[39;00m\n\u001b[1;32m    107\u001b[0m \n\u001b[0;32m   (...)\u001b[0m\n\u001b[1;32m    136\u001b[0m \u001b[39m        If `top_k` is used, one such dictionary is returned per label.\u001b[39;00m\n\u001b[1;32m    137\u001b[0m \u001b[39m    \"\"\"\u001b[39;00m\n\u001b[0;32m--> 138\u001b[0m     result \u001b[39m=\u001b[39m \u001b[39msuper\u001b[39;49m()\u001b[39m.\u001b[39;49m\u001b[39m__call__\u001b[39;49m(\u001b[39m*\u001b[39;49margs, \u001b[39m*\u001b[39;49m\u001b[39m*\u001b[39;49mkwargs)\n\u001b[1;32m    139\u001b[0m     \u001b[39mif\u001b[39;00m \u001b[39misinstance\u001b[39m(args[\u001b[39m0\u001b[39m], \u001b[39mstr\u001b[39m) \u001b[39mand\u001b[39;00m \u001b[39misinstance\u001b[39m(result, \u001b[39mdict\u001b[39m):\n\u001b[1;32m    140\u001b[0m         \u001b[39m# This pipeline is odd, and return a list when single item is run\u001b[39;00m\n\u001b[1;32m    141\u001b[0m         \u001b[39mreturn\u001b[39;00m [result]\n",
      "File \u001b[0;32m~/opt/anaconda3/envs/reddit_env_test/lib/python3.9/site-packages/transformers/pipelines/base.py:1032\u001b[0m, in \u001b[0;36mPipeline.__call__\u001b[0;34m(self, inputs, num_workers, batch_size, *args, **kwargs)\u001b[0m\n\u001b[1;32m   1028\u001b[0m \u001b[39mif\u001b[39;00m can_use_iterator:\n\u001b[1;32m   1029\u001b[0m     final_iterator \u001b[39m=\u001b[39m \u001b[39mself\u001b[39m\u001b[39m.\u001b[39mget_iterator(\n\u001b[1;32m   1030\u001b[0m         inputs, num_workers, batch_size, preprocess_params, forward_params, postprocess_params\n\u001b[1;32m   1031\u001b[0m     )\n\u001b[0;32m-> 1032\u001b[0m     outputs \u001b[39m=\u001b[39m [output \u001b[39mfor\u001b[39;00m output \u001b[39min\u001b[39;00m final_iterator]\n\u001b[1;32m   1033\u001b[0m     \u001b[39mreturn\u001b[39;00m outputs\n\u001b[1;32m   1034\u001b[0m \u001b[39melse\u001b[39;00m:\n",
      "File \u001b[0;32m~/opt/anaconda3/envs/reddit_env_test/lib/python3.9/site-packages/transformers/pipelines/base.py:1032\u001b[0m, in \u001b[0;36m<listcomp>\u001b[0;34m(.0)\u001b[0m\n\u001b[1;32m   1028\u001b[0m \u001b[39mif\u001b[39;00m can_use_iterator:\n\u001b[1;32m   1029\u001b[0m     final_iterator \u001b[39m=\u001b[39m \u001b[39mself\u001b[39m\u001b[39m.\u001b[39mget_iterator(\n\u001b[1;32m   1030\u001b[0m         inputs, num_workers, batch_size, preprocess_params, forward_params, postprocess_params\n\u001b[1;32m   1031\u001b[0m     )\n\u001b[0;32m-> 1032\u001b[0m     outputs \u001b[39m=\u001b[39m [output \u001b[39mfor\u001b[39;00m output \u001b[39min\u001b[39;00m final_iterator]\n\u001b[1;32m   1033\u001b[0m     \u001b[39mreturn\u001b[39;00m outputs\n\u001b[1;32m   1034\u001b[0m \u001b[39melse\u001b[39;00m:\n",
      "File \u001b[0;32m~/opt/anaconda3/envs/reddit_env_test/lib/python3.9/site-packages/transformers/pipelines/pt_utils.py:111\u001b[0m, in \u001b[0;36mPipelineIterator.__next__\u001b[0;34m(self)\u001b[0m\n\u001b[1;32m    108\u001b[0m     \u001b[39mreturn\u001b[39;00m \u001b[39mself\u001b[39m\u001b[39m.\u001b[39mloader_batch_item()\n\u001b[1;32m    110\u001b[0m \u001b[39m# We're out of items within a batch\u001b[39;00m\n\u001b[0;32m--> 111\u001b[0m item \u001b[39m=\u001b[39m \u001b[39mnext\u001b[39;49m(\u001b[39mself\u001b[39;49m\u001b[39m.\u001b[39;49miterator)\n\u001b[1;32m    112\u001b[0m processed \u001b[39m=\u001b[39m \u001b[39mself\u001b[39m\u001b[39m.\u001b[39minfer(item, \u001b[39m*\u001b[39m\u001b[39m*\u001b[39m\u001b[39mself\u001b[39m\u001b[39m.\u001b[39mparams)\n\u001b[1;32m    113\u001b[0m \u001b[39m# We now have a batch of \"inferred things\".\u001b[39;00m\n",
      "File \u001b[0;32m~/opt/anaconda3/envs/reddit_env_test/lib/python3.9/site-packages/transformers/pipelines/pt_utils.py:112\u001b[0m, in \u001b[0;36mPipelineIterator.__next__\u001b[0;34m(self)\u001b[0m\n\u001b[1;32m    110\u001b[0m \u001b[39m# We're out of items within a batch\u001b[39;00m\n\u001b[1;32m    111\u001b[0m item \u001b[39m=\u001b[39m \u001b[39mnext\u001b[39m(\u001b[39mself\u001b[39m\u001b[39m.\u001b[39miterator)\n\u001b[0;32m--> 112\u001b[0m processed \u001b[39m=\u001b[39m \u001b[39mself\u001b[39;49m\u001b[39m.\u001b[39;49minfer(item, \u001b[39m*\u001b[39;49m\u001b[39m*\u001b[39;49m\u001b[39mself\u001b[39;49m\u001b[39m.\u001b[39;49mparams)\n\u001b[1;32m    113\u001b[0m \u001b[39m# We now have a batch of \"inferred things\".\u001b[39;00m\n\u001b[1;32m    114\u001b[0m \u001b[39mif\u001b[39;00m \u001b[39mself\u001b[39m\u001b[39m.\u001b[39mloader_batch_size \u001b[39mis\u001b[39;00m \u001b[39mnot\u001b[39;00m \u001b[39mNone\u001b[39;00m:\n\u001b[1;32m    115\u001b[0m     \u001b[39m# Try to infer the size of the batch\u001b[39;00m\n",
      "File \u001b[0;32m~/opt/anaconda3/envs/reddit_env_test/lib/python3.9/site-packages/transformers/pipelines/base.py:959\u001b[0m, in \u001b[0;36mPipeline.forward\u001b[0;34m(self, model_inputs, **forward_params)\u001b[0m\n\u001b[1;32m    957\u001b[0m     \u001b[39mwith\u001b[39;00m inference_context():\n\u001b[1;32m    958\u001b[0m         model_inputs \u001b[39m=\u001b[39m \u001b[39mself\u001b[39m\u001b[39m.\u001b[39m_ensure_tensor_on_device(model_inputs, device\u001b[39m=\u001b[39m\u001b[39mself\u001b[39m\u001b[39m.\u001b[39mdevice)\n\u001b[0;32m--> 959\u001b[0m         model_outputs \u001b[39m=\u001b[39m \u001b[39mself\u001b[39;49m\u001b[39m.\u001b[39;49m_forward(model_inputs, \u001b[39m*\u001b[39;49m\u001b[39m*\u001b[39;49mforward_params)\n\u001b[1;32m    960\u001b[0m         model_outputs \u001b[39m=\u001b[39m \u001b[39mself\u001b[39m\u001b[39m.\u001b[39m_ensure_tensor_on_device(model_outputs, device\u001b[39m=\u001b[39mtorch\u001b[39m.\u001b[39mdevice(\u001b[39m\"\u001b[39m\u001b[39mcpu\u001b[39m\u001b[39m\"\u001b[39m))\n\u001b[1;32m    961\u001b[0m \u001b[39melse\u001b[39;00m:\n",
      "File \u001b[0;32m~/opt/anaconda3/envs/reddit_env_test/lib/python3.9/site-packages/transformers/pipelines/text_classification.py:163\u001b[0m, in \u001b[0;36mTextClassificationPipeline._forward\u001b[0;34m(self, model_inputs)\u001b[0m\n\u001b[1;32m    162\u001b[0m \u001b[39mdef\u001b[39;00m \u001b[39m_forward\u001b[39m(\u001b[39mself\u001b[39m, model_inputs):\n\u001b[0;32m--> 163\u001b[0m     \u001b[39mreturn\u001b[39;00m \u001b[39mself\u001b[39;49m\u001b[39m.\u001b[39;49mmodel(\u001b[39m*\u001b[39;49m\u001b[39m*\u001b[39;49mmodel_inputs)\n",
      "File \u001b[0;32m~/opt/anaconda3/envs/reddit_env_test/lib/python3.9/site-packages/torch/nn/modules/module.py:1130\u001b[0m, in \u001b[0;36mModule._call_impl\u001b[0;34m(self, *input, **kwargs)\u001b[0m\n\u001b[1;32m   1126\u001b[0m \u001b[39m# If we don't have any hooks, we want to skip the rest of the logic in\u001b[39;00m\n\u001b[1;32m   1127\u001b[0m \u001b[39m# this function, and just call forward.\u001b[39;00m\n\u001b[1;32m   1128\u001b[0m \u001b[39mif\u001b[39;00m \u001b[39mnot\u001b[39;00m (\u001b[39mself\u001b[39m\u001b[39m.\u001b[39m_backward_hooks \u001b[39mor\u001b[39;00m \u001b[39mself\u001b[39m\u001b[39m.\u001b[39m_forward_hooks \u001b[39mor\u001b[39;00m \u001b[39mself\u001b[39m\u001b[39m.\u001b[39m_forward_pre_hooks \u001b[39mor\u001b[39;00m _global_backward_hooks\n\u001b[1;32m   1129\u001b[0m         \u001b[39mor\u001b[39;00m _global_forward_hooks \u001b[39mor\u001b[39;00m _global_forward_pre_hooks):\n\u001b[0;32m-> 1130\u001b[0m     \u001b[39mreturn\u001b[39;00m forward_call(\u001b[39m*\u001b[39;49m\u001b[39minput\u001b[39;49m, \u001b[39m*\u001b[39;49m\u001b[39m*\u001b[39;49mkwargs)\n\u001b[1;32m   1131\u001b[0m \u001b[39m# Do not call functions when jit is used\u001b[39;00m\n\u001b[1;32m   1132\u001b[0m full_backward_hooks, non_full_backward_hooks \u001b[39m=\u001b[39m [], []\n",
      "File \u001b[0;32m~/opt/anaconda3/envs/reddit_env_test/lib/python3.9/site-packages/transformers/models/bert/modeling_bert.py:1556\u001b[0m, in \u001b[0;36mBertForSequenceClassification.forward\u001b[0;34m(self, input_ids, attention_mask, token_type_ids, position_ids, head_mask, inputs_embeds, labels, output_attentions, output_hidden_states, return_dict)\u001b[0m\n\u001b[1;32m   1548\u001b[0m \u001b[39mr\u001b[39m\u001b[39m\"\"\"\u001b[39;00m\n\u001b[1;32m   1549\u001b[0m \u001b[39mlabels (`torch.LongTensor` of shape `(batch_size,)`, *optional*):\u001b[39;00m\n\u001b[1;32m   1550\u001b[0m \u001b[39m    Labels for computing the sequence classification/regression loss. Indices should be in `[0, ...,\u001b[39;00m\n\u001b[1;32m   1551\u001b[0m \u001b[39m    config.num_labels - 1]`. If `config.num_labels == 1` a regression loss is computed (Mean-Square loss), If\u001b[39;00m\n\u001b[1;32m   1552\u001b[0m \u001b[39m    `config.num_labels > 1` a classification loss is computed (Cross-Entropy).\u001b[39;00m\n\u001b[1;32m   1553\u001b[0m \u001b[39m\"\"\"\u001b[39;00m\n\u001b[1;32m   1554\u001b[0m return_dict \u001b[39m=\u001b[39m return_dict \u001b[39mif\u001b[39;00m return_dict \u001b[39mis\u001b[39;00m \u001b[39mnot\u001b[39;00m \u001b[39mNone\u001b[39;00m \u001b[39melse\u001b[39;00m \u001b[39mself\u001b[39m\u001b[39m.\u001b[39mconfig\u001b[39m.\u001b[39muse_return_dict\n\u001b[0;32m-> 1556\u001b[0m outputs \u001b[39m=\u001b[39m \u001b[39mself\u001b[39;49m\u001b[39m.\u001b[39;49mbert(\n\u001b[1;32m   1557\u001b[0m     input_ids,\n\u001b[1;32m   1558\u001b[0m     attention_mask\u001b[39m=\u001b[39;49mattention_mask,\n\u001b[1;32m   1559\u001b[0m     token_type_ids\u001b[39m=\u001b[39;49mtoken_type_ids,\n\u001b[1;32m   1560\u001b[0m     position_ids\u001b[39m=\u001b[39;49mposition_ids,\n\u001b[1;32m   1561\u001b[0m     head_mask\u001b[39m=\u001b[39;49mhead_mask,\n\u001b[1;32m   1562\u001b[0m     inputs_embeds\u001b[39m=\u001b[39;49minputs_embeds,\n\u001b[1;32m   1563\u001b[0m     output_attentions\u001b[39m=\u001b[39;49moutput_attentions,\n\u001b[1;32m   1564\u001b[0m     output_hidden_states\u001b[39m=\u001b[39;49moutput_hidden_states,\n\u001b[1;32m   1565\u001b[0m     return_dict\u001b[39m=\u001b[39;49mreturn_dict,\n\u001b[1;32m   1566\u001b[0m )\n\u001b[1;32m   1568\u001b[0m pooled_output \u001b[39m=\u001b[39m outputs[\u001b[39m1\u001b[39m]\n\u001b[1;32m   1570\u001b[0m pooled_output \u001b[39m=\u001b[39m \u001b[39mself\u001b[39m\u001b[39m.\u001b[39mdropout(pooled_output)\n",
      "File \u001b[0;32m~/opt/anaconda3/envs/reddit_env_test/lib/python3.9/site-packages/torch/nn/modules/module.py:1130\u001b[0m, in \u001b[0;36mModule._call_impl\u001b[0;34m(self, *input, **kwargs)\u001b[0m\n\u001b[1;32m   1126\u001b[0m \u001b[39m# If we don't have any hooks, we want to skip the rest of the logic in\u001b[39;00m\n\u001b[1;32m   1127\u001b[0m \u001b[39m# this function, and just call forward.\u001b[39;00m\n\u001b[1;32m   1128\u001b[0m \u001b[39mif\u001b[39;00m \u001b[39mnot\u001b[39;00m (\u001b[39mself\u001b[39m\u001b[39m.\u001b[39m_backward_hooks \u001b[39mor\u001b[39;00m \u001b[39mself\u001b[39m\u001b[39m.\u001b[39m_forward_hooks \u001b[39mor\u001b[39;00m \u001b[39mself\u001b[39m\u001b[39m.\u001b[39m_forward_pre_hooks \u001b[39mor\u001b[39;00m _global_backward_hooks\n\u001b[1;32m   1129\u001b[0m         \u001b[39mor\u001b[39;00m _global_forward_hooks \u001b[39mor\u001b[39;00m _global_forward_pre_hooks):\n\u001b[0;32m-> 1130\u001b[0m     \u001b[39mreturn\u001b[39;00m forward_call(\u001b[39m*\u001b[39;49m\u001b[39minput\u001b[39;49m, \u001b[39m*\u001b[39;49m\u001b[39m*\u001b[39;49mkwargs)\n\u001b[1;32m   1131\u001b[0m \u001b[39m# Do not call functions when jit is used\u001b[39;00m\n\u001b[1;32m   1132\u001b[0m full_backward_hooks, non_full_backward_hooks \u001b[39m=\u001b[39m [], []\n",
      "File \u001b[0;32m~/opt/anaconda3/envs/reddit_env_test/lib/python3.9/site-packages/transformers/models/bert/modeling_bert.py:1018\u001b[0m, in \u001b[0;36mBertModel.forward\u001b[0;34m(self, input_ids, attention_mask, token_type_ids, position_ids, head_mask, inputs_embeds, encoder_hidden_states, encoder_attention_mask, past_key_values, use_cache, output_attentions, output_hidden_states, return_dict)\u001b[0m\n\u001b[1;32m   1009\u001b[0m head_mask \u001b[39m=\u001b[39m \u001b[39mself\u001b[39m\u001b[39m.\u001b[39mget_head_mask(head_mask, \u001b[39mself\u001b[39m\u001b[39m.\u001b[39mconfig\u001b[39m.\u001b[39mnum_hidden_layers)\n\u001b[1;32m   1011\u001b[0m embedding_output \u001b[39m=\u001b[39m \u001b[39mself\u001b[39m\u001b[39m.\u001b[39membeddings(\n\u001b[1;32m   1012\u001b[0m     input_ids\u001b[39m=\u001b[39minput_ids,\n\u001b[1;32m   1013\u001b[0m     position_ids\u001b[39m=\u001b[39mposition_ids,\n\u001b[0;32m   (...)\u001b[0m\n\u001b[1;32m   1016\u001b[0m     past_key_values_length\u001b[39m=\u001b[39mpast_key_values_length,\n\u001b[1;32m   1017\u001b[0m )\n\u001b[0;32m-> 1018\u001b[0m encoder_outputs \u001b[39m=\u001b[39m \u001b[39mself\u001b[39;49m\u001b[39m.\u001b[39;49mencoder(\n\u001b[1;32m   1019\u001b[0m     embedding_output,\n\u001b[1;32m   1020\u001b[0m     attention_mask\u001b[39m=\u001b[39;49mextended_attention_mask,\n\u001b[1;32m   1021\u001b[0m     head_mask\u001b[39m=\u001b[39;49mhead_mask,\n\u001b[1;32m   1022\u001b[0m     encoder_hidden_states\u001b[39m=\u001b[39;49mencoder_hidden_states,\n\u001b[1;32m   1023\u001b[0m     encoder_attention_mask\u001b[39m=\u001b[39;49mencoder_extended_attention_mask,\n\u001b[1;32m   1024\u001b[0m     past_key_values\u001b[39m=\u001b[39;49mpast_key_values,\n\u001b[1;32m   1025\u001b[0m     use_cache\u001b[39m=\u001b[39;49muse_cache,\n\u001b[1;32m   1026\u001b[0m     output_attentions\u001b[39m=\u001b[39;49moutput_attentions,\n\u001b[1;32m   1027\u001b[0m     output_hidden_states\u001b[39m=\u001b[39;49moutput_hidden_states,\n\u001b[1;32m   1028\u001b[0m     return_dict\u001b[39m=\u001b[39;49mreturn_dict,\n\u001b[1;32m   1029\u001b[0m )\n\u001b[1;32m   1030\u001b[0m sequence_output \u001b[39m=\u001b[39m encoder_outputs[\u001b[39m0\u001b[39m]\n\u001b[1;32m   1031\u001b[0m pooled_output \u001b[39m=\u001b[39m \u001b[39mself\u001b[39m\u001b[39m.\u001b[39mpooler(sequence_output) \u001b[39mif\u001b[39;00m \u001b[39mself\u001b[39m\u001b[39m.\u001b[39mpooler \u001b[39mis\u001b[39;00m \u001b[39mnot\u001b[39;00m \u001b[39mNone\u001b[39;00m \u001b[39melse\u001b[39;00m \u001b[39mNone\u001b[39;00m\n",
      "File \u001b[0;32m~/opt/anaconda3/envs/reddit_env_test/lib/python3.9/site-packages/torch/nn/modules/module.py:1130\u001b[0m, in \u001b[0;36mModule._call_impl\u001b[0;34m(self, *input, **kwargs)\u001b[0m\n\u001b[1;32m   1126\u001b[0m \u001b[39m# If we don't have any hooks, we want to skip the rest of the logic in\u001b[39;00m\n\u001b[1;32m   1127\u001b[0m \u001b[39m# this function, and just call forward.\u001b[39;00m\n\u001b[1;32m   1128\u001b[0m \u001b[39mif\u001b[39;00m \u001b[39mnot\u001b[39;00m (\u001b[39mself\u001b[39m\u001b[39m.\u001b[39m_backward_hooks \u001b[39mor\u001b[39;00m \u001b[39mself\u001b[39m\u001b[39m.\u001b[39m_forward_hooks \u001b[39mor\u001b[39;00m \u001b[39mself\u001b[39m\u001b[39m.\u001b[39m_forward_pre_hooks \u001b[39mor\u001b[39;00m _global_backward_hooks\n\u001b[1;32m   1129\u001b[0m         \u001b[39mor\u001b[39;00m _global_forward_hooks \u001b[39mor\u001b[39;00m _global_forward_pre_hooks):\n\u001b[0;32m-> 1130\u001b[0m     \u001b[39mreturn\u001b[39;00m forward_call(\u001b[39m*\u001b[39;49m\u001b[39minput\u001b[39;49m, \u001b[39m*\u001b[39;49m\u001b[39m*\u001b[39;49mkwargs)\n\u001b[1;32m   1131\u001b[0m \u001b[39m# Do not call functions when jit is used\u001b[39;00m\n\u001b[1;32m   1132\u001b[0m full_backward_hooks, non_full_backward_hooks \u001b[39m=\u001b[39m [], []\n",
      "File \u001b[0;32m~/opt/anaconda3/envs/reddit_env_test/lib/python3.9/site-packages/transformers/models/bert/modeling_bert.py:607\u001b[0m, in \u001b[0;36mBertEncoder.forward\u001b[0;34m(self, hidden_states, attention_mask, head_mask, encoder_hidden_states, encoder_attention_mask, past_key_values, use_cache, output_attentions, output_hidden_states, return_dict)\u001b[0m\n\u001b[1;32m    598\u001b[0m     layer_outputs \u001b[39m=\u001b[39m torch\u001b[39m.\u001b[39mutils\u001b[39m.\u001b[39mcheckpoint\u001b[39m.\u001b[39mcheckpoint(\n\u001b[1;32m    599\u001b[0m         create_custom_forward(layer_module),\n\u001b[1;32m    600\u001b[0m         hidden_states,\n\u001b[0;32m   (...)\u001b[0m\n\u001b[1;32m    604\u001b[0m         encoder_attention_mask,\n\u001b[1;32m    605\u001b[0m     )\n\u001b[1;32m    606\u001b[0m \u001b[39melse\u001b[39;00m:\n\u001b[0;32m--> 607\u001b[0m     layer_outputs \u001b[39m=\u001b[39m layer_module(\n\u001b[1;32m    608\u001b[0m         hidden_states,\n\u001b[1;32m    609\u001b[0m         attention_mask,\n\u001b[1;32m    610\u001b[0m         layer_head_mask,\n\u001b[1;32m    611\u001b[0m         encoder_hidden_states,\n\u001b[1;32m    612\u001b[0m         encoder_attention_mask,\n\u001b[1;32m    613\u001b[0m         past_key_value,\n\u001b[1;32m    614\u001b[0m         output_attentions,\n\u001b[1;32m    615\u001b[0m     )\n\u001b[1;32m    617\u001b[0m hidden_states \u001b[39m=\u001b[39m layer_outputs[\u001b[39m0\u001b[39m]\n\u001b[1;32m    618\u001b[0m \u001b[39mif\u001b[39;00m use_cache:\n",
      "File \u001b[0;32m~/opt/anaconda3/envs/reddit_env_test/lib/python3.9/site-packages/torch/nn/modules/module.py:1130\u001b[0m, in \u001b[0;36mModule._call_impl\u001b[0;34m(self, *input, **kwargs)\u001b[0m\n\u001b[1;32m   1126\u001b[0m \u001b[39m# If we don't have any hooks, we want to skip the rest of the logic in\u001b[39;00m\n\u001b[1;32m   1127\u001b[0m \u001b[39m# this function, and just call forward.\u001b[39;00m\n\u001b[1;32m   1128\u001b[0m \u001b[39mif\u001b[39;00m \u001b[39mnot\u001b[39;00m (\u001b[39mself\u001b[39m\u001b[39m.\u001b[39m_backward_hooks \u001b[39mor\u001b[39;00m \u001b[39mself\u001b[39m\u001b[39m.\u001b[39m_forward_hooks \u001b[39mor\u001b[39;00m \u001b[39mself\u001b[39m\u001b[39m.\u001b[39m_forward_pre_hooks \u001b[39mor\u001b[39;00m _global_backward_hooks\n\u001b[1;32m   1129\u001b[0m         \u001b[39mor\u001b[39;00m _global_forward_hooks \u001b[39mor\u001b[39;00m _global_forward_pre_hooks):\n\u001b[0;32m-> 1130\u001b[0m     \u001b[39mreturn\u001b[39;00m forward_call(\u001b[39m*\u001b[39;49m\u001b[39minput\u001b[39;49m, \u001b[39m*\u001b[39;49m\u001b[39m*\u001b[39;49mkwargs)\n\u001b[1;32m   1131\u001b[0m \u001b[39m# Do not call functions when jit is used\u001b[39;00m\n\u001b[1;32m   1132\u001b[0m full_backward_hooks, non_full_backward_hooks \u001b[39m=\u001b[39m [], []\n",
      "File \u001b[0;32m~/opt/anaconda3/envs/reddit_env_test/lib/python3.9/site-packages/transformers/models/bert/modeling_bert.py:535\u001b[0m, in \u001b[0;36mBertLayer.forward\u001b[0;34m(self, hidden_states, attention_mask, head_mask, encoder_hidden_states, encoder_attention_mask, past_key_value, output_attentions)\u001b[0m\n\u001b[1;32m    532\u001b[0m     cross_attn_present_key_value \u001b[39m=\u001b[39m cross_attention_outputs[\u001b[39m-\u001b[39m\u001b[39m1\u001b[39m]\n\u001b[1;32m    533\u001b[0m     present_key_value \u001b[39m=\u001b[39m present_key_value \u001b[39m+\u001b[39m cross_attn_present_key_value\n\u001b[0;32m--> 535\u001b[0m layer_output \u001b[39m=\u001b[39m apply_chunking_to_forward(\n\u001b[1;32m    536\u001b[0m     \u001b[39mself\u001b[39;49m\u001b[39m.\u001b[39;49mfeed_forward_chunk, \u001b[39mself\u001b[39;49m\u001b[39m.\u001b[39;49mchunk_size_feed_forward, \u001b[39mself\u001b[39;49m\u001b[39m.\u001b[39;49mseq_len_dim, attention_output\n\u001b[1;32m    537\u001b[0m )\n\u001b[1;32m    538\u001b[0m outputs \u001b[39m=\u001b[39m (layer_output,) \u001b[39m+\u001b[39m outputs\n\u001b[1;32m    540\u001b[0m \u001b[39m# if decoder, return the attn key/values as the last output\u001b[39;00m\n",
      "File \u001b[0;32m~/opt/anaconda3/envs/reddit_env_test/lib/python3.9/site-packages/transformers/pytorch_utils.py:241\u001b[0m, in \u001b[0;36mapply_chunking_to_forward\u001b[0;34m(forward_fn, chunk_size, chunk_dim, *input_tensors)\u001b[0m\n\u001b[1;32m    238\u001b[0m     \u001b[39m# concatenate output at same dimension\u001b[39;00m\n\u001b[1;32m    239\u001b[0m     \u001b[39mreturn\u001b[39;00m torch\u001b[39m.\u001b[39mcat(output_chunks, dim\u001b[39m=\u001b[39mchunk_dim)\n\u001b[0;32m--> 241\u001b[0m \u001b[39mreturn\u001b[39;00m forward_fn(\u001b[39m*\u001b[39;49minput_tensors)\n",
      "File \u001b[0;32m~/opt/anaconda3/envs/reddit_env_test/lib/python3.9/site-packages/transformers/models/bert/modeling_bert.py:548\u001b[0m, in \u001b[0;36mBertLayer.feed_forward_chunk\u001b[0;34m(self, attention_output)\u001b[0m\n\u001b[1;32m    546\u001b[0m \u001b[39mdef\u001b[39;00m \u001b[39mfeed_forward_chunk\u001b[39m(\u001b[39mself\u001b[39m, attention_output):\n\u001b[1;32m    547\u001b[0m     intermediate_output \u001b[39m=\u001b[39m \u001b[39mself\u001b[39m\u001b[39m.\u001b[39mintermediate(attention_output)\n\u001b[0;32m--> 548\u001b[0m     layer_output \u001b[39m=\u001b[39m \u001b[39mself\u001b[39;49m\u001b[39m.\u001b[39;49moutput(intermediate_output, attention_output)\n\u001b[1;32m    549\u001b[0m     \u001b[39mreturn\u001b[39;00m layer_output\n",
      "File \u001b[0;32m~/opt/anaconda3/envs/reddit_env_test/lib/python3.9/site-packages/torch/nn/modules/module.py:1130\u001b[0m, in \u001b[0;36mModule._call_impl\u001b[0;34m(self, *input, **kwargs)\u001b[0m\n\u001b[1;32m   1126\u001b[0m \u001b[39m# If we don't have any hooks, we want to skip the rest of the logic in\u001b[39;00m\n\u001b[1;32m   1127\u001b[0m \u001b[39m# this function, and just call forward.\u001b[39;00m\n\u001b[1;32m   1128\u001b[0m \u001b[39mif\u001b[39;00m \u001b[39mnot\u001b[39;00m (\u001b[39mself\u001b[39m\u001b[39m.\u001b[39m_backward_hooks \u001b[39mor\u001b[39;00m \u001b[39mself\u001b[39m\u001b[39m.\u001b[39m_forward_hooks \u001b[39mor\u001b[39;00m \u001b[39mself\u001b[39m\u001b[39m.\u001b[39m_forward_pre_hooks \u001b[39mor\u001b[39;00m _global_backward_hooks\n\u001b[1;32m   1129\u001b[0m         \u001b[39mor\u001b[39;00m _global_forward_hooks \u001b[39mor\u001b[39;00m _global_forward_pre_hooks):\n\u001b[0;32m-> 1130\u001b[0m     \u001b[39mreturn\u001b[39;00m forward_call(\u001b[39m*\u001b[39;49m\u001b[39minput\u001b[39;49m, \u001b[39m*\u001b[39;49m\u001b[39m*\u001b[39;49mkwargs)\n\u001b[1;32m   1131\u001b[0m \u001b[39m# Do not call functions when jit is used\u001b[39;00m\n\u001b[1;32m   1132\u001b[0m full_backward_hooks, non_full_backward_hooks \u001b[39m=\u001b[39m [], []\n",
      "File \u001b[0;32m~/opt/anaconda3/envs/reddit_env_test/lib/python3.9/site-packages/transformers/models/bert/modeling_bert.py:460\u001b[0m, in \u001b[0;36mBertOutput.forward\u001b[0;34m(self, hidden_states, input_tensor)\u001b[0m\n\u001b[1;32m    459\u001b[0m \u001b[39mdef\u001b[39;00m \u001b[39mforward\u001b[39m(\u001b[39mself\u001b[39m, hidden_states: torch\u001b[39m.\u001b[39mTensor, input_tensor: torch\u001b[39m.\u001b[39mTensor) \u001b[39m-\u001b[39m\u001b[39m>\u001b[39m torch\u001b[39m.\u001b[39mTensor:\n\u001b[0;32m--> 460\u001b[0m     hidden_states \u001b[39m=\u001b[39m \u001b[39mself\u001b[39;49m\u001b[39m.\u001b[39;49mdense(hidden_states)\n\u001b[1;32m    461\u001b[0m     hidden_states \u001b[39m=\u001b[39m \u001b[39mself\u001b[39m\u001b[39m.\u001b[39mdropout(hidden_states)\n\u001b[1;32m    462\u001b[0m     hidden_states \u001b[39m=\u001b[39m \u001b[39mself\u001b[39m\u001b[39m.\u001b[39mLayerNorm(hidden_states \u001b[39m+\u001b[39m input_tensor)\n",
      "File \u001b[0;32m~/opt/anaconda3/envs/reddit_env_test/lib/python3.9/site-packages/torch/nn/modules/module.py:1130\u001b[0m, in \u001b[0;36mModule._call_impl\u001b[0;34m(self, *input, **kwargs)\u001b[0m\n\u001b[1;32m   1126\u001b[0m \u001b[39m# If we don't have any hooks, we want to skip the rest of the logic in\u001b[39;00m\n\u001b[1;32m   1127\u001b[0m \u001b[39m# this function, and just call forward.\u001b[39;00m\n\u001b[1;32m   1128\u001b[0m \u001b[39mif\u001b[39;00m \u001b[39mnot\u001b[39;00m (\u001b[39mself\u001b[39m\u001b[39m.\u001b[39m_backward_hooks \u001b[39mor\u001b[39;00m \u001b[39mself\u001b[39m\u001b[39m.\u001b[39m_forward_hooks \u001b[39mor\u001b[39;00m \u001b[39mself\u001b[39m\u001b[39m.\u001b[39m_forward_pre_hooks \u001b[39mor\u001b[39;00m _global_backward_hooks\n\u001b[1;32m   1129\u001b[0m         \u001b[39mor\u001b[39;00m _global_forward_hooks \u001b[39mor\u001b[39;00m _global_forward_pre_hooks):\n\u001b[0;32m-> 1130\u001b[0m     \u001b[39mreturn\u001b[39;00m forward_call(\u001b[39m*\u001b[39;49m\u001b[39minput\u001b[39;49m, \u001b[39m*\u001b[39;49m\u001b[39m*\u001b[39;49mkwargs)\n\u001b[1;32m   1131\u001b[0m \u001b[39m# Do not call functions when jit is used\u001b[39;00m\n\u001b[1;32m   1132\u001b[0m full_backward_hooks, non_full_backward_hooks \u001b[39m=\u001b[39m [], []\n",
      "File \u001b[0;32m~/opt/anaconda3/envs/reddit_env_test/lib/python3.9/site-packages/torch/nn/modules/linear.py:114\u001b[0m, in \u001b[0;36mLinear.forward\u001b[0;34m(self, input)\u001b[0m\n\u001b[1;32m    113\u001b[0m \u001b[39mdef\u001b[39;00m \u001b[39mforward\u001b[39m(\u001b[39mself\u001b[39m, \u001b[39minput\u001b[39m: Tensor) \u001b[39m-\u001b[39m\u001b[39m>\u001b[39m Tensor:\n\u001b[0;32m--> 114\u001b[0m     \u001b[39mreturn\u001b[39;00m F\u001b[39m.\u001b[39;49mlinear(\u001b[39minput\u001b[39;49m, \u001b[39mself\u001b[39;49m\u001b[39m.\u001b[39;49mweight, \u001b[39mself\u001b[39;49m\u001b[39m.\u001b[39;49mbias)\n",
      "\u001b[0;31mKeyboardInterrupt\u001b[0m: "
     ]
    }
   ],
   "source": [
    "from tqdm import tqdm\n",
    "predictions = []\n",
    "for i in tqdm(range(len(test))):\n",
    "    predictions.append(classifier(test[i]))"
   ]
  }
 ],
 "metadata": {
  "kernelspec": {
   "display_name": "Python 3.9.12 ('reddit_env_test')",
   "language": "python",
   "name": "python3"
  },
  "language_info": {
   "codemirror_mode": {
    "name": "ipython",
    "version": 3
   },
   "file_extension": ".py",
   "mimetype": "text/x-python",
   "name": "python",
   "nbconvert_exporter": "python",
   "pygments_lexer": "ipython3",
   "version": "3.9.12"
  },
  "orig_nbformat": 4,
  "vscode": {
   "interpreter": {
    "hash": "6c5bfe69c2b2d435baea75ee1a7865fc7666bb526179204de658e4f2811cb086"
   }
  }
 },
 "nbformat": 4,
 "nbformat_minor": 2
}
