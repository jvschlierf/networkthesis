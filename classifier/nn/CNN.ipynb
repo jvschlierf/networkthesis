{
 "cells": [
  {
   "cell_type": "code",
   "execution_count": 1,
   "metadata": {},
   "outputs": [],
   "source": [
    "import os\n",
    "import torch\n",
    "from transformers import Trainer, TrainingArguments, AutoTokenizer, AutoModel, pipeline, AutoModelForSequenceClassification\n",
    "import numpy as np\n",
    "from datasets import Dataset, load_metric\n",
    "import pandas as pd\n"
   ]
  },
  {
   "cell_type": "markdown",
   "metadata": {},
   "source": [
    "## Getting AUC to run"
   ]
  },
  {
   "cell_type": "code",
   "execution_count": 10,
   "metadata": {},
   "outputs": [
    {
     "name": "stdout",
     "output_type": "stream",
     "text": [
      "0.85\n"
     ]
    }
   ],
   "source": [
    "roc_auc_score = load_metric(\"roc_auc\", \"multiclass\")\n",
    "refs = [1, 0, 1, 2, 2, 0]\n",
    "pred_scores = [[0.3, 0.5, 0.2],\n",
    "               [0.7, 0.2, 0.1],\n",
    "               [0.005, 0.99, 0.005],\n",
    "               [0.2, 0.3, 0.5],\n",
    "               [0.1, 0.1, 0.8],\n",
    "               [0.1, 0.7, 0.2]]\n",
    "results = roc_auc_score.compute(references=refs, prediction_scores=pred_scores, multi_class='ovr')\n",
    "print(round(results['roc_auc'], 2))"
   ]
  },
  {
   "cell_type": "code",
   "execution_count": 8,
   "metadata": {},
   "outputs": [],
   "source": [
    "test_refs = pd.read_csv('labels.csv')\n",
    "test_refs .drop('Unnamed: 0', axis = 1, inplace = True)"
   ]
  },
  {
   "cell_type": "code",
   "execution_count": 2,
   "metadata": {},
   "outputs": [],
   "source": [
    "test_preds = pd.read_csv('logits.csv')\n",
    "test_preds.drop(['Unnamed: 0', 'index'], axis=1 , inplace=True)"
   ]
  },
  {
   "cell_type": "code",
   "execution_count": 9,
   "metadata": {},
   "outputs": [],
   "source": [
    "nPreds = test_preds.to_numpy()\n",
    "nRefs = test_refs.to_numpy()"
   ]
  },
  {
   "cell_type": "code",
   "execution_count": 10,
   "metadata": {},
   "outputs": [],
   "source": [
    "predictions = (nPreds == nPreds.max(axis=1)[:,None]).astype(int)"
   ]
  },
  {
   "cell_type": "code",
   "execution_count": 11,
   "metadata": {},
   "outputs": [
    {
     "data": {
      "text/plain": [
       "array([[1, 0, 0],\n",
       "       [1, 0, 0],\n",
       "       [1, 0, 0],\n",
       "       [0, 0, 1],\n",
       "       [0, 0, 1],\n",
       "       [0, 0, 1],\n",
       "       [0, 0, 1],\n",
       "       [0, 0, 1],\n",
       "       [0, 0, 1],\n",
       "       [0, 0, 1],\n",
       "       [1, 0, 0],\n",
       "       [1, 0, 0],\n",
       "       [1, 0, 0],\n",
       "       [0, 0, 1],\n",
       "       [1, 0, 0],\n",
       "       [0, 0, 1],\n",
       "       [0, 0, 1],\n",
       "       [1, 0, 0],\n",
       "       [0, 0, 1],\n",
       "       [1, 0, 0],\n",
       "       [0, 0, 1],\n",
       "       [0, 0, 1],\n",
       "       [1, 0, 0],\n",
       "       [1, 0, 0],\n",
       "       [1, 0, 0],\n",
       "       [1, 0, 0],\n",
       "       [1, 0, 0],\n",
       "       [0, 0, 1],\n",
       "       [0, 0, 1],\n",
       "       [0, 0, 1],\n",
       "       [0, 0, 1],\n",
       "       [0, 0, 1],\n",
       "       [1, 0, 0],\n",
       "       [0, 0, 1],\n",
       "       [1, 0, 0],\n",
       "       [1, 0, 0],\n",
       "       [1, 0, 0],\n",
       "       [0, 0, 1],\n",
       "       [1, 0, 0],\n",
       "       [0, 0, 1],\n",
       "       [0, 0, 1],\n",
       "       [0, 0, 1],\n",
       "       [0, 0, 1],\n",
       "       [1, 0, 0],\n",
       "       [0, 0, 1],\n",
       "       [1, 0, 0],\n",
       "       [0, 0, 1],\n",
       "       [0, 0, 1],\n",
       "       [0, 0, 1],\n",
       "       [0, 0, 1],\n",
       "       [1, 0, 0],\n",
       "       [1, 0, 0],\n",
       "       [1, 0, 0],\n",
       "       [0, 1, 0],\n",
       "       [1, 0, 0],\n",
       "       [0, 0, 1],\n",
       "       [0, 0, 1],\n",
       "       [0, 0, 1],\n",
       "       [0, 0, 1],\n",
       "       [0, 0, 1],\n",
       "       [0, 0, 1],\n",
       "       [1, 0, 0],\n",
       "       [1, 0, 0],\n",
       "       [1, 0, 0],\n",
       "       [1, 0, 0],\n",
       "       [1, 0, 0],\n",
       "       [0, 0, 1],\n",
       "       [0, 0, 1],\n",
       "       [0, 0, 1],\n",
       "       [1, 0, 0],\n",
       "       [0, 0, 1],\n",
       "       [1, 0, 0],\n",
       "       [0, 0, 1],\n",
       "       [0, 0, 1],\n",
       "       [1, 0, 0],\n",
       "       [1, 0, 0],\n",
       "       [0, 0, 1],\n",
       "       [1, 0, 0],\n",
       "       [1, 0, 0],\n",
       "       [1, 0, 0],\n",
       "       [0, 0, 1],\n",
       "       [1, 0, 0],\n",
       "       [0, 0, 1],\n",
       "       [0, 0, 1],\n",
       "       [1, 0, 0],\n",
       "       [1, 0, 0],\n",
       "       [0, 0, 1],\n",
       "       [1, 0, 0],\n",
       "       [1, 0, 0],\n",
       "       [0, 0, 1],\n",
       "       [1, 0, 0],\n",
       "       [0, 0, 1],\n",
       "       [1, 0, 0],\n",
       "       [1, 0, 0],\n",
       "       [0, 0, 1],\n",
       "       [0, 0, 1],\n",
       "       [0, 0, 1],\n",
       "       [1, 0, 0],\n",
       "       [0, 0, 1],\n",
       "       [0, 0, 1]])"
      ]
     },
     "execution_count": 11,
     "metadata": {},
     "output_type": "execute_result"
    }
   ],
   "source": [
    "predictions"
   ]
  },
  {
   "cell_type": "code",
   "execution_count": 13,
   "metadata": {},
   "outputs": [],
   "source": [
    "def compute_metrics(eval_pred):\n",
    "    logits, refs = eval_pred \n",
    "    metric = load_metric(\"roc_auc\", \"multiclass\")\n",
    "    \n",
    "\n",
    "    return metric.compute(references=refs, prediction_scores=logits, multi_class='ovr')"
   ]
  },
  {
   "cell_type": "code",
   "execution_count": 15,
   "metadata": {},
   "outputs": [],
   "source": [
    "# eval_pred = [pred_scores, refs]\n",
    "# eval_pred = [test_preds, test_refs]\n",
    "eval_pred = [predictions, nRefs]"
   ]
  },
  {
   "cell_type": "code",
   "execution_count": 16,
   "metadata": {},
   "outputs": [
    {
     "data": {
      "text/plain": [
       "{'roc_auc': 0.6626208721036307}"
      ]
     },
     "execution_count": 16,
     "metadata": {},
     "output_type": "execute_result"
    }
   ],
   "source": [
    "compute_metrics(eval_pred)"
   ]
  },
  {
   "cell_type": "code",
   "execution_count": 4,
   "metadata": {},
   "outputs": [
    {
     "name": "stdout",
     "output_type": "stream",
     "text": [
      "\n",
      "Args:\n",
      "- references (array-like of shape (n_samples,) or (n_samples, n_classes)): Ground truth labels. Expects different input based on use case:\n",
      "    - binary: expects an array-like of shape (n_samples,)\n",
      "    - multiclass: expects an array-like of shape (n_samples,)\n",
      "    - multilabel: expects an array-like of shape (n_samples, n_classes)\n",
      "- prediction_scores (array-like of shape (n_samples,) or (n_samples, n_classes)): Model predictions. Expects different inputs based on use case:\n",
      "    - binary: expects an array-like of shape (n_samples,)\n",
      "    - multiclass: expects an array-like of shape (n_samples, n_classes)\n",
      "    - multilabel: expects an array-like of shape (n_samples, n_classes)\n",
      "- average (`str`): Type of average, and is ignored in the binary use case. Defaults to 'macro'. Options are:\n",
      "    - `'micro'`: Calculates metrics globally by considering each element of the label indicator matrix as a label. Only works with the multilabel use case.\n",
      "    - `'macro'`: Calculate metrics for each label, and find their unweighted mean.  This does not take label imbalance into account.\n",
      "    - `'weighted'`: Calculate metrics for each label, and find their average, weighted by support (i.e. the number of true instances for each label).\n",
      "    - `'samples'`: Calculate metrics for each instance, and find their average. Only works with the multilabel use case.\n",
      "    - `None`:  No average is calculated, and scores for each class are returned. Only works with the multilabels use case.\n",
      "- sample_weight (array-like of shape (n_samples,)): Sample weights. Defaults to None.\n",
      "- max_fpr (`float`): If not None, the standardized partial AUC over the range [0, `max_fpr`] is returned. Must be greater than `0` and less than or equal to `1`. Defaults to `None`. Note: For the multiclass use case, `max_fpr` should be either `None` or `1.0` as ROC AUC partial computation is not currently supported for `multiclass`.\n",
      "- multi_class (`str`): Only used for multiclass targets, where it is required. Determines the type of configuration to use. Options are:\n",
      "    - `'ovr'`: Stands for One-vs-rest. Computes the AUC of each class against the rest. This treats the multiclass case in the same way as the multilabel case. Sensitive to class imbalance even when `average == 'macro'`, because class imbalance affects the composition of each of the 'rest' groupings.\n",
      "    - `'ovo'`: Stands for One-vs-one. Computes the average AUC of all possible pairwise combinations of classes. Insensitive to class imbalance when `average == 'macro'`.\n",
      "- labels (array-like of shape (n_classes,)): Only used for multiclass targets. List of labels that index the classes in\n",
      "    `prediction_scores`. If `None`, the numerical or lexicographical order of the labels in\n",
      "    `prediction_scores` is used. Defaults to `None`.\n",
      "Returns:\n",
      "    roc_auc (`float` or array-like of shape (n_classes,)): Returns array if in multilabel use case and `average='None'`. Otherwise, returns `float`.\n",
      "Examples:\n",
      "    Example 1:\n",
      "        >>> roc_auc_score = datasets.load_metric(\"roc_auc\")\n",
      "        >>> refs = [1, 0, 1, 1, 0, 0]\n",
      "        >>> pred_scores = [0.5, 0.2, 0.99, 0.3, 0.1, 0.7]\n",
      "        >>> results = roc_auc_score.compute(references=refs, prediction_scores=pred_scores)\n",
      "        >>> print(round(results['roc_auc'], 2))\n",
      "        0.78\n",
      "\n",
      "    Example 2:\n",
      "        >>> roc_auc_score = datasets.load_metric(\"roc_auc\", \"multiclass\")\n",
      "        >>> refs = [1, 0, 1, 2, 2, 0]\n",
      "        >>> pred_scores = [[0.3, 0.5, 0.2],\n",
      "        ...                 [0.7, 0.2, 0.1],\n",
      "        ...                 [0.005, 0.99, 0.005],\n",
      "        ...                 [0.2, 0.3, 0.5],\n",
      "        ...                 [0.1, 0.1, 0.8],\n",
      "        ...                 [0.1, 0.7, 0.2]]\n",
      "        >>> results = roc_auc_score.compute(references=refs, prediction_scores=pred_scores, multi_class='ovr')\n",
      "        >>> print(round(results['roc_auc'], 2))\n",
      "        0.85\n",
      "\n",
      "    Example 3:\n",
      "        >>> roc_auc_score = datasets.load_metric(\"roc_auc\", \"multilabel\")\n",
      "        >>> refs = [[1, 1, 0],\n",
      "        ...         [1, 1, 0],\n",
      "        ...         [0, 1, 0],\n",
      "        ...         [0, 0, 1],\n",
      "        ...         [0, 1, 1],\n",
      "        ...         [1, 0, 1]]\n",
      "        >>> pred_scores = [[0.3, 0.5, 0.2],\n",
      "        ...                 [0.7, 0.2, 0.1],\n",
      "        ...                 [0.005, 0.99, 0.005],\n",
      "        ...                 [0.2, 0.3, 0.5],\n",
      "        ...                 [0.1, 0.1, 0.8],\n",
      "        ...                 [0.1, 0.7, 0.2]]\n",
      "        >>> results = roc_auc_score.compute(references=refs, prediction_scores=pred_scores, average=None)\n",
      "        >>> print([round(res, 2) for res in results['roc_auc']])\n",
      "        [0.83, 0.38, 0.94]\n",
      "\n"
     ]
    }
   ],
   "source": [
    "print(metric.inputs_description)"
   ]
  },
  {
   "cell_type": "markdown",
   "metadata": {},
   "source": [
    "## CNN"
   ]
  },
  {
   "cell_type": "code",
   "execution_count": 2,
   "metadata": {},
   "outputs": [],
   "source": [
    "import pandas as pd \n",
    "from keras.utils import to_categorical\n",
    "from torch.nn.utils.rnn import pad_sequence\n",
    "\n",
    "\n",
    "from keras.models import Model\n",
    "from keras.layers import Input, Embedding\n",
    "from keras.layers import Bidirectional, LSTM\n",
    "from keras.layers import Dropout, Dense, Activation\n",
    "\n",
    "import numpy as np\n",
    "\n"
   ]
  },
  {
   "cell_type": "code",
   "execution_count": 3,
   "metadata": {},
   "outputs": [],
   "source": [
    "target = 'label'\n",
    "input_column = 'cleanText'\n",
    "\n",
    "train_data = pd.read_csv('../../../Files/Submissions/train/train2_v2.csv', sep='|') \n",
    "# valid_data = pd.read_pickle('../../../Files/Comments/train/val_split_comments.pickle')\n",
    "test_data = pd.read_csv('../../../Files/Submissions/train/test2_v2.csv', sep='|')"
   ]
  },
  {
   "cell_type": "code",
   "execution_count": 59,
   "metadata": {},
   "outputs": [],
   "source": [
    "target = 'label'\n",
    "input_column = 'cleanText'\n",
    "\n",
    "train_data = pd.read_csv('../../../Files/Submissions/train/train1.csv', sep='|') \n",
    "# valid_data = pd.read_pickle('../../../Files/Comments/train/val_split_comments.pickle')\n",
    "test_data = pd.read_csv('../../../Files/Submissions/train/test1.csv', sep='|')"
   ]
  },
  {
   "cell_type": "code",
   "execution_count": 60,
   "metadata": {},
   "outputs": [],
   "source": [
    "\n",
    "\n",
    "# train_data = train_data[[target, input_column]]\n",
    "# # valid_data = valid_data[[target, input_column]]\n",
    "# test_data = test_data[[target, input_column]]\n",
    "\n",
    "data = pd.concat([train_data, test_data])\n",
    "\n",
    "\n",
    "train_instances = train_data[input_column].apply(str).apply(str.split)\n",
    "train_labels = train_data[target]\n",
    "\n",
    "# collect known word tokens and tags\n",
    "wordset, labelset = set(), set()\n",
    "\n",
    "# collect tags from all data, to prevent unseen labels\n",
    "labelset.update(set(data[target]))\n",
    "\n",
    "# get the vocabulary\n",
    "for words in train_instances:\n",
    "    wordset.update(set(words))\n",
    "\n",
    "# map words and tags into ints\n",
    "PAD = '-PAD-'\n",
    "UNK = '-UNK-'\n",
    "word2int = {word: i + 2 for i, word in enumerate(sorted(wordset))}\n",
    "word2int[PAD] = 0  # special token for padding\n",
    "word2int[UNK] = 1  # special token for unknown words\n",
    " \n",
    "label2int = {label: i for i, label in enumerate(sorted(labelset))}\n",
    "# inverted index to translate it back\n",
    "int2label = {i:label for label, i in label2int.items()}\n",
    "\n",
    "\n",
    "def convert2ints(instances):\n",
    "    \"\"\"\n",
    "    function to apply the mapping to all words\n",
    "    \"\"\"\n",
    "    result = []\n",
    "    for words in instances:\n",
    "        # replace words with int, 1 for unknown words\n",
    "        word_ints = [word2int.get(word, 1) for word in words]\n",
    "        result.append(word_ints)\n",
    "    return result\n",
    "                          \n",
    "train_instances_int = convert2ints(train_instances)\n",
    "train_labels_int = [label2int[label] for label in train_labels]"
   ]
  },
  {
   "cell_type": "code",
   "execution_count": 61,
   "metadata": {},
   "outputs": [],
   "source": [
    "test_instances = test_data[input_column].apply(str).apply(str.split)\n",
    "test_labels = test_data[target]\n",
    "\n",
    "test_instances_int = convert2ints(test_instances)\n",
    "test_labels_int = [label2int[label] for label in test_labels]\n",
    "\n",
    "# convert dev data\n",
    "# val_instances = valid_data[input_column].apply(str).apply(str.split)\n",
    "# val_labels = valid_data[target]\n",
    "\n",
    "# val_instances_int = convert2ints(val_instances)\n",
    "# val_labels_int = [label2int[label] for label in val_labels]"
   ]
  },
  {
   "cell_type": "code",
   "execution_count": 62,
   "metadata": {},
   "outputs": [
    {
     "data": {
      "text/plain": [
       "array([1., 0.], dtype=float32)"
      ]
     },
     "execution_count": 62,
     "metadata": {},
     "output_type": "execute_result"
    }
   ],
   "source": [
    "from keras.utils import to_categorical\n",
    "\n",
    "train_labels_1hot = to_categorical(train_labels_int, len(label2int))\n",
    "test_labels_1hot = to_categorical(test_labels_int, len(label2int))\n",
    "# val_labels_1hot = to_categorical(val_labels_int, len(label2int))\n",
    "\n",
    "train_labels_1hot[0]"
   ]
  },
  {
   "cell_type": "code",
   "execution_count": 63,
   "metadata": {},
   "outputs": [
    {
     "name": "stdout",
     "output_type": "stream",
     "text": [
      "67\n",
      "['know', 'video', 'north', 'tower', 'hit', 'flight', '[', 'NUM', ']', 'hd'] 10\n",
      "[4201 8334 5158 7857 3517 2884   27    2   28 3416    0    0    0    0\n",
      "    0    0    0    0    0    0    0    0    0    0    0    0    0    0\n",
      "    0    0    0    0    0    0    0    0    0    0    0    0    0    0\n",
      "    0    0    0    0    0    0    0    0    0    0    0    0    0    0\n",
      "    0    0    0    0    0    0    0    0    0    0    0] 67\n"
     ]
    }
   ],
   "source": [
    "# compute 95th percentile of training sentence lengths\n",
    "L = sorted(map(len, train_instances))\n",
    "MAX_LENGTH = L[int(len(L)*0.95)]\n",
    "print(MAX_LENGTH)\n",
    "\n",
    "# apply padding\n",
    "from tensorflow.keras.preprocessing.sequence import pad_sequences\n",
    "train_instances_int = pad_sequences(train_instances_int, padding='post', maxlen=MAX_LENGTH)\n",
    "test_instances_int = pad_sequences(test_instances_int, padding='post', maxlen=MAX_LENGTH)\n",
    "# val_instances_int = pad_sequences(val_instances_int, padding='post', maxlen=MAX_LENGTH)\n",
    "\n",
    "print(train_instances[0], len(train_instances[0]))\n",
    "print(train_instances_int[0], len(train_instances_int[0]))"
   ]
  },
  {
   "cell_type": "code",
   "execution_count": 64,
   "metadata": {},
   "outputs": [
    {
     "name": "stdout",
     "output_type": "stream",
     "text": [
      "Model: \"model_8\"\n",
      "_________________________________________________________________\n",
      " Layer (type)                Output Shape              Param #   \n",
      "=================================================================\n",
      " word_IDs (InputLayer)       [(None, 67)]              0         \n",
      "                                                                 \n",
      " embedding_8 (Embedding)     (None, 67, 128)           1126016   \n",
      "                                                                 \n",
      " conv1d_8 (Conv1D)           (None, 67, 64)            24640     \n",
      "                                                                 \n",
      " activation_8 (Activation)   (None, 67, 64)            0         \n",
      "                                                                 \n",
      " global_max_pooling1d_8 (Glo  (None, 64)               0         \n",
      " balMaxPooling1D)                                                \n",
      "                                                                 \n",
      " dropout_16 (Dropout)        (None, 64)                0         \n",
      "                                                                 \n",
      " dense_16 (Dense)            (None, 32)                2080      \n",
      "                                                                 \n",
      " dropout_17 (Dropout)        (None, 32)                0         \n",
      "                                                                 \n",
      " dense_17 (Dense)            (None, 2)                 66        \n",
      "                                                                 \n",
      "=================================================================\n",
      "Total params: 1,152,802\n",
      "Trainable params: 1,152,802\n",
      "Non-trainable params: 0\n",
      "_________________________________________________________________\n"
     ]
    }
   ],
   "source": [
    "from keras.models import Model\n",
    "from keras.layers import Input\n",
    "from keras.layers import Embedding\n",
    "from keras.layers.convolutional import Conv1D\n",
    "from keras.layers import GlobalMaxPooling1D, Dropout\n",
    "from keras.layers.core import Dense, Activation\n",
    "import numpy as np\n",
    "\n",
    "# make it repeatable\n",
    "np.random.seed(42)\n",
    "\n",
    "# set parameters of matrices and convolution\n",
    "embedding_dim = 128\n",
    "nb_filter = 64\n",
    "filter_length = 3\n",
    "hidden_dims = 32\n",
    "stride_length = 1\n",
    "\n",
    "inputs = Input((MAX_LENGTH, ), \n",
    "               name='word_IDs')\n",
    "embeddings = Embedding(len(word2int), \n",
    "                       embedding_dim, \n",
    "                       input_length=MAX_LENGTH)(inputs)\n",
    "convolution = Conv1D(filters=nb_filter,  # Number of filters to use\n",
    "                    kernel_size=filter_length, # n-gram range of each filter.\n",
    "                    padding='same',  #valid: don't go off edge; same: use padding before applying filter\n",
    "                    activation='relu',\n",
    "                    strides=stride_length)(embeddings)\n",
    "convolution2 = Activation(activation='tanh')(convolution)\n",
    "pooling = GlobalMaxPooling1D()(convolution2)\n",
    "dropout1 = Dropout(0.2)(pooling)\n",
    "dense = Dense(hidden_dims, activation='relu')(dropout1)\n",
    "dropout2 = Dropout(0.2)(dense)\n",
    "output = Dense(len(label2int), activation='softmax')(dropout2)\n",
    "\n",
    "model = Model(inputs=[inputs], outputs=[output])\n",
    "model.compile(optimizer='adam',\n",
    "              loss='categorical_crossentropy',\n",
    "              metrics=['accuracy', 'AUC'])\n",
    "\n",
    "# get alist of all the layers and their size\n",
    "model.summary()"
   ]
  },
  {
   "cell_type": "code",
   "execution_count": 65,
   "metadata": {},
   "outputs": [
    {
     "name": "stdout",
     "output_type": "stream",
     "text": [
      "Epoch 1/8\n",
      "46/46 [==============================] - 3s 20ms/step - loss: 0.5881 - accuracy: 0.7390 - auc: 0.8297\n",
      "Epoch 2/8\n",
      "46/46 [==============================] - 1s 20ms/step - loss: 0.2087 - accuracy: 0.9330 - auc: 0.9768\n",
      "Epoch 3/8\n",
      "46/46 [==============================] - 1s 21ms/step - loss: 0.0900 - accuracy: 0.9752 - auc: 0.9918\n",
      "Epoch 4/8\n",
      "46/46 [==============================] - 1s 21ms/step - loss: 0.0484 - accuracy: 0.9908 - auc: 0.9970\n",
      "Epoch 5/8\n",
      "46/46 [==============================] - 1s 21ms/step - loss: 0.0295 - accuracy: 0.9939 - auc: 0.9989\n",
      "Epoch 6/8\n",
      "46/46 [==============================] - 1s 21ms/step - loss: 0.0241 - accuracy: 0.9949 - auc: 0.9984\n",
      "Epoch 7/8\n",
      "46/46 [==============================] - 1s 21ms/step - loss: 0.0123 - accuracy: 0.9969 - auc: 0.9995\n",
      "Epoch 8/8\n",
      "46/46 [==============================] - 1s 22ms/step - loss: 0.0089 - accuracy: 0.9990 - auc: 0.9996\n",
      "\n",
      "Testing AUC:  0.9826\n"
     ]
    }
   ],
   "source": [
    "# batch size can have a huge effect on performance!\n",
    "batch_size = 64\n",
    "epochs = 8\n",
    "\n",
    "history = model.fit(train_instances_int, train_labels_1hot,\n",
    "                    batch_size=batch_size,\n",
    "                    epochs=epochs,\n",
    "                    verbose=1,\n",
    "                    )\n",
    "                   \n",
    "# validation_data=(val_instances_int, val_labels_1hot\n",
    "loss, accuracy, auc = model.evaluate(test_instances_int, test_labels_1hot,\n",
    "                                batch_size=batch_size,\n",
    "                                verbose=False)\n",
    "\n",
    "print(\"\\nTesting AUC:  {:.4f}\".format(auc))"
   ]
  },
  {
   "cell_type": "code",
   "execution_count": 66,
   "metadata": {},
   "outputs": [
    {
     "name": "stdout",
     "output_type": "stream",
     "text": [
      "86/86 [==============================] - 1s 4ms/step\n"
     ]
    }
   ],
   "source": [
    "results = model.predict(test_instances_int)"
   ]
  },
  {
   "cell_type": "code",
   "execution_count": 11,
   "metadata": {},
   "outputs": [],
   "source": [
    "import numpy as np\n",
    "import matplotlib.pyplot as plt\n",
    "from itertools import cycle\n",
    "import seaborn as sns\n",
    "from sklearn import svm, datasets, metrics\n",
    "from sklearn.metrics import roc_curve, auc\n",
    "from sklearn.model_selection import train_test_split\n",
    "from sklearn.preprocessing import label_binarize\n",
    "from sklearn.multiclass import OneVsRestClassifier\n",
    "from sklearn.metrics import roc_auc_score\n"
   ]
  },
  {
   "cell_type": "code",
   "execution_count": 12,
   "metadata": {},
   "outputs": [],
   "source": [
    "def calc_roc_curve(y_test, y_score):\n",
    "    n_classes = y_test.shape[1]\n",
    "    # Compute ROC curve and ROC area for each class\n",
    "    fpr = dict()\n",
    "    tpr = dict()\n",
    "    roc_auc = dict()\n",
    "    for i in range(n_classes):\n",
    "        fpr[i], tpr[i], _ = roc_curve(y_test[:, i], y_score[:, i])\n",
    "        roc_auc[i] = metrics.auc(fpr[i], tpr[i])\n",
    "\n",
    "    # Compute micro-average ROC curve and ROC area\n",
    "    fpr[\"micro\"], tpr[\"micro\"], _ = roc_curve(y_test.ravel(), y_score.ravel())\n",
    "    roc_auc[\"micro\"] = metrics.auc(fpr[\"micro\"], tpr[\"micro\"])\n",
    "    lw = 2\n",
    "\n",
    "    # First aggregate all false positive rates\n",
    "    all_fpr = np.unique(np.concatenate([fpr[i] for i in range(n_classes)]))\n",
    "\n",
    "    # Then interpolate all ROC curves at this points\n",
    "    mean_tpr = np.zeros_like(all_fpr)\n",
    "    for i in range(n_classes):\n",
    "        mean_tpr += np.interp(all_fpr, fpr[i], tpr[i])\n",
    "\n",
    "    # Finally average it and compute AUC\n",
    "    mean_tpr /= n_classes\n",
    "\n",
    "    fpr[\"macro\"] = all_fpr\n",
    "    tpr[\"macro\"] = mean_tpr\n",
    "    roc_auc[\"macro\"] = metrics.auc(fpr[\"macro\"], tpr[\"macro\"])\n",
    "\n",
    "   \n",
    "    return fpr, tpr, roc_auc, n_classes"
   ]
  },
  {
   "cell_type": "code",
   "execution_count": 13,
   "metadata": {},
   "outputs": [],
   "source": [
    "def plot_results_b(y_test, y_pred, model, perf_class, classifier=\"2\"):\n",
    "    if classifier == \"1\":\n",
    "        labels = {0: \"Non-Covid\", 1: \"Covid\"}\n",
    "    elif classifier == \"2\":\n",
    "        labels = {0: \"Anti-Vaccine\", 1: \"Neutral\", 2: \"Pro-Vaccine\"}\n",
    "    fig = plt.figure(f\"{model} Performance Evaluation\", figsize=(8, 8))\n",
    "    # Create a gridspec for adding subplots of different sizes\n",
    "    axgrid = fig.add_gridspec(5, 4)\n",
    "    font = {\"weight\": \"bold\"}\n",
    "    fpr, tpr, roc_auc, n_classes = calc_roc_curve(y_test, y_pred)\n",
    "    ax0 = fig.add_subplot(axgrid[0:3, :])\n",
    "\n",
    "    ax0.set_title(f\"Receiver Operating Characteristic (ROC) Curve for {model}\", fontdict=font)\n",
    "     # Plot all ROC curves\n",
    "    # ax0.figure(figsize=(3,3))\n",
    "    # ax0.figure(dpi=600)\n",
    "    lw = 2\n",
    "\n",
    "     # Plot all ROC curves\n",
    "    ax0.plot(\n",
    "        fpr[\"micro\"],\n",
    "        tpr[\"micro\"],\n",
    "        label=\"micro-average ROC curve (area = {0:0.2f})\".format(roc_auc[\"micro\"]),\n",
    "        color=\"deeppink\",\n",
    "        linestyle=\":\",\n",
    "        linewidth=4,\n",
    "    )\n",
    "\n",
    "    ax0.plot(\n",
    "        fpr[\"macro\"],\n",
    "        tpr[\"macro\"],\n",
    "        label=\"macro-average ROC curve (area = {0:0.2f})\".format(roc_auc[\"macro\"]),\n",
    "        color=\"navy\",\n",
    "        linestyle=\":\",\n",
    "        linewidth=4,\n",
    "    )\n",
    "\n",
    "    colors = cycle([\"aqua\", \"darkorange\", \"cornflowerblue\"])\n",
    "    for i, color in zip(range(n_classes), colors):\n",
    "        ax0.plot(\n",
    "            fpr[i],\n",
    "            tpr[i],\n",
    "            color=color,\n",
    "            lw=lw,\n",
    "            label=\"ROC curve of class {0} (area = {1:0.2f})\".format(labels[i], roc_auc[i]),\n",
    "        )\n",
    "\n",
    "    ax0.plot([0, 1], [0, 1], \"k--\", lw=lw)\n",
    "    ax0.set_xlim([0.0, 1.0])\n",
    "    ax0.set_ylim([0.0, 1.05])\n",
    "    ax0.set_xlabel(\"False Positive Rate\")\n",
    "    ax0.set_ylabel(\"True Positive Rate\")\n",
    "   \n",
    "    ax0.legend(loc=\"lower right\")\n",
    "\n",
    "    ax1 = fig.add_subplot(axgrid[3:, :2])\n",
    "    ax1.set_title(\"Confusion Matrics\", fontdict=font)\n",
    "    y_score_max = (y_pred == y_pred.max(axis=1)[:,None]).astype(int)\n",
    "    y_score_label = np.argmax(y_score_max, axis=1)\n",
    "    y_test_label = np.argmax(y_test, axis=1)\n",
    "    df = pd.DataFrame(metrics.confusion_matrix(y_test_label, y_score_label))\n",
    "    df2 = df.div(df.sum(axis=1), axis=0)\n",
    "    ax1 = sns.heatmap(df2, annot=True)\n",
    "    ax1.set(xlabel='Predicted', ylabel='Actual', xticklabels=labels.values(), yticklabels=labels.values())\n",
    "    ax1.set_title(\"Confusion matrix\", fontdict=font)\n",
    "\n",
    "    ax2 = fig.add_subplot(axgrid[3:, 2:])\n",
    "    acc = metrics.accuracy_score(y_test_label, y_score_label)\n",
    "    f1 = metrics.f1_score(y_test_label, y_score_label, average='macro')\n",
    "    roc_auc_m = metrics.roc_auc_score(y_test, y_score_max, multi_class='ovo')\n",
    "    ax2.set_title(\"Performance Metrics\", fontdict=font )\n",
    "    ax2.text(0.23, 0.85, f\"Model: {model}\", fontdict=font)\n",
    "    ax2.text(0.23, 0.75, f\"Model Type: {perf_class}\")\n",
    "    ax2.text(0.18, 0.68, \"--------------------------------------------------\")\n",
    "    ax2.text(0.23, 0.6, f\"Accuracy is {round(acc, 3)}\")\n",
    "    ax2.text(0.23, 0.5, f\"F1 is {round(f1,3)}\")\n",
    "    ax2.text(0.23, 0.4, f\"ROC-AUC is {round(roc_auc_m, 3)}\")\n",
    "    ax2.text(0.18, 0.33, \"---------------------------------------------------\")\n",
    "    # ax2.text(0.23, 0.25, \"Label Legend: \", fontdict=font )\n",
    "    \n",
    "    # ax2.text(0.23, 0.15, \"Class 0: Anti-Vaccine\")\n",
    "    # ax2.text(0.23, 0.05, \"Class 1: Neutral / Noise\")\n",
    "    # ax2.text(0.23, -0.05, \"Class 2: Pro-Vaccine\")\n",
    "  \n",
    "    ax2.set_axis_off()\n",
    "\n",
    "    fig.tight_layout()\n",
    "    plt.show()"
   ]
  },
  {
   "cell_type": "code",
   "execution_count": 67,
   "metadata": {},
   "outputs": [
    {
     "data": {
      "image/png": "[encoded data removed]",
      "text/plain": [
       "<Figure size 576x576 with 4 Axes>"
      ]
     },
     "metadata": {
      "needs_background": "light"
     },
     "output_type": "display_data"
    }
   ],
   "source": [
    "plot_results_b(test_labels_1hot, results, \"CNN\", \"NN\", classifier=\"1\")"
   ]
  },
  {
   "cell_type": "code",
   "execution_count": 68,
   "metadata": {},
   "outputs": [
    {
     "data": {
      "text/plain": [
       "array([[9.9830925e-01, 1.6906873e-03],\n",
       "       [9.9935228e-01, 6.4768613e-04],\n",
       "       [2.3481516e-06, 9.9999762e-01],\n",
       "       ...,\n",
       "       [9.9861991e-01, 1.3800543e-03],\n",
       "       [9.9769235e-01, 2.3077347e-03],\n",
       "       [9.9918920e-01, 8.1077311e-04]], dtype=float32)"
      ]
     },
     "execution_count": 68,
     "metadata": {},
     "output_type": "execute_result"
    }
   ],
   "source": [
    "results"
   ]
  },
  {
   "cell_type": "code",
   "execution_count": 58,
   "metadata": {},
   "outputs": [
    {
     "data": {
      "image/png": "[encoded data removed]",
      "text/plain": [
       "<Figure size 576x576 with 4 Axes>"
      ]
     },
     "metadata": {
      "needs_background": "light"
     },
     "output_type": "display_data"
    }
   ],
   "source": [
    "plot_results_b(test_labels_1hot, results, \"CNN\", \"NN\", classifier=\"2\")"
   ]
  },
  {
   "cell_type": "code",
   "execution_count": 64,
   "metadata": {},
   "outputs": [],
   "source": [
    "results_max = (results == results.max(axis=1)[:,None]).astype(int)\n",
    "results_label = np.argmax(results_max, axis=1)"
   ]
  },
  {
   "cell_type": "code",
   "execution_count": 70,
   "metadata": {},
   "outputs": [],
   "source": [
    "test_data_w = pd.concat([test_data, pd.Series(results_label)], axis=1)"
   ]
  },
  {
   "cell_type": "code",
   "execution_count": 76,
   "metadata": {},
   "outputs": [],
   "source": [
    "test_data_w.rename(columns={0: \"Predicted\"}, inplace=True)"
   ]
  },
  {
   "cell_type": "code",
   "execution_count": 77,
   "metadata": {},
   "outputs": [
    {
     "data": {
      "text/plain": [
       "Index(['id', 'text', 'url', 'score', 'title', 'author', 'selftext',\n",
       "       'permalink', 'subreddit', 'created_utc', 'num_comments', 'label',\n",
       "       'Comments', 'cleanText', 'Predicted'],\n",
       "      dtype='object')"
      ]
     },
     "execution_count": 77,
     "metadata": {},
     "output_type": "execute_result"
    }
   ],
   "source": [
    "test_data_w.columns"
   ]
  },
  {
   "cell_type": "code",
   "execution_count": 79,
   "metadata": {},
   "outputs": [],
   "source": [
    "wrong = test_data_w[test_data_w[\"Predicted\"] != test_data_w[\"label\"]]"
   ]
  },
  {
   "cell_type": "code",
   "execution_count": null,
   "metadata": {},
   "outputs": [],
   "source": [
    "wrong "
   ]
  },
  {
   "cell_type": "code",
   "execution_count": 74,
   "metadata": {},
   "outputs": [],
   "source": [
    "model.save('../../../Files/models/CNN8-64.h5')"
   ]
  },
  {
   "cell_type": "code",
   "execution_count": 135,
   "metadata": {},
   "outputs": [],
   "source": [
    "results.tofile('../../../Files/models/cnn_C1_results.txt', sep=' ')"
   ]
  }
 ],
 "metadata": {
  "kernelspec": {
   "display_name": "Python 3.9.12 ('reddit_env_test')",
   "language": "python",
   "name": "python3"
  },
  "language_info": {
   "codemirror_mode": {
    "name": "ipython",
    "version": 3
   },
   "file_extension": ".py",
   "mimetype": "text/x-python",
   "name": "python",
   "nbconvert_exporter": "python",
   "pygments_lexer": "ipython3",
   "version": "3.9.12"
  },
  "orig_nbformat": 4,
  "vscode": {
   "interpreter": {
    "hash": "6c5bfe69c2b2d435baea75ee1a7865fc7666bb526179204de658e4f2811cb086"
   }
  }
 },
 "nbformat": 4,
 "nbformat_minor": 2
}
