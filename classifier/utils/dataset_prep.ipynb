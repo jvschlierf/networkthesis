{
 "cells": [
  {
   "cell_type": "code",
   "execution_count": 127,
   "metadata": {},
   "outputs": [],
   "source": [
    "import pandas as pd \n",
    "import numpy as np\n",
    "import sklearn as skl\n",
    "import datasets\n",
    "from sklearn.model_selection import train_test_split\n",
    "import os\n",
    "import matplotlib.pyplot as plt"
   ]
  },
  {
   "cell_type": "markdown",
   "metadata": {},
   "source": [
    "## Create Train / Validate / Test Set"
   ]
  },
  {
   "cell_type": "markdown",
   "metadata": {},
   "source": [
    "### Submissions"
   ]
  },
  {
   "cell_type": "code",
   "execution_count": 66,
   "metadata": {},
   "outputs": [],
   "source": [
    "#OLD (BERT BASE CASED): 1 is anti vaccine, 2 is pro vaccine, 0 is noise\n",
    "# NEW (ROBERTA): 0 is anti vaccine, 1 is noise, 2 is pro vaccine\n",
    "train_anti_label = {\n",
    "    'CovidIsACult' : 0, \n",
    "    'covidskepticscanada': 0, \n",
    "    'FUCKCHINAVIRUS' : 0, \n",
    "    'ParentingWithoutFear': 0, \n",
    "    'TrueAntiVaccination': 0, \n",
    "    'vaccinesideeffects' : 0, \n",
    "    'vacci_nation' : 0, \n",
    "    'NoNewNormal': 0,\n",
    "}\n",
    "train_pro_label = {\n",
    "    'CoronaVaccines' : 2, \n",
    "    'CovidVaccinated' : 2, \n",
    "    'VACCINES': 2, \n",
    "\n",
    "}\n",
    "\n",
    "noise_label = {\n",
    "    'aww': 1, \n",
    "    'KidsAreFuckingStupid': 1, \n",
    "    'natureismetal': 1, \n",
    "}\n"
   ]
  },
  {
   "cell_type": "code",
   "execution_count": 67,
   "metadata": {},
   "outputs": [
    {
     "name": "stdout",
     "output_type": "stream",
     "text": [
      "CovidIsACult 115\n",
      "covidskepticscanada 3062\n",
      "FUCKCHINAVIRUS 171\n",
      "ParentingWithoutFear 216\n",
      "TrueAntiVaccination 4394\n",
      "vaccinesideeffects 467\n",
      "vacci_nation 1899\n",
      "NoNewNormal 109292\n"
     ]
    }
   ],
   "source": [
    "df = pd.DataFrame()\n",
    "for key in train_anti_label:\n",
    "    temp = pd.read_pickle(os.path.join('../../../Files/Submissions/train/'+key+'.pickle'))\n",
    "    print(key, len(temp))\n",
    "    df = pd.concat([df, temp])\n",
    "\n",
    "df['label'] = df.subreddit.map(train_anti_label)"
   ]
  },
  {
   "cell_type": "code",
   "execution_count": 68,
   "metadata": {},
   "outputs": [
    {
     "name": "stdout",
     "output_type": "stream",
     "text": [
      "CoronaVaccines 307\n",
      "CovidVaccinated 26721\n",
      "VACCINES 4236\n"
     ]
    }
   ],
   "source": [
    "df2 = pd.DataFrame()\n",
    "for key in train_pro_label:\n",
    "    temp = pd.read_pickle(os.path.join('../../../Files/Submissions/train/'+key+'.pickle'))\n",
    "    print(key, len(temp))\n",
    "    df2 = pd.concat([df2, temp])\n",
    "\n",
    "df2['label'] = df2.subreddit.map(train_pro_label)"
   ]
  },
  {
   "cell_type": "code",
   "execution_count": 69,
   "metadata": {},
   "outputs": [
    {
     "name": "stdout",
     "output_type": "stream",
     "text": [
      "aww 1251041\n",
      "KidsAreFuckingStupid 52807\n",
      "natureismetal 37221\n"
     ]
    }
   ],
   "source": [
    "df3 = pd.DataFrame()\n",
    "for key in noise_label:\n",
    "    temp = pd.read_pickle(os.path.join('../../../Files/Submissions/train/'+key+'.pickle'))\n",
    "    print(key, len(temp))\n",
    "    df3 = pd.concat([df3, temp])\n",
    "\n",
    "df3['label'] = df3.subreddit.map(noise_label)"
   ]
  },
  {
   "cell_type": "code",
   "execution_count": 70,
   "metadata": {},
   "outputs": [
    {
     "name": "stdout",
     "output_type": "stream",
     "text": [
      "119616 31264 1341069\n"
     ]
    }
   ],
   "source": [
    "print(len(df), len(df2), len(df3))"
   ]
  },
  {
   "cell_type": "code",
   "execution_count": 71,
   "metadata": {},
   "outputs": [],
   "source": [
    "\n",
    "anti_train = df.sample(n=23000, random_state=42)\n",
    "pro_train = df2.sample(n=23000, random_state=42)\n",
    "noise_train = df3.sample(n=23000 , random_state = 42)"
   ]
  },
  {
   "cell_type": "code",
   "execution_count": 72,
   "metadata": {},
   "outputs": [],
   "source": [
    "anti_temp = pd.concat([df, anti_train, anti_train]).drop_duplicates(keep=False)\n",
    "pro_temp = pd.concat([df2, pro_train, pro_train]).drop_duplicates(keep=False)\n",
    "noise_temp = pd.concat([df3, noise_train, noise_train]).drop_duplicates(keep=False)"
   ]
  },
  {
   "cell_type": "code",
   "execution_count": 73,
   "metadata": {},
   "outputs": [],
   "source": [
    "train = pd.concat([anti_train, pro_train, noise_train]).sample(frac=1).reset_index(drop=True) #merge and shuffle"
   ]
  },
  {
   "cell_type": "code",
   "execution_count": 74,
   "metadata": {},
   "outputs": [],
   "source": [
    "anti_val = anti_temp.sample(n=6000, random_state=42)\n",
    "pro_val = pro_temp.sample(n=3200, random_state=42)\n",
    "noise_val = noise_temp.sample(n=6000, random_state=42)"
   ]
  },
  {
   "cell_type": "code",
   "execution_count": 75,
   "metadata": {},
   "outputs": [],
   "source": [
    "valid = pd.concat([anti_val, pro_val, noise_val]).sample(frac=1).reset_index(drop=True)"
   ]
  },
  {
   "cell_type": "code",
   "execution_count": 76,
   "metadata": {},
   "outputs": [],
   "source": [
    "anti_test = pd.concat([anti_temp, anti_val, anti_val]).drop_duplicates(keep=False)\n",
    "pro_test = pd.concat([pro_temp, pro_val, pro_val]).drop_duplicates(keep=False)\n",
    "noise_test = pd.concat([noise_temp, noise_val, noise_val]).drop_duplicates(keep=False)"
   ]
  },
  {
   "cell_type": "code",
   "execution_count": 77,
   "metadata": {},
   "outputs": [],
   "source": [
    "test = pd.concat([anti_test, pro_test, noise_test]).sample(frac=1).reset_index(drop=True)"
   ]
  },
  {
   "cell_type": "code",
   "execution_count": 78,
   "metadata": {},
   "outputs": [
    {
     "name": "stdout",
     "output_type": "stream",
     "text": [
      "69000 15200 1407749\n"
     ]
    }
   ],
   "source": [
    "print(len(train), len(valid), len(test))"
   ]
  },
  {
   "cell_type": "code",
   "execution_count": 80,
   "metadata": {},
   "outputs": [],
   "source": [
    "train['text'] = train['title'] + ' ' + train['selftext']\n",
    "valid['text'] = valid['title'] + ' ' + valid['selftext']\n",
    "test['text'] = test['title'] + ' ' + test['selftext']"
   ]
  },
  {
   "cell_type": "code",
   "execution_count": 15,
   "metadata": {},
   "outputs": [],
   "source": [
    "train.drop('selftext', inplace=True, axis=1)\n",
    "valid.drop('selftext', inplace=True, axis=1)\n",
    "test.drop('selftext', inplace=True, axis=1)\n"
   ]
  },
  {
   "cell_type": "code",
   "execution_count": 16,
   "metadata": {},
   "outputs": [
    {
     "data": {
      "text/html": [
       "<div>\n",
       "<style scoped>\n",
       "    .dataframe tbody tr th:only-of-type {\n",
       "        vertical-align: middle;\n",
       "    }\n",
       "\n",
       "    .dataframe tbody tr th {\n",
       "        vertical-align: top;\n",
       "    }\n",
       "\n",
       "    .dataframe thead th {\n",
       "        text-align: right;\n",
       "    }\n",
       "</style>\n",
       "<table border=\"1\" class=\"dataframe\">\n",
       "  <thead>\n",
       "    <tr style=\"text-align: right;\">\n",
       "      <th></th>\n",
       "      <th>author</th>\n",
       "      <th>created_utc</th>\n",
       "      <th>id</th>\n",
       "      <th>num_comments</th>\n",
       "      <th>permalink</th>\n",
       "      <th>score</th>\n",
       "      <th>subreddit</th>\n",
       "      <th>title</th>\n",
       "      <th>url</th>\n",
       "    </tr>\n",
       "    <tr>\n",
       "      <th>label</th>\n",
       "      <th></th>\n",
       "      <th></th>\n",
       "      <th></th>\n",
       "      <th></th>\n",
       "      <th></th>\n",
       "      <th></th>\n",
       "      <th></th>\n",
       "      <th></th>\n",
       "      <th></th>\n",
       "    </tr>\n",
       "  </thead>\n",
       "  <tbody>\n",
       "    <tr>\n",
       "      <th>0</th>\n",
       "      <td>23000</td>\n",
       "      <td>23000</td>\n",
       "      <td>23000</td>\n",
       "      <td>23000</td>\n",
       "      <td>23000</td>\n",
       "      <td>23000</td>\n",
       "      <td>23000</td>\n",
       "      <td>23000</td>\n",
       "      <td>23000</td>\n",
       "    </tr>\n",
       "    <tr>\n",
       "      <th>1</th>\n",
       "      <td>23000</td>\n",
       "      <td>23000</td>\n",
       "      <td>23000</td>\n",
       "      <td>23000</td>\n",
       "      <td>23000</td>\n",
       "      <td>23000</td>\n",
       "      <td>23000</td>\n",
       "      <td>23000</td>\n",
       "      <td>23000</td>\n",
       "    </tr>\n",
       "    <tr>\n",
       "      <th>2</th>\n",
       "      <td>23000</td>\n",
       "      <td>23000</td>\n",
       "      <td>23000</td>\n",
       "      <td>23000</td>\n",
       "      <td>23000</td>\n",
       "      <td>23000</td>\n",
       "      <td>23000</td>\n",
       "      <td>23000</td>\n",
       "      <td>23000</td>\n",
       "    </tr>\n",
       "  </tbody>\n",
       "</table>\n",
       "</div>"
      ],
      "text/plain": [
       "       author  created_utc     id  num_comments  permalink  score  subreddit  \\\n",
       "label                                                                          \n",
       "0       23000        23000  23000         23000      23000  23000      23000   \n",
       "1       23000        23000  23000         23000      23000  23000      23000   \n",
       "2       23000        23000  23000         23000      23000  23000      23000   \n",
       "\n",
       "       title    url  \n",
       "label                \n",
       "0      23000  23000  \n",
       "1      23000  23000  \n",
       "2      23000  23000  "
      ]
     },
     "execution_count": 16,
     "metadata": {},
     "output_type": "execute_result"
    }
   ],
   "source": [
    "train.groupby(by='label').count()"
   ]
  },
  {
   "cell_type": "code",
   "execution_count": 17,
   "metadata": {},
   "outputs": [
    {
     "data": {
      "text/html": [
       "<div>\n",
       "<style scoped>\n",
       "    .dataframe tbody tr th:only-of-type {\n",
       "        vertical-align: middle;\n",
       "    }\n",
       "\n",
       "    .dataframe tbody tr th {\n",
       "        vertical-align: top;\n",
       "    }\n",
       "\n",
       "    .dataframe thead th {\n",
       "        text-align: right;\n",
       "    }\n",
       "</style>\n",
       "<table border=\"1\" class=\"dataframe\">\n",
       "  <thead>\n",
       "    <tr style=\"text-align: right;\">\n",
       "      <th></th>\n",
       "      <th>author</th>\n",
       "      <th>created_utc</th>\n",
       "      <th>id</th>\n",
       "      <th>num_comments</th>\n",
       "      <th>permalink</th>\n",
       "      <th>score</th>\n",
       "      <th>subreddit</th>\n",
       "      <th>title</th>\n",
       "      <th>url</th>\n",
       "    </tr>\n",
       "    <tr>\n",
       "      <th>label</th>\n",
       "      <th></th>\n",
       "      <th></th>\n",
       "      <th></th>\n",
       "      <th></th>\n",
       "      <th></th>\n",
       "      <th></th>\n",
       "      <th></th>\n",
       "      <th></th>\n",
       "      <th></th>\n",
       "    </tr>\n",
       "  </thead>\n",
       "  <tbody>\n",
       "    <tr>\n",
       "      <th>0</th>\n",
       "      <td>6000</td>\n",
       "      <td>6000</td>\n",
       "      <td>6000</td>\n",
       "      <td>6000</td>\n",
       "      <td>6000</td>\n",
       "      <td>6000</td>\n",
       "      <td>6000</td>\n",
       "      <td>6000</td>\n",
       "      <td>6000</td>\n",
       "    </tr>\n",
       "    <tr>\n",
       "      <th>1</th>\n",
       "      <td>6000</td>\n",
       "      <td>6000</td>\n",
       "      <td>6000</td>\n",
       "      <td>6000</td>\n",
       "      <td>6000</td>\n",
       "      <td>6000</td>\n",
       "      <td>6000</td>\n",
       "      <td>6000</td>\n",
       "      <td>6000</td>\n",
       "    </tr>\n",
       "    <tr>\n",
       "      <th>2</th>\n",
       "      <td>3200</td>\n",
       "      <td>3200</td>\n",
       "      <td>3200</td>\n",
       "      <td>3200</td>\n",
       "      <td>3200</td>\n",
       "      <td>3200</td>\n",
       "      <td>3200</td>\n",
       "      <td>3200</td>\n",
       "      <td>3200</td>\n",
       "    </tr>\n",
       "  </tbody>\n",
       "</table>\n",
       "</div>"
      ],
      "text/plain": [
       "       author  created_utc    id  num_comments  permalink  score  subreddit  \\\n",
       "label                                                                         \n",
       "0        6000         6000  6000          6000       6000   6000       6000   \n",
       "1        6000         6000  6000          6000       6000   6000       6000   \n",
       "2        3200         3200  3200          3200       3200   3200       3200   \n",
       "\n",
       "       title   url  \n",
       "label               \n",
       "0       6000  6000  \n",
       "1       6000  6000  \n",
       "2       3200  3200  "
      ]
     },
     "execution_count": 17,
     "metadata": {},
     "output_type": "execute_result"
    }
   ],
   "source": [
    "valid.groupby(by='label').count()"
   ]
  },
  {
   "cell_type": "code",
   "execution_count": 18,
   "metadata": {},
   "outputs": [
    {
     "data": {
      "text/html": [
       "<div>\n",
       "<style scoped>\n",
       "    .dataframe tbody tr th:only-of-type {\n",
       "        vertical-align: middle;\n",
       "    }\n",
       "\n",
       "    .dataframe tbody tr th {\n",
       "        vertical-align: top;\n",
       "    }\n",
       "\n",
       "    .dataframe thead th {\n",
       "        text-align: right;\n",
       "    }\n",
       "</style>\n",
       "<table border=\"1\" class=\"dataframe\">\n",
       "  <thead>\n",
       "    <tr style=\"text-align: right;\">\n",
       "      <th></th>\n",
       "      <th>author</th>\n",
       "      <th>created_utc</th>\n",
       "      <th>id</th>\n",
       "      <th>num_comments</th>\n",
       "      <th>permalink</th>\n",
       "      <th>score</th>\n",
       "      <th>subreddit</th>\n",
       "      <th>title</th>\n",
       "      <th>url</th>\n",
       "    </tr>\n",
       "    <tr>\n",
       "      <th>label</th>\n",
       "      <th></th>\n",
       "      <th></th>\n",
       "      <th></th>\n",
       "      <th></th>\n",
       "      <th></th>\n",
       "      <th></th>\n",
       "      <th></th>\n",
       "      <th></th>\n",
       "      <th></th>\n",
       "    </tr>\n",
       "  </thead>\n",
       "  <tbody>\n",
       "    <tr>\n",
       "      <th>0</th>\n",
       "      <td>1312069</td>\n",
       "      <td>1312069</td>\n",
       "      <td>1312069</td>\n",
       "      <td>1312069</td>\n",
       "      <td>1312069</td>\n",
       "      <td>1312069</td>\n",
       "      <td>1312069</td>\n",
       "      <td>1312069</td>\n",
       "      <td>1312069</td>\n",
       "    </tr>\n",
       "    <tr>\n",
       "      <th>1</th>\n",
       "      <td>90616</td>\n",
       "      <td>90616</td>\n",
       "      <td>90616</td>\n",
       "      <td>90616</td>\n",
       "      <td>90616</td>\n",
       "      <td>90616</td>\n",
       "      <td>90616</td>\n",
       "      <td>90616</td>\n",
       "      <td>90616</td>\n",
       "    </tr>\n",
       "    <tr>\n",
       "      <th>2</th>\n",
       "      <td>5789</td>\n",
       "      <td>5789</td>\n",
       "      <td>5789</td>\n",
       "      <td>5789</td>\n",
       "      <td>5789</td>\n",
       "      <td>5789</td>\n",
       "      <td>5789</td>\n",
       "      <td>5789</td>\n",
       "      <td>5789</td>\n",
       "    </tr>\n",
       "  </tbody>\n",
       "</table>\n",
       "</div>"
      ],
      "text/plain": [
       "        author  created_utc       id  num_comments  permalink    score  \\\n",
       "label                                                                    \n",
       "0      1312069      1312069  1312069       1312069    1312069  1312069   \n",
       "1        90616        90616    90616         90616      90616    90616   \n",
       "2         5789         5789     5789          5789       5789     5789   \n",
       "\n",
       "       subreddit    title      url  \n",
       "label                               \n",
       "0        1312069  1312069  1312069  \n",
       "1          90616    90616    90616  \n",
       "2           5789     5789     5789  "
      ]
     },
     "execution_count": 18,
     "metadata": {},
     "output_type": "execute_result"
    }
   ],
   "source": [
    "test.groupby(by='label').count()"
   ]
  },
  {
   "cell_type": "code",
   "execution_count": 81,
   "metadata": {},
   "outputs": [
    {
     "data": {
      "text/plain": [
       "aww                     21529\n",
       "NoNewNormal             20957\n",
       "CovidVaccinated         19707\n",
       "VACCINES                 3073\n",
       "TrueAntiVaccination       872\n",
       "KidsAreFuckingStupid      872\n",
       "covidskepticscanada       630\n",
       "natureismetal             599\n",
       "vacci_nation              366\n",
       "CoronaVaccines            220\n",
       "vaccinesideeffects         85\n",
       "FUCKCHINAVIRUS             38\n",
       "ParentingWithoutFear       36\n",
       "CovidIsACult               16\n",
       "Name: subreddit, dtype: int64"
      ]
     },
     "execution_count": 81,
     "metadata": {},
     "output_type": "execute_result"
    }
   ],
   "source": [
    "train['subreddit'].value_counts()"
   ]
  },
  {
   "cell_type": "markdown",
   "metadata": {},
   "source": [
    "## Comments"
   ]
  },
  {
   "cell_type": "code",
   "execution_count": 93,
   "metadata": {},
   "outputs": [],
   "source": [
    "#OLD (BERT BASE CASED): 1 is anti vaccine, 2 is pro vaccine, 0 is noise\n",
    "# NEW (ROBERTA): 0 is anti vaccine, 1 is noise, 2 is pro vaccine\n",
    "train_anti_label = {\n",
    "    'CovidIsACult' : 0, \n",
    "    'covidskepticscanada': 0, \n",
    "    'FUCKCHINAVIRUS' : 0, \n",
    "    'ParentingWithoutFear': 0, \n",
    "    'TrueAntiVaccination': 0, \n",
    "    'vaccinesideeffects' : 0, \n",
    "    'vacci_nation' : 0, \n",
    "}\n",
    "train_pro_label = {\n",
    "    'CoronaVaccines' : 2, \n",
    "    'VACCINES': 2, \n",
    "\n",
    "}\n",
    "\n",
    "noise_label = {\n",
    "    'aww': 1, \n",
    "    'KidsAreFuckingStupid': 1, \n",
    "    'natureismetal': 1, \n",
    "}"
   ]
  },
  {
   "cell_type": "markdown",
   "metadata": {},
   "source": [
    "### Merge Files for which 24 months were not be able to be downloaded (for valid reasons)"
   ]
  },
  {
   "cell_type": "code",
   "execution_count": 39,
   "metadata": {},
   "outputs": [
    {
     "name": "stdout",
     "output_type": "stream",
     "text": [
      "1583017200 2020-03-01 00:00:00\n",
      "1585753050.0 2020-04-01 16:57:30\n",
      "1588488900.0 2020-05-03 08:55:00\n",
      "1591224750.0 2020-06-04 00:52:30\n",
      "1593960600.0 2020-07-05 16:50:00\n",
      "1596696450.0 2020-08-06 08:47:30\n",
      "1599432300.0 2020-09-07 00:45:00\n",
      "1602168150.0 2020-10-08 16:42:30\n",
      "1604904000.0 2020-11-09 07:40:00\n",
      "1607639850.0 2020-12-10 23:37:30\n",
      "1610375700.0 2021-01-11 15:35:00\n",
      "1613111550.0 2021-02-12 07:32:30\n",
      "1615847400.0 2021-03-15 23:30:00\n",
      "1618583250.0 2021-04-16 16:27:30\n",
      "1621319100.0 2021-05-18 08:25:00\n",
      "1624054950.0 2021-06-19 00:22:30\n",
      "1626790800.0 2021-07-20 16:20:00\n",
      "1629526650.0 2021-08-21 08:17:30\n",
      "1632262500.0 2021-09-22 00:15:00\n",
      "1634998350.0 2021-10-23 16:12:30\n",
      "1637734200.0 2021-11-24 07:10:00\n",
      "1640470050.0 2021-12-25 23:07:30\n",
      "1643205900.0 2022-01-26 15:05:00\n",
      "1645941750.0 2022-02-27 07:02:30\n",
      "1648677600.0 2022-03-31 00:00:00\n"
     ]
    }
   ],
   "source": [
    "import datetime\n",
    "start = int(datetime.datetime(2020, 3, 1).timestamp())\n",
    "end = int(datetime.datetime(2022, 3, 31).timestamp())\n",
    "split = 24\n",
    "step = (end - start) / split\n",
    "i = start\n",
    "while i <= end:\n",
    "    print(i, datetime.datetime.fromtimestamp(i))\n",
    "    i += step"
   ]
  },
  {
   "cell_type": "code",
   "execution_count": 79,
   "metadata": {},
   "outputs": [],
   "source": [
    "files = []\n",
    "for key, value in train_pro_label.items():\n",
    "    files.append(key)"
   ]
  },
  {
   "cell_type": "code",
   "execution_count": 80,
   "metadata": {},
   "outputs": [
    {
     "name": "stdout",
     "output_type": "stream",
     "text": [
      "CoronaVaccines merged\n",
      "CovidVaccinated merged\n",
      "VACCINES merged\n"
     ]
    }
   ],
   "source": [
    "for file in files:\n",
    "\n",
    "    merge_data = os.listdir('../../../Files/Comments/temp')\n",
    "    merged_data = [k for k in merge_data if k.startswith(file)]\n",
    "\n",
    "    if len(merged_data) > 0:\n",
    "        df = pd.concat([pd.read_pickle(os.path.join('../../../Files/Comments/temp',candidate)) for candidate in merged_data])\n",
    "        df.to_pickle(f'../../../Files/Comments/train/{file}.pickle')\n",
    "        print(f'{file} merged')\n",
    "        for i in merged_data:\n",
    "            os.remove(os.path.join('../../../Files/Comments/temp',i))"
   ]
  },
  {
   "cell_type": "code",
   "execution_count": 62,
   "metadata": {},
   "outputs": [
    {
     "data": {
      "text/plain": [
       "'covidskepticscanada'"
      ]
     },
     "execution_count": 62,
     "metadata": {},
     "output_type": "execute_result"
    }
   ],
   "source": [
    "file"
   ]
  },
  {
   "cell_type": "code",
   "execution_count": 74,
   "metadata": {},
   "outputs": [],
   "source": [
    "merged_data.sort()"
   ]
  },
  {
   "cell_type": "code",
   "execution_count": 81,
   "metadata": {},
   "outputs": [
    {
     "data": {
      "text/plain": [
       "['VACCINES-1640470050.pickle',\n",
       " 'VACCINES-1624054950.pickle',\n",
       " 'VACCINES-1618583250.pickle']"
      ]
     },
     "execution_count": 81,
     "metadata": {},
     "output_type": "execute_result"
    }
   ],
   "source": [
    "merged_data"
   ]
  },
  {
   "cell_type": "markdown",
   "metadata": {},
   "source": [
    "### Generate Training Data"
   ]
  },
  {
   "cell_type": "code",
   "execution_count": 94,
   "metadata": {},
   "outputs": [
    {
     "name": "stdout",
     "output_type": "stream",
     "text": [
      "CovidIsACult 60\n",
      "covidskepticscanada 4460\n",
      "FUCKCHINAVIRUS 6\n",
      "ParentingWithoutFear 1749\n",
      "TrueAntiVaccination 29031\n",
      "vaccinesideeffects 1031\n",
      "vacci_nation 3429\n"
     ]
    }
   ],
   "source": [
    "df = pd.DataFrame()\n",
    "for key in train_anti_label:\n",
    "    temp = pd.read_pickle(os.path.join('../../../Files/Comments/train/'+key+'.pickle'))\n",
    "    print(key, len(temp))\n",
    "    df = pd.concat([df, temp])\n",
    "\n",
    "df['label'] = df.subreddit.map(train_anti_label)"
   ]
  },
  {
   "cell_type": "code",
   "execution_count": 95,
   "metadata": {},
   "outputs": [
    {
     "name": "stdout",
     "output_type": "stream",
     "text": [
      "CoronaVaccines 1129\n",
      "VACCINES 14897\n"
     ]
    }
   ],
   "source": [
    "df2 = pd.DataFrame()\n",
    "for key in train_pro_label:\n",
    "    temp = pd.read_pickle(os.path.join('../../../Files/Comments/train/'+key+'.pickle'))\n",
    "    print(key, len(temp))\n",
    "    df2 = pd.concat([df2, temp])\n",
    "\n",
    "df2['label'] = df2.subreddit.map(train_pro_label)"
   ]
  },
  {
   "cell_type": "code",
   "execution_count": 96,
   "metadata": {},
   "outputs": [
    {
     "name": "stdout",
     "output_type": "stream",
     "text": [
      "aww 7435352\n",
      "KidsAreFuckingStupid 1714125\n",
      "natureismetal 1478510\n"
     ]
    }
   ],
   "source": [
    "df3 = pd.DataFrame()\n",
    "for key in noise_label:\n",
    "    temp = pd.read_pickle(os.path.join('../../../Files/Comments/train/'+key+'.pickle'))\n",
    "    print(key, len(temp))\n",
    "    df3 = pd.concat([df3, temp])\n",
    "\n",
    "df3['label'] = df3.subreddit.map(noise_label)"
   ]
  },
  {
   "cell_type": "code",
   "execution_count": 97,
   "metadata": {},
   "outputs": [
    {
     "name": "stdout",
     "output_type": "stream",
     "text": [
      "39766 16026 10627987\n"
     ]
    }
   ],
   "source": [
    "print(len(df), len(df2), len(df3))"
   ]
  },
  {
   "cell_type": "code",
   "execution_count": 98,
   "metadata": {},
   "outputs": [],
   "source": [
    "\n",
    "anti_train = df.sample(n=11000, random_state=42)\n",
    "pro_train = df2.sample(n=11000, random_state=42)\n",
    "noise_train = df3.sample(n=11000 , random_state=42)"
   ]
  },
  {
   "cell_type": "code",
   "execution_count": 99,
   "metadata": {},
   "outputs": [],
   "source": [
    "# Create temp df to avoid having spillage in our validation & test dataset\n",
    "anti_temp = pd.concat([df, anti_train, anti_train]).drop_duplicates(keep=False)\n",
    "pro_temp = pd.concat([df2, pro_train, pro_train]).drop_duplicates(keep=False)\n",
    "noise_temp = pd.concat([df3, noise_train, noise_train]).drop_duplicates(keep=False)"
   ]
  },
  {
   "cell_type": "code",
   "execution_count": 100,
   "metadata": {},
   "outputs": [],
   "source": [
    "train = pd.concat([anti_train, pro_train, noise_train]).sample(frac=1).reset_index(drop=True) #merge and shuffle"
   ]
  },
  {
   "cell_type": "code",
   "execution_count": 101,
   "metadata": {},
   "outputs": [],
   "source": [
    "anti_val = anti_temp.sample(n=10000, random_state=42)\n",
    "pro_val = pro_temp.sample(n=2400, random_state=42)\n",
    "noise_val = noise_temp.sample(n=50000, random_state=42)"
   ]
  },
  {
   "cell_type": "code",
   "execution_count": 103,
   "metadata": {},
   "outputs": [],
   "source": [
    "#since there are so many comment, we will sample from these as well\n",
    "anti_test = pd.concat([anti_temp, anti_val, anti_val]).drop_duplicates(keep=False)\n",
    "pro_test = pd.concat([pro_temp, pro_val, pro_val]).drop_duplicates(keep=False).sample(n=2400, random_state=42)\n",
    "noise_test = pd.concat([noise_temp, noise_val, noise_val]).drop_duplicates(keep=False).sample(n=140000, random_state=42)"
   ]
  },
  {
   "cell_type": "code",
   "execution_count": 104,
   "metadata": {},
   "outputs": [],
   "source": [
    "valid = pd.concat([anti_val, pro_val, noise_val]).sample(frac=1).reset_index(drop=True)"
   ]
  },
  {
   "cell_type": "code",
   "execution_count": 105,
   "metadata": {},
   "outputs": [],
   "source": [
    "test = pd.concat([anti_test, pro_test, noise_test]).sample(frac=1).reset_index(drop=True)"
   ]
  },
  {
   "cell_type": "code",
   "execution_count": 106,
   "metadata": {},
   "outputs": [
    {
     "name": "stdout",
     "output_type": "stream",
     "text": [
      "33000 62400 161166\n"
     ]
    }
   ],
   "source": [
    "print(len(train), len(valid), len(test))"
   ]
  },
  {
   "cell_type": "code",
   "execution_count": 107,
   "metadata": {},
   "outputs": [],
   "source": [
    "test.drop('index', inplace=True, axis=1)"
   ]
  },
  {
   "cell_type": "code",
   "execution_count": 108,
   "metadata": {},
   "outputs": [],
   "source": [
    "train.drop('index', inplace=True, axis=1)\n",
    "valid.drop('index', inplace=True, axis=1)"
   ]
  },
  {
   "cell_type": "markdown",
   "metadata": {},
   "source": [
    "## Text Preprocessing"
   ]
  },
  {
   "cell_type": "code",
   "execution_count": 82,
   "metadata": {},
   "outputs": [],
   "source": [
    "import re\n",
    "import spacy\n",
    "nlp = spacy.load('en_core_web_sm')"
   ]
  },
  {
   "cell_type": "code",
   "execution_count": 83,
   "metadata": {},
   "outputs": [],
   "source": [
    "def preprocess(sentence):\n",
    "    sentence=str(sentence)\n",
    "    sentence = sentence.lower()\n",
    "    sentence=sentence.replace('{html}',\"\") \n",
    "    cleantext = re.sub(r'[^\\w\\s]', '', sentence)\n",
    "    rem_url=re.sub(r'http\\S+', '[URL]',cleantext)\n",
    "    rem_num = re.sub('[0-9]+', '[NUM]', rem_url)\n",
    "    lemma_words = [token.lemma_ for token in nlp(rem_num) if not token.is_stop]\n",
    "    return \" \".join(lemma_words)"
   ]
  },
  {
   "cell_type": "markdown",
   "metadata": {},
   "source": [
    "### Preprocessing for Post Data"
   ]
  },
  {
   "cell_type": "code",
   "execution_count": 84,
   "metadata": {},
   "outputs": [],
   "source": [
    "train['cleanText']=train['text'].map(lambda s:preprocess(s)) "
   ]
  },
  {
   "cell_type": "code",
   "execution_count": 87,
   "metadata": {},
   "outputs": [],
   "source": [
    "valid['cleanText']=valid['text'].map(lambda s:preprocess(s)) \n"
   ]
  },
  {
   "cell_type": "code",
   "execution_count": 89,
   "metadata": {},
   "outputs": [],
   "source": [
    "test['cleanText']=test['text'].map(lambda s:preprocess(s)) "
   ]
  },
  {
   "cell_type": "code",
   "execution_count": 91,
   "metadata": {},
   "outputs": [
    {
     "data": {
      "text/html": [
       "<div>\n",
       "<style scoped>\n",
       "    .dataframe tbody tr th:only-of-type {\n",
       "        vertical-align: middle;\n",
       "    }\n",
       "\n",
       "    .dataframe tbody tr th {\n",
       "        vertical-align: top;\n",
       "    }\n",
       "\n",
       "    .dataframe thead th {\n",
       "        text-align: right;\n",
       "    }\n",
       "</style>\n",
       "<table border=\"1\" class=\"dataframe\">\n",
       "  <thead>\n",
       "    <tr style=\"text-align: right;\">\n",
       "      <th></th>\n",
       "      <th>author</th>\n",
       "      <th>created_utc</th>\n",
       "      <th>id</th>\n",
       "      <th>num_comments</th>\n",
       "      <th>permalink</th>\n",
       "      <th>score</th>\n",
       "      <th>selftext</th>\n",
       "      <th>subreddit</th>\n",
       "      <th>title</th>\n",
       "      <th>url</th>\n",
       "      <th>label</th>\n",
       "      <th>text</th>\n",
       "      <th>cleanText</th>\n",
       "    </tr>\n",
       "  </thead>\n",
       "  <tbody>\n",
       "    <tr>\n",
       "      <th>0</th>\n",
       "      <td>Future_Khai</td>\n",
       "      <td>1606789344</td>\n",
       "      <td>k4bf5n</td>\n",
       "      <td>2</td>\n",
       "      <td>/r/aww/comments/k4bf5n/just_my_dog_hanging_wit...</td>\n",
       "      <td>1</td>\n",
       "      <td></td>\n",
       "      <td>aww</td>\n",
       "      <td>Just my dog hanging with his bros, Happy Howli...</td>\n",
       "      <td>https://i.imgur.com/vLNjOSH.jpg</td>\n",
       "      <td>1</td>\n",
       "      <td>Just my dog hanging with his bros, Happy Howli...</td>\n",
       "      <td>dog hang bro happy howliday</td>\n",
       "    </tr>\n",
       "    <tr>\n",
       "      <th>1</th>\n",
       "      <td>Plotz50</td>\n",
       "      <td>1610128980</td>\n",
       "      <td>kt7wgq</td>\n",
       "      <td>6</td>\n",
       "      <td>/r/aww/comments/kt7wgq/cat_in_a_colosseum/</td>\n",
       "      <td>9</td>\n",
       "      <td></td>\n",
       "      <td>aww</td>\n",
       "      <td>Cat in a colosseum</td>\n",
       "      <td>https://i.redd.it/euajbbxle5a61.jpg</td>\n",
       "      <td>1</td>\n",
       "      <td>Cat in a colosseum</td>\n",
       "      <td>cat colosseum</td>\n",
       "    </tr>\n",
       "    <tr>\n",
       "      <th>2</th>\n",
       "      <td>LegacyOfDepression</td>\n",
       "      <td>1608036052</td>\n",
       "      <td>kdl0qb</td>\n",
       "      <td>3</td>\n",
       "      <td>/r/aww/comments/kdl0qb/do_it_ike_last_kiss/</td>\n",
       "      <td>1</td>\n",
       "      <td></td>\n",
       "      <td>aww</td>\n",
       "      <td>Do it ike last kiss.</td>\n",
       "      <td>https://i.redd.it/0y2ifp79jc561.jpg</td>\n",
       "      <td>1</td>\n",
       "      <td>Do it ike last kiss.</td>\n",
       "      <td>ike kiss</td>\n",
       "    </tr>\n",
       "    <tr>\n",
       "      <th>3</th>\n",
       "      <td>bejandianaandrei</td>\n",
       "      <td>1606611545</td>\n",
       "      <td>k2zqd5</td>\n",
       "      <td>0</td>\n",
       "      <td>/r/aww/comments/k2zqd5/whats_the_best_thing_af...</td>\n",
       "      <td>1</td>\n",
       "      <td></td>\n",
       "      <td>aww</td>\n",
       "      <td>what's the best thing after a nap? another nap</td>\n",
       "      <td>https://v.redd.it/ymlbr0n9v2261</td>\n",
       "      <td>1</td>\n",
       "      <td>what's the best thing after a nap? another nap</td>\n",
       "      <td>s good thing nap nap</td>\n",
       "    </tr>\n",
       "    <tr>\n",
       "      <th>4</th>\n",
       "      <td>Naiiqiqhq</td>\n",
       "      <td>1609656203</td>\n",
       "      <td>kpfnra</td>\n",
       "      <td>1</td>\n",
       "      <td>/r/NoNewNormal/comments/kpfnra/how_the_fuck_do...</td>\n",
       "      <td>1</td>\n",
       "      <td>Why the fuck are you required to use mask on s...</td>\n",
       "      <td>NoNewNormal</td>\n",
       "      <td>How the fuck does all this make sense ?</td>\n",
       "      <td>https://www.reddit.com/r/NoNewNormal/comments/...</td>\n",
       "      <td>0</td>\n",
       "      <td>How the fuck does all this make sense ? Why th...</td>\n",
       "      <td>fuck sense   fuck require use mask place place...</td>\n",
       "    </tr>\n",
       "  </tbody>\n",
       "</table>\n",
       "</div>"
      ],
      "text/plain": [
       "               author  created_utc      id  num_comments  \\\n",
       "0         Future_Khai   1606789344  k4bf5n             2   \n",
       "1             Plotz50   1610128980  kt7wgq             6   \n",
       "2  LegacyOfDepression   1608036052  kdl0qb             3   \n",
       "3    bejandianaandrei   1606611545  k2zqd5             0   \n",
       "4           Naiiqiqhq   1609656203  kpfnra             1   \n",
       "\n",
       "                                           permalink  score  \\\n",
       "0  /r/aww/comments/k4bf5n/just_my_dog_hanging_wit...      1   \n",
       "1         /r/aww/comments/kt7wgq/cat_in_a_colosseum/      9   \n",
       "2        /r/aww/comments/kdl0qb/do_it_ike_last_kiss/      1   \n",
       "3  /r/aww/comments/k2zqd5/whats_the_best_thing_af...      1   \n",
       "4  /r/NoNewNormal/comments/kpfnra/how_the_fuck_do...      1   \n",
       "\n",
       "                                            selftext    subreddit  \\\n",
       "0                                                             aww   \n",
       "1                                                             aww   \n",
       "2                                                             aww   \n",
       "3                                                             aww   \n",
       "4  Why the fuck are you required to use mask on s...  NoNewNormal   \n",
       "\n",
       "                                               title  \\\n",
       "0  Just my dog hanging with his bros, Happy Howli...   \n",
       "1                                 Cat in a colosseum   \n",
       "2                               Do it ike last kiss.   \n",
       "3     what's the best thing after a nap? another nap   \n",
       "4            How the fuck does all this make sense ?   \n",
       "\n",
       "                                                 url  label  \\\n",
       "0                    https://i.imgur.com/vLNjOSH.jpg      1   \n",
       "1                https://i.redd.it/euajbbxle5a61.jpg      1   \n",
       "2                https://i.redd.it/0y2ifp79jc561.jpg      1   \n",
       "3                    https://v.redd.it/ymlbr0n9v2261      1   \n",
       "4  https://www.reddit.com/r/NoNewNormal/comments/...      0   \n",
       "\n",
       "                                                text  \\\n",
       "0  Just my dog hanging with his bros, Happy Howli...   \n",
       "1                                Cat in a colosseum    \n",
       "2                              Do it ike last kiss.    \n",
       "3    what's the best thing after a nap? another nap    \n",
       "4  How the fuck does all this make sense ? Why th...   \n",
       "\n",
       "                                           cleanText  \n",
       "0                        dog hang bro happy howliday  \n",
       "1                                      cat colosseum  \n",
       "2                                           ike kiss  \n",
       "3                               s good thing nap nap  \n",
       "4  fuck sense   fuck require use mask place place...  "
      ]
     },
     "execution_count": 91,
     "metadata": {},
     "output_type": "execute_result"
    }
   ],
   "source": [
    "test.head()"
   ]
  },
  {
   "cell_type": "code",
   "execution_count": 88,
   "metadata": {},
   "outputs": [],
   "source": [
    "train.to_pickle('../../../Files/Submissions/train/train_split_submission_r.pickle')\n",
    "valid.to_pickle('../../../Files/Submissions/train/val_split_submission_r.pickle')"
   ]
  },
  {
   "cell_type": "code",
   "execution_count": 92,
   "metadata": {},
   "outputs": [],
   "source": [
    "\n",
    "test.to_pickle('../../../Files/Submissions/train/test_split_submission_r.pickle')"
   ]
  },
  {
   "cell_type": "code",
   "execution_count": 151,
   "metadata": {},
   "outputs": [],
   "source": [
    "valid = pd.read_pickle('../../../Files/Submissions/train/val_split_submission_r.pickle')\n",
    "test = pd.read_pickle('../../../Files/Submissions/train/test_split_submission_r.pickle')"
   ]
  },
  {
   "cell_type": "code",
   "execution_count": 153,
   "metadata": {},
   "outputs": [],
   "source": [
    "train = pd.read_pickle('../../../Files/Submissions/train/train_split_submission_r.pickle')"
   ]
  },
  {
   "cell_type": "code",
   "execution_count": 156,
   "metadata": {},
   "outputs": [],
   "source": [
    "total = []"
   ]
  },
  {
   "cell_type": "code",
   "execution_count": 157,
   "metadata": {},
   "outputs": [
    {
     "name": "stderr",
     "output_type": "stream",
     "text": [
      "/var/folders/fh/yf9jwszj6d5_1_xhfz_l6k000000gn/T/ipykernel_26564/1212532845.py:1: FutureWarning: The frame.append method is deprecated and will be removed from pandas in a future version. Use pandas.concat instead.\n",
      "  total = train.append(valid)\n",
      "/var/folders/fh/yf9jwszj6d5_1_xhfz_l6k000000gn/T/ipykernel_26564/1212532845.py:2: FutureWarning: The frame.append method is deprecated and will be removed from pandas in a future version. Use pandas.concat instead.\n",
      "  total = total.append(test)\n"
     ]
    }
   ],
   "source": [
    "total = train.append(valid)\n",
    "total = total.append(test)"
   ]
  },
  {
   "cell_type": "code",
   "execution_count": 158,
   "metadata": {},
   "outputs": [
    {
     "data": {
      "text/plain": [
       "1491949"
      ]
     },
     "execution_count": 158,
     "metadata": {},
     "output_type": "execute_result"
    }
   ],
   "source": [
    "len(total)"
   ]
  },
  {
   "cell_type": "code",
   "execution_count": 160,
   "metadata": {},
   "outputs": [],
   "source": [
    "total['len'] = total['cleanText'].apply(lambda x: len(x.split()))"
   ]
  },
  {
   "cell_type": "code",
   "execution_count": 162,
   "metadata": {},
   "outputs": [
    {
     "data": {
      "text/plain": [
       "Text(0.5, 0, 'Number of words')"
      ]
     },
     "execution_count": 162,
     "metadata": {},
     "output_type": "execute_result"
    },
    {
     "data": {
      "image/png": "[encoded data removed]",
      "text/plain": [
       "<Figure size 432x288 with 1 Axes>"
      ]
     },
     "metadata": {
      "needs_background": "light"
     },
     "output_type": "display_data"
    }
   ],
   "source": [
    "total.len.plot.hist(bins=1000, xlim=(0, 500), color='green')\n",
    "plt.title('Histogram of word counts in posts')\n",
    "plt.xlabel('Number of words')"
   ]
  },
  {
   "cell_type": "markdown",
   "metadata": {},
   "source": [
    "### Preprocessing for Comments"
   ]
  },
  {
   "cell_type": "code",
   "execution_count": 109,
   "metadata": {},
   "outputs": [],
   "source": [
    "train['cleanBody']=train['body'].map(lambda s:preprocess(s)) "
   ]
  },
  {
   "cell_type": "code",
   "execution_count": 111,
   "metadata": {},
   "outputs": [],
   "source": [
    "valid['cleanBody']=valid['body'].map(lambda s:preprocess(s)) "
   ]
  },
  {
   "cell_type": "code",
   "execution_count": 113,
   "metadata": {},
   "outputs": [],
   "source": [
    "test['cleanBody']=test['body'].map(lambda s:preprocess(s)) "
   ]
  },
  {
   "cell_type": "code",
   "execution_count": 110,
   "metadata": {},
   "outputs": [],
   "source": [
    "train.to_pickle('../../../Files/Comments/train/train_split_comments_s.pickle')"
   ]
  },
  {
   "cell_type": "code",
   "execution_count": 112,
   "metadata": {},
   "outputs": [],
   "source": [
    "\n",
    "valid.to_pickle('../../../Files/Comments/train/val_split_comments_s.pickle')\n"
   ]
  },
  {
   "cell_type": "code",
   "execution_count": 114,
   "metadata": {},
   "outputs": [],
   "source": [
    "test.to_pickle('../../../Files/Comments/train/test_split_comments_s.pickle')"
   ]
  },
  {
   "cell_type": "code",
   "execution_count": 143,
   "metadata": {},
   "outputs": [
    {
     "name": "stderr",
     "output_type": "stream",
     "text": [
      "/var/folders/fh/yf9jwszj6d5_1_xhfz_l6k000000gn/T/ipykernel_26564/2212532589.py:1: FutureWarning: The frame.append method is deprecated and will be removed from pandas in a future version. Use pandas.concat instead.\n",
      "  total = train.append(test)\n"
     ]
    }
   ],
   "source": [
    "total = train.append(test)"
   ]
  },
  {
   "cell_type": "code",
   "execution_count": 146,
   "metadata": {},
   "outputs": [
    {
     "name": "stderr",
     "output_type": "stream",
     "text": [
      "/var/folders/fh/yf9jwszj6d5_1_xhfz_l6k000000gn/T/ipykernel_26564/781908578.py:1: FutureWarning: The frame.append method is deprecated and will be removed from pandas in a future version. Use pandas.concat instead.\n",
      "  total = total.append(valid)\n"
     ]
    }
   ],
   "source": [
    "total = total.append(valid)"
   ]
  },
  {
   "cell_type": "code",
   "execution_count": 147,
   "metadata": {},
   "outputs": [
    {
     "data": {
      "text/plain": [
       "256566"
      ]
     },
     "execution_count": 147,
     "metadata": {},
     "output_type": "execute_result"
    }
   ],
   "source": [
    "len(total)"
   ]
  },
  {
   "cell_type": "code",
   "execution_count": 148,
   "metadata": {},
   "outputs": [],
   "source": [
    "total['len'] = total['cleanBody'].apply(lambda x: len(x.split()))"
   ]
  },
  {
   "cell_type": "code",
   "execution_count": 150,
   "metadata": {},
   "outputs": [
    {
     "data": {
      "text/plain": [
       "Text(0.5, 0, 'Number of words')"
      ]
     },
     "execution_count": 150,
     "metadata": {},
     "output_type": "execute_result"
    },
    {
     "data": {
      "image/png": "[encoded data removed]",
      "text/plain": [
       "<Figure size 432x288 with 1 Axes>"
      ]
     },
     "metadata": {
      "needs_background": "light"
     },
     "output_type": "display_data"
    }
   ],
   "source": [
    "\n",
    "total.len.plot.hist(bins=100, xlim=(0, 500), color='green')\n",
    "plt.title('Histogram of word counts in comments')\n",
    "plt.xlabel('Number of words')"
   ]
  },
  {
   "cell_type": "code",
   "execution_count": 139,
   "metadata": {},
   "outputs": [],
   "source": [
    "train = pd.read_pickle('../../../Files/Comments/train/train_split_comments_s.pickle')"
   ]
  },
  {
   "cell_type": "markdown",
   "metadata": {},
   "source": [
    "## Preprocessing Posts for Scoring"
   ]
  },
  {
   "cell_type": "code",
   "execution_count": 5,
   "metadata": {},
   "outputs": [],
   "source": [
    "files = os.listdir('../../../Files/Submissions/')"
   ]
  },
  {
   "cell_type": "code",
   "execution_count": 17,
   "metadata": {},
   "outputs": [],
   "source": [
    "files = ['pics.pickle']"
   ]
  },
  {
   "cell_type": "code",
   "execution_count": 11,
   "metadata": {},
   "outputs": [],
   "source": [
    "for file in files:\n",
    "    if file[-7:] != \".pickle\":\n",
    "        files.pop(files.index(file))"
   ]
  },
  {
   "cell_type": "code",
   "execution_count": 18,
   "metadata": {},
   "outputs": [
    {
     "name": "stderr",
     "output_type": "stream",
     "text": [
      "100%|██████████| 1/1 [12:57<00:00, 777.01s/it]\n"
     ]
    }
   ],
   "source": [
    "from tqdm import tqdm\n",
    "\n",
    "for file in tqdm(files):\n",
    "    df = pd.read_pickle(os.path.join('../../../Files/Submissions/',file))\n",
    "    df['cleanTitle']=df['title'].map(lambda s:preprocess(s)) \n",
    "    df.to_pickle(os.path.join('../../../Files/Submissions/',file))"
   ]
  },
  {
   "cell_type": "code",
   "execution_count": 43,
   "metadata": {},
   "outputs": [],
   "source": [
    "files = os.listdir('../../../Files/Submissions/')\n",
    "\n",
    "# remove any files that are not in the .pickle type \n",
    "files = [f for f in files if f.endswith('.pickle')]"
   ]
  },
  {
   "cell_type": "code",
   "execution_count": 44,
   "metadata": {},
   "outputs": [
    {
     "data": {
      "text/plain": [
       "611"
      ]
     },
     "execution_count": 44,
     "metadata": {},
     "output_type": "execute_result"
    }
   ],
   "source": [
    "len(files)"
   ]
  },
  {
   "cell_type": "code",
   "execution_count": 28,
   "metadata": {},
   "outputs": [],
   "source": [
    "import csv\n",
    "from itertools import chain\n",
    "with open('../../Preprocessing/subreddits_sm.csv', newline='') as f:\n",
    "    reader = csv.reader(f)\n",
    "    subreddits = list(reader)\n",
    "\n",
    "subreddits = list(chain.from_iterable(subreddits))"
   ]
  },
  {
   "cell_type": "code",
   "execution_count": 30,
   "metadata": {},
   "outputs": [
    {
     "data": {
      "text/plain": [
       "'Qult_Headquarters'"
      ]
     },
     "execution_count": 30,
     "metadata": {},
     "output_type": "execute_result"
    }
   ],
   "source": [
    "files[0][:-7]"
   ]
  },
  {
   "cell_type": "code",
   "execution_count": 67,
   "metadata": {},
   "outputs": [],
   "source": [
    "for file in files:\n",
    "    if file[:-7] not in subreddits:\n",
    "        files.pop(files.index(file))\n"
   ]
  },
  {
   "cell_type": "code",
   "execution_count": 58,
   "metadata": {},
   "outputs": [
    {
     "data": {
      "text/plain": [
       "298"
      ]
     },
     "execution_count": 58,
     "metadata": {},
     "output_type": "execute_result"
    }
   ],
   "source": [
    "len(subreddits)"
   ]
  },
  {
   "cell_type": "code",
   "execution_count": 72,
   "metadata": {},
   "outputs": [],
   "source": [
    "for file in files:\n",
    "    #move file to the score directory\n",
    "    os.rename(os.path.join('../../../Files/Submissions/',file), os.path.join('../../../Files/Submissions/score/',file))\n"
   ]
  },
  {
   "cell_type": "code",
   "execution_count": 71,
   "metadata": {},
   "outputs": [
    {
     "ename": "ValueError",
     "evalue": "'AIandRobotics.pickle' is not in list",
     "output_type": "error",
     "traceback": [
      "\u001b[0;31m---------------------------------------------------------------------------\u001b[0m",
      "\u001b[0;31mValueError\u001b[0m                                Traceback (most recent call last)",
      "\u001b[1;32m/Users/jakobschlierf/Desktop/Master/Thesis/Github/classifier/utils/dataset_prep.ipynb Cell 46\u001b[0m in \u001b[0;36m<cell line: 1>\u001b[0;34m()\u001b[0m\n\u001b[0;32m----> <a href='vscode-notebook-cell:/Users/jakobschlierf/Desktop/Master/Thesis/Github/classifier/utils/dataset_prep.ipynb#Y100sZmlsZQ%3D%3D?line=0'>1</a>\u001b[0m files\u001b[39m.\u001b[39;49mindex(\u001b[39m'\u001b[39;49m\u001b[39mAIandRobotics.pickle\u001b[39;49m\u001b[39m'\u001b[39;49m)\n",
      "\u001b[0;31mValueError\u001b[0m: 'AIandRobotics.pickle' is not in list"
     ]
    }
   ],
   "source": [
    "files.index('AIandRobotics.pickle')"
   ]
  }
 ],
 "metadata": {
  "kernelspec": {
   "display_name": "Python 3.9.12 ('reddit_env_test')",
   "language": "python",
   "name": "python3"
  },
  "language_info": {
   "codemirror_mode": {
    "name": "ipython",
    "version": 3
   },
   "file_extension": ".py",
   "mimetype": "text/x-python",
   "name": "python",
   "nbconvert_exporter": "python",
   "pygments_lexer": "ipython3",
   "version": "3.9.12"
  },
  "orig_nbformat": 4,
  "vscode": {
   "interpreter": {
    "hash": "6c5bfe69c2b2d435baea75ee1a7865fc7666bb526179204de658e4f2811cb086"
   }
  }
 },
 "nbformat": 4,
 "nbformat_minor": 2
}
