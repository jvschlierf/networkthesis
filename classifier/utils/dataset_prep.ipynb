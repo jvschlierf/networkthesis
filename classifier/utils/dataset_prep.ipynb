{
 "cells": [
  {
   "cell_type": "code",
   "execution_count": 16,
   "metadata": {},
   "outputs": [],
   "source": [
    "import pandas as pd \n",
    "import numpy as np\n",
    "import sklearn as skl\n",
    "import datasets\n",
    "from sklearn.model_selection import train_test_split\n",
    "import os"
   ]
  },
  {
   "cell_type": "markdown",
   "metadata": {},
   "source": [
    "## Create Train / Validate / Test Set"
   ]
  },
  {
   "cell_type": "code",
   "execution_count": 35,
   "metadata": {},
   "outputs": [],
   "source": [
    "# 1 is anti vaccine, 2 is pro vaccine, 0 is noise\n",
    "train_anti_label = {\n",
    "    'CovidIsACult' : 1,\n",
    "    'covidskepticscanada': 1,\n",
    "    'FUCKCHINAVIRUS' : 1,\n",
    "    'ParentingWithoutFear': 1,\n",
    "    'TrueAntiVaccination': 1,\n",
    "    'vaccinesideeffects' : 1,\n",
    "    'vacci_nation' : 1,\n",
    "    'NoNewNormal': 1,\n",
    "}\n",
    "train_pro_label = {\n",
    "    'CoronaVaccines' : 2,\n",
    "    'CovidVaccinated' : 2,\n",
    "    'VACCINES': 2,\n",
    "    'YouWillSurviveIt' : 2,\n",
    "}\n",
    "\n",
    "noise_label = {\n",
    "    'aww': 0,\n",
    "    'KidsAreFuckingStupid': 0,\n",
    "    'natureismetal': 0,\n",
    "}\n"
   ]
  },
  {
   "cell_type": "markdown",
   "metadata": {},
   "source": [
    "### Submissions"
   ]
  },
  {
   "cell_type": "code",
   "execution_count": 41,
   "metadata": {},
   "outputs": [
    {
     "name": "stdout",
     "output_type": "stream",
     "text": [
      "CovidIsACult 115\n",
      "covidskepticscanada 3062\n",
      "FUCKCHINAVIRUS 171\n",
      "ParentingWithoutFear 216\n",
      "TrueAntiVaccination 4394\n",
      "vaccinesideeffects 467\n",
      "vacci_nation 1899\n",
      "NoNewNormal 109292\n"
     ]
    }
   ],
   "source": [
    "df = pd.DataFrame()\n",
    "for key in train_anti_label:\n",
    "    temp = pd.read_pickle(os.path.join('../../../Files/Submissions/train/'+key+'.pickle'))\n",
    "    print(key, len(temp))\n",
    "    df = pd.concat([df, temp])\n",
    "\n",
    "df['label'] = df.subreddit.map(train_anti_label)"
   ]
  },
  {
   "cell_type": "code",
   "execution_count": 42,
   "metadata": {},
   "outputs": [
    {
     "name": "stdout",
     "output_type": "stream",
     "text": [
      "CoronaVaccines 307\n",
      "CovidVaccinated 26721\n",
      "VACCINES 4236\n",
      "YouWillSurviveIt 725\n"
     ]
    }
   ],
   "source": [
    "df2 = pd.DataFrame()\n",
    "for key in train_pro_label:\n",
    "    temp = pd.read_pickle(os.path.join('../../../Files/Submissions/train/'+key+'.pickle'))\n",
    "    print(key, len(temp))\n",
    "    df2 = pd.concat([df2, temp])\n",
    "\n",
    "df2['label'] = df2.subreddit.map(train_pro_label)"
   ]
  },
  {
   "cell_type": "code",
   "execution_count": 43,
   "metadata": {},
   "outputs": [
    {
     "name": "stdout",
     "output_type": "stream",
     "text": [
      "aww 1251041\n",
      "KidsAreFuckingStupid 52807\n",
      "natureismetal 37221\n"
     ]
    }
   ],
   "source": [
    "df3 = pd.DataFrame()\n",
    "for key in noise_label:\n",
    "    temp = pd.read_pickle(os.path.join('../../../Files/Submissions/train/'+key+'.pickle'))\n",
    "    print(key, len(temp))\n",
    "    df3 = pd.concat([df3, temp])\n",
    "\n",
    "df3['label'] = df3.subreddit.map(noise_label)"
   ]
  },
  {
   "cell_type": "code",
   "execution_count": 44,
   "metadata": {},
   "outputs": [
    {
     "name": "stdout",
     "output_type": "stream",
     "text": [
      "119616 31989 1341069\n"
     ]
    }
   ],
   "source": [
    "print(len(df), len(df2), len(df3))"
   ]
  },
  {
   "cell_type": "code",
   "execution_count": 46,
   "metadata": {},
   "outputs": [],
   "source": [
    "\n",
    "anti_train = df.sample(n=23000, random_state=42)\n",
    "pro_train = df2.sample(n=23000, random_state=42)\n",
    "noise_train = df3.sample(n=23000 , random_state = 42)"
   ]
  },
  {
   "cell_type": "code",
   "execution_count": 47,
   "metadata": {},
   "outputs": [],
   "source": [
    "anti_temp = pd.concat([df, anti_train, anti_train]).drop_duplicates(keep=False)\n",
    "pro_temp = pd.concat([df2, pro_train, pro_train]).drop_duplicates(keep=False)\n",
    "noise_temp = pd.concat([df3, noise_train, noise_train]).drop_duplicates(keep=False)"
   ]
  },
  {
   "cell_type": "code",
   "execution_count": 50,
   "metadata": {},
   "outputs": [],
   "source": [
    "train = pd.concat([anti_train, pro_train, noise_train]).sample(frac=1).reset_index(drop=True) #merge and shuffle"
   ]
  },
  {
   "cell_type": "code",
   "execution_count": 59,
   "metadata": {},
   "outputs": [],
   "source": [
    "anti_val = anti_temp.sample(n=3200, random_state=42)\n",
    "pro_val = pro_temp.sample(n=6000, random_state=42)\n",
    "noise_val = noise_temp.sample(n=6000, random_state=42)"
   ]
  },
  {
   "cell_type": "code",
   "execution_count": 60,
   "metadata": {},
   "outputs": [],
   "source": [
    "valid = pd.concat([anti_val, pro_val, noise_val]).sample(frac=1).reset_index(drop=True)"
   ]
  },
  {
   "cell_type": "code",
   "execution_count": 61,
   "metadata": {},
   "outputs": [],
   "source": [
    "anti_test = pd.concat([anti_temp, anti_val, anti_val]).drop_duplicates(keep=False)\n",
    "pro_test = pd.concat([pro_temp, pro_val, pro_val]).drop_duplicates(keep=False)\n",
    "noise_test = pd.concat([noise_temp, noise_val, noise_val]).drop_duplicates(keep=False)"
   ]
  },
  {
   "cell_type": "code",
   "execution_count": 62,
   "metadata": {},
   "outputs": [],
   "source": [
    "test = pd.concat([anti_test, pro_test, noise_test]).sample(frac=1).reset_index(drop=True)"
   ]
  },
  {
   "cell_type": "code",
   "execution_count": 63,
   "metadata": {},
   "outputs": [
    {
     "name": "stdout",
     "output_type": "stream",
     "text": [
      "69000 15200 1408474\n"
     ]
    }
   ],
   "source": [
    "print(len(train), len(valid), len(test))"
   ]
  },
  {
   "cell_type": "code",
   "execution_count": 56,
   "metadata": {},
   "outputs": [],
   "source": [
    "train.drop('selftext', inplace=True, axis=1)\n",
    "valid.drop('selftext', inplace=True, axis=1)\n",
    "test.drop('selftext', inplace=True, axis=1)\n"
   ]
  },
  {
   "cell_type": "code",
   "execution_count": 66,
   "metadata": {},
   "outputs": [
    {
     "data": {
      "text/html": [
       "<div>\n",
       "<style scoped>\n",
       "    .dataframe tbody tr th:only-of-type {\n",
       "        vertical-align: middle;\n",
       "    }\n",
       "\n",
       "    .dataframe tbody tr th {\n",
       "        vertical-align: top;\n",
       "    }\n",
       "\n",
       "    .dataframe thead th {\n",
       "        text-align: right;\n",
       "    }\n",
       "</style>\n",
       "<table border=\"1\" class=\"dataframe\">\n",
       "  <thead>\n",
       "    <tr style=\"text-align: right;\">\n",
       "      <th></th>\n",
       "      <th>author</th>\n",
       "      <th>created_utc</th>\n",
       "      <th>id</th>\n",
       "      <th>num_comments</th>\n",
       "      <th>permalink</th>\n",
       "      <th>score</th>\n",
       "      <th>subreddit</th>\n",
       "      <th>title</th>\n",
       "      <th>url</th>\n",
       "    </tr>\n",
       "    <tr>\n",
       "      <th>label</th>\n",
       "      <th></th>\n",
       "      <th></th>\n",
       "      <th></th>\n",
       "      <th></th>\n",
       "      <th></th>\n",
       "      <th></th>\n",
       "      <th></th>\n",
       "      <th></th>\n",
       "      <th></th>\n",
       "    </tr>\n",
       "  </thead>\n",
       "  <tbody>\n",
       "    <tr>\n",
       "      <th>0</th>\n",
       "      <td>23000</td>\n",
       "      <td>23000</td>\n",
       "      <td>23000</td>\n",
       "      <td>23000</td>\n",
       "      <td>23000</td>\n",
       "      <td>23000</td>\n",
       "      <td>23000</td>\n",
       "      <td>23000</td>\n",
       "      <td>23000</td>\n",
       "    </tr>\n",
       "    <tr>\n",
       "      <th>1</th>\n",
       "      <td>23000</td>\n",
       "      <td>23000</td>\n",
       "      <td>23000</td>\n",
       "      <td>23000</td>\n",
       "      <td>23000</td>\n",
       "      <td>23000</td>\n",
       "      <td>23000</td>\n",
       "      <td>23000</td>\n",
       "      <td>23000</td>\n",
       "    </tr>\n",
       "    <tr>\n",
       "      <th>2</th>\n",
       "      <td>23000</td>\n",
       "      <td>23000</td>\n",
       "      <td>23000</td>\n",
       "      <td>23000</td>\n",
       "      <td>23000</td>\n",
       "      <td>23000</td>\n",
       "      <td>23000</td>\n",
       "      <td>23000</td>\n",
       "      <td>23000</td>\n",
       "    </tr>\n",
       "  </tbody>\n",
       "</table>\n",
       "</div>"
      ],
      "text/plain": [
       "       author  created_utc     id  num_comments  permalink  score  subreddit  \\\n",
       "label                                                                          \n",
       "0       23000        23000  23000         23000      23000  23000      23000   \n",
       "1       23000        23000  23000         23000      23000  23000      23000   \n",
       "2       23000        23000  23000         23000      23000  23000      23000   \n",
       "\n",
       "       title    url  \n",
       "label                \n",
       "0      23000  23000  \n",
       "1      23000  23000  \n",
       "2      23000  23000  "
      ]
     },
     "execution_count": 66,
     "metadata": {},
     "output_type": "execute_result"
    }
   ],
   "source": [
    "train.groupby(by='label').count()"
   ]
  },
  {
   "cell_type": "code",
   "execution_count": 65,
   "metadata": {},
   "outputs": [
    {
     "data": {
      "text/html": [
       "<div>\n",
       "<style scoped>\n",
       "    .dataframe tbody tr th:only-of-type {\n",
       "        vertical-align: middle;\n",
       "    }\n",
       "\n",
       "    .dataframe tbody tr th {\n",
       "        vertical-align: top;\n",
       "    }\n",
       "\n",
       "    .dataframe thead th {\n",
       "        text-align: right;\n",
       "    }\n",
       "</style>\n",
       "<table border=\"1\" class=\"dataframe\">\n",
       "  <thead>\n",
       "    <tr style=\"text-align: right;\">\n",
       "      <th></th>\n",
       "      <th>author</th>\n",
       "      <th>created_utc</th>\n",
       "      <th>id</th>\n",
       "      <th>num_comments</th>\n",
       "      <th>permalink</th>\n",
       "      <th>score</th>\n",
       "      <th>selftext</th>\n",
       "      <th>subreddit</th>\n",
       "      <th>title</th>\n",
       "      <th>url</th>\n",
       "    </tr>\n",
       "    <tr>\n",
       "      <th>label</th>\n",
       "      <th></th>\n",
       "      <th></th>\n",
       "      <th></th>\n",
       "      <th></th>\n",
       "      <th></th>\n",
       "      <th></th>\n",
       "      <th></th>\n",
       "      <th></th>\n",
       "      <th></th>\n",
       "      <th></th>\n",
       "    </tr>\n",
       "  </thead>\n",
       "  <tbody>\n",
       "    <tr>\n",
       "      <th>0</th>\n",
       "      <td>6000</td>\n",
       "      <td>6000</td>\n",
       "      <td>6000</td>\n",
       "      <td>6000</td>\n",
       "      <td>6000</td>\n",
       "      <td>6000</td>\n",
       "      <td>6000</td>\n",
       "      <td>6000</td>\n",
       "      <td>6000</td>\n",
       "      <td>6000</td>\n",
       "    </tr>\n",
       "    <tr>\n",
       "      <th>1</th>\n",
       "      <td>3200</td>\n",
       "      <td>3200</td>\n",
       "      <td>3200</td>\n",
       "      <td>3200</td>\n",
       "      <td>3200</td>\n",
       "      <td>3200</td>\n",
       "      <td>3193</td>\n",
       "      <td>3200</td>\n",
       "      <td>3200</td>\n",
       "      <td>3200</td>\n",
       "    </tr>\n",
       "    <tr>\n",
       "      <th>2</th>\n",
       "      <td>6000</td>\n",
       "      <td>6000</td>\n",
       "      <td>6000</td>\n",
       "      <td>6000</td>\n",
       "      <td>6000</td>\n",
       "      <td>6000</td>\n",
       "      <td>5975</td>\n",
       "      <td>6000</td>\n",
       "      <td>6000</td>\n",
       "      <td>6000</td>\n",
       "    </tr>\n",
       "  </tbody>\n",
       "</table>\n",
       "</div>"
      ],
      "text/plain": [
       "       author  created_utc    id  num_comments  permalink  score  selftext  \\\n",
       "label                                                                        \n",
       "0        6000         6000  6000          6000       6000   6000      6000   \n",
       "1        3200         3200  3200          3200       3200   3200      3193   \n",
       "2        6000         6000  6000          6000       6000   6000      5975   \n",
       "\n",
       "       subreddit  title   url  \n",
       "label                          \n",
       "0           6000   6000  6000  \n",
       "1           3200   3200  3200  \n",
       "2           6000   6000  6000  "
      ]
     },
     "execution_count": 65,
     "metadata": {},
     "output_type": "execute_result"
    }
   ],
   "source": [
    "valid.groupby(by='label').count()"
   ]
  },
  {
   "cell_type": "code",
   "execution_count": 64,
   "metadata": {},
   "outputs": [
    {
     "data": {
      "text/html": [
       "<div>\n",
       "<style scoped>\n",
       "    .dataframe tbody tr th:only-of-type {\n",
       "        vertical-align: middle;\n",
       "    }\n",
       "\n",
       "    .dataframe tbody tr th {\n",
       "        vertical-align: top;\n",
       "    }\n",
       "\n",
       "    .dataframe thead th {\n",
       "        text-align: right;\n",
       "    }\n",
       "</style>\n",
       "<table border=\"1\" class=\"dataframe\">\n",
       "  <thead>\n",
       "    <tr style=\"text-align: right;\">\n",
       "      <th></th>\n",
       "      <th>author</th>\n",
       "      <th>created_utc</th>\n",
       "      <th>id</th>\n",
       "      <th>num_comments</th>\n",
       "      <th>permalink</th>\n",
       "      <th>score</th>\n",
       "      <th>selftext</th>\n",
       "      <th>subreddit</th>\n",
       "      <th>title</th>\n",
       "      <th>url</th>\n",
       "    </tr>\n",
       "    <tr>\n",
       "      <th>label</th>\n",
       "      <th></th>\n",
       "      <th></th>\n",
       "      <th></th>\n",
       "      <th></th>\n",
       "      <th></th>\n",
       "      <th></th>\n",
       "      <th></th>\n",
       "      <th></th>\n",
       "      <th></th>\n",
       "      <th></th>\n",
       "    </tr>\n",
       "  </thead>\n",
       "  <tbody>\n",
       "    <tr>\n",
       "      <th>0</th>\n",
       "      <td>1312069</td>\n",
       "      <td>1312069</td>\n",
       "      <td>1312069</td>\n",
       "      <td>1312069</td>\n",
       "      <td>1312069</td>\n",
       "      <td>1312069</td>\n",
       "      <td>1312068</td>\n",
       "      <td>1312069</td>\n",
       "      <td>1312069</td>\n",
       "      <td>1312069</td>\n",
       "    </tr>\n",
       "    <tr>\n",
       "      <th>1</th>\n",
       "      <td>93416</td>\n",
       "      <td>93416</td>\n",
       "      <td>93416</td>\n",
       "      <td>93416</td>\n",
       "      <td>93416</td>\n",
       "      <td>93416</td>\n",
       "      <td>93255</td>\n",
       "      <td>93416</td>\n",
       "      <td>93416</td>\n",
       "      <td>93416</td>\n",
       "    </tr>\n",
       "    <tr>\n",
       "      <th>2</th>\n",
       "      <td>2989</td>\n",
       "      <td>2989</td>\n",
       "      <td>2989</td>\n",
       "      <td>2989</td>\n",
       "      <td>2989</td>\n",
       "      <td>2989</td>\n",
       "      <td>2974</td>\n",
       "      <td>2989</td>\n",
       "      <td>2989</td>\n",
       "      <td>2989</td>\n",
       "    </tr>\n",
       "  </tbody>\n",
       "</table>\n",
       "</div>"
      ],
      "text/plain": [
       "        author  created_utc       id  num_comments  permalink    score  \\\n",
       "label                                                                    \n",
       "0      1312069      1312069  1312069       1312069    1312069  1312069   \n",
       "1        93416        93416    93416         93416      93416    93416   \n",
       "2         2989         2989     2989          2989       2989     2989   \n",
       "\n",
       "       selftext  subreddit    title      url  \n",
       "label                                         \n",
       "0       1312068    1312069  1312069  1312069  \n",
       "1         93255      93416    93416    93416  \n",
       "2          2974       2989     2989     2989  "
      ]
     },
     "execution_count": 64,
     "metadata": {},
     "output_type": "execute_result"
    }
   ],
   "source": [
    "test.groupby(by='label').count()"
   ]
  },
  {
   "cell_type": "code",
   "execution_count": 67,
   "metadata": {},
   "outputs": [
    {
     "data": {
      "text/plain": [
       "aww                     21529\n",
       "NoNewNormal             20957\n",
       "CovidVaccinated         19255\n",
       "VACCINES                 3004\n",
       "TrueAntiVaccination       872\n",
       "KidsAreFuckingStupid      872\n",
       "covidskepticscanada       630\n",
       "natureismetal             599\n",
       "YouWillSurviveIt          522\n",
       "vacci_nation              366\n",
       "CoronaVaccines            219\n",
       "vaccinesideeffects         85\n",
       "FUCKCHINAVIRUS             38\n",
       "ParentingWithoutFear       36\n",
       "CovidIsACult               16\n",
       "Name: subreddit, dtype: int64"
      ]
     },
     "execution_count": 67,
     "metadata": {},
     "output_type": "execute_result"
    }
   ],
   "source": [
    "train['subreddit'].value_counts()"
   ]
  },
  {
   "cell_type": "code",
   "execution_count": 68,
   "metadata": {},
   "outputs": [],
   "source": [
    "train.to_pickle('../../../Files/Submissions/train/train_split_submission.pickle')\n",
    "valid.to_pickle('../../../Files/Submissions/train/val_split_submission.pickle')\n",
    "test.to_pickle('../../../Files/Submissions/train/test_split_submission.pickle')"
   ]
  }
 ],
 "metadata": {
  "kernelspec": {
   "display_name": "Python 3.9.12 ('reddit_env_test')",
   "language": "python",
   "name": "python3"
  },
  "language_info": {
   "codemirror_mode": {
    "name": "ipython",
    "version": 3
   },
   "file_extension": ".py",
   "mimetype": "text/x-python",
   "name": "python",
   "nbconvert_exporter": "python",
   "pygments_lexer": "ipython3",
   "version": "3.9.12"
  },
  "orig_nbformat": 4,
  "vscode": {
   "interpreter": {
    "hash": "6c5bfe69c2b2d435baea75ee1a7865fc7666bb526179204de658e4f2811cb086"
   }
  }
 },
 "nbformat": 4,
 "nbformat_minor": 2
}
