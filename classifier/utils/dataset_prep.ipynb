{
 "cells": [
  {
   "cell_type": "code",
   "execution_count": 127,
   "metadata": {},
   "outputs": [],
   "source": [
    "import pandas as pd \n",
    "import numpy as np\n",
    "import sklearn as skl\n",
    "import datasets\n",
    "from sklearn.model_selection import train_test_split\n",
    "import os"
   ]
  },
  {
   "cell_type": "markdown",
   "metadata": {},
   "source": [
    "## Create Train / Validate / Test Set"
   ]
  },
  {
   "cell_type": "code",
   "execution_count": 82,
   "metadata": {},
   "outputs": [],
   "source": [
    "# 1 is anti vaccine, 2 is pro vaccine, 0 is noise\n",
    "train_anti_label = {\n",
    "    'CovidIsACult' : 1, #done\n",
    "    'covidskepticscanada': 1, #to be merged\n",
    "    'FUCKCHINAVIRUS' : 1, #to be merged\n",
    "    'ParentingWithoutFear': 1, #done\n",
    "    'TrueAntiVaccination': 1, #to be merged\n",
    "    'vaccinesideeffects' : 1, #to be merged\n",
    "    'vacci_nation' : 1, #to be merged\n",
    "    'NoNewNormal': 1, #done\n",
    "}\n",
    "train_pro_label = {\n",
    "    'CoronaVaccines' : 2, #to merge\n",
    "    'CovidVaccinated' : 2, #to merge\n",
    "    'VACCINES': 2, #done\n",
    "\n",
    "}\n",
    "\n",
    "noise_label = {\n",
    "    'aww': 0, # done\n",
    "    'KidsAreFuckingStupid': 0, #done\n",
    "    'natureismetal': 0, # done\n",
    "}\n"
   ]
  },
  {
   "cell_type": "markdown",
   "metadata": {},
   "source": [
    "### Submissions"
   ]
  },
  {
   "cell_type": "code",
   "execution_count": 3,
   "metadata": {},
   "outputs": [
    {
     "name": "stdout",
     "output_type": "stream",
     "text": [
      "CovidIsACult 115\n",
      "covidskepticscanada 3062\n",
      "FUCKCHINAVIRUS 171\n",
      "ParentingWithoutFear 216\n",
      "TrueAntiVaccination 4394\n",
      "vaccinesideeffects 467\n",
      "vacci_nation 1899\n",
      "NoNewNormal 109292\n"
     ]
    }
   ],
   "source": [
    "df = pd.DataFrame()\n",
    "for key in train_anti_label:\n",
    "    temp = pd.read_pickle(os.path.join('../../../Files/Submissions/train/'+key+'.pickle'))\n",
    "    print(key, len(temp))\n",
    "    df = pd.concat([df, temp])\n",
    "\n",
    "df['label'] = df.subreddit.map(train_anti_label)"
   ]
  },
  {
   "cell_type": "code",
   "execution_count": 4,
   "metadata": {},
   "outputs": [
    {
     "name": "stdout",
     "output_type": "stream",
     "text": [
      "CoronaVaccines 307\n",
      "CovidVaccinated 26721\n",
      "VACCINES 4236\n",
      "YouWillSurviveIt 725\n"
     ]
    }
   ],
   "source": [
    "df2 = pd.DataFrame()\n",
    "for key in train_pro_label:\n",
    "    temp = pd.read_pickle(os.path.join('../../../Files/Submissions/train/'+key+'.pickle'))\n",
    "    print(key, len(temp))\n",
    "    df2 = pd.concat([df2, temp])\n",
    "\n",
    "df2['label'] = df2.subreddit.map(train_pro_label)"
   ]
  },
  {
   "cell_type": "code",
   "execution_count": 5,
   "metadata": {},
   "outputs": [
    {
     "name": "stdout",
     "output_type": "stream",
     "text": [
      "aww 1251041\n",
      "KidsAreFuckingStupid 52807\n",
      "natureismetal 37221\n"
     ]
    }
   ],
   "source": [
    "df3 = pd.DataFrame()\n",
    "for key in noise_label:\n",
    "    temp = pd.read_pickle(os.path.join('../../../Files/Submissions/train/'+key+'.pickle'))\n",
    "    print(key, len(temp))\n",
    "    df3 = pd.concat([df3, temp])\n",
    "\n",
    "df3['label'] = df3.subreddit.map(noise_label)"
   ]
  },
  {
   "cell_type": "code",
   "execution_count": 6,
   "metadata": {},
   "outputs": [
    {
     "name": "stdout",
     "output_type": "stream",
     "text": [
      "119616 31989 1341069\n"
     ]
    }
   ],
   "source": [
    "print(len(df), len(df2), len(df3))"
   ]
  },
  {
   "cell_type": "code",
   "execution_count": 7,
   "metadata": {},
   "outputs": [],
   "source": [
    "\n",
    "anti_train = df.sample(n=23000, random_state=42)\n",
    "pro_train = df2.sample(n=23000, random_state=42)\n",
    "noise_train = df3.sample(n=23000 , random_state = 42)"
   ]
  },
  {
   "cell_type": "code",
   "execution_count": 8,
   "metadata": {},
   "outputs": [],
   "source": [
    "anti_temp = pd.concat([df, anti_train, anti_train]).drop_duplicates(keep=False)\n",
    "pro_temp = pd.concat([df2, pro_train, pro_train]).drop_duplicates(keep=False)\n",
    "noise_temp = pd.concat([df3, noise_train, noise_train]).drop_duplicates(keep=False)"
   ]
  },
  {
   "cell_type": "code",
   "execution_count": 9,
   "metadata": {},
   "outputs": [],
   "source": [
    "train = pd.concat([anti_train, pro_train, noise_train]).sample(frac=1).reset_index(drop=True) #merge and shuffle"
   ]
  },
  {
   "cell_type": "code",
   "execution_count": 10,
   "metadata": {},
   "outputs": [],
   "source": [
    "anti_val = anti_temp.sample(n=6000, random_state=42)\n",
    "pro_val = pro_temp.sample(n=3200, random_state=42)\n",
    "noise_val = noise_temp.sample(n=6000, random_state=42)"
   ]
  },
  {
   "cell_type": "code",
   "execution_count": 11,
   "metadata": {},
   "outputs": [],
   "source": [
    "valid = pd.concat([anti_val, pro_val, noise_val]).sample(frac=1).reset_index(drop=True)"
   ]
  },
  {
   "cell_type": "code",
   "execution_count": 12,
   "metadata": {},
   "outputs": [],
   "source": [
    "anti_test = pd.concat([anti_temp, anti_val, anti_val]).drop_duplicates(keep=False)\n",
    "pro_test = pd.concat([pro_temp, pro_val, pro_val]).drop_duplicates(keep=False)\n",
    "noise_test = pd.concat([noise_temp, noise_val, noise_val]).drop_duplicates(keep=False)"
   ]
  },
  {
   "cell_type": "code",
   "execution_count": 13,
   "metadata": {},
   "outputs": [],
   "source": [
    "test = pd.concat([anti_test, pro_test, noise_test]).sample(frac=1).reset_index(drop=True)"
   ]
  },
  {
   "cell_type": "code",
   "execution_count": 14,
   "metadata": {},
   "outputs": [
    {
     "name": "stdout",
     "output_type": "stream",
     "text": [
      "69000 15200 1408474\n"
     ]
    }
   ],
   "source": [
    "print(len(train), len(valid), len(test))"
   ]
  },
  {
   "cell_type": "code",
   "execution_count": 15,
   "metadata": {},
   "outputs": [],
   "source": [
    "train.drop('selftext', inplace=True, axis=1)\n",
    "valid.drop('selftext', inplace=True, axis=1)\n",
    "test.drop('selftext', inplace=True, axis=1)\n"
   ]
  },
  {
   "cell_type": "code",
   "execution_count": 16,
   "metadata": {},
   "outputs": [
    {
     "data": {
      "text/html": [
       "<div>\n",
       "<style scoped>\n",
       "    .dataframe tbody tr th:only-of-type {\n",
       "        vertical-align: middle;\n",
       "    }\n",
       "\n",
       "    .dataframe tbody tr th {\n",
       "        vertical-align: top;\n",
       "    }\n",
       "\n",
       "    .dataframe thead th {\n",
       "        text-align: right;\n",
       "    }\n",
       "</style>\n",
       "<table border=\"1\" class=\"dataframe\">\n",
       "  <thead>\n",
       "    <tr style=\"text-align: right;\">\n",
       "      <th></th>\n",
       "      <th>author</th>\n",
       "      <th>created_utc</th>\n",
       "      <th>id</th>\n",
       "      <th>num_comments</th>\n",
       "      <th>permalink</th>\n",
       "      <th>score</th>\n",
       "      <th>subreddit</th>\n",
       "      <th>title</th>\n",
       "      <th>url</th>\n",
       "    </tr>\n",
       "    <tr>\n",
       "      <th>label</th>\n",
       "      <th></th>\n",
       "      <th></th>\n",
       "      <th></th>\n",
       "      <th></th>\n",
       "      <th></th>\n",
       "      <th></th>\n",
       "      <th></th>\n",
       "      <th></th>\n",
       "      <th></th>\n",
       "    </tr>\n",
       "  </thead>\n",
       "  <tbody>\n",
       "    <tr>\n",
       "      <th>0</th>\n",
       "      <td>23000</td>\n",
       "      <td>23000</td>\n",
       "      <td>23000</td>\n",
       "      <td>23000</td>\n",
       "      <td>23000</td>\n",
       "      <td>23000</td>\n",
       "      <td>23000</td>\n",
       "      <td>23000</td>\n",
       "      <td>23000</td>\n",
       "    </tr>\n",
       "    <tr>\n",
       "      <th>1</th>\n",
       "      <td>23000</td>\n",
       "      <td>23000</td>\n",
       "      <td>23000</td>\n",
       "      <td>23000</td>\n",
       "      <td>23000</td>\n",
       "      <td>23000</td>\n",
       "      <td>23000</td>\n",
       "      <td>23000</td>\n",
       "      <td>23000</td>\n",
       "    </tr>\n",
       "    <tr>\n",
       "      <th>2</th>\n",
       "      <td>23000</td>\n",
       "      <td>23000</td>\n",
       "      <td>23000</td>\n",
       "      <td>23000</td>\n",
       "      <td>23000</td>\n",
       "      <td>23000</td>\n",
       "      <td>23000</td>\n",
       "      <td>23000</td>\n",
       "      <td>23000</td>\n",
       "    </tr>\n",
       "  </tbody>\n",
       "</table>\n",
       "</div>"
      ],
      "text/plain": [
       "       author  created_utc     id  num_comments  permalink  score  subreddit  \\\n",
       "label                                                                          \n",
       "0       23000        23000  23000         23000      23000  23000      23000   \n",
       "1       23000        23000  23000         23000      23000  23000      23000   \n",
       "2       23000        23000  23000         23000      23000  23000      23000   \n",
       "\n",
       "       title    url  \n",
       "label                \n",
       "0      23000  23000  \n",
       "1      23000  23000  \n",
       "2      23000  23000  "
      ]
     },
     "execution_count": 16,
     "metadata": {},
     "output_type": "execute_result"
    }
   ],
   "source": [
    "train.groupby(by='label').count()"
   ]
  },
  {
   "cell_type": "code",
   "execution_count": 17,
   "metadata": {},
   "outputs": [
    {
     "data": {
      "text/html": [
       "<div>\n",
       "<style scoped>\n",
       "    .dataframe tbody tr th:only-of-type {\n",
       "        vertical-align: middle;\n",
       "    }\n",
       "\n",
       "    .dataframe tbody tr th {\n",
       "        vertical-align: top;\n",
       "    }\n",
       "\n",
       "    .dataframe thead th {\n",
       "        text-align: right;\n",
       "    }\n",
       "</style>\n",
       "<table border=\"1\" class=\"dataframe\">\n",
       "  <thead>\n",
       "    <tr style=\"text-align: right;\">\n",
       "      <th></th>\n",
       "      <th>author</th>\n",
       "      <th>created_utc</th>\n",
       "      <th>id</th>\n",
       "      <th>num_comments</th>\n",
       "      <th>permalink</th>\n",
       "      <th>score</th>\n",
       "      <th>subreddit</th>\n",
       "      <th>title</th>\n",
       "      <th>url</th>\n",
       "    </tr>\n",
       "    <tr>\n",
       "      <th>label</th>\n",
       "      <th></th>\n",
       "      <th></th>\n",
       "      <th></th>\n",
       "      <th></th>\n",
       "      <th></th>\n",
       "      <th></th>\n",
       "      <th></th>\n",
       "      <th></th>\n",
       "      <th></th>\n",
       "    </tr>\n",
       "  </thead>\n",
       "  <tbody>\n",
       "    <tr>\n",
       "      <th>0</th>\n",
       "      <td>6000</td>\n",
       "      <td>6000</td>\n",
       "      <td>6000</td>\n",
       "      <td>6000</td>\n",
       "      <td>6000</td>\n",
       "      <td>6000</td>\n",
       "      <td>6000</td>\n",
       "      <td>6000</td>\n",
       "      <td>6000</td>\n",
       "    </tr>\n",
       "    <tr>\n",
       "      <th>1</th>\n",
       "      <td>6000</td>\n",
       "      <td>6000</td>\n",
       "      <td>6000</td>\n",
       "      <td>6000</td>\n",
       "      <td>6000</td>\n",
       "      <td>6000</td>\n",
       "      <td>6000</td>\n",
       "      <td>6000</td>\n",
       "      <td>6000</td>\n",
       "    </tr>\n",
       "    <tr>\n",
       "      <th>2</th>\n",
       "      <td>3200</td>\n",
       "      <td>3200</td>\n",
       "      <td>3200</td>\n",
       "      <td>3200</td>\n",
       "      <td>3200</td>\n",
       "      <td>3200</td>\n",
       "      <td>3200</td>\n",
       "      <td>3200</td>\n",
       "      <td>3200</td>\n",
       "    </tr>\n",
       "  </tbody>\n",
       "</table>\n",
       "</div>"
      ],
      "text/plain": [
       "       author  created_utc    id  num_comments  permalink  score  subreddit  \\\n",
       "label                                                                         \n",
       "0        6000         6000  6000          6000       6000   6000       6000   \n",
       "1        6000         6000  6000          6000       6000   6000       6000   \n",
       "2        3200         3200  3200          3200       3200   3200       3200   \n",
       "\n",
       "       title   url  \n",
       "label               \n",
       "0       6000  6000  \n",
       "1       6000  6000  \n",
       "2       3200  3200  "
      ]
     },
     "execution_count": 17,
     "metadata": {},
     "output_type": "execute_result"
    }
   ],
   "source": [
    "valid.groupby(by='label').count()"
   ]
  },
  {
   "cell_type": "code",
   "execution_count": 18,
   "metadata": {},
   "outputs": [
    {
     "data": {
      "text/html": [
       "<div>\n",
       "<style scoped>\n",
       "    .dataframe tbody tr th:only-of-type {\n",
       "        vertical-align: middle;\n",
       "    }\n",
       "\n",
       "    .dataframe tbody tr th {\n",
       "        vertical-align: top;\n",
       "    }\n",
       "\n",
       "    .dataframe thead th {\n",
       "        text-align: right;\n",
       "    }\n",
       "</style>\n",
       "<table border=\"1\" class=\"dataframe\">\n",
       "  <thead>\n",
       "    <tr style=\"text-align: right;\">\n",
       "      <th></th>\n",
       "      <th>author</th>\n",
       "      <th>created_utc</th>\n",
       "      <th>id</th>\n",
       "      <th>num_comments</th>\n",
       "      <th>permalink</th>\n",
       "      <th>score</th>\n",
       "      <th>subreddit</th>\n",
       "      <th>title</th>\n",
       "      <th>url</th>\n",
       "    </tr>\n",
       "    <tr>\n",
       "      <th>label</th>\n",
       "      <th></th>\n",
       "      <th></th>\n",
       "      <th></th>\n",
       "      <th></th>\n",
       "      <th></th>\n",
       "      <th></th>\n",
       "      <th></th>\n",
       "      <th></th>\n",
       "      <th></th>\n",
       "    </tr>\n",
       "  </thead>\n",
       "  <tbody>\n",
       "    <tr>\n",
       "      <th>0</th>\n",
       "      <td>1312069</td>\n",
       "      <td>1312069</td>\n",
       "      <td>1312069</td>\n",
       "      <td>1312069</td>\n",
       "      <td>1312069</td>\n",
       "      <td>1312069</td>\n",
       "      <td>1312069</td>\n",
       "      <td>1312069</td>\n",
       "      <td>1312069</td>\n",
       "    </tr>\n",
       "    <tr>\n",
       "      <th>1</th>\n",
       "      <td>90616</td>\n",
       "      <td>90616</td>\n",
       "      <td>90616</td>\n",
       "      <td>90616</td>\n",
       "      <td>90616</td>\n",
       "      <td>90616</td>\n",
       "      <td>90616</td>\n",
       "      <td>90616</td>\n",
       "      <td>90616</td>\n",
       "    </tr>\n",
       "    <tr>\n",
       "      <th>2</th>\n",
       "      <td>5789</td>\n",
       "      <td>5789</td>\n",
       "      <td>5789</td>\n",
       "      <td>5789</td>\n",
       "      <td>5789</td>\n",
       "      <td>5789</td>\n",
       "      <td>5789</td>\n",
       "      <td>5789</td>\n",
       "      <td>5789</td>\n",
       "    </tr>\n",
       "  </tbody>\n",
       "</table>\n",
       "</div>"
      ],
      "text/plain": [
       "        author  created_utc       id  num_comments  permalink    score  \\\n",
       "label                                                                    \n",
       "0      1312069      1312069  1312069       1312069    1312069  1312069   \n",
       "1        90616        90616    90616         90616      90616    90616   \n",
       "2         5789         5789     5789          5789       5789     5789   \n",
       "\n",
       "       subreddit    title      url  \n",
       "label                               \n",
       "0        1312069  1312069  1312069  \n",
       "1          90616    90616    90616  \n",
       "2           5789     5789     5789  "
      ]
     },
     "execution_count": 18,
     "metadata": {},
     "output_type": "execute_result"
    }
   ],
   "source": [
    "test.groupby(by='label').count()"
   ]
  },
  {
   "cell_type": "code",
   "execution_count": 19,
   "metadata": {},
   "outputs": [
    {
     "data": {
      "text/plain": [
       "aww                     21529\n",
       "NoNewNormal             20957\n",
       "CovidVaccinated         19255\n",
       "VACCINES                 3004\n",
       "TrueAntiVaccination       872\n",
       "KidsAreFuckingStupid      872\n",
       "covidskepticscanada       630\n",
       "natureismetal             599\n",
       "YouWillSurviveIt          522\n",
       "vacci_nation              366\n",
       "CoronaVaccines            219\n",
       "vaccinesideeffects         85\n",
       "FUCKCHINAVIRUS             38\n",
       "ParentingWithoutFear       36\n",
       "CovidIsACult               16\n",
       "Name: subreddit, dtype: int64"
      ]
     },
     "execution_count": 19,
     "metadata": {},
     "output_type": "execute_result"
    }
   ],
   "source": [
    "train['subreddit'].value_counts()"
   ]
  },
  {
   "cell_type": "markdown",
   "metadata": {},
   "source": [
    "## Comments"
   ]
  },
  {
   "cell_type": "markdown",
   "metadata": {},
   "source": [
    "### Merge Files for which 24 months were not be able to be downloaded (for valid reasons)"
   ]
  },
  {
   "cell_type": "code",
   "execution_count": 39,
   "metadata": {},
   "outputs": [
    {
     "name": "stdout",
     "output_type": "stream",
     "text": [
      "1583017200 2020-03-01 00:00:00\n",
      "1585753050.0 2020-04-01 16:57:30\n",
      "1588488900.0 2020-05-03 08:55:00\n",
      "1591224750.0 2020-06-04 00:52:30\n",
      "1593960600.0 2020-07-05 16:50:00\n",
      "1596696450.0 2020-08-06 08:47:30\n",
      "1599432300.0 2020-09-07 00:45:00\n",
      "1602168150.0 2020-10-08 16:42:30\n",
      "1604904000.0 2020-11-09 07:40:00\n",
      "1607639850.0 2020-12-10 23:37:30\n",
      "1610375700.0 2021-01-11 15:35:00\n",
      "1613111550.0 2021-02-12 07:32:30\n",
      "1615847400.0 2021-03-15 23:30:00\n",
      "1618583250.0 2021-04-16 16:27:30\n",
      "1621319100.0 2021-05-18 08:25:00\n",
      "1624054950.0 2021-06-19 00:22:30\n",
      "1626790800.0 2021-07-20 16:20:00\n",
      "1629526650.0 2021-08-21 08:17:30\n",
      "1632262500.0 2021-09-22 00:15:00\n",
      "1634998350.0 2021-10-23 16:12:30\n",
      "1637734200.0 2021-11-24 07:10:00\n",
      "1640470050.0 2021-12-25 23:07:30\n",
      "1643205900.0 2022-01-26 15:05:00\n",
      "1645941750.0 2022-02-27 07:02:30\n",
      "1648677600.0 2022-03-31 00:00:00\n"
     ]
    }
   ],
   "source": [
    "import datetime\n",
    "start = int(datetime.datetime(2020, 3, 1).timestamp())\n",
    "end = int(datetime.datetime(2022, 3, 31).timestamp())\n",
    "split = 24\n",
    "step = (end - start) / split\n",
    "i = start\n",
    "while i <= end:\n",
    "    print(i, datetime.datetime.fromtimestamp(i))\n",
    "    i += step"
   ]
  },
  {
   "cell_type": "code",
   "execution_count": 79,
   "metadata": {},
   "outputs": [],
   "source": [
    "files = []\n",
    "for key, value in train_pro_label.items():\n",
    "    files.append(key)"
   ]
  },
  {
   "cell_type": "code",
   "execution_count": 80,
   "metadata": {},
   "outputs": [
    {
     "name": "stdout",
     "output_type": "stream",
     "text": [
      "CoronaVaccines merged\n",
      "CovidVaccinated merged\n",
      "VACCINES merged\n"
     ]
    }
   ],
   "source": [
    "for file in files:\n",
    "\n",
    "    merge_data = os.listdir('../../../Files/Comments/temp')\n",
    "    merged_data = [k for k in merge_data if k.startswith(file)]\n",
    "\n",
    "    if len(merged_data) > 0:\n",
    "        df = pd.concat([pd.read_pickle(os.path.join('../../../Files/Comments/temp',candidate)) for candidate in merged_data])\n",
    "        df.to_pickle(f'../../../Files/Comments/train/{file}.pickle')\n",
    "        print(f'{file} merged')\n",
    "        for i in merged_data:\n",
    "            os.remove(os.path.join('../../../Files/Comments/temp',i))"
   ]
  },
  {
   "cell_type": "code",
   "execution_count": 62,
   "metadata": {},
   "outputs": [
    {
     "data": {
      "text/plain": [
       "'covidskepticscanada'"
      ]
     },
     "execution_count": 62,
     "metadata": {},
     "output_type": "execute_result"
    }
   ],
   "source": [
    "file"
   ]
  },
  {
   "cell_type": "code",
   "execution_count": 74,
   "metadata": {},
   "outputs": [],
   "source": [
    "merged_data.sort()"
   ]
  },
  {
   "cell_type": "code",
   "execution_count": 81,
   "metadata": {},
   "outputs": [
    {
     "data": {
      "text/plain": [
       "['VACCINES-1640470050.pickle',\n",
       " 'VACCINES-1624054950.pickle',\n",
       " 'VACCINES-1618583250.pickle']"
      ]
     },
     "execution_count": 81,
     "metadata": {},
     "output_type": "execute_result"
    }
   ],
   "source": [
    "merged_data"
   ]
  },
  {
   "cell_type": "markdown",
   "metadata": {},
   "source": [
    "### Generate Training Data"
   ]
  },
  {
   "cell_type": "code",
   "execution_count": 83,
   "metadata": {},
   "outputs": [
    {
     "name": "stdout",
     "output_type": "stream",
     "text": [
      "CovidIsACult 60\n",
      "covidskepticscanada 4460\n",
      "FUCKCHINAVIRUS 6\n",
      "ParentingWithoutFear 1749\n",
      "TrueAntiVaccination 29031\n",
      "vaccinesideeffects 1031\n",
      "vacci_nation 3429\n",
      "NoNewNormal 2029455\n"
     ]
    }
   ],
   "source": [
    "df = pd.DataFrame()\n",
    "for key in train_anti_label:\n",
    "    temp = pd.read_pickle(os.path.join('../../../Files/Comments/train/'+key+'.pickle'))\n",
    "    print(key, len(temp))\n",
    "    df = pd.concat([df, temp])\n",
    "\n",
    "df['label'] = df.subreddit.map(train_anti_label)"
   ]
  },
  {
   "cell_type": "code",
   "execution_count": 84,
   "metadata": {},
   "outputs": [
    {
     "name": "stdout",
     "output_type": "stream",
     "text": [
      "CoronaVaccines 1129\n",
      "CovidVaccinated 260610\n",
      "VACCINES 14897\n"
     ]
    }
   ],
   "source": [
    "df2 = pd.DataFrame()\n",
    "for key in train_pro_label:\n",
    "    temp = pd.read_pickle(os.path.join('../../../Files/Comments/train/'+key+'.pickle'))\n",
    "    print(key, len(temp))\n",
    "    df2 = pd.concat([df2, temp])\n",
    "\n",
    "df2['label'] = df2.subreddit.map(train_pro_label)"
   ]
  },
  {
   "cell_type": "code",
   "execution_count": 86,
   "metadata": {},
   "outputs": [
    {
     "name": "stdout",
     "output_type": "stream",
     "text": [
      "aww 7435352\n",
      "KidsAreFuckingStupid 1714125\n",
      "natureismetal 1478510\n"
     ]
    }
   ],
   "source": [
    "df3 = pd.DataFrame()\n",
    "for key in noise_label:\n",
    "    temp = pd.read_pickle(os.path.join('../../../Files/Comments/train/'+key+'.pickle'))\n",
    "    print(key, len(temp))\n",
    "    df3 = pd.concat([df3, temp])\n",
    "\n",
    "df3['label'] = df3.subreddit.map(noise_label)"
   ]
  },
  {
   "cell_type": "code",
   "execution_count": 87,
   "metadata": {},
   "outputs": [
    {
     "name": "stdout",
     "output_type": "stream",
     "text": [
      "2069221 276636 10627987\n"
     ]
    }
   ],
   "source": [
    "print(len(df), len(df2), len(df3))"
   ]
  },
  {
   "cell_type": "code",
   "execution_count": 92,
   "metadata": {},
   "outputs": [],
   "source": [
    "\n",
    "anti_train = df.sample(n=100000, random_state=42)\n",
    "pro_train = df2.sample(n=100000, random_state=42)\n",
    "noise_train = df3.sample(n=100000 , random_state=42)"
   ]
  },
  {
   "cell_type": "code",
   "execution_count": 93,
   "metadata": {},
   "outputs": [],
   "source": [
    "# Create temp df to avoid having spillage in our validation & test dataset\n",
    "anti_temp = pd.concat([df, anti_train, anti_train]).drop_duplicates(keep=False)\n",
    "pro_temp = pd.concat([df2, pro_train, pro_train]).drop_duplicates(keep=False)\n",
    "noise_temp = pd.concat([df3, noise_train, noise_train]).drop_duplicates(keep=False)"
   ]
  },
  {
   "cell_type": "code",
   "execution_count": 94,
   "metadata": {},
   "outputs": [],
   "source": [
    "train = pd.concat([anti_train, pro_train, noise_train]).sample(frac=1).reset_index(drop=True) #merge and shuffle"
   ]
  },
  {
   "cell_type": "code",
   "execution_count": 95,
   "metadata": {},
   "outputs": [],
   "source": [
    "anti_val = anti_temp.sample(n=50000, random_state=42)\n",
    "pro_val = pro_temp.sample(n=10000, random_state=42)\n",
    "noise_val = noise_temp.sample(n=100000, random_state=42)"
   ]
  },
  {
   "cell_type": "code",
   "execution_count": 96,
   "metadata": {},
   "outputs": [],
   "source": [
    "#since there are so many comment, we will sample from these as well\n",
    "anti_test = pd.concat([anti_temp, anti_val, anti_val]).drop_duplicates(keep=False).sample(n=80000, random_state=42)\n",
    "pro_test = pd.concat([pro_temp, pro_val, pro_val]).drop_duplicates(keep=False).sample(n=10000, random_state=42)\n",
    "noise_test = pd.concat([noise_temp, noise_val, noise_val]).drop_duplicates(keep=False).sample(n=140000, random_state=42)"
   ]
  },
  {
   "cell_type": "code",
   "execution_count": 97,
   "metadata": {},
   "outputs": [],
   "source": [
    "valid = pd.concat([anti_val, pro_val, noise_val]).sample(frac=1).reset_index(drop=True)"
   ]
  },
  {
   "cell_type": "code",
   "execution_count": 98,
   "metadata": {},
   "outputs": [],
   "source": [
    "test = pd.concat([anti_test, pro_test, noise_test]).sample(frac=1).reset_index(drop=True)"
   ]
  },
  {
   "cell_type": "code",
   "execution_count": 99,
   "metadata": {},
   "outputs": [
    {
     "name": "stdout",
     "output_type": "stream",
     "text": [
      "300000 160000 230000\n"
     ]
    }
   ],
   "source": [
    "print(len(train), len(valid), len(test))"
   ]
  },
  {
   "cell_type": "code",
   "execution_count": 103,
   "metadata": {},
   "outputs": [],
   "source": [
    "test.drop('index', inplace=True, axis=1)"
   ]
  },
  {
   "cell_type": "code",
   "execution_count": 113,
   "metadata": {},
   "outputs": [],
   "source": [
    "train.drop('index', inplace=True, axis=1)\n",
    "valid.drop('index', inplace=True, axis=1)"
   ]
  },
  {
   "cell_type": "markdown",
   "metadata": {},
   "source": [
    "## Text Preprocessing"
   ]
  },
  {
   "cell_type": "code",
   "execution_count": 110,
   "metadata": {},
   "outputs": [],
   "source": [
    "import re\n",
    "import spacy\n",
    "nlp = spacy.load('en_core_web_sm')"
   ]
  },
  {
   "cell_type": "code",
   "execution_count": 111,
   "metadata": {},
   "outputs": [],
   "source": [
    "def preprocess(sentence):\n",
    "    sentence=str(sentence)\n",
    "    sentence = sentence.lower()\n",
    "    sentence=sentence.replace('{html}',\"\") \n",
    "    cleantext = re.sub(r'[^\\w\\s]', '', sentence)\n",
    "    rem_url=re.sub(r'http\\S+', '[URL]',cleantext)\n",
    "    rem_num = re.sub('[0-9]+', '[NUM]', rem_url)\n",
    "    lemma_words = [token.lemma_ for token in nlp(rem_num) if not token.is_stop]\n",
    "    return \" \".join(lemma_words)"
   ]
  },
  {
   "cell_type": "markdown",
   "metadata": {},
   "source": [
    "### Preprocessing for Post Data"
   ]
  },
  {
   "cell_type": "code",
   "execution_count": 115,
   "metadata": {},
   "outputs": [],
   "source": [
    "subset = train[0:100].copy()"
   ]
  },
  {
   "cell_type": "code",
   "execution_count": 116,
   "metadata": {},
   "outputs": [],
   "source": [
    "subset['body']=subset['body'].map(lambda s:preprocess(s)) "
   ]
  },
  {
   "cell_type": "code",
   "execution_count": 117,
   "metadata": {},
   "outputs": [
    {
     "data": {
      "text/plain": [
       "0     canadian sheep sheep covid[num ] vaccine \\n\\n ...\n",
       "1     read study tell methodology conduct question a...\n",
       "2                                                remove\n",
       "3                                                remove\n",
       "4     sheep slaughter horrible happening stand belie...\n",
       "                            ...                        \n",
       "95                          expect know definitely case\n",
       "96    gttry read articlesinstead react twitter post ...\n",
       "97            second lynx eat bird video ve see morning\n",
       "98    not monitor people long particular vaccine s m...\n",
       "99    wow not jesus sell [ NUM ] peice silver \\n\\n m...\n",
       "Name: body, Length: 100, dtype: object"
      ]
     },
     "execution_count": 117,
     "metadata": {},
     "output_type": "execute_result"
    }
   ],
   "source": [
    "subset.body"
   ]
  },
  {
   "cell_type": "code",
   "execution_count": 34,
   "metadata": {},
   "outputs": [],
   "source": [
    "train['cleanTitle']=train['title'].map(lambda s:preprocess(s)) "
   ]
  },
  {
   "cell_type": "code",
   "execution_count": 35,
   "metadata": {},
   "outputs": [],
   "source": [
    "valid['cleanTitle']=valid['title'].map(lambda s:preprocess(s)) \n",
    "test['cleanTitle']=test['title'].map(lambda s:preprocess(s)) "
   ]
  },
  {
   "cell_type": "code",
   "execution_count": null,
   "metadata": {},
   "outputs": [
    {
     "data": {
      "text/html": [
       "<div>\n",
       "<style scoped>\n",
       "    .dataframe tbody tr th:only-of-type {\n",
       "        vertical-align: middle;\n",
       "    }\n",
       "\n",
       "    .dataframe tbody tr th {\n",
       "        vertical-align: top;\n",
       "    }\n",
       "\n",
       "    .dataframe thead th {\n",
       "        text-align: right;\n",
       "    }\n",
       "</style>\n",
       "<table border=\"1\" class=\"dataframe\">\n",
       "  <thead>\n",
       "    <tr style=\"text-align: right;\">\n",
       "      <th></th>\n",
       "      <th>author</th>\n",
       "      <th>created_utc</th>\n",
       "      <th>id</th>\n",
       "      <th>num_comments</th>\n",
       "      <th>permalink</th>\n",
       "      <th>score</th>\n",
       "      <th>subreddit</th>\n",
       "      <th>title</th>\n",
       "      <th>url</th>\n",
       "      <th>label</th>\n",
       "      <th>cleanTitle</th>\n",
       "    </tr>\n",
       "  </thead>\n",
       "  <tbody>\n",
       "    <tr>\n",
       "      <th>0</th>\n",
       "      <td>FUCK-YOU-SHILL-BOT</td>\n",
       "      <td>1626717793</td>\n",
       "      <td>onjiw2</td>\n",
       "      <td>19</td>\n",
       "      <td>/r/NoNewNormal/comments/onjiw2/the_shill_organ...</td>\n",
       "      <td>1</td>\n",
       "      <td>NoNewNormal</td>\n",
       "      <td>The Shill Organization</td>\n",
       "      <td>https://www.reddit.com/r/NoNewNormal/comments/...</td>\n",
       "      <td>1</td>\n",
       "      <td>shill organization</td>\n",
       "    </tr>\n",
       "    <tr>\n",
       "      <th>1</th>\n",
       "      <td>NoNewAbnormal</td>\n",
       "      <td>1611970473</td>\n",
       "      <td>l8agl0</td>\n",
       "      <td>1</td>\n",
       "      <td>/r/NoNewNormal/comments/l8agl0/canadian_minist...</td>\n",
       "      <td>1</td>\n",
       "      <td>NoNewNormal</td>\n",
       "      <td>Canadian Minister of Health Patty Hajdu: \"bord...</td>\n",
       "      <td>https://www.reddit.com/r/NoNewNormal/comments/...</td>\n",
       "      <td>1</td>\n",
       "      <td>canadian minister health patty hajdu border me...</td>\n",
       "    </tr>\n",
       "    <tr>\n",
       "      <th>2</th>\n",
       "      <td>Fancy_Ppants</td>\n",
       "      <td>1630446410</td>\n",
       "      <td>pffnxc</td>\n",
       "      <td>1</td>\n",
       "      <td>/r/VACCINES/comments/pffnxc/a_step_in_the_righ...</td>\n",
       "      <td>1</td>\n",
       "      <td>VACCINES</td>\n",
       "      <td>A step in the right direction! Got the Dolly P...</td>\n",
       "      <td>https://i.redd.it/wbqozcvqkrk71.jpg</td>\n",
       "      <td>2</td>\n",
       "      <td>step right direction got dolly parton jab toda...</td>\n",
       "    </tr>\n",
       "    <tr>\n",
       "      <th>3</th>\n",
       "      <td>meowwwwza1</td>\n",
       "      <td>1612048331</td>\n",
       "      <td>l8yekp</td>\n",
       "      <td>3</td>\n",
       "      <td>/r/CovidVaccinated/comments/l8yekp/pfizer_dela...</td>\n",
       "      <td>1</td>\n",
       "      <td>CovidVaccinated</td>\n",
       "      <td>Pfizer delayed redness</td>\n",
       "      <td>https://www.reddit.com/r/CovidVaccinated/comme...</td>\n",
       "      <td>2</td>\n",
       "      <td>pfizer delayed redness</td>\n",
       "    </tr>\n",
       "    <tr>\n",
       "      <th>4</th>\n",
       "      <td>northmeetssouth4224</td>\n",
       "      <td>1631152009</td>\n",
       "      <td>pko3go</td>\n",
       "      <td>0</td>\n",
       "      <td>/r/VACCINES/comments/pko3go/i_want_the_vaccine...</td>\n",
       "      <td>1</td>\n",
       "      <td>VACCINES</td>\n",
       "      <td>I want the vaccine. I have 2 Pfizer. I want to...</td>\n",
       "      <td>https://www.reddit.com/r/VACCINES/comments/pko...</td>\n",
       "      <td>2</td>\n",
       "      <td>want vaccine pfizer want get moderna instead a...</td>\n",
       "    </tr>\n",
       "  </tbody>\n",
       "</table>\n",
       "</div>"
      ],
      "text/plain": [
       "                author  created_utc      id  num_comments  \\\n",
       "0   FUCK-YOU-SHILL-BOT   1626717793  onjiw2            19   \n",
       "1        NoNewAbnormal   1611970473  l8agl0             1   \n",
       "2         Fancy_Ppants   1630446410  pffnxc             1   \n",
       "3           meowwwwza1   1612048331  l8yekp             3   \n",
       "4  northmeetssouth4224   1631152009  pko3go             0   \n",
       "\n",
       "                                           permalink  score        subreddit  \\\n",
       "0  /r/NoNewNormal/comments/onjiw2/the_shill_organ...      1      NoNewNormal   \n",
       "1  /r/NoNewNormal/comments/l8agl0/canadian_minist...      1      NoNewNormal   \n",
       "2  /r/VACCINES/comments/pffnxc/a_step_in_the_righ...      1         VACCINES   \n",
       "3  /r/CovidVaccinated/comments/l8yekp/pfizer_dela...      1  CovidVaccinated   \n",
       "4  /r/VACCINES/comments/pko3go/i_want_the_vaccine...      1         VACCINES   \n",
       "\n",
       "                                               title  \\\n",
       "0                             The Shill Organization   \n",
       "1  Canadian Minister of Health Patty Hajdu: \"bord...   \n",
       "2  A step in the right direction! Got the Dolly P...   \n",
       "3                             Pfizer delayed redness   \n",
       "4  I want the vaccine. I have 2 Pfizer. I want to...   \n",
       "\n",
       "                                                 url  label  \\\n",
       "0  https://www.reddit.com/r/NoNewNormal/comments/...      1   \n",
       "1  https://www.reddit.com/r/NoNewNormal/comments/...      1   \n",
       "2                https://i.redd.it/wbqozcvqkrk71.jpg      2   \n",
       "3  https://www.reddit.com/r/CovidVaccinated/comme...      2   \n",
       "4  https://www.reddit.com/r/VACCINES/comments/pko...      2   \n",
       "\n",
       "                                          cleanTitle  \n",
       "0                                 shill organization  \n",
       "1  canadian minister health patty hajdu border me...  \n",
       "2  step right direction got dolly parton jab toda...  \n",
       "3                             pfizer delayed redness  \n",
       "4  want vaccine pfizer want get moderna instead a...  "
      ]
     },
     "execution_count": 33,
     "metadata": {},
     "output_type": "execute_result"
    }
   ],
   "source": [
    "train.head()"
   ]
  },
  {
   "cell_type": "code",
   "execution_count": 36,
   "metadata": {},
   "outputs": [],
   "source": [
    "train.to_pickle('../../../Files/Submissions/train/train_split_submission.pickle')\n",
    "valid.to_pickle('../../../Files/Submissions/train/val_split_submission.pickle')\n",
    "test.to_pickle('../../../Files/Submissions/train/test_split_submission.pickle')"
   ]
  },
  {
   "cell_type": "code",
   "execution_count": 6,
   "metadata": {},
   "outputs": [],
   "source": [
    "valid = pd.read_pickle('../../../Files/Submissions/train/val_split_submission.pickle')\n",
    "test = pd.read_pickle('../../../Files/Submissions/train/test_split_submission.pickle')"
   ]
  },
  {
   "cell_type": "code",
   "execution_count": 4,
   "metadata": {},
   "outputs": [],
   "source": [
    "train = pd.read_pickle('../../../Files/Submissions/train/train_split_submission.pickle')"
   ]
  },
  {
   "cell_type": "code",
   "execution_count": 4,
   "metadata": {},
   "outputs": [
    {
     "data": {
      "text/plain": [
       "<AxesSubplot:>"
      ]
     },
     "execution_count": 4,
     "metadata": {},
     "output_type": "execute_result"
    },
    {
     "data": {
      "image/png": "[encoded data removed]",
      "text/plain": [
       "<Figure size 432x288 with 1 Axes>"
      ]
     },
     "metadata": {
      "needs_background": "light"
     },
     "output_type": "display_data"
    }
   ],
   "source": [
    "train['subreddit'].value_counts().plot(kind='bar')"
   ]
  },
  {
   "cell_type": "markdown",
   "metadata": {},
   "source": [
    "### Preprocessing for Comments"
   ]
  },
  {
   "cell_type": "code",
   "execution_count": 118,
   "metadata": {},
   "outputs": [],
   "source": [
    "train['cleanBody']=train['body'].map(lambda s:preprocess(s)) "
   ]
  },
  {
   "cell_type": "code",
   "execution_count": 121,
   "metadata": {},
   "outputs": [],
   "source": [
    "valid['cleanBody']=valid['body'].map(lambda s:preprocess(s)) "
   ]
  },
  {
   "cell_type": "code",
   "execution_count": 124,
   "metadata": {},
   "outputs": [],
   "source": [
    "test['cleanBody']=test['body'].map(lambda s:preprocess(s)) "
   ]
  },
  {
   "cell_type": "code",
   "execution_count": 122,
   "metadata": {},
   "outputs": [],
   "source": [
    "# train.to_pickle('../../../Files/Comments/train/train_split_submission.pickle')\n",
    "valid.to_pickle('../../../Files/Comments/train/val_split_submission.pickle')\n"
   ]
  },
  {
   "cell_type": "code",
   "execution_count": 125,
   "metadata": {},
   "outputs": [],
   "source": [
    "test.to_pickle('../../../Files/Comments/train/test_split_submission.pickle')"
   ]
  },
  {
   "cell_type": "code",
   "execution_count": 126,
   "metadata": {},
   "outputs": [
    {
     "ename": "FileNotFoundError",
     "evalue": "[Errno 2] No such file or directory: '../../../Files/Comments/train/train_split_submission.pickle'",
     "output_type": "error",
     "traceback": [
      "\u001b[0;31m---------------------------------------------------------------------------\u001b[0m",
      "\u001b[0;31mFileNotFoundError\u001b[0m                         Traceback (most recent call last)",
      "\u001b[1;32m/Users/jakobschlierf/Desktop/Master/Thesis/Github/classifier/utils/dataset_prep.ipynb Cell 65\u001b[0m in \u001b[0;36m<cell line: 1>\u001b[0;34m()\u001b[0m\n\u001b[0;32m----> <a href='vscode-notebook-cell:/Users/jakobschlierf/Desktop/Master/Thesis/Github/classifier/utils/dataset_prep.ipynb#Y145sZmlsZQ%3D%3D?line=0'>1</a>\u001b[0m train \u001b[39m=\u001b[39m pd\u001b[39m.\u001b[39;49mread_pickle(\u001b[39m'\u001b[39;49m\u001b[39m../../../Files/Comments/train/train_split_submission.pickle\u001b[39;49m\u001b[39m'\u001b[39;49m)\n",
      "File \u001b[0;32m~/opt/anaconda3/envs/reddit_env_test/lib/python3.9/site-packages/pandas/io/pickle.py:187\u001b[0m, in \u001b[0;36mread_pickle\u001b[0;34m(filepath_or_buffer, compression, storage_options)\u001b[0m\n\u001b[1;32m    124\u001b[0m \u001b[39m\"\"\"\u001b[39;00m\n\u001b[1;32m    125\u001b[0m \u001b[39mLoad pickled pandas object (or any object) from file.\u001b[39;00m\n\u001b[1;32m    126\u001b[0m \n\u001b[0;32m   (...)\u001b[0m\n\u001b[1;32m    184\u001b[0m \u001b[39m4    4    9\u001b[39;00m\n\u001b[1;32m    185\u001b[0m \u001b[39m\"\"\"\u001b[39;00m  \u001b[39m# noqa: E501\u001b[39;00m\n\u001b[1;32m    186\u001b[0m excs_to_catch \u001b[39m=\u001b[39m (\u001b[39mAttributeError\u001b[39;00m, \u001b[39mImportError\u001b[39;00m, \u001b[39mModuleNotFoundError\u001b[39;00m, \u001b[39mTypeError\u001b[39;00m)\n\u001b[0;32m--> 187\u001b[0m \u001b[39mwith\u001b[39;00m get_handle(\n\u001b[1;32m    188\u001b[0m     filepath_or_buffer,\n\u001b[1;32m    189\u001b[0m     \u001b[39m\"\u001b[39;49m\u001b[39mrb\u001b[39;49m\u001b[39m\"\u001b[39;49m,\n\u001b[1;32m    190\u001b[0m     compression\u001b[39m=\u001b[39;49mcompression,\n\u001b[1;32m    191\u001b[0m     is_text\u001b[39m=\u001b[39;49m\u001b[39mFalse\u001b[39;49;00m,\n\u001b[1;32m    192\u001b[0m     storage_options\u001b[39m=\u001b[39;49mstorage_options,\n\u001b[1;32m    193\u001b[0m ) \u001b[39mas\u001b[39;00m handles:\n\u001b[1;32m    194\u001b[0m \n\u001b[1;32m    195\u001b[0m     \u001b[39m# 1) try standard library Pickle\u001b[39;00m\n\u001b[1;32m    196\u001b[0m     \u001b[39m# 2) try pickle_compat (older pandas version) to handle subclass changes\u001b[39;00m\n\u001b[1;32m    197\u001b[0m     \u001b[39m# 3) try pickle_compat with latin-1 encoding upon a UnicodeDecodeError\u001b[39;00m\n\u001b[1;32m    199\u001b[0m     \u001b[39mtry\u001b[39;00m:\n\u001b[1;32m    200\u001b[0m         \u001b[39m# TypeError for Cython complaints about object.__new__ vs Tick.__new__\u001b[39;00m\n\u001b[1;32m    201\u001b[0m         \u001b[39mtry\u001b[39;00m:\n",
      "File \u001b[0;32m~/opt/anaconda3/envs/reddit_env_test/lib/python3.9/site-packages/pandas/io/common.py:798\u001b[0m, in \u001b[0;36mget_handle\u001b[0;34m(path_or_buf, mode, encoding, compression, memory_map, is_text, errors, storage_options)\u001b[0m\n\u001b[1;32m    789\u001b[0m         handle \u001b[39m=\u001b[39m \u001b[39mopen\u001b[39m(\n\u001b[1;32m    790\u001b[0m             handle,\n\u001b[1;32m    791\u001b[0m             ioargs\u001b[39m.\u001b[39mmode,\n\u001b[0;32m   (...)\u001b[0m\n\u001b[1;32m    794\u001b[0m             newline\u001b[39m=\u001b[39m\u001b[39m\"\u001b[39m\u001b[39m\"\u001b[39m,\n\u001b[1;32m    795\u001b[0m         )\n\u001b[1;32m    796\u001b[0m     \u001b[39melse\u001b[39;00m:\n\u001b[1;32m    797\u001b[0m         \u001b[39m# Binary mode\u001b[39;00m\n\u001b[0;32m--> 798\u001b[0m         handle \u001b[39m=\u001b[39m \u001b[39mopen\u001b[39;49m(handle, ioargs\u001b[39m.\u001b[39;49mmode)\n\u001b[1;32m    799\u001b[0m     handles\u001b[39m.\u001b[39mappend(handle)\n\u001b[1;32m    801\u001b[0m \u001b[39m# Convert BytesIO or file objects passed with an encoding\u001b[39;00m\n",
      "\u001b[0;31mFileNotFoundError\u001b[0m: [Errno 2] No such file or directory: '../../../Files/Comments/train/train_split_submission.pickle'"
     ]
    }
   ],
   "source": [
    "train = pd.read_pickle('../../../Files/Comments/train/train_split_submission.pickle')"
   ]
  },
  {
   "cell_type": "markdown",
   "metadata": {},
   "source": [
    "## Preprocessing Posts for Scoring"
   ]
  },
  {
   "cell_type": "code",
   "execution_count": 5,
   "metadata": {},
   "outputs": [],
   "source": [
    "files = os.listdir('../../../Files/Submissions/')"
   ]
  },
  {
   "cell_type": "code",
   "execution_count": 17,
   "metadata": {},
   "outputs": [],
   "source": [
    "files = ['pics.pickle']"
   ]
  },
  {
   "cell_type": "code",
   "execution_count": 11,
   "metadata": {},
   "outputs": [],
   "source": [
    "for file in files:\n",
    "    if file[-7:] != \".pickle\":\n",
    "        files.pop(files.index(file))"
   ]
  },
  {
   "cell_type": "code",
   "execution_count": 18,
   "metadata": {},
   "outputs": [
    {
     "name": "stderr",
     "output_type": "stream",
     "text": [
      "100%|██████████| 1/1 [12:57<00:00, 777.01s/it]\n"
     ]
    }
   ],
   "source": [
    "from tqdm import tqdm\n",
    "\n",
    "for file in tqdm(files):\n",
    "    df = pd.read_pickle(os.path.join('../../../Files/Submissions/',file))\n",
    "    df['cleanTitle']=df['title'].map(lambda s:preprocess(s)) \n",
    "    df.to_pickle(os.path.join('../../../Files/Submissions/',file))"
   ]
  },
  {
   "cell_type": "code",
   "execution_count": 43,
   "metadata": {},
   "outputs": [],
   "source": [
    "files = os.listdir('../../../Files/Submissions/')\n",
    "\n",
    "# remove any files that are not in the .pickle type \n",
    "files = [f for f in files if f.endswith('.pickle')]"
   ]
  },
  {
   "cell_type": "code",
   "execution_count": 44,
   "metadata": {},
   "outputs": [
    {
     "data": {
      "text/plain": [
       "611"
      ]
     },
     "execution_count": 44,
     "metadata": {},
     "output_type": "execute_result"
    }
   ],
   "source": [
    "len(files)"
   ]
  },
  {
   "cell_type": "code",
   "execution_count": 28,
   "metadata": {},
   "outputs": [],
   "source": [
    "import csv\n",
    "from itertools import chain\n",
    "with open('../../Preprocessing/subreddits_sm.csv', newline='') as f:\n",
    "    reader = csv.reader(f)\n",
    "    subreddits = list(reader)\n",
    "\n",
    "subreddits = list(chain.from_iterable(subreddits))"
   ]
  },
  {
   "cell_type": "code",
   "execution_count": 30,
   "metadata": {},
   "outputs": [
    {
     "data": {
      "text/plain": [
       "'Qult_Headquarters'"
      ]
     },
     "execution_count": 30,
     "metadata": {},
     "output_type": "execute_result"
    }
   ],
   "source": [
    "files[0][:-7]"
   ]
  },
  {
   "cell_type": "code",
   "execution_count": 67,
   "metadata": {},
   "outputs": [],
   "source": [
    "for file in files:\n",
    "    if file[:-7] not in subreddits:\n",
    "        files.pop(files.index(file))\n"
   ]
  },
  {
   "cell_type": "code",
   "execution_count": 58,
   "metadata": {},
   "outputs": [
    {
     "data": {
      "text/plain": [
       "298"
      ]
     },
     "execution_count": 58,
     "metadata": {},
     "output_type": "execute_result"
    }
   ],
   "source": [
    "len(subreddits)"
   ]
  },
  {
   "cell_type": "code",
   "execution_count": 72,
   "metadata": {},
   "outputs": [],
   "source": [
    "for file in files:\n",
    "    #move file to the score directory\n",
    "    os.rename(os.path.join('../../../Files/Submissions/',file), os.path.join('../../../Files/Submissions/score/',file))\n"
   ]
  },
  {
   "cell_type": "code",
   "execution_count": 71,
   "metadata": {},
   "outputs": [
    {
     "ename": "ValueError",
     "evalue": "'AIandRobotics.pickle' is not in list",
     "output_type": "error",
     "traceback": [
      "\u001b[0;31m---------------------------------------------------------------------------\u001b[0m",
      "\u001b[0;31mValueError\u001b[0m                                Traceback (most recent call last)",
      "\u001b[1;32m/Users/jakobschlierf/Desktop/Master/Thesis/Github/classifier/utils/dataset_prep.ipynb Cell 46\u001b[0m in \u001b[0;36m<cell line: 1>\u001b[0;34m()\u001b[0m\n\u001b[0;32m----> <a href='vscode-notebook-cell:/Users/jakobschlierf/Desktop/Master/Thesis/Github/classifier/utils/dataset_prep.ipynb#Y100sZmlsZQ%3D%3D?line=0'>1</a>\u001b[0m files\u001b[39m.\u001b[39;49mindex(\u001b[39m'\u001b[39;49m\u001b[39mAIandRobotics.pickle\u001b[39;49m\u001b[39m'\u001b[39;49m)\n",
      "\u001b[0;31mValueError\u001b[0m: 'AIandRobotics.pickle' is not in list"
     ]
    }
   ],
   "source": [
    "files.index('AIandRobotics.pickle')"
   ]
  }
 ],
 "metadata": {
  "kernelspec": {
   "display_name": "Python 3.9.12 ('reddit_env_test')",
   "language": "python",
   "name": "python3"
  },
  "language_info": {
   "codemirror_mode": {
    "name": "ipython",
    "version": 3
   },
   "file_extension": ".py",
   "mimetype": "text/x-python",
   "name": "python",
   "nbconvert_exporter": "python",
   "pygments_lexer": "ipython3",
   "version": "3.9.12"
  },
  "orig_nbformat": 4,
  "vscode": {
   "interpreter": {
    "hash": "6c5bfe69c2b2d435baea75ee1a7865fc7666bb526179204de658e4f2811cb086"
   }
  }
 },
 "nbformat": 4,
 "nbformat_minor": 2
}
