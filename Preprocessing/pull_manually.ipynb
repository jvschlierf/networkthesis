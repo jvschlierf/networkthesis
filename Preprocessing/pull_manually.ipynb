{
 "cells": [
  {
   "cell_type": "code",
   "execution_count": 1,
   "metadata": {},
   "outputs": [],
   "source": [
    "import pmaw\n",
    "import os\n",
    "import pandas as pd\n",
    "import argparse as arg\n",
    "from multiprocessing import Pool\n",
    "import sys\n",
    "import datetime\n",
    "import csv\n",
    "import time\n",
    "import random\n",
    "from itertools import chain"
   ]
  },
  {
   "cell_type": "code",
   "execution_count": 2,
   "metadata": {},
   "outputs": [],
   "source": [
    "def pullSubreddit(subreddit,start, end, ptype): # Pulls a subreddit from reddit and saves it to a file\n",
    "    api = pmaw.PushshiftAPI(\n",
    "    num_workers=10,\n",
    "    rate_limit=100,\n",
    "    jitter='full'\n",
    "    )\n",
    "    \n",
    "    if ptype == 'Submissions':\n",
    "        results = api.search_submissions(\n",
    "            subreddit=subreddit, \n",
    "            after=start, \n",
    "            before=end,\n",
    "            mem_safe=True,\n",
    "            filter = ('author', \n",
    "                'title',\n",
    "                'created_utc',\n",
    "                'selftext',\n",
    "                'url',\n",
    "                'id',\n",
    "                'score',\n",
    "                'num_comments',\n",
    "                'subreddit',\n",
    "                'permalink')\n",
    "            )\n",
    "    elif ptype == 'Comments':\n",
    "        results = api.search_comments(\n",
    "        subreddit=subreddit,\n",
    "        after=start,\n",
    "        before=end,\n",
    "        mem_safe=True,\n",
    "        filter = ('author',\n",
    "            'body',\n",
    "            'created_utc',\n",
    "            'id',\n",
    "            'score',\n",
    "            'permalink',\n",
    "            'subreddit',\n",
    "            'parent_id')\n",
    "        )   \n",
    "\n",
    "    temp = pd.DataFrame([thing for thing in results])\n",
    "    return temp"
   ]
  },
  {
   "cell_type": "code",
   "execution_count": 3,
   "metadata": {},
   "outputs": [],
   "source": [
    "start = int(datetime.datetime(2020, 3, 1).timestamp())\n",
    "end = int(datetime.datetime(2022, 3, 31).timestamp())\n",
    "split = 24\n",
    "step = (end - start) / split"
   ]
  },
  {
   "cell_type": "code",
   "execution_count": 4,
   "metadata": {},
   "outputs": [
    {
     "data": {
      "text/plain": [
       "2735850.0"
      ]
     },
     "execution_count": 4,
     "metadata": {},
     "output_type": "execute_result"
    }
   ],
   "source": [
    "step"
   ]
  },
  {
   "cell_type": "code",
   "execution_count": null,
   "metadata": {},
   "outputs": [],
   "source": [
    "BeAmazed-1613111550.pickle"
   ]
  },
  {
   "cell_type": "code",
   "execution_count": 5,
   "metadata": {},
   "outputs": [],
   "source": [
    "ptype = \"Submissions\""
   ]
  },
  {
   "cell_type": "code",
   "execution_count": 6,
   "metadata": {},
   "outputs": [],
   "source": [
    "temp = pullSubreddit('me_irl', 1591224750, int(1591224750)+ int(step), ptype)"
   ]
  },
  {
   "cell_type": "code",
   "execution_count": 26,
   "metadata": {},
   "outputs": [],
   "source": [
    "api = pmaw.PushshiftAPI(\n",
    "    num_workers=10,\n",
    "    rate_limit=100,\n",
    "    jitter='full'\n",
    "    )\n",
    "    \n",
    "\n",
    "results = api.search_submissions(\n",
    "    subreddit='BeAmazed', \n",
    "    after=1613111550, \n",
    "    before=(int(1613111550)+ int(step)),\n",
    "    mem_safe=True,\n",
    "    filter = ('author', \n",
    "        'title',\n",
    "        'created_utc',\n",
    "        'selftext',\n",
    "        'url',\n",
    "        'id',\n",
    "        'score',\n",
    "        'num_comments',\n",
    "        'subreddit',\n",
    "        'permalink')\n",
    "    )"
   ]
  },
  {
   "cell_type": "code",
   "execution_count": 27,
   "metadata": {},
   "outputs": [],
   "source": [
    "temp = pd.DataFrame([thing for thing in results])"
   ]
  },
  {
   "cell_type": "code",
   "execution_count": 28,
   "metadata": {},
   "outputs": [
    {
     "data": {
      "text/html": [
       "<div>\n",
       "<style scoped>\n",
       "    .dataframe tbody tr th:only-of-type {\n",
       "        vertical-align: middle;\n",
       "    }\n",
       "\n",
       "    .dataframe tbody tr th {\n",
       "        vertical-align: top;\n",
       "    }\n",
       "\n",
       "    .dataframe thead th {\n",
       "        text-align: right;\n",
       "    }\n",
       "</style>\n",
       "<table border=\"1\" class=\"dataframe\">\n",
       "  <thead>\n",
       "    <tr style=\"text-align: right;\">\n",
       "      <th></th>\n",
       "      <th>author</th>\n",
       "      <th>created_utc</th>\n",
       "      <th>id</th>\n",
       "      <th>num_comments</th>\n",
       "      <th>permalink</th>\n",
       "      <th>score</th>\n",
       "      <th>selftext</th>\n",
       "      <th>subreddit</th>\n",
       "      <th>title</th>\n",
       "      <th>url</th>\n",
       "    </tr>\n",
       "  </thead>\n",
       "  <tbody>\n",
       "    <tr>\n",
       "      <th>0</th>\n",
       "      <td>karmagheden</td>\n",
       "      <td>1614205190</td>\n",
       "      <td>lroof4</td>\n",
       "      <td>30</td>\n",
       "      <td>/r/BeAmazed/comments/lroof4/an_incredible_phot...</td>\n",
       "      <td>141</td>\n",
       "      <td></td>\n",
       "      <td>BeAmazed</td>\n",
       "      <td>An incredible photorealistic ballpoint pen dra...</td>\n",
       "      <td>https://i.redd.it/ui3jm5bgxhj61.jpg</td>\n",
       "    </tr>\n",
       "    <tr>\n",
       "      <th>1</th>\n",
       "      <td>DingDongPuddlez</td>\n",
       "      <td>1614203920</td>\n",
       "      <td>lro5ho</td>\n",
       "      <td>19</td>\n",
       "      <td>/r/BeAmazed/comments/lro5ho/stick_figure_forme...</td>\n",
       "      <td>174</td>\n",
       "      <td></td>\n",
       "      <td>BeAmazed</td>\n",
       "      <td>Stick figure formed by chickens</td>\n",
       "      <td>https://v.redd.it/xjw42qefzhj61</td>\n",
       "    </tr>\n",
       "    <tr>\n",
       "      <th>2</th>\n",
       "      <td>masked-n-anonymous</td>\n",
       "      <td>1614203365</td>\n",
       "      <td>lrnxln</td>\n",
       "      <td>1</td>\n",
       "      <td>/r/BeAmazed/comments/lrnxln/nasas_perseverance...</td>\n",
       "      <td>1</td>\n",
       "      <td></td>\n",
       "      <td>BeAmazed</td>\n",
       "      <td>NASA's Perseverance Rover Gives High-Definitio...</td>\n",
       "      <td>https://mars.nasa.gov/news/8873/nasas-persever...</td>\n",
       "    </tr>\n",
       "    <tr>\n",
       "      <th>3</th>\n",
       "      <td>amrhmza</td>\n",
       "      <td>1614197842</td>\n",
       "      <td>lrmcsu</td>\n",
       "      <td>22</td>\n",
       "      <td>/r/BeAmazed/comments/lrmcsu/saving_power_line_...</td>\n",
       "      <td>48</td>\n",
       "      <td></td>\n",
       "      <td>BeAmazed</td>\n",
       "      <td>Saving power line from trees!</td>\n",
       "      <td>https://v.redd.it/bglqqz8dhhj61</td>\n",
       "    </tr>\n",
       "    <tr>\n",
       "      <th>4</th>\n",
       "      <td>simplemantr</td>\n",
       "      <td>1614196750</td>\n",
       "      <td>lrlwx0</td>\n",
       "      <td>0</td>\n",
       "      <td>/r/BeAmazed/comments/lrlwx0/amazing_details_fr...</td>\n",
       "      <td>7</td>\n",
       "      <td></td>\n",
       "      <td>BeAmazed</td>\n",
       "      <td>Amazing details from Jezero Crater, Perseveran...</td>\n",
       "      <td>https://mars.nasa.gov/resources/25640/mastcam-...</td>\n",
       "    </tr>\n",
       "  </tbody>\n",
       "</table>\n",
       "</div>"
      ],
      "text/plain": [
       "               author  created_utc      id  num_comments  \\\n",
       "0         karmagheden   1614205190  lroof4            30   \n",
       "1     DingDongPuddlez   1614203920  lro5ho            19   \n",
       "2  masked-n-anonymous   1614203365  lrnxln             1   \n",
       "3             amrhmza   1614197842  lrmcsu            22   \n",
       "4         simplemantr   1614196750  lrlwx0             0   \n",
       "\n",
       "                                           permalink  score selftext  \\\n",
       "0  /r/BeAmazed/comments/lroof4/an_incredible_phot...    141            \n",
       "1  /r/BeAmazed/comments/lro5ho/stick_figure_forme...    174            \n",
       "2  /r/BeAmazed/comments/lrnxln/nasas_perseverance...      1            \n",
       "3  /r/BeAmazed/comments/lrmcsu/saving_power_line_...     48            \n",
       "4  /r/BeAmazed/comments/lrlwx0/amazing_details_fr...      7            \n",
       "\n",
       "  subreddit                                              title  \\\n",
       "0  BeAmazed  An incredible photorealistic ballpoint pen dra...   \n",
       "1  BeAmazed                    Stick figure formed by chickens   \n",
       "2  BeAmazed  NASA's Perseverance Rover Gives High-Definitio...   \n",
       "3  BeAmazed                      Saving power line from trees!   \n",
       "4  BeAmazed  Amazing details from Jezero Crater, Perseveran...   \n",
       "\n",
       "                                                 url  \n",
       "0                https://i.redd.it/ui3jm5bgxhj61.jpg  \n",
       "1                    https://v.redd.it/xjw42qefzhj61  \n",
       "2  https://mars.nasa.gov/news/8873/nasas-persever...  \n",
       "3                    https://v.redd.it/bglqqz8dhhj61  \n",
       "4  https://mars.nasa.gov/resources/25640/mastcam-...  "
      ]
     },
     "execution_count": 28,
     "metadata": {},
     "output_type": "execute_result"
    }
   ],
   "source": [
    "temp.head()"
   ]
  },
  {
   "cell_type": "code",
   "execution_count": 29,
   "metadata": {},
   "outputs": [],
   "source": [
    "temp.to_pickle(f'../../Files/Submissions/temp/BeAmazed-1613111550.pickle')"
   ]
  }
 ],
 "metadata": {
  "kernelspec": {
   "display_name": "Python 3.9.12 ('reddit_env_test')",
   "language": "python",
   "name": "python3"
  },
  "language_info": {
   "codemirror_mode": {
    "name": "ipython",
    "version": 3
   },
   "file_extension": ".py",
   "mimetype": "text/x-python",
   "name": "python",
   "nbconvert_exporter": "python",
   "pygments_lexer": "ipython3",
   "version": "3.9.12"
  },
  "orig_nbformat": 4,
  "vscode": {
   "interpreter": {
    "hash": "6c5bfe69c2b2d435baea75ee1a7865fc7666bb526179204de658e4f2811cb086"
   }
  }
 },
 "nbformat": 4,
 "nbformat_minor": 2
}
