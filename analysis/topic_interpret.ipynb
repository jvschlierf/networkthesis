{
 "cells": [
  {
   "cell_type": "code",
   "execution_count": 1,
   "metadata": {},
   "outputs": [],
   "source": [
    "import pandas as pd"
   ]
  },
  {
   "cell_type": "code",
   "execution_count": 4,
   "metadata": {},
   "outputs": [],
   "source": [
    "import pyLDAvis"
   ]
  },
  {
   "cell_type": "code",
   "execution_count": 5,
   "metadata": {},
   "outputs": [
    {
     "name": "stdout",
     "output_type": "stream",
     "text": [
      "Topic-Term shape: (20, 14567)\n",
      "Doc-Topic shape: (2000, 20)\n"
     ]
    }
   ],
   "source": [
    "import json\n",
    "import numpy as np\n",
    "\n",
    "def load_R_model(filename):\n",
    "    with open(filename, 'r') as j:\n",
    "        data_input = json.load(j)\n",
    "    data = {'topic_term_dists': data_input['phi'], \n",
    "            'doc_topic_dists': data_input['theta'],\n",
    "            'doc_lengths': data_input['doc.length'],\n",
    "            'vocab': data_input['vocab'],\n",
    "            'term_frequency': data_input['term.frequency']}\n",
    "    return data\n",
    "\n",
    "movies_model_data = load_R_model('/Users/jakobschlierf/Downloads/movie_reviews_input.json')\n",
    "\n",
    "print('Topic-Term shape: %s' % str(np.array(movies_model_data['topic_term_dists']).shape))\n",
    "print('Doc-Topic shape: %s' % str(np.array(movies_model_data['doc_topic_dists']).shape))"
   ]
  },
  {
   "cell_type": "code",
   "execution_count": 12,
   "metadata": {},
   "outputs": [
    {
     "data": {
      "text/plain": [
       "14567"
      ]
     },
     "execution_count": 12,
     "metadata": {},
     "output_type": "execute_result"
    }
   ],
   "source": [
    "len(movies_model_data['term_frequency'])"
   ]
  },
  {
   "cell_type": "code",
   "execution_count": 2,
   "metadata": {},
   "outputs": [],
   "source": [
    "df = pd.read_pickle(\"/Users/jakobschlierf/Downloads/topics_pr_7_distr.pickle\")"
   ]
  },
  {
   "cell_type": "code",
   "execution_count": 3,
   "metadata": {},
   "outputs": [
    {
     "data": {
      "text/html": [
       "<div>\n",
       "<style scoped>\n",
       "    .dataframe tbody tr th:only-of-type {\n",
       "        vertical-align: middle;\n",
       "    }\n",
       "\n",
       "    .dataframe tbody tr th {\n",
       "        vertical-align: top;\n",
       "    }\n",
       "\n",
       "    .dataframe thead th {\n",
       "        text-align: right;\n",
       "    }\n",
       "</style>\n",
       "<table border=\"1\" class=\"dataframe\">\n",
       "  <thead>\n",
       "    <tr style=\"text-align: right;\">\n",
       "      <th></th>\n",
       "      <th>subreddit</th>\n",
       "      <th>score</th>\n",
       "      <th>created_utc</th>\n",
       "      <th>topicDistribution</th>\n",
       "    </tr>\n",
       "  </thead>\n",
       "  <tbody>\n",
       "    <tr>\n",
       "      <th>0</th>\n",
       "      <td>altnewz</td>\n",
       "      <td>1</td>\n",
       "      <td>1602483393</td>\n",
       "      <td>[0.14302996709028692, 0.14277954573437548, 0.1...</td>\n",
       "    </tr>\n",
       "    <tr>\n",
       "      <th>1</th>\n",
       "      <td>altnewz</td>\n",
       "      <td>1</td>\n",
       "      <td>1608427780</td>\n",
       "      <td>[0.14288568118862696, 0.14280230650562092, 0.1...</td>\n",
       "    </tr>\n",
       "    <tr>\n",
       "      <th>2</th>\n",
       "      <td>altnewz</td>\n",
       "      <td>1</td>\n",
       "      <td>1607996895</td>\n",
       "      <td>[0.14286652043660594, 0.14288973765062868, 0.1...</td>\n",
       "    </tr>\n",
       "    <tr>\n",
       "      <th>3</th>\n",
       "      <td>altnewz</td>\n",
       "      <td>1</td>\n",
       "      <td>1607478820</td>\n",
       "      <td>[0.14277948031717466, 0.14270753876674236, 0.1...</td>\n",
       "    </tr>\n",
       "    <tr>\n",
       "      <th>4</th>\n",
       "      <td>altnewz</td>\n",
       "      <td>1</td>\n",
       "      <td>1613460250</td>\n",
       "      <td>[0.1430227716422045, 0.14260079800736217, 0.14...</td>\n",
       "    </tr>\n",
       "  </tbody>\n",
       "</table>\n",
       "</div>"
      ],
      "text/plain": [
       "  subreddit  score  created_utc  \\\n",
       "0   altnewz      1   1602483393   \n",
       "1   altnewz      1   1608427780   \n",
       "2   altnewz      1   1607996895   \n",
       "3   altnewz      1   1607478820   \n",
       "4   altnewz      1   1613460250   \n",
       "\n",
       "                                   topicDistribution  \n",
       "0  [0.14302996709028692, 0.14277954573437548, 0.1...  \n",
       "1  [0.14288568118862696, 0.14280230650562092, 0.1...  \n",
       "2  [0.14286652043660594, 0.14288973765062868, 0.1...  \n",
       "3  [0.14277948031717466, 0.14270753876674236, 0.1...  \n",
       "4  [0.1430227716422045, 0.14260079800736217, 0.14...  "
      ]
     },
     "execution_count": 3,
     "metadata": {},
     "output_type": "execute_result"
    }
   ],
   "source": [
    "df.head()"
   ]
  },
  {
   "cell_type": "code",
   "execution_count": 49,
   "metadata": {},
   "outputs": [
    {
     "name": "stdout",
     "output_type": "stream",
     "text": [
      "buy - gme - [NUM] - amc - hold - share - nan - stock - sell - moon - not - _ - let - price - today - day - bb - nok - trading - short - go - robinhood - squeeze - ape - fund - option - delete - hand - dip - time\n"
     ]
    }
   ],
   "source": [
    "Tops = '''buy\n",
    "gme\n",
    "[NUM]\n",
    "amc\n",
    "hold\n",
    "share\n",
    "nan\n",
    "stock\n",
    "sell\n",
    "moon\n",
    "not\n",
    "_\n",
    "let\n",
    "price\n",
    "today\n",
    "day\n",
    "bb\n",
    "nok\n",
    "trading\n",
    "short\n",
    "go\n",
    "robinhood\n",
    "squeeze\n",
    "ape\n",
    "fund\n",
    "option\n",
    "delete\n",
    "hand\n",
    "dip\n",
    "time'''\n",
    "topsspl = Tops.split()\n",
    "print(*topsspl, sep = \" - \")"
   ]
  }
 ],
 "metadata": {
  "kernelspec": {
   "display_name": "Python 3.9.12 ('reddit_env_test')",
   "language": "python",
   "name": "python3"
  },
  "language_info": {
   "codemirror_mode": {
    "name": "ipython",
    "version": 3
   },
   "file_extension": ".py",
   "mimetype": "text/x-python",
   "name": "python",
   "nbconvert_exporter": "python",
   "pygments_lexer": "ipython3",
   "version": "3.9.12"
  },
  "orig_nbformat": 4,
  "vscode": {
   "interpreter": {
    "hash": "6c5bfe69c2b2d435baea75ee1a7865fc7666bb526179204de658e4f2811cb086"
   }
  }
 },
 "nbformat": 4,
 "nbformat_minor": 2
}
