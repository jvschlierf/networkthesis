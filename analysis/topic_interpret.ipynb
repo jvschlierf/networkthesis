{
 "cells": [
  {
   "cell_type": "code",
   "execution_count": 49,
   "metadata": {},
   "outputs": [
    {
     "name": "stdout",
     "output_type": "stream",
     "text": [
      "buy - gme - [NUM] - amc - hold - share - nan - stock - sell - moon - not - _ - let - price - today - day - bb - nok - trading - short - go - robinhood - squeeze - ape - fund - option - delete - hand - dip - time\n"
     ]
    }
   ],
   "source": [
    "Tops = '''buy\n",
    "gme\n",
    "[NUM]\n",
    "amc\n",
    "hold\n",
    "share\n",
    "nan\n",
    "stock\n",
    "sell\n",
    "moon\n",
    "not\n",
    "_\n",
    "let\n",
    "price\n",
    "today\n",
    "day\n",
    "bb\n",
    "nok\n",
    "trading\n",
    "short\n",
    "go\n",
    "robinhood\n",
    "squeeze\n",
    "ape\n",
    "fund\n",
    "option\n",
    "delete\n",
    "hand\n",
    "dip\n",
    "time'''\n",
    "topsspl = Tops.split()\n",
    "print(*topsspl, sep = \" - \")"
   ]
  },
  {
   "cell_type": "code",
   "execution_count": null,
   "metadata": {},
   "outputs": [
    {
     "name": "stdout",
     "output_type": "stream",
     "text": [
      "[NUM] - new - case - _ - coronavirus - year - report - test - state - high - death - bill - government - covid[NUM] - remove - covid[num] - market - til - political - american - [num] - city - school - price - rate - oc - show - virus - billion - stock\n"
     ]
    }
   ],
   "source": []
  },
  {
   "cell_type": "code",
   "execution_count": 37,
   "metadata": {},
   "outputs": [
    {
     "name": "stdout",
     "output_type": "stream",
     "text": [
      "[NUM] - new - case - _ - coronavirus - year - report - test - state - high - death - bill - government - covid[NUM] - remove - covid[num] - market - til - political - american - [num] - city - school - price - rate - oc - show - virus - billion - stock\n"
     ]
    }
   ],
   "source": []
  },
  {
   "cell_type": "code",
   "execution_count": null,
   "metadata": {},
   "outputs": [],
   "source": []
  }
 ],
 "metadata": {
  "kernelspec": {
   "display_name": "Python 3.9.12 ('reddit_env_test')",
   "language": "python",
   "name": "python3"
  },
  "language_info": {
   "codemirror_mode": {
    "name": "ipython",
    "version": 3
   },
   "file_extension": ".py",
   "mimetype": "text/x-python",
   "name": "python",
   "nbconvert_exporter": "python",
   "pygments_lexer": "ipython3",
   "version": "3.9.12"
  },
  "orig_nbformat": 4,
  "vscode": {
   "interpreter": {
    "hash": "6c5bfe69c2b2d435baea75ee1a7865fc7666bb526179204de658e4f2811cb086"
   }
  }
 },
 "nbformat": 4,
 "nbformat_minor": 2
}
