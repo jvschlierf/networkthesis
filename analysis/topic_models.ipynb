{
 "cells": [
  {
   "cell_type": "code",
   "execution_count": 1,
   "metadata": {},
   "outputs": [],
   "source": [
    "# Import Spark NLP\n",
    "from sparknlp.base import *\n",
    "from sparknlp.annotator import *\n",
    "from sparknlp.pretrained import PretrainedPipeline\n",
    "import sparknlp\n",
    "from pyspark.sql import SparkSession\n",
    "from pyspark.ml import Pipeline"
   ]
  },
  {
   "cell_type": "code",
   "execution_count": 2,
   "metadata": {},
   "outputs": [
    {
     "name": "stdout",
     "output_type": "stream",
     "text": [
      ":: loading settings :: url = jar:file:/home/3147567/.conda/envs/reddit_env/lib/python3.9/site-packages/pyspark/jars/ivy-2.4.0.jar!/org/apache/ivy/core/settings/ivysettings.xml\n"
     ]
    },
    {
     "name": "stderr",
     "output_type": "stream",
     "text": [
      "Ivy Default Cache set to: /home/3147567/.ivy2/cache\n",
      "The jars for the packages stored in: /home/3147567/.ivy2/jars\n",
      "com.johnsnowlabs.nlp#spark-nlp_2.12 added as a dependency\n",
      ":: resolving dependencies :: org.apache.spark#spark-submit-parent-861c23af-b57a-4f31-aab2-45083bc344c8;1.0\n",
      "\tconfs: [default]\n",
      "\tfound com.johnsnowlabs.nlp#spark-nlp_2.12;4.1.0 in central\n",
      "\tfound com.typesafe#config;1.4.2 in central\n",
      "\tfound org.rocksdb#rocksdbjni;6.29.5 in central\n",
      "\tfound com.amazonaws#aws-java-sdk-bundle;1.11.828 in central\n",
      "\tfound com.github.universal-automata#liblevenshtein;3.0.0 in central\n",
      "\tfound com.google.code.findbugs#annotations;3.0.1 in central\n",
      "\tfound net.jcip#jcip-annotations;1.0 in central\n",
      "\tfound com.google.code.findbugs#jsr305;3.0.1 in central\n",
      "\tfound com.google.protobuf#protobuf-java-util;3.0.0-beta-3 in central\n",
      "\tfound com.google.protobuf#protobuf-java;3.0.0-beta-3 in central\n",
      "\tfound com.google.code.gson#gson;2.3 in central\n",
      "\tfound it.unimi.dsi#fastutil;7.0.12 in central\n",
      "\tfound org.projectlombok#lombok;1.16.8 in central\n",
      "\tfound org.slf4j#slf4j-api;1.7.21 in central\n",
      "\tfound com.navigamez#greex;1.0 in central\n",
      "\tfound dk.brics.automaton#automaton;1.11-8 in central\n",
      "\tfound com.johnsnowlabs.nlp#tensorflow-cpu_2.12;0.4.3 in central\n",
      ":: resolution report :: resolve 367ms :: artifacts dl 81ms\n",
      "\t:: modules in use:\n",
      "\tcom.amazonaws#aws-java-sdk-bundle;1.11.828 from central in [default]\n",
      "\tcom.github.universal-automata#liblevenshtein;3.0.0 from central in [default]\n",
      "\tcom.google.code.findbugs#annotations;3.0.1 from central in [default]\n",
      "\tcom.google.code.findbugs#jsr305;3.0.1 from central in [default]\n",
      "\tcom.google.code.gson#gson;2.3 from central in [default]\n",
      "\tcom.google.protobuf#protobuf-java;3.0.0-beta-3 from central in [default]\n",
      "\tcom.google.protobuf#protobuf-java-util;3.0.0-beta-3 from central in [default]\n",
      "\tcom.johnsnowlabs.nlp#spark-nlp_2.12;4.1.0 from central in [default]\n",
      "\tcom.johnsnowlabs.nlp#tensorflow-cpu_2.12;0.4.3 from central in [default]\n",
      "\tcom.navigamez#greex;1.0 from central in [default]\n",
      "\tcom.typesafe#config;1.4.2 from central in [default]\n",
      "\tdk.brics.automaton#automaton;1.11-8 from central in [default]\n",
      "\tit.unimi.dsi#fastutil;7.0.12 from central in [default]\n",
      "\tnet.jcip#jcip-annotations;1.0 from central in [default]\n",
      "\torg.projectlombok#lombok;1.16.8 from central in [default]\n",
      "\torg.rocksdb#rocksdbjni;6.29.5 from central in [default]\n",
      "\torg.slf4j#slf4j-api;1.7.21 from central in [default]\n",
      "\t---------------------------------------------------------------------\n",
      "\t|                  |            modules            ||   artifacts   |\n",
      "\t|       conf       | number| search|dwnlded|evicted|| number|dwnlded|\n",
      "\t---------------------------------------------------------------------\n",
      "\t|      default     |   17  |   0   |   0   |   0   ||   17  |   0   |\n",
      "\t---------------------------------------------------------------------\n",
      ":: retrieving :: org.apache.spark#spark-submit-parent-861c23af-b57a-4f31-aab2-45083bc344c8\n",
      "\tconfs: [default]\n",
      "\t0 artifacts copied, 17 already retrieved (0kB/12ms)\n",
      "22/10/23 11:26:14 WARN NativeCodeLoader: Unable to load native-hadoop library for your platform... using builtin-java classes where applicable\n",
      "Using Spark's default log4j profile: org/apache/spark/log4j-defaults.properties\n",
      "Setting default log level to \"WARN\".\n",
      "To adjust logging level use sc.setLogLevel(newLevel). For SparkR, use setLogLevel(newLevel).\n"
     ]
    }
   ],
   "source": [
    "spark = SparkSession.builder \\\n",
    "    .appName(\"Spark NLP\")\\\n",
    "    .config(\"spark.driver.memory\",\"32G\")\\\n",
    "    .config(\"spark.driver.maxResultSize\", \"2G\") \\\n",
    "    .config(\"spark.jars.packages\", \"com.johnsnowlabs.nlp:spark-nlp_2.12:4.1.0\")\\\n",
    "    .config(\"spark.kryoserializer.buffer.max\", \"1000M\")\\\n",
    "    .getOrCreate()\n"
   ]
  },
  {
   "cell_type": "code",
   "execution_count": 3,
   "metadata": {},
   "outputs": [
    {
     "data": {
      "text/plain": [
       "'3.1.2'"
      ]
     },
     "execution_count": 3,
     "metadata": {},
     "output_type": "execute_result"
    }
   ],
   "source": [
    "spark.version"
   ]
  },
  {
   "cell_type": "code",
   "execution_count": 4,
   "metadata": {},
   "outputs": [
    {
     "name": "stderr",
     "output_type": "stream",
     "text": [
      "                                                                                \r"
     ]
    }
   ],
   "source": [
    "NeutralFile = spark.read.parquet(\"../../Files/Submissions/score/done/Neutr_vac.parquet\")\n",
    "ProFile = spark.read.parquet(\"../../Files/Submissions/score/done/Pro_vac.parquet\")\n",
    "AntiFile = spark.read.parquet(\"../../Files/Submissions/score/done/Anti_vac.parquet\")"
   ]
  },
  {
   "cell_type": "code",
   "execution_count": 10,
   "metadata": {},
   "outputs": [
    {
     "data": {
      "text/plain": [
       "1118446"
      ]
     },
     "execution_count": 10,
     "metadata": {},
     "output_type": "execute_result"
    }
   ],
   "source": [
    "ProFile.count()"
   ]
  },
  {
   "cell_type": "code",
   "execution_count": 11,
   "metadata": {},
   "outputs": [],
   "source": [
    "import functools\n",
    "def unionAll(dfs):\n",
    "    return functools.reduce(lambda df1, df2: df1.union(df2.select(df1.columns)), dfs)"
   ]
  },
  {
   "cell_type": "code",
   "execution_count": 12,
   "metadata": {},
   "outputs": [],
   "source": [
    "Total = unionAll([NeutralFile, ProFile, AntiFile])"
   ]
  },
  {
   "cell_type": "code",
   "execution_count": 15,
   "metadata": {},
   "outputs": [],
   "source": [
    "sample = Total.sampleBy(\"pred_1\", fractions={\n",
    "    0.0: 0.10,\n",
    "    1.0: 0.10,\n",
    "    2.0: 0.10\n",
    "}, seed=42)"
   ]
  },
  {
   "cell_type": "code",
   "execution_count": 38,
   "metadata": {},
   "outputs": [],
   "source": [
    "sample_p = ProFile.sample(0.5)"
   ]
  },
  {
   "cell_type": "code",
   "execution_count": 29,
   "metadata": {},
   "outputs": [],
   "source": [
    "sample_n = NeutralFile.sample(0.1)"
   ]
  },
  {
   "cell_type": "code",
   "execution_count": 43,
   "metadata": {},
   "outputs": [],
   "source": [
    "sample_a = AntiFile.sample(0.5)"
   ]
  },
  {
   "cell_type": "code",
   "execution_count": 44,
   "metadata": {},
   "outputs": [
    {
     "data": {
      "text/plain": [
       "6525483"
      ]
     },
     "execution_count": 44,
     "metadata": {},
     "output_type": "execute_result"
    }
   ],
   "source": [
    "sample_a.count()"
   ]
  },
  {
   "cell_type": "code",
   "execution_count": 45,
   "metadata": {},
   "outputs": [],
   "source": [
    "from sparknlp.base.document_assembler import DocumentAssembler\n",
    "from sparknlp.base.finisher import Finisher\n",
    "from sparknlp.annotator.stop_words_cleaner import StopWordsCleaner\n",
    "from sparknlp.annotator.normalizer import Normalizer\n",
    "from sparknlp.annotator.token import Tokenizer\n"
   ]
  },
  {
   "cell_type": "code",
   "execution_count": 46,
   "metadata": {},
   "outputs": [],
   "source": [
    "\n",
    "# remove stopwords\n",
    "document_assembler = DocumentAssembler() \\\n",
    "    .setInputCol(\"cleanText\") \\\n",
    "    .setOutputCol(\"document\") \\\n",
    "    .setCleanupMode(\"disabled\")\n",
    "# Split sentence to tokens(array)\n",
    "tokenizer = Tokenizer() \\\n",
    "  .setInputCols([\"document\"]) \\\n",
    "  .setOutputCol(\"token\")\n",
    "# clean unwanted characters and garbage\n",
    "normalizer = Normalizer() \\\n",
    "    .setInputCols([\"token\"]) \\\n",
    "    .setOutputCol(\"normalized\")\n",
    "\n",
    "stopwords_cleaner = StopWordsCleaner()\\\n",
    "      .setInputCols(\"cleanText\") \\\n",
    "      .setOutputCol(\"cleanTokens\")\\\n",
    "      .setCaseSensitive(False)\n",
    "\n",
    "finisher = Finisher() \\\n",
    "    .setInputCols([\"cleanText\"]) \\\n",
    "    .setOutputCols([\"tokens\"]) \\\n",
    "    .setOutputAsArray(True) \\\n",
    "    .setCleanAnnotations(False)\n",
    "\n",
    "nlp_pipeline = Pipeline(\n",
    "    stages=[\n",
    "        # document_assembler,\n",
    "        #     tokenizer,\n",
    "        #     normalizer,\n",
    "            # stopwords_cleaner,  \n",
    "            finisher])"
   ]
  },
  {
   "cell_type": "code",
   "execution_count": 47,
   "metadata": {},
   "outputs": [],
   "source": [
    "# train the pipeline\n",
    "nlp_model = nlp_pipeline.fit(sample_a)"
   ]
  },
  {
   "cell_type": "code",
   "execution_count": 48,
   "metadata": {},
   "outputs": [],
   "source": [
    "# apply the pipeline to transform dataframe.\n",
    "processed_df  = nlp_model.transform(sample_a)"
   ]
  },
  {
   "cell_type": "code",
   "execution_count": 49,
   "metadata": {},
   "outputs": [
    {
     "data": {
      "text/plain": [
       "6525483"
      ]
     },
     "execution_count": 49,
     "metadata": {},
     "output_type": "execute_result"
    }
   ],
   "source": [
    "tokens_df = processed_df.select('pred_1','cleanText')\n",
    "tokens_df.count()"
   ]
  },
  {
   "cell_type": "code",
   "execution_count": 50,
   "metadata": {},
   "outputs": [
    {
     "name": "stderr",
     "output_type": "stream",
     "text": [
      "                                                                                \r"
     ]
    }
   ],
   "source": [
    "from pyspark.ml.feature import CountVectorizer\n",
    "cv = CountVectorizer(inputCol=\"cleanText\", outputCol=\"features\", vocabSize=500, minDF=3.0)\n",
    "# train the model\n",
    "cv_model = cv.fit(tokens_df)\n",
    "# transform the data. Output column name will be features.\n",
    "vectorized_tokens = cv_model.transform(tokens_df)"
   ]
  },
  {
   "cell_type": "code",
   "execution_count": 51,
   "metadata": {},
   "outputs": [
    {
     "name": "stderr",
     "output_type": "stream",
     "text": [
      "[Stage 219:======================================================>(95 + 1) / 96]\r"
     ]
    },
    {
     "name": "stdout",
     "output_type": "stream",
     "text": [
      "The lower bound on the log likelihood of the entire corpus: -193408718.15690762\n",
      "The upper bound on perplexity: 5.925139698843308\n"
     ]
    },
    {
     "name": "stderr",
     "output_type": "stream",
     "text": [
      "                                                                                \r"
     ]
    }
   ],
   "source": [
    "from pyspark.ml.clustering import LDA\n",
    "num_topics = 7\n",
    "lda = LDA(k=num_topics, maxIter=10)\n",
    "model4 = lda.fit(vectorized_tokens)\n",
    "ll = model4.logLikelihood(vectorized_tokens)\n",
    "lp = model4.logPerplexity(vectorized_tokens)\n",
    "print(\"The lower bound on the log likelihood of the entire corpus: \" + str(ll))\n",
    "print(\"The upper bound on perplexity: \" + str(lp))"
   ]
  },
  {
   "cell_type": "code",
   "execution_count": 52,
   "metadata": {},
   "outputs": [
    {
     "name": "stdout",
     "output_type": "stream",
     "text": [
      "topic: 0\n",
      "*************************\n",
      "remove\n",
      "[NUM]\n",
      "not\n",
      "new\n",
      "year\n",
      "covid\n",
      "find\n",
      "gme\n",
      "m\n",
      "trump\n",
      "day\n",
      "buy\n",
      "stock\n",
      "amp\n",
      "curse\n",
      "old\n",
      "kid\n",
      "short\n",
      "death\n",
      "try\n",
      "go\n",
      "[num]\n",
      "call\n",
      "national\n",
      "dead\n",
      "think\n",
      "late\n",
      "oh\n",
      "amc\n",
      "book\n",
      "*************************\n",
      "topic: 1\n",
      "*************************\n",
      "good\n",
      "work\n",
      "time\n",
      "not\n",
      "fuck\n",
      "job\n",
      "[NUM]\n",
      "leave\n",
      "mask\n",
      "day\n",
      "m\n",
      "take\n",
      "face\n",
      "point\n",
      "pay\n",
      "today\n",
      "want\n",
      "ask\n",
      "ban\n",
      "high\n",
      "people\n",
      "hour\n",
      "play\n",
      "like\n",
      "s\n",
      "reddit\n",
      "wear\n",
      "find\n",
      "get\n",
      "end\n",
      "*************************\n",
      "topic: 2\n",
      "*************************\n",
      "not\n",
      "delete\n",
      "people\n",
      "post\n",
      "cum\n",
      "thing\n",
      "like\n",
      "[NUM]\n",
      "big\n",
      "think\n",
      "new\n",
      "need\n",
      "comment\n",
      "m\n",
      "go\n",
      "country\n",
      "make\n",
      "well\n",
      "plan\n",
      "want\n",
      "feel\n",
      "long\n",
      "know\n",
      "work\n",
      "question\n",
      "day\n",
      "world\n",
      "time\n",
      "way\n",
      "use\n",
      "*************************\n",
      "topic: 3\n",
      "*************************\n",
      "trump\n",
      "not\n",
      "biden\n",
      "say\n",
      "m\n",
      "[url]\n",
      "state\n",
      "people\n",
      "tell\n",
      "vote\n",
      "_\n",
      "[NUM]\n",
      "want\n",
      "election\n",
      "come\n",
      "think\n",
      "president\n",
      "know\n",
      "time\n",
      "bill\n",
      "school\n",
      "true\n",
      "use\n",
      "joe\n",
      "war\n",
      "right\n",
      "love\n",
      "talk\n",
      "s\n",
      "like\n",
      "*************************\n",
      "topic: 4\n",
      "*************************\n",
      "like\n",
      "not\n",
      "s\n",
      "know\n",
      "man\n",
      "people\n",
      "go\n",
      "look\n",
      "think\n",
      "guy\n",
      "say\n",
      "woman\n",
      "bad\n",
      "ve\n",
      "meme\n",
      "child\n",
      "way\n",
      "need\n",
      "see\n",
      "family\n",
      "[NUM]\n",
      "m\n",
      "want\n",
      "thing\n",
      "life\n",
      "shit\n",
      "feel\n",
      "find\n",
      "mean\n",
      "yes\n",
      "*************************\n",
      "topic: 5\n",
      "*************************\n",
      "rule\n",
      "hate\n",
      "not\n",
      "vaccine\n",
      "get\n",
      "thank\n",
      "video\n",
      "china\n",
      "[NUM]\n",
      "people\n",
      "game\n",
      "life\n",
      "world\n",
      "like\n",
      "free\n",
      "news\n",
      "[num]\n",
      "watch\n",
      "live\n",
      "covid\n",
      "russia\n",
      "help\n",
      "protest\n",
      "dog\n",
      "real\n",
      "new\n",
      "fight\n",
      "m\n",
      "funny\n",
      "let\n",
      "*************************\n",
      "topic: 6\n",
      "*************************\n",
      "[NUM]\n",
      "coronavirus\n",
      "[num]\n",
      "people\n",
      "year\n",
      "police\n",
      "million\n",
      "report\n",
      "case\n",
      "test\n",
      "not\n",
      "think\n",
      "market\n",
      "right\n",
      "day\n",
      "month\n",
      "hold\n",
      "company\n",
      "house\n",
      "white\n",
      "say\n",
      "covid[NUM]\n",
      "share\n",
      "new\n",
      "home\n",
      "number\n",
      "close\n",
      "de\n",
      "vs\n",
      "break\n",
      "*************************\n"
     ]
    }
   ],
   "source": [
    "# extract vocabulary from CountVectorizer\n",
    "vocab = cv_model.vocabulary\n",
    "topics = model4.describeTopics(maxTermsPerTopic = 30)   \n",
    "topics_rdd = topics.rdd\n",
    "topics_words = topics_rdd\\\n",
    "       .map(lambda row: row['termIndices'])\\\n",
    "       .map(lambda idx_list: [vocab[idx] for idx in idx_list])\\\n",
    "       .collect()\n",
    "for idx, topic in enumerate(topics_words):\n",
    "    print(\"topic: {}\".format(idx))\n",
    "    print(\"*\"*25)\n",
    "    for word in topic:\n",
    "       print(word)\n",
    "    print(\"*\"*25)"
   ]
  },
  {
   "cell_type": "code",
   "execution_count": 53,
   "metadata": {},
   "outputs": [],
   "source": [
    "model4.save('../../Files/models/topic_a_7.pickle')"
   ]
  },
  {
   "cell_type": "code",
   "execution_count": 130,
   "metadata": {},
   "outputs": [],
   "source": [
    "model2.save('../../Files/models/topic_a_all.pickle')"
   ]
  },
  {
   "cell_type": "code",
   "execution_count": 151,
   "metadata": {},
   "outputs": [],
   "source": [
    "model3.save('../../Files/models/topic_p_n.pickle')"
   ]
  }
 ],
 "metadata": {
  "kernelspec": {
   "display_name": "Python 3.9.12 ('reddit_env')",
   "language": "python",
   "name": "python3"
  },
  "language_info": {
   "codemirror_mode": {
    "name": "ipython",
    "version": 3
   },
   "file_extension": ".py",
   "mimetype": "text/x-python",
   "name": "python",
   "nbconvert_exporter": "python",
   "pygments_lexer": "ipython3",
   "version": "3.9.12"
  },
  "orig_nbformat": 4,
  "vscode": {
   "interpreter": {
    "hash": "7913a71c8e34b61ec22a3bd55dc7c3ae241fdb6cefe9aa5fb754c5121c0e8c4d"
   }
  }
 },
 "nbformat": 4,
 "nbformat_minor": 2
}
