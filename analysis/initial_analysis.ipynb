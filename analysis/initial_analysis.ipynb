{
 "cells": [
  {
   "cell_type": "code",
   "execution_count": 5,
   "metadata": {},
   "outputs": [],
   "source": [
    "import pandas as pd\n",
    "import requests\n",
    "import seaborn as sn \n",
    "import matplotlib.pyplot as plt\n",
    "import io"
   ]
  },
  {
   "cell_type": "code",
   "execution_count": 13,
   "metadata": {},
   "outputs": [],
   "source": [
    "df = pd.read_csv('/Users/jakobschlierf/Downloads/United States.csv')"
   ]
  },
  {
   "cell_type": "code",
   "execution_count": 21,
   "metadata": {},
   "outputs": [
    {
     "data": {
      "text/plain": [
       "Index(['location', 'date', 'vaccine', 'source_url', 'total_vaccinations',\n",
       "       'people_vaccinated', 'people_fully_vaccinated', 'total_boosters'],\n",
       "      dtype='object')"
      ]
     },
     "execution_count": 21,
     "metadata": {},
     "output_type": "execute_result"
    }
   ],
   "source": [
    "df.columns"
   ]
  },
  {
   "cell_type": "code",
   "execution_count": 20,
   "metadata": {},
   "outputs": [
    {
     "data": {
      "text/html": [
       "<div>\n",
       "<style scoped>\n",
       "    .dataframe tbody tr th:only-of-type {\n",
       "        vertical-align: middle;\n",
       "    }\n",
       "\n",
       "    .dataframe tbody tr th {\n",
       "        vertical-align: top;\n",
       "    }\n",
       "\n",
       "    .dataframe thead th {\n",
       "        text-align: right;\n",
       "    }\n",
       "</style>\n",
       "<table border=\"1\" class=\"dataframe\">\n",
       "  <thead>\n",
       "    <tr style=\"text-align: right;\">\n",
       "      <th></th>\n",
       "      <th>total_vaccinations</th>\n",
       "      <th>people_vaccinated</th>\n",
       "      <th>people_fully_vaccinated</th>\n",
       "      <th>total_boosters</th>\n",
       "    </tr>\n",
       "  </thead>\n",
       "  <tbody>\n",
       "    <tr>\n",
       "      <th>count</th>\n",
       "      <td>5.980000e+02</td>\n",
       "      <td>5.980000e+02</td>\n",
       "      <td>5.980000e+02</td>\n",
       "      <td>5.980000e+02</td>\n",
       "    </tr>\n",
       "    <tr>\n",
       "      <th>mean</th>\n",
       "      <td>3.849227e+08</td>\n",
       "      <td>1.888553e+08</td>\n",
       "      <td>1.586912e+08</td>\n",
       "      <td>4.455610e+07</td>\n",
       "    </tr>\n",
       "    <tr>\n",
       "      <th>std</th>\n",
       "      <td>1.890553e+08</td>\n",
       "      <td>7.971740e+07</td>\n",
       "      <td>7.438822e+07</td>\n",
       "      <td>5.026301e+07</td>\n",
       "    </tr>\n",
       "    <tr>\n",
       "      <th>min</th>\n",
       "      <td>3.641900e+04</td>\n",
       "      <td>2.976300e+04</td>\n",
       "      <td>7.581000e+03</td>\n",
       "      <td>0.000000e+00</td>\n",
       "    </tr>\n",
       "    <tr>\n",
       "      <th>25%</th>\n",
       "      <td>2.834389e+08</td>\n",
       "      <td>1.597107e+08</td>\n",
       "      <td>1.292769e+08</td>\n",
       "      <td>7.204000e+03</td>\n",
       "    </tr>\n",
       "    <tr>\n",
       "      <th>50%</th>\n",
       "      <td>4.086935e+08</td>\n",
       "      <td>2.167412e+08</td>\n",
       "      <td>1.919991e+08</td>\n",
       "      <td>9.690542e+06</td>\n",
       "    </tr>\n",
       "    <tr>\n",
       "      <th>75%</th>\n",
       "      <td>5.602752e+08</td>\n",
       "      <td>2.544772e+08</td>\n",
       "      <td>2.173735e+08</td>\n",
       "      <td>9.865889e+07</td>\n",
       "    </tr>\n",
       "    <tr>\n",
       "      <th>max</th>\n",
       "      <td>6.042360e+08</td>\n",
       "      <td>2.615914e+08</td>\n",
       "      <td>2.230356e+08</td>\n",
       "      <td>1.280593e+08</td>\n",
       "    </tr>\n",
       "  </tbody>\n",
       "</table>\n",
       "</div>"
      ],
      "text/plain": [
       "       total_vaccinations  people_vaccinated  people_fully_vaccinated  \\\n",
       "count        5.980000e+02       5.980000e+02             5.980000e+02   \n",
       "mean         3.849227e+08       1.888553e+08             1.586912e+08   \n",
       "std          1.890553e+08       7.971740e+07             7.438822e+07   \n",
       "min          3.641900e+04       2.976300e+04             7.581000e+03   \n",
       "25%          2.834389e+08       1.597107e+08             1.292769e+08   \n",
       "50%          4.086935e+08       2.167412e+08             1.919991e+08   \n",
       "75%          5.602752e+08       2.544772e+08             2.173735e+08   \n",
       "max          6.042360e+08       2.615914e+08             2.230356e+08   \n",
       "\n",
       "       total_boosters  \n",
       "count    5.980000e+02  \n",
       "mean     4.455610e+07  \n",
       "std      5.026301e+07  \n",
       "min      0.000000e+00  \n",
       "25%      7.204000e+03  \n",
       "50%      9.690542e+06  \n",
       "75%      9.865889e+07  \n",
       "max      1.280593e+08  "
      ]
     },
     "execution_count": 20,
     "metadata": {},
     "output_type": "execute_result"
    }
   ],
   "source": [
    "df.describe()"
   ]
  },
  {
   "cell_type": "code",
   "execution_count": 23,
   "metadata": {},
   "outputs": [
    {
     "data": {
      "text/html": [
       "<div>\n",
       "<style scoped>\n",
       "    .dataframe tbody tr th:only-of-type {\n",
       "        vertical-align: middle;\n",
       "    }\n",
       "\n",
       "    .dataframe tbody tr th {\n",
       "        vertical-align: top;\n",
       "    }\n",
       "\n",
       "    .dataframe thead th {\n",
       "        text-align: right;\n",
       "    }\n",
       "</style>\n",
       "<table border=\"1\" class=\"dataframe\">\n",
       "  <thead>\n",
       "    <tr style=\"text-align: right;\">\n",
       "      <th></th>\n",
       "      <th>location</th>\n",
       "      <th>date</th>\n",
       "      <th>vaccine</th>\n",
       "      <th>source_url</th>\n",
       "      <th>total_vaccinations</th>\n",
       "      <th>people_vaccinated</th>\n",
       "      <th>people_fully_vaccinated</th>\n",
       "      <th>total_boosters</th>\n",
       "    </tr>\n",
       "  </thead>\n",
       "  <tbody>\n",
       "    <tr>\n",
       "      <th>565</th>\n",
       "      <td>United States</td>\n",
       "      <td>2022-07-01</td>\n",
       "      <td>Johnson&amp;Johnson, Moderna, Pfizer/BioNTech</td>\n",
       "      <td>https://data.cdc.gov/Vaccinations/COVID-19-Vac...</td>\n",
       "      <td>597086225</td>\n",
       "      <td>260067050</td>\n",
       "      <td>222184716</td>\n",
       "      <td>123811860</td>\n",
       "    </tr>\n",
       "  </tbody>\n",
       "</table>\n",
       "</div>"
      ],
      "text/plain": [
       "          location        date                                    vaccine  \\\n",
       "565  United States  2022-07-01  Johnson&Johnson, Moderna, Pfizer/BioNTech   \n",
       "\n",
       "                                            source_url  total_vaccinations  \\\n",
       "565  https://data.cdc.gov/Vaccinations/COVID-19-Vac...           597086225   \n",
       "\n",
       "     people_vaccinated  people_fully_vaccinated  total_boosters  \n",
       "565          260067050                222184716       123811860  "
      ]
     },
     "execution_count": 23,
     "metadata": {},
     "output_type": "execute_result"
    }
   ],
   "source": [
    "df[df['date'] == '2022-07-01']"
   ]
  },
  {
   "cell_type": "code",
   "execution_count": 25,
   "metadata": {},
   "outputs": [
    {
     "data": {
      "text/html": [
       "<div>\n",
       "<style scoped>\n",
       "    .dataframe tbody tr th:only-of-type {\n",
       "        vertical-align: middle;\n",
       "    }\n",
       "\n",
       "    .dataframe tbody tr th {\n",
       "        vertical-align: top;\n",
       "    }\n",
       "\n",
       "    .dataframe thead th {\n",
       "        text-align: right;\n",
       "    }\n",
       "</style>\n",
       "<table border=\"1\" class=\"dataframe\">\n",
       "  <thead>\n",
       "    <tr style=\"text-align: right;\">\n",
       "      <th></th>\n",
       "      <th>location</th>\n",
       "      <th>date</th>\n",
       "      <th>vaccine</th>\n",
       "      <th>source_url</th>\n",
       "      <th>total_vaccinations</th>\n",
       "      <th>people_vaccinated</th>\n",
       "      <th>people_fully_vaccinated</th>\n",
       "      <th>total_boosters</th>\n",
       "    </tr>\n",
       "  </thead>\n",
       "  <tbody>\n",
       "    <tr>\n",
       "      <th>597</th>\n",
       "      <td>United States</td>\n",
       "      <td>2022-08-02</td>\n",
       "      <td>Johnson&amp;Johnson, Moderna, Pfizer/BioNTech</td>\n",
       "      <td>https://data.cdc.gov/Vaccinations/COVID-19-Vac...</td>\n",
       "      <td>604235972</td>\n",
       "      <td>261591428</td>\n",
       "      <td>223035566</td>\n",
       "      <td>128059290</td>\n",
       "    </tr>\n",
       "  </tbody>\n",
       "</table>\n",
       "</div>"
      ],
      "text/plain": [
       "          location        date                                    vaccine  \\\n",
       "597  United States  2022-08-02  Johnson&Johnson, Moderna, Pfizer/BioNTech   \n",
       "\n",
       "                                            source_url  total_vaccinations  \\\n",
       "597  https://data.cdc.gov/Vaccinations/COVID-19-Vac...           604235972   \n",
       "\n",
       "     people_vaccinated  people_fully_vaccinated  total_boosters  \n",
       "597          261591428                223035566       128059290  "
      ]
     },
     "execution_count": 25,
     "metadata": {},
     "output_type": "execute_result"
    }
   ],
   "source": [
    "df.tail(1)"
   ]
  },
  {
   "cell_type": "code",
   "execution_count": 15,
   "metadata": {},
   "outputs": [
    {
     "data": {
      "text/plain": [
       "230183750047"
      ]
     },
     "execution_count": 15,
     "metadata": {},
     "output_type": "execute_result"
    }
   ],
   "source": [
    "df.total_vaccinations.sum()"
   ]
  },
  {
   "cell_type": "code",
   "execution_count": null,
   "metadata": {},
   "outputs": [],
   "source": []
  }
 ],
 "metadata": {
  "kernelspec": {
   "display_name": "Python 3.9.12 ('reddit_env_test')",
   "language": "python",
   "name": "python3"
  },
  "language_info": {
   "codemirror_mode": {
    "name": "ipython",
    "version": 3
   },
   "file_extension": ".py",
   "mimetype": "text/x-python",
   "name": "python",
   "nbconvert_exporter": "python",
   "pygments_lexer": "ipython3",
   "version": "3.9.12"
  },
  "orig_nbformat": 4,
  "vscode": {
   "interpreter": {
    "hash": "6c5bfe69c2b2d435baea75ee1a7865fc7666bb526179204de658e4f2811cb086"
   }
  }
 },
 "nbformat": 4,
 "nbformat_minor": 2
}
