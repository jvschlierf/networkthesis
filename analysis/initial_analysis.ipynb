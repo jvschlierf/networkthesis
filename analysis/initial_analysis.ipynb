{
 "cells": [
  {
   "cell_type": "code",
   "execution_count": 1,
   "metadata": {},
   "outputs": [],
   "source": [
    "import pandas as pd\n",
    "import requests\n",
    "import seaborn as sn \n",
    "import matplotlib.pyplot as plt\n",
    "import io"
   ]
  },
  {
   "cell_type": "markdown",
   "metadata": {},
   "source": [
    "### Vaccinations"
   ]
  },
  {
   "cell_type": "code",
   "execution_count": 13,
   "metadata": {},
   "outputs": [],
   "source": [
    "df = pd.read_csv('/Users/jakobschlierf/Downloads/United States.csv')"
   ]
  },
  {
   "cell_type": "code",
   "execution_count": 21,
   "metadata": {},
   "outputs": [
    {
     "data": {
      "text/plain": [
       "Index(['location', 'date', 'vaccine', 'source_url', 'total_vaccinations',\n",
       "       'people_vaccinated', 'people_fully_vaccinated', 'total_boosters'],\n",
       "      dtype='object')"
      ]
     },
     "execution_count": 21,
     "metadata": {},
     "output_type": "execute_result"
    }
   ],
   "source": [
    "df.columns"
   ]
  },
  {
   "cell_type": "code",
   "execution_count": 20,
   "metadata": {},
   "outputs": [
    {
     "data": {
      "text/html": [
       "<div>\n",
       "<style scoped>\n",
       "    .dataframe tbody tr th:only-of-type {\n",
       "        vertical-align: middle;\n",
       "    }\n",
       "\n",
       "    .dataframe tbody tr th {\n",
       "        vertical-align: top;\n",
       "    }\n",
       "\n",
       "    .dataframe thead th {\n",
       "        text-align: right;\n",
       "    }\n",
       "</style>\n",
       "<table border=\"1\" class=\"dataframe\">\n",
       "  <thead>\n",
       "    <tr style=\"text-align: right;\">\n",
       "      <th></th>\n",
       "      <th>total_vaccinations</th>\n",
       "      <th>people_vaccinated</th>\n",
       "      <th>people_fully_vaccinated</th>\n",
       "      <th>total_boosters</th>\n",
       "    </tr>\n",
       "  </thead>\n",
       "  <tbody>\n",
       "    <tr>\n",
       "      <th>count</th>\n",
       "      <td>5.980000e+02</td>\n",
       "      <td>5.980000e+02</td>\n",
       "      <td>5.980000e+02</td>\n",
       "      <td>5.980000e+02</td>\n",
       "    </tr>\n",
       "    <tr>\n",
       "      <th>mean</th>\n",
       "      <td>3.849227e+08</td>\n",
       "      <td>1.888553e+08</td>\n",
       "      <td>1.586912e+08</td>\n",
       "      <td>4.455610e+07</td>\n",
       "    </tr>\n",
       "    <tr>\n",
       "      <th>std</th>\n",
       "      <td>1.890553e+08</td>\n",
       "      <td>7.971740e+07</td>\n",
       "      <td>7.438822e+07</td>\n",
       "      <td>5.026301e+07</td>\n",
       "    </tr>\n",
       "    <tr>\n",
       "      <th>min</th>\n",
       "      <td>3.641900e+04</td>\n",
       "      <td>2.976300e+04</td>\n",
       "      <td>7.581000e+03</td>\n",
       "      <td>0.000000e+00</td>\n",
       "    </tr>\n",
       "    <tr>\n",
       "      <th>25%</th>\n",
       "      <td>2.834389e+08</td>\n",
       "      <td>1.597107e+08</td>\n",
       "      <td>1.292769e+08</td>\n",
       "      <td>7.204000e+03</td>\n",
       "    </tr>\n",
       "    <tr>\n",
       "      <th>50%</th>\n",
       "      <td>4.086935e+08</td>\n",
       "      <td>2.167412e+08</td>\n",
       "      <td>1.919991e+08</td>\n",
       "      <td>9.690542e+06</td>\n",
       "    </tr>\n",
       "    <tr>\n",
       "      <th>75%</th>\n",
       "      <td>5.602752e+08</td>\n",
       "      <td>2.544772e+08</td>\n",
       "      <td>2.173735e+08</td>\n",
       "      <td>9.865889e+07</td>\n",
       "    </tr>\n",
       "    <tr>\n",
       "      <th>max</th>\n",
       "      <td>6.042360e+08</td>\n",
       "      <td>2.615914e+08</td>\n",
       "      <td>2.230356e+08</td>\n",
       "      <td>1.280593e+08</td>\n",
       "    </tr>\n",
       "  </tbody>\n",
       "</table>\n",
       "</div>"
      ],
      "text/plain": [
       "       total_vaccinations  people_vaccinated  people_fully_vaccinated  \\\n",
       "count        5.980000e+02       5.980000e+02             5.980000e+02   \n",
       "mean         3.849227e+08       1.888553e+08             1.586912e+08   \n",
       "std          1.890553e+08       7.971740e+07             7.438822e+07   \n",
       "min          3.641900e+04       2.976300e+04             7.581000e+03   \n",
       "25%          2.834389e+08       1.597107e+08             1.292769e+08   \n",
       "50%          4.086935e+08       2.167412e+08             1.919991e+08   \n",
       "75%          5.602752e+08       2.544772e+08             2.173735e+08   \n",
       "max          6.042360e+08       2.615914e+08             2.230356e+08   \n",
       "\n",
       "       total_boosters  \n",
       "count    5.980000e+02  \n",
       "mean     4.455610e+07  \n",
       "std      5.026301e+07  \n",
       "min      0.000000e+00  \n",
       "25%      7.204000e+03  \n",
       "50%      9.690542e+06  \n",
       "75%      9.865889e+07  \n",
       "max      1.280593e+08  "
      ]
     },
     "execution_count": 20,
     "metadata": {},
     "output_type": "execute_result"
    }
   ],
   "source": [
    "df.describe()"
   ]
  },
  {
   "cell_type": "code",
   "execution_count": 23,
   "metadata": {},
   "outputs": [
    {
     "data": {
      "text/html": [
       "<div>\n",
       "<style scoped>\n",
       "    .dataframe tbody tr th:only-of-type {\n",
       "        vertical-align: middle;\n",
       "    }\n",
       "\n",
       "    .dataframe tbody tr th {\n",
       "        vertical-align: top;\n",
       "    }\n",
       "\n",
       "    .dataframe thead th {\n",
       "        text-align: right;\n",
       "    }\n",
       "</style>\n",
       "<table border=\"1\" class=\"dataframe\">\n",
       "  <thead>\n",
       "    <tr style=\"text-align: right;\">\n",
       "      <th></th>\n",
       "      <th>location</th>\n",
       "      <th>date</th>\n",
       "      <th>vaccine</th>\n",
       "      <th>source_url</th>\n",
       "      <th>total_vaccinations</th>\n",
       "      <th>people_vaccinated</th>\n",
       "      <th>people_fully_vaccinated</th>\n",
       "      <th>total_boosters</th>\n",
       "    </tr>\n",
       "  </thead>\n",
       "  <tbody>\n",
       "    <tr>\n",
       "      <th>565</th>\n",
       "      <td>United States</td>\n",
       "      <td>2022-07-01</td>\n",
       "      <td>Johnson&amp;Johnson, Moderna, Pfizer/BioNTech</td>\n",
       "      <td>https://data.cdc.gov/Vaccinations/COVID-19-Vac...</td>\n",
       "      <td>597086225</td>\n",
       "      <td>260067050</td>\n",
       "      <td>222184716</td>\n",
       "      <td>123811860</td>\n",
       "    </tr>\n",
       "  </tbody>\n",
       "</table>\n",
       "</div>"
      ],
      "text/plain": [
       "          location        date                                    vaccine  \\\n",
       "565  United States  2022-07-01  Johnson&Johnson, Moderna, Pfizer/BioNTech   \n",
       "\n",
       "                                            source_url  total_vaccinations  \\\n",
       "565  https://data.cdc.gov/Vaccinations/COVID-19-Vac...           597086225   \n",
       "\n",
       "     people_vaccinated  people_fully_vaccinated  total_boosters  \n",
       "565          260067050                222184716       123811860  "
      ]
     },
     "execution_count": 23,
     "metadata": {},
     "output_type": "execute_result"
    }
   ],
   "source": [
    "df[df['date'] == '2022-07-01']"
   ]
  },
  {
   "cell_type": "code",
   "execution_count": 25,
   "metadata": {},
   "outputs": [
    {
     "data": {
      "text/html": [
       "<div>\n",
       "<style scoped>\n",
       "    .dataframe tbody tr th:only-of-type {\n",
       "        vertical-align: middle;\n",
       "    }\n",
       "\n",
       "    .dataframe tbody tr th {\n",
       "        vertical-align: top;\n",
       "    }\n",
       "\n",
       "    .dataframe thead th {\n",
       "        text-align: right;\n",
       "    }\n",
       "</style>\n",
       "<table border=\"1\" class=\"dataframe\">\n",
       "  <thead>\n",
       "    <tr style=\"text-align: right;\">\n",
       "      <th></th>\n",
       "      <th>location</th>\n",
       "      <th>date</th>\n",
       "      <th>vaccine</th>\n",
       "      <th>source_url</th>\n",
       "      <th>total_vaccinations</th>\n",
       "      <th>people_vaccinated</th>\n",
       "      <th>people_fully_vaccinated</th>\n",
       "      <th>total_boosters</th>\n",
       "    </tr>\n",
       "  </thead>\n",
       "  <tbody>\n",
       "    <tr>\n",
       "      <th>597</th>\n",
       "      <td>United States</td>\n",
       "      <td>2022-08-02</td>\n",
       "      <td>Johnson&amp;Johnson, Moderna, Pfizer/BioNTech</td>\n",
       "      <td>https://data.cdc.gov/Vaccinations/COVID-19-Vac...</td>\n",
       "      <td>604235972</td>\n",
       "      <td>261591428</td>\n",
       "      <td>223035566</td>\n",
       "      <td>128059290</td>\n",
       "    </tr>\n",
       "  </tbody>\n",
       "</table>\n",
       "</div>"
      ],
      "text/plain": [
       "          location        date                                    vaccine  \\\n",
       "597  United States  2022-08-02  Johnson&Johnson, Moderna, Pfizer/BioNTech   \n",
       "\n",
       "                                            source_url  total_vaccinations  \\\n",
       "597  https://data.cdc.gov/Vaccinations/COVID-19-Vac...           604235972   \n",
       "\n",
       "     people_vaccinated  people_fully_vaccinated  total_boosters  \n",
       "597          261591428                223035566       128059290  "
      ]
     },
     "execution_count": 25,
     "metadata": {},
     "output_type": "execute_result"
    }
   ],
   "source": [
    "df.tail(1)"
   ]
  },
  {
   "cell_type": "code",
   "execution_count": 15,
   "metadata": {},
   "outputs": [
    {
     "data": {
      "text/plain": [
       "230183750047"
      ]
     },
     "execution_count": 15,
     "metadata": {},
     "output_type": "execute_result"
    }
   ],
   "source": [
    "df.total_vaccinations.sum()"
   ]
  },
  {
   "cell_type": "markdown",
   "metadata": {},
   "source": [
    "### Network Identifying Data"
   ]
  },
  {
   "cell_type": "code",
   "execution_count": 2,
   "metadata": {},
   "outputs": [],
   "source": [
    "df = pd.read_pickle('../../Files/Identifying_Subs/test_0613_raw2.pickle')"
   ]
  },
  {
   "cell_type": "code",
   "execution_count": 4,
   "metadata": {},
   "outputs": [
    {
     "data": {
      "text/plain": [
       "(1512133, 13)"
      ]
     },
     "execution_count": 4,
     "metadata": {},
     "output_type": "execute_result"
    }
   ],
   "source": [
    "df.shape"
   ]
  },
  {
   "cell_type": "code",
   "execution_count": 5,
   "metadata": {},
   "outputs": [],
   "source": [
    "df2 = pd.read_pickle('../../Files/Identifying_Subs/test_0613_raw3.pickle')"
   ]
  },
  {
   "cell_type": "code",
   "execution_count": 8,
   "metadata": {},
   "outputs": [
    {
     "data": {
      "text/plain": [
       "(43004, 13)"
      ]
     },
     "execution_count": 8,
     "metadata": {},
     "output_type": "execute_result"
    }
   ],
   "source": [
    "df2.shape"
   ]
  },
  {
   "cell_type": "code",
   "execution_count": 9,
   "metadata": {},
   "outputs": [
    {
     "data": {
      "text/plain": [
       "1555137"
      ]
     },
     "execution_count": 9,
     "metadata": {},
     "output_type": "execute_result"
    }
   ],
   "source": [
    "1512133 + 43004"
   ]
  },
  {
   "cell_type": "markdown",
   "metadata": {},
   "source": [
    "## Training / Test Set statistics"
   ]
  },
  {
   "cell_type": "code",
   "execution_count": 2,
   "metadata": {},
   "outputs": [],
   "source": [
    "train_data = pd.read_pickle('../../Files/Submissions/train/train_split_submission.pickle') \n",
    "valid_data = pd.read_pickle('../../Files/Submissions/train/val_split_submission.pickle')\n",
    "test_data = pd.read_pickle('../../Files/Submissions/train/test_split_submission.pickle')"
   ]
  },
  {
   "cell_type": "code",
   "execution_count": 3,
   "metadata": {},
   "outputs": [
    {
     "name": "stdout",
     "output_type": "stream",
     "text": [
      "(69000, 11) (15200, 11) (1408474, 11)\n"
     ]
    }
   ],
   "source": [
    "print(train_data.shape, valid_data.shape, test_data.shape)"
   ]
  },
  {
   "cell_type": "code",
   "execution_count": 14,
   "metadata": {},
   "outputs": [],
   "source": [
    "length = [] \n",
    "for i, j in train_data.iterrows():\n",
    "    length.append(len(j['cleanTitle']))\n",
    "\n"
   ]
  },
  {
   "cell_type": "code",
   "execution_count": 15,
   "metadata": {},
   "outputs": [
    {
     "data": {
      "text/plain": [
       "(array([1.4568e+04, 2.1616e+04, 1.3769e+04, 8.0870e+03, 4.4980e+03,\n",
       "        2.3770e+03, 1.2280e+03, 8.4600e+02, 5.8900e+02, 4.6300e+02,\n",
       "        3.4700e+02, 2.5600e+02, 1.6000e+02, 1.0400e+02, 4.5000e+01,\n",
       "        2.9000e+01, 7.0000e+00, 7.0000e+00, 2.0000e+00, 2.0000e+00]),\n",
       " array([  0.  ,  14.85,  29.7 ,  44.55,  59.4 ,  74.25,  89.1 , 103.95,\n",
       "        118.8 , 133.65, 148.5 , 163.35, 178.2 , 193.05, 207.9 , 222.75,\n",
       "        237.6 , 252.45, 267.3 , 282.15, 297.  ]),\n",
       " <BarContainer object of 20 artists>)"
      ]
     },
     "execution_count": 15,
     "metadata": {},
     "output_type": "execute_result"
    },
    {
     "data": {
      "image/png": "[encoded data removed]",
      "text/plain": [
       "<Figure size 432x288 with 1 Axes>"
      ]
     },
     "metadata": {
      "needs_background": "light"
     },
     "output_type": "display_data"
    }
   ],
   "source": [
    "plt.hist(length, bins=20)"
   ]
  },
  {
   "cell_type": "code",
   "execution_count": 16,
   "metadata": {},
   "outputs": [],
   "source": [
    "length = [] \n",
    "for i, j in valid_data.iterrows():\n",
    "    length.append(len(j['cleanTitle']))\n"
   ]
  },
  {
   "cell_type": "code",
   "execution_count": 17,
   "metadata": {},
   "outputs": [
    {
     "data": {
      "text/plain": [
       "(array([3.169e+03, 4.206e+03, 2.879e+03, 1.769e+03, 1.229e+03, 6.870e+02,\n",
       "        3.980e+02, 2.410e+02, 1.920e+02, 9.400e+01, 9.300e+01, 8.100e+01,\n",
       "        6.000e+01, 4.200e+01, 2.600e+01, 1.500e+01, 1.300e+01, 3.000e+00,\n",
       "        1.000e+00, 2.000e+00]),\n",
       " array([  0.  ,  13.25,  26.5 ,  39.75,  53.  ,  66.25,  79.5 ,  92.75,\n",
       "        106.  , 119.25, 132.5 , 145.75, 159.  , 172.25, 185.5 , 198.75,\n",
       "        212.  , 225.25, 238.5 , 251.75, 265.  ]),\n",
       " <BarContainer object of 20 artists>)"
      ]
     },
     "execution_count": 17,
     "metadata": {},
     "output_type": "execute_result"
    },
    {
     "data": {
      "image/png": "[encoded data removed]",
      "text/plain": [
       "<Figure size 432x288 with 1 Axes>"
      ]
     },
     "metadata": {
      "needs_background": "light"
     },
     "output_type": "display_data"
    }
   ],
   "source": [
    "#plot histogram of lengths\n",
    "plt.hist(length, bins=20)"
   ]
  },
  {
   "cell_type": "code",
   "execution_count": 18,
   "metadata": {},
   "outputs": [],
   "source": [
    "length = []\n",
    "for i, j in test_data.iterrows():\n",
    "    length.append(len(j['cleanTitle']))\n"
   ]
  },
  {
   "cell_type": "code",
   "execution_count": 19,
   "metadata": {},
   "outputs": [
    {
     "data": {
      "text/plain": [
       "(array([5.16105e+05, 4.83607e+05, 2.17514e+05, 9.23360e+04, 4.48750e+04,\n",
       "        2.29470e+04, 1.12170e+04, 6.72500e+03, 4.70800e+03, 3.15700e+03,\n",
       "        2.11600e+03, 1.46600e+03, 8.12000e+02, 4.85000e+02, 2.18000e+02,\n",
       "        7.70000e+01, 4.10000e+01, 4.10000e+01, 1.20000e+01, 1.50000e+01]),\n",
       " array([  0.  ,  15.35,  30.7 ,  46.05,  61.4 ,  76.75,  92.1 , 107.45,\n",
       "        122.8 , 138.15, 153.5 , 168.85, 184.2 , 199.55, 214.9 , 230.25,\n",
       "        245.6 , 260.95, 276.3 , 291.65, 307.  ]),\n",
       " <BarContainer object of 20 artists>)"
      ]
     },
     "execution_count": 19,
     "metadata": {},
     "output_type": "execute_result"
    },
    {
     "data": {
      "image/png": "[encoded data removed]",
      "text/plain": [
       "<Figure size 432x288 with 1 Axes>"
      ]
     },
     "metadata": {
      "needs_background": "light"
     },
     "output_type": "display_data"
    }
   ],
   "source": [
    "plt.hist(length, bins=20)"
   ]
  }
 ],
 "metadata": {
  "kernelspec": {
   "display_name": "Python 3.9.12 ('reddit_env_test')",
   "language": "python",
   "name": "python3"
  },
  "language_info": {
   "codemirror_mode": {
    "name": "ipython",
    "version": 3
   },
   "file_extension": ".py",
   "mimetype": "text/x-python",
   "name": "python",
   "nbconvert_exporter": "python",
   "pygments_lexer": "ipython3",
   "version": "3.9.12"
  },
  "orig_nbformat": 4,
  "vscode": {
   "interpreter": {
    "hash": "6c5bfe69c2b2d435baea75ee1a7865fc7666bb526179204de658e4f2811cb086"
   }
  }
 },
 "nbformat": 4,
 "nbformat_minor": 2
}
