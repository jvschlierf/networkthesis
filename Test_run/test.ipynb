{
 "cells": [
  {
   "cell_type": "code",
   "execution_count": 1,
   "metadata": {},
   "outputs": [],
   "source": [
    "import praw\n",
    "import numpy\n",
    "%matplotlib inline\n",
    "from pylab import *\n",
    "from pprint import pprint\n",
    "import pandas as pd\n",
    "import simplejson as json\n",
    "from psaw import PushshiftAPI\n",
    "import pyspark\n",
    "import datetime as dt\n",
    "\n",
    "%config InlineBackend.figure_format='retina'"
   ]
  },
  {
   "cell_type": "code",
   "execution_count": 44,
   "metadata": {},
   "outputs": [
    {
     "name": "stderr",
     "output_type": "stream",
     "text": [
      "Version 7.5.0 of praw is outdated. Version 7.6.0 was released Tuesday May 10, 2022.\n"
     ]
    }
   ],
   "source": [
    "CLIENT_ID = '5FpjYNUrv93rDqflbNE-6w'\n",
    "CLIENT_SECRET = '5ZITWnmNd6_qCbPXDB90xmOaIMo9_w'\n",
    "USER_NAME = 'theonejay96'\n",
    "SCRIPT_NAME = 'Data\\ Science\\ Thesis'\n",
    "LOGIN_PASSWORD = 'vejkyz-hyBfez-4cinte'\n",
    "\n",
    "reddit =  praw.Reddit(\n",
    "    client_id= CLIENT_ID ,\n",
    "    client_secret= CLIENT_SECRET ,\n",
    "    user_agent= SCRIPT_NAME,\n",
    "    username= USER_NAME,\n",
    "    password= LOGIN_PASSWORD)\n",
    "\n",
    "api = PushshiftAPI()"
   ]
  },
  {
   "cell_type": "code",
   "execution_count": 2,
   "metadata": {},
   "outputs": [],
   "source": [
    "def importance(df): #calculate the importance (similar to tf-idf)\n",
    "    # OPEN\n",
    "    # - make work with Crosspost from\n",
    "    imp = df.groupby(['crosspost_from']).agg({'subreddit': 'count', 'count': 'sum', 'crosspost_from_num' : 'sum'})\n",
    "    imp = imp.rename(columns ={'count': 'total'}) \n",
    "    imp.drop(['subreddit'], axis=1, inplace=True)\n",
    "    df2 = df.join(imp, on='crosspost_from', how='left')\n",
    "    return df2"
   ]
  },
  {
   "cell_type": "code",
   "execution_count": 75,
   "metadata": {},
   "outputs": [],
   "source": [
    "df2 = pd.read_pickle('../../Files/2021-01-02.pickle')"
   ]
  },
  {
   "cell_type": "code",
   "execution_count": 64,
   "metadata": {},
   "outputs": [
    {
     "ename": "IndexError",
     "evalue": "list index out of range",
     "output_type": "error",
     "traceback": [
      "\u001b[0;31m---------------------------------------------------------------------------\u001b[0m",
      "\u001b[0;31mIndexError\u001b[0m                                Traceback (most recent call last)",
      "\u001b[1;32m/Users/jakobschlierf/Desktop/Master/Thesis/Github/Test_run/test.ipynb Cell 5'\u001b[0m in \u001b[0;36m<cell line: 1>\u001b[0;34m()\u001b[0m\n\u001b[1;32m      <a href='vscode-notebook-cell:/Users/jakobschlierf/Desktop/Master/Thesis/Github/Test_run/test.ipynb#ch0000031?line=0'>1</a>\u001b[0m \u001b[39mfor\u001b[39;00m i, r \u001b[39min\u001b[39;00m df2\u001b[39m.\u001b[39miterrows(): \u001b[39m# Pull crosspost_from information from field 'crosspost_parent_list' (which is in a json format)\u001b[39;00m\n\u001b[1;32m      <a href='vscode-notebook-cell:/Users/jakobschlierf/Desktop/Master/Thesis/Github/Test_run/test.ipynb#ch0000031?line=1'>2</a>\u001b[0m     \u001b[39m# Using the field has the advantage that we can deal with deleted posts which we could not find using the reddit API.\u001b[39;00m\n\u001b[0;32m----> <a href='vscode-notebook-cell:/Users/jakobschlierf/Desktop/Master/Thesis/Github/Test_run/test.ipynb#ch0000031?line=2'>3</a>\u001b[0m     t \u001b[39m=\u001b[39m r[\u001b[39m'\u001b[39;49m\u001b[39mcrosspost_parent_list\u001b[39;49m\u001b[39m'\u001b[39;49m][\u001b[39m0\u001b[39;49m]\n\u001b[1;32m      <a href='vscode-notebook-cell:/Users/jakobschlierf/Desktop/Master/Thesis/Github/Test_run/test.ipynb#ch0000031?line=3'>4</a>\u001b[0m     r[\u001b[39m'\u001b[39m\u001b[39mcrosspost_from\u001b[39m\u001b[39m'\u001b[39m] \u001b[39m=\u001b[39m t[\u001b[39m'\u001b[39m\u001b[39msubreddit\u001b[39m\u001b[39m'\u001b[39m]\n\u001b[1;32m      <a href='vscode-notebook-cell:/Users/jakobschlierf/Desktop/Master/Thesis/Github/Test_run/test.ipynb#ch0000031?line=4'>5</a>\u001b[0m     r[\u001b[39m'\u001b[39m\u001b[39mcrosspost_from_id\u001b[39m\u001b[39m'\u001b[39m] \u001b[39m=\u001b[39m t[\u001b[39m'\u001b[39m\u001b[39msubreddit_id\u001b[39m\u001b[39m'\u001b[39m]\n",
      "\u001b[0;31mIndexError\u001b[0m: list index out of range"
     ]
    }
   ],
   "source": [
    "for i, r in df2.iterrows(): # Pull crosspost_from information from field 'crosspost_parent_list' (which is in a json format)\n",
    "    # Using the field has the advantage that we can deal with deleted posts which we could not find using the reddit API.\n",
    "    t = r['crosspost_parent_list'][0]\n",
    "    r['crosspost_from'] = t['subreddit']\n",
    "    r['crosspost_from_id'] = t['subreddit_id']\n",
    "    r['crosspost_from_subs'] = t['subreddit_subscribers'] \n",
    "    r['crosspost_from_num'] = t['num_crossposts'] \n"
   ]
  },
  {
   "cell_type": "code",
   "execution_count": 68,
   "metadata": {},
   "outputs": [],
   "source": [
    "df3 = df2[df2['crosspost_parent_list'].str.len() == 0]"
   ]
  },
  {
   "cell_type": "code",
   "execution_count": 76,
   "metadata": {},
   "outputs": [
    {
     "data": {
      "text/html": [
       "<div>\n",
       "<style scoped>\n",
       "    .dataframe tbody tr th:only-of-type {\n",
       "        vertical-align: middle;\n",
       "    }\n",
       "\n",
       "    .dataframe tbody tr th {\n",
       "        vertical-align: top;\n",
       "    }\n",
       "\n",
       "    .dataframe thead th {\n",
       "        text-align: right;\n",
       "    }\n",
       "</style>\n",
       "<table border=\"1\" class=\"dataframe\">\n",
       "  <thead>\n",
       "    <tr style=\"text-align: right;\">\n",
       "      <th></th>\n",
       "      <th>index</th>\n",
       "      <th>subreddit</th>\n",
       "      <th>subreddit_id</th>\n",
       "      <th>subreddit_subscribers</th>\n",
       "      <th>crosspost_parent</th>\n",
       "      <th>crosspost_parent_list</th>\n",
       "      <th>created_utc</th>\n",
       "      <th>author</th>\n",
       "      <th>created</th>\n",
       "      <th>t</th>\n",
       "      <th>crosspost_from</th>\n",
       "      <th>crosspost_from_id</th>\n",
       "      <th>crosspost_from_subs</th>\n",
       "      <th>crosspost_from_num</th>\n",
       "    </tr>\n",
       "  </thead>\n",
       "  <tbody>\n",
       "    <tr>\n",
       "      <th>0</th>\n",
       "      <td>0</td>\n",
       "      <td>DebateVaccines</td>\n",
       "      <td>t5_3jwf7</td>\n",
       "      <td>2347</td>\n",
       "      <td>t3_l9iiqp</td>\n",
       "      <td>[{'all_awardings': [], 'allow_live_comments': ...</td>\n",
       "      <td>1612117931</td>\n",
       "      <td>[deleted]</td>\n",
       "      <td>1.612111e+09</td>\n",
       "      <td>{'all_awardings': [], 'allow_live_comments': F...</td>\n",
       "      <td>conspiracy</td>\n",
       "      <td>t5_2qh4r</td>\n",
       "      <td>1455036</td>\n",
       "      <td>1</td>\n",
       "    </tr>\n",
       "    <tr>\n",
       "      <th>1</th>\n",
       "      <td>3</td>\n",
       "      <td>DebateVaccines</td>\n",
       "      <td>t5_3jwf7</td>\n",
       "      <td>2325</td>\n",
       "      <td>t3_l81oft</td>\n",
       "      <td>[{'all_awardings': [{'award_sub_type': 'GLOBAL...</td>\n",
       "      <td>1612056522</td>\n",
       "      <td>doingbasiclifeprep</td>\n",
       "      <td>1.612049e+09</td>\n",
       "      <td>{'all_awardings': [{'award_sub_type': 'GLOBAL'...</td>\n",
       "      <td>IAmA</td>\n",
       "      <td>t5_2qzb6</td>\n",
       "      <td>20780922</td>\n",
       "      <td>1</td>\n",
       "    </tr>\n",
       "    <tr>\n",
       "      <th>2</th>\n",
       "      <td>15</td>\n",
       "      <td>DebateVaccines</td>\n",
       "      <td>t5_3jwf7</td>\n",
       "      <td>2317</td>\n",
       "      <td>t3_l7apag</td>\n",
       "      <td>[{'all_awardings': [{'award_sub_type': 'GLOBAL...</td>\n",
       "      <td>1611915334</td>\n",
       "      <td>EuCleo</td>\n",
       "      <td>1.611908e+09</td>\n",
       "      <td>{'all_awardings': [{'award_sub_type': 'GLOBAL'...</td>\n",
       "      <td>Coronavirus</td>\n",
       "      <td>t5_2x4yx</td>\n",
       "      <td>2363477</td>\n",
       "      <td>1</td>\n",
       "    </tr>\n",
       "    <tr>\n",
       "      <th>3</th>\n",
       "      <td>17</td>\n",
       "      <td>DebateVaccines</td>\n",
       "      <td>t5_3jwf7</td>\n",
       "      <td>2314</td>\n",
       "      <td>t3_l77ln3</td>\n",
       "      <td>[{'all_awardings': [], 'allow_live_comments': ...</td>\n",
       "      <td>1611865305</td>\n",
       "      <td>dannylenwinn</td>\n",
       "      <td>1.611858e+09</td>\n",
       "      <td>{'all_awardings': [], 'allow_live_comments': F...</td>\n",
       "      <td>ForUnitedStates</td>\n",
       "      <td>t5_2i3wxn</td>\n",
       "      <td>2757</td>\n",
       "      <td>26</td>\n",
       "    </tr>\n",
       "    <tr>\n",
       "      <th>4</th>\n",
       "      <td>18</td>\n",
       "      <td>DebateVaccines</td>\n",
       "      <td>t5_3jwf7</td>\n",
       "      <td>2314</td>\n",
       "      <td>t3_l746cr</td>\n",
       "      <td>[{'all_awardings': [], 'allow_live_comments': ...</td>\n",
       "      <td>1611857406</td>\n",
       "      <td>dannylenwinn</td>\n",
       "      <td>1.611850e+09</td>\n",
       "      <td>{'all_awardings': [], 'allow_live_comments': F...</td>\n",
       "      <td>ForUnitedStates</td>\n",
       "      <td>t5_2i3wxn</td>\n",
       "      <td>2754</td>\n",
       "      <td>17</td>\n",
       "    </tr>\n",
       "  </tbody>\n",
       "</table>\n",
       "</div>"
      ],
      "text/plain": [
       "   index       subreddit subreddit_id subreddit_subscribers crosspost_parent  \\\n",
       "0      0  DebateVaccines     t5_3jwf7                  2347        t3_l9iiqp   \n",
       "1      3  DebateVaccines     t5_3jwf7                  2325        t3_l81oft   \n",
       "2     15  DebateVaccines     t5_3jwf7                  2317        t3_l7apag   \n",
       "3     17  DebateVaccines     t5_3jwf7                  2314        t3_l77ln3   \n",
       "4     18  DebateVaccines     t5_3jwf7                  2314        t3_l746cr   \n",
       "\n",
       "                               crosspost_parent_list created_utc  \\\n",
       "0  [{'all_awardings': [], 'allow_live_comments': ...  1612117931   \n",
       "1  [{'all_awardings': [{'award_sub_type': 'GLOBAL...  1612056522   \n",
       "2  [{'all_awardings': [{'award_sub_type': 'GLOBAL...  1611915334   \n",
       "3  [{'all_awardings': [], 'allow_live_comments': ...  1611865305   \n",
       "4  [{'all_awardings': [], 'allow_live_comments': ...  1611857406   \n",
       "\n",
       "               author       created  \\\n",
       "0           [deleted]  1.612111e+09   \n",
       "1  doingbasiclifeprep  1.612049e+09   \n",
       "2              EuCleo  1.611908e+09   \n",
       "3        dannylenwinn  1.611858e+09   \n",
       "4        dannylenwinn  1.611850e+09   \n",
       "\n",
       "                                                   t   crosspost_from  \\\n",
       "0  {'all_awardings': [], 'allow_live_comments': F...       conspiracy   \n",
       "1  {'all_awardings': [{'award_sub_type': 'GLOBAL'...             IAmA   \n",
       "2  {'all_awardings': [{'award_sub_type': 'GLOBAL'...      Coronavirus   \n",
       "3  {'all_awardings': [], 'allow_live_comments': F...  ForUnitedStates   \n",
       "4  {'all_awardings': [], 'allow_live_comments': F...  ForUnitedStates   \n",
       "\n",
       "  crosspost_from_id  crosspost_from_subs  crosspost_from_num  \n",
       "0          t5_2qh4r              1455036                   1  \n",
       "1          t5_2qzb6             20780922                   1  \n",
       "2          t5_2x4yx              2363477                   1  \n",
       "3         t5_2i3wxn                 2757                  26  \n",
       "4         t5_2i3wxn                 2754                  17  "
      ]
     },
     "execution_count": 76,
     "metadata": {},
     "output_type": "execute_result"
    }
   ],
   "source": [
    "df2.head()"
   ]
  },
  {
   "cell_type": "code",
   "execution_count": 50,
   "metadata": {},
   "outputs": [
    {
     "ename": "NotFound",
     "evalue": "received 404 HTTP response",
     "output_type": "error",
     "traceback": [
      "\u001b[0;31m---------------------------------------------------------------------------\u001b[0m",
      "\u001b[0;31mNotFound\u001b[0m                                  Traceback (most recent call last)",
      "\u001b[1;32m/Users/jakobschlierf/Desktop/Master/Thesis/Github/Test_run/test.ipynb Cell 8'\u001b[0m in \u001b[0;36m<cell line: 2>\u001b[0;34m()\u001b[0m\n\u001b[1;32m      <a href='vscode-notebook-cell:/Users/jakobschlierf/Desktop/Master/Thesis/Github/Test_run/test.ipynb#ch0000030?line=0'>1</a>\u001b[0m submission \u001b[39m=\u001b[39m reddit\u001b[39m.\u001b[39msubmission(\u001b[39m'\u001b[39m\u001b[39mt3_p8ibgd\u001b[39m\u001b[39m'\u001b[39m)\n\u001b[0;32m----> <a href='vscode-notebook-cell:/Users/jakobschlierf/Desktop/Master/Thesis/Github/Test_run/test.ipynb#ch0000030?line=1'>2</a>\u001b[0m submission\u001b[39m.\u001b[39;49mtitle\n",
      "File \u001b[0;32m~/opt/anaconda3/envs/reddit_env_test/lib/python3.9/site-packages/praw/models/reddit/base.py:34\u001b[0m, in \u001b[0;36mRedditBase.__getattr__\u001b[0;34m(self, attribute)\u001b[0m\n\u001b[1;32m     <a href='file:///Users/jakobschlierf/opt/anaconda3/envs/reddit_env_test/lib/python3.9/site-packages/praw/models/reddit/base.py?line=31'>32</a>\u001b[0m \u001b[39m\"\"\"Return the value of `attribute`.\"\"\"\u001b[39;00m\n\u001b[1;32m     <a href='file:///Users/jakobschlierf/opt/anaconda3/envs/reddit_env_test/lib/python3.9/site-packages/praw/models/reddit/base.py?line=32'>33</a>\u001b[0m \u001b[39mif\u001b[39;00m \u001b[39mnot\u001b[39;00m attribute\u001b[39m.\u001b[39mstartswith(\u001b[39m\"\u001b[39m\u001b[39m_\u001b[39m\u001b[39m\"\u001b[39m) \u001b[39mand\u001b[39;00m \u001b[39mnot\u001b[39;00m \u001b[39mself\u001b[39m\u001b[39m.\u001b[39m_fetched:\n\u001b[0;32m---> <a href='file:///Users/jakobschlierf/opt/anaconda3/envs/reddit_env_test/lib/python3.9/site-packages/praw/models/reddit/base.py?line=33'>34</a>\u001b[0m     \u001b[39mself\u001b[39;49m\u001b[39m.\u001b[39;49m_fetch()\n\u001b[1;32m     <a href='file:///Users/jakobschlierf/opt/anaconda3/envs/reddit_env_test/lib/python3.9/site-packages/praw/models/reddit/base.py?line=34'>35</a>\u001b[0m     \u001b[39mreturn\u001b[39;00m \u001b[39mgetattr\u001b[39m(\u001b[39mself\u001b[39m, attribute)\n\u001b[1;32m     <a href='file:///Users/jakobschlierf/opt/anaconda3/envs/reddit_env_test/lib/python3.9/site-packages/praw/models/reddit/base.py?line=35'>36</a>\u001b[0m \u001b[39mraise\u001b[39;00m \u001b[39mAttributeError\u001b[39;00m(\n\u001b[1;32m     <a href='file:///Users/jakobschlierf/opt/anaconda3/envs/reddit_env_test/lib/python3.9/site-packages/praw/models/reddit/base.py?line=36'>37</a>\u001b[0m     \u001b[39mf\u001b[39m\u001b[39m\"\u001b[39m\u001b[39m{\u001b[39;00m\u001b[39mself\u001b[39m\u001b[39m.\u001b[39m\u001b[39m__class__\u001b[39m\u001b[39m.\u001b[39m\u001b[39m__name__\u001b[39m\u001b[39m!r}\u001b[39;00m\u001b[39m object has no attribute \u001b[39m\u001b[39m{\u001b[39;00mattribute\u001b[39m!r}\u001b[39;00m\u001b[39m\"\u001b[39m\n\u001b[1;32m     <a href='file:///Users/jakobschlierf/opt/anaconda3/envs/reddit_env_test/lib/python3.9/site-packages/praw/models/reddit/base.py?line=37'>38</a>\u001b[0m )\n",
      "File \u001b[0;32m~/opt/anaconda3/envs/reddit_env_test/lib/python3.9/site-packages/praw/models/reddit/submission.py:629\u001b[0m, in \u001b[0;36mSubmission._fetch\u001b[0;34m(self)\u001b[0m\n\u001b[1;32m    <a href='file:///Users/jakobschlierf/opt/anaconda3/envs/reddit_env_test/lib/python3.9/site-packages/praw/models/reddit/submission.py?line=627'>628</a>\u001b[0m \u001b[39mdef\u001b[39;00m \u001b[39m_fetch\u001b[39m(\u001b[39mself\u001b[39m):\n\u001b[0;32m--> <a href='file:///Users/jakobschlierf/opt/anaconda3/envs/reddit_env_test/lib/python3.9/site-packages/praw/models/reddit/submission.py?line=628'>629</a>\u001b[0m     data \u001b[39m=\u001b[39m \u001b[39mself\u001b[39;49m\u001b[39m.\u001b[39;49m_fetch_data()\n\u001b[1;32m    <a href='file:///Users/jakobschlierf/opt/anaconda3/envs/reddit_env_test/lib/python3.9/site-packages/praw/models/reddit/submission.py?line=629'>630</a>\u001b[0m     submission_listing, comment_listing \u001b[39m=\u001b[39m data\n\u001b[1;32m    <a href='file:///Users/jakobschlierf/opt/anaconda3/envs/reddit_env_test/lib/python3.9/site-packages/praw/models/reddit/submission.py?line=630'>631</a>\u001b[0m     comment_listing \u001b[39m=\u001b[39m Listing(\u001b[39mself\u001b[39m\u001b[39m.\u001b[39m_reddit, _data\u001b[39m=\u001b[39mcomment_listing[\u001b[39m\"\u001b[39m\u001b[39mdata\u001b[39m\u001b[39m\"\u001b[39m])\n",
      "File \u001b[0;32m~/opt/anaconda3/envs/reddit_env_test/lib/python3.9/site-packages/praw/models/reddit/submission.py:626\u001b[0m, in \u001b[0;36mSubmission._fetch_data\u001b[0;34m(self)\u001b[0m\n\u001b[1;32m    <a href='file:///Users/jakobschlierf/opt/anaconda3/envs/reddit_env_test/lib/python3.9/site-packages/praw/models/reddit/submission.py?line=623'>624</a>\u001b[0m name, fields, params \u001b[39m=\u001b[39m \u001b[39mself\u001b[39m\u001b[39m.\u001b[39m_fetch_info()\n\u001b[1;32m    <a href='file:///Users/jakobschlierf/opt/anaconda3/envs/reddit_env_test/lib/python3.9/site-packages/praw/models/reddit/submission.py?line=624'>625</a>\u001b[0m path \u001b[39m=\u001b[39m API_PATH[name]\u001b[39m.\u001b[39mformat(\u001b[39m*\u001b[39m\u001b[39m*\u001b[39mfields)\n\u001b[0;32m--> <a href='file:///Users/jakobschlierf/opt/anaconda3/envs/reddit_env_test/lib/python3.9/site-packages/praw/models/reddit/submission.py?line=625'>626</a>\u001b[0m \u001b[39mreturn\u001b[39;00m \u001b[39mself\u001b[39;49m\u001b[39m.\u001b[39;49m_reddit\u001b[39m.\u001b[39;49mrequest(\u001b[39m\"\u001b[39;49m\u001b[39mGET\u001b[39;49m\u001b[39m\"\u001b[39;49m, path, params)\n",
      "File \u001b[0;32m~/opt/anaconda3/envs/reddit_env_test/lib/python3.9/site-packages/praw/reddit.py:885\u001b[0m, in \u001b[0;36mReddit.request\u001b[0;34m(self, method, path, params, data, files, json)\u001b[0m\n\u001b[1;32m    <a href='file:///Users/jakobschlierf/opt/anaconda3/envs/reddit_env_test/lib/python3.9/site-packages/praw/reddit.py?line=882'>883</a>\u001b[0m     \u001b[39mraise\u001b[39;00m ClientException(\u001b[39m\"\u001b[39m\u001b[39mAt most one of `data` and `json` is supported.\u001b[39m\u001b[39m\"\u001b[39m)\n\u001b[1;32m    <a href='file:///Users/jakobschlierf/opt/anaconda3/envs/reddit_env_test/lib/python3.9/site-packages/praw/reddit.py?line=883'>884</a>\u001b[0m \u001b[39mtry\u001b[39;00m:\n\u001b[0;32m--> <a href='file:///Users/jakobschlierf/opt/anaconda3/envs/reddit_env_test/lib/python3.9/site-packages/praw/reddit.py?line=884'>885</a>\u001b[0m     \u001b[39mreturn\u001b[39;00m \u001b[39mself\u001b[39;49m\u001b[39m.\u001b[39;49m_core\u001b[39m.\u001b[39;49mrequest(\n\u001b[1;32m    <a href='file:///Users/jakobschlierf/opt/anaconda3/envs/reddit_env_test/lib/python3.9/site-packages/praw/reddit.py?line=885'>886</a>\u001b[0m         method,\n\u001b[1;32m    <a href='file:///Users/jakobschlierf/opt/anaconda3/envs/reddit_env_test/lib/python3.9/site-packages/praw/reddit.py?line=886'>887</a>\u001b[0m         path,\n\u001b[1;32m    <a href='file:///Users/jakobschlierf/opt/anaconda3/envs/reddit_env_test/lib/python3.9/site-packages/praw/reddit.py?line=887'>888</a>\u001b[0m         data\u001b[39m=\u001b[39;49mdata,\n\u001b[1;32m    <a href='file:///Users/jakobschlierf/opt/anaconda3/envs/reddit_env_test/lib/python3.9/site-packages/praw/reddit.py?line=888'>889</a>\u001b[0m         files\u001b[39m=\u001b[39;49mfiles,\n\u001b[1;32m    <a href='file:///Users/jakobschlierf/opt/anaconda3/envs/reddit_env_test/lib/python3.9/site-packages/praw/reddit.py?line=889'>890</a>\u001b[0m         params\u001b[39m=\u001b[39;49mparams,\n\u001b[1;32m    <a href='file:///Users/jakobschlierf/opt/anaconda3/envs/reddit_env_test/lib/python3.9/site-packages/praw/reddit.py?line=890'>891</a>\u001b[0m         timeout\u001b[39m=\u001b[39;49m\u001b[39mself\u001b[39;49m\u001b[39m.\u001b[39;49mconfig\u001b[39m.\u001b[39;49mtimeout,\n\u001b[1;32m    <a href='file:///Users/jakobschlierf/opt/anaconda3/envs/reddit_env_test/lib/python3.9/site-packages/praw/reddit.py?line=891'>892</a>\u001b[0m         json\u001b[39m=\u001b[39;49mjson,\n\u001b[1;32m    <a href='file:///Users/jakobschlierf/opt/anaconda3/envs/reddit_env_test/lib/python3.9/site-packages/praw/reddit.py?line=892'>893</a>\u001b[0m     )\n\u001b[1;32m    <a href='file:///Users/jakobschlierf/opt/anaconda3/envs/reddit_env_test/lib/python3.9/site-packages/praw/reddit.py?line=893'>894</a>\u001b[0m \u001b[39mexcept\u001b[39;00m BadRequest \u001b[39mas\u001b[39;00m exception:\n\u001b[1;32m    <a href='file:///Users/jakobschlierf/opt/anaconda3/envs/reddit_env_test/lib/python3.9/site-packages/praw/reddit.py?line=894'>895</a>\u001b[0m     \u001b[39mtry\u001b[39;00m:\n",
      "File \u001b[0;32m~/opt/anaconda3/envs/reddit_env_test/lib/python3.9/site-packages/prawcore/sessions.py:330\u001b[0m, in \u001b[0;36mSession.request\u001b[0;34m(self, method, path, data, files, json, params, timeout)\u001b[0m\n\u001b[1;32m    <a href='file:///Users/jakobschlierf/opt/anaconda3/envs/reddit_env_test/lib/python3.9/site-packages/prawcore/sessions.py?line=327'>328</a>\u001b[0m     json[\u001b[39m\"\u001b[39m\u001b[39mapi_type\u001b[39m\u001b[39m\"\u001b[39m] \u001b[39m=\u001b[39m \u001b[39m\"\u001b[39m\u001b[39mjson\u001b[39m\u001b[39m\"\u001b[39m\n\u001b[1;32m    <a href='file:///Users/jakobschlierf/opt/anaconda3/envs/reddit_env_test/lib/python3.9/site-packages/prawcore/sessions.py?line=328'>329</a>\u001b[0m url \u001b[39m=\u001b[39m urljoin(\u001b[39mself\u001b[39m\u001b[39m.\u001b[39m_requestor\u001b[39m.\u001b[39moauth_url, path)\n\u001b[0;32m--> <a href='file:///Users/jakobschlierf/opt/anaconda3/envs/reddit_env_test/lib/python3.9/site-packages/prawcore/sessions.py?line=329'>330</a>\u001b[0m \u001b[39mreturn\u001b[39;00m \u001b[39mself\u001b[39;49m\u001b[39m.\u001b[39;49m_request_with_retries(\n\u001b[1;32m    <a href='file:///Users/jakobschlierf/opt/anaconda3/envs/reddit_env_test/lib/python3.9/site-packages/prawcore/sessions.py?line=330'>331</a>\u001b[0m     data\u001b[39m=\u001b[39;49mdata,\n\u001b[1;32m    <a href='file:///Users/jakobschlierf/opt/anaconda3/envs/reddit_env_test/lib/python3.9/site-packages/prawcore/sessions.py?line=331'>332</a>\u001b[0m     files\u001b[39m=\u001b[39;49mfiles,\n\u001b[1;32m    <a href='file:///Users/jakobschlierf/opt/anaconda3/envs/reddit_env_test/lib/python3.9/site-packages/prawcore/sessions.py?line=332'>333</a>\u001b[0m     json\u001b[39m=\u001b[39;49mjson,\n\u001b[1;32m    <a href='file:///Users/jakobschlierf/opt/anaconda3/envs/reddit_env_test/lib/python3.9/site-packages/prawcore/sessions.py?line=333'>334</a>\u001b[0m     method\u001b[39m=\u001b[39;49mmethod,\n\u001b[1;32m    <a href='file:///Users/jakobschlierf/opt/anaconda3/envs/reddit_env_test/lib/python3.9/site-packages/prawcore/sessions.py?line=334'>335</a>\u001b[0m     params\u001b[39m=\u001b[39;49mparams,\n\u001b[1;32m    <a href='file:///Users/jakobschlierf/opt/anaconda3/envs/reddit_env_test/lib/python3.9/site-packages/prawcore/sessions.py?line=335'>336</a>\u001b[0m     timeout\u001b[39m=\u001b[39;49mtimeout,\n\u001b[1;32m    <a href='file:///Users/jakobschlierf/opt/anaconda3/envs/reddit_env_test/lib/python3.9/site-packages/prawcore/sessions.py?line=336'>337</a>\u001b[0m     url\u001b[39m=\u001b[39;49murl,\n\u001b[1;32m    <a href='file:///Users/jakobschlierf/opt/anaconda3/envs/reddit_env_test/lib/python3.9/site-packages/prawcore/sessions.py?line=337'>338</a>\u001b[0m )\n",
      "File \u001b[0;32m~/opt/anaconda3/envs/reddit_env_test/lib/python3.9/site-packages/prawcore/sessions.py:266\u001b[0m, in \u001b[0;36mSession._request_with_retries\u001b[0;34m(self, data, files, json, method, params, timeout, url, retry_strategy_state)\u001b[0m\n\u001b[1;32m    <a href='file:///Users/jakobschlierf/opt/anaconda3/envs/reddit_env_test/lib/python3.9/site-packages/prawcore/sessions.py?line=252'>253</a>\u001b[0m     \u001b[39mreturn\u001b[39;00m \u001b[39mself\u001b[39m\u001b[39m.\u001b[39m_do_retry(\n\u001b[1;32m    <a href='file:///Users/jakobschlierf/opt/anaconda3/envs/reddit_env_test/lib/python3.9/site-packages/prawcore/sessions.py?line=253'>254</a>\u001b[0m         data,\n\u001b[1;32m    <a href='file:///Users/jakobschlierf/opt/anaconda3/envs/reddit_env_test/lib/python3.9/site-packages/prawcore/sessions.py?line=254'>255</a>\u001b[0m         files,\n\u001b[0;32m   (...)\u001b[0m\n\u001b[1;32m    <a href='file:///Users/jakobschlierf/opt/anaconda3/envs/reddit_env_test/lib/python3.9/site-packages/prawcore/sessions.py?line=262'>263</a>\u001b[0m         url,\n\u001b[1;32m    <a href='file:///Users/jakobschlierf/opt/anaconda3/envs/reddit_env_test/lib/python3.9/site-packages/prawcore/sessions.py?line=263'>264</a>\u001b[0m     )\n\u001b[1;32m    <a href='file:///Users/jakobschlierf/opt/anaconda3/envs/reddit_env_test/lib/python3.9/site-packages/prawcore/sessions.py?line=264'>265</a>\u001b[0m \u001b[39melif\u001b[39;00m response\u001b[39m.\u001b[39mstatus_code \u001b[39min\u001b[39;00m \u001b[39mself\u001b[39m\u001b[39m.\u001b[39mSTATUS_EXCEPTIONS:\n\u001b[0;32m--> <a href='file:///Users/jakobschlierf/opt/anaconda3/envs/reddit_env_test/lib/python3.9/site-packages/prawcore/sessions.py?line=265'>266</a>\u001b[0m     \u001b[39mraise\u001b[39;00m \u001b[39mself\u001b[39m\u001b[39m.\u001b[39mSTATUS_EXCEPTIONS[response\u001b[39m.\u001b[39mstatus_code](response)\n\u001b[1;32m    <a href='file:///Users/jakobschlierf/opt/anaconda3/envs/reddit_env_test/lib/python3.9/site-packages/prawcore/sessions.py?line=266'>267</a>\u001b[0m \u001b[39melif\u001b[39;00m response\u001b[39m.\u001b[39mstatus_code \u001b[39m==\u001b[39m codes[\u001b[39m\"\u001b[39m\u001b[39mno_content\u001b[39m\u001b[39m\"\u001b[39m]:\n\u001b[1;32m    <a href='file:///Users/jakobschlierf/opt/anaconda3/envs/reddit_env_test/lib/python3.9/site-packages/prawcore/sessions.py?line=267'>268</a>\u001b[0m     \u001b[39mreturn\u001b[39;00m\n",
      "\u001b[0;31mNotFound\u001b[0m: received 404 HTTP response"
     ]
    }
   ],
   "source": [
    "submission = reddit.submission('t3_p8ibgd')\n",
    "submission.title"
   ]
  },
  {
   "cell_type": "code",
   "execution_count": 40,
   "metadata": {},
   "outputs": [
    {
     "ename": "IndexError",
     "evalue": "list index out of range",
     "output_type": "error",
     "traceback": [
      "\u001b[0;31m---------------------------------------------------------------------------\u001b[0m",
      "\u001b[0;31mIndexError\u001b[0m                                Traceback (most recent call last)",
      "\u001b[1;32m/Users/jakobschlierf/Desktop/Master/Thesis/Github/Test_run/test.ipynb Cell 8'\u001b[0m in \u001b[0;36m<cell line: 1>\u001b[0;34m()\u001b[0m\n\u001b[0;32m----> <a href='vscode-notebook-cell:/Users/jakobschlierf/Desktop/Master/Thesis/Github/Test_run/test.ipynb#ch0000025?line=0'>1</a>\u001b[0m r[\u001b[39m'\u001b[39;49m\u001b[39mcrosspost_parent_list\u001b[39;49m\u001b[39m'\u001b[39;49m][\u001b[39m0\u001b[39;49m]\n",
      "\u001b[0;31mIndexError\u001b[0m: list index out of range"
     ]
    }
   ],
   "source": [
    "r['crosspost_parent_list'][0]"
   ]
  },
  {
   "cell_type": "code",
   "execution_count": 26,
   "metadata": {},
   "outputs": [],
   "source": [
    "df2 = df2[df2['crosspost_parent'].notna()].reset_index()"
   ]
  },
  {
   "cell_type": "code",
   "execution_count": 52,
   "metadata": {},
   "outputs": [
    {
     "ename": "IndexError",
     "evalue": "list index out of range",
     "output_type": "error",
     "traceback": [
      "\u001b[0;31m---------------------------------------------------------------------------\u001b[0m",
      "\u001b[0;31mIndexError\u001b[0m                                Traceback (most recent call last)",
      "\u001b[1;32m/Users/jakobschlierf/Desktop/Master/Thesis/Github/Test_run/test.ipynb Cell 10'\u001b[0m in \u001b[0;36m<cell line: 1>\u001b[0;34m()\u001b[0m\n\u001b[1;32m      <a href='vscode-notebook-cell:/Users/jakobschlierf/Desktop/Master/Thesis/Github/Test_run/test.ipynb#ch0000027?line=0'>1</a>\u001b[0m \u001b[39mfor\u001b[39;00m i, r \u001b[39min\u001b[39;00m df2\u001b[39m.\u001b[39miterrows(): \u001b[39m# Pull crosspost_from information from field 'crosspost_parent_list' (which is in a json format)\u001b[39;00m\n\u001b[1;32m      <a href='vscode-notebook-cell:/Users/jakobschlierf/Desktop/Master/Thesis/Github/Test_run/test.ipynb#ch0000027?line=1'>2</a>\u001b[0m     \u001b[39m# Using the field has the advantage that we can deal with deleted posts which we could not find using the reddit API.\u001b[39;00m\n\u001b[0;32m----> <a href='vscode-notebook-cell:/Users/jakobschlierf/Desktop/Master/Thesis/Github/Test_run/test.ipynb#ch0000027?line=2'>3</a>\u001b[0m     t \u001b[39m=\u001b[39m r[\u001b[39m'\u001b[39;49m\u001b[39mcrosspost_parent_list\u001b[39;49m\u001b[39m'\u001b[39;49m][\u001b[39m0\u001b[39;49m]\n\u001b[1;32m      <a href='vscode-notebook-cell:/Users/jakobschlierf/Desktop/Master/Thesis/Github/Test_run/test.ipynb#ch0000027?line=3'>4</a>\u001b[0m     r[\u001b[39m'\u001b[39m\u001b[39mcrosspost_from\u001b[39m\u001b[39m'\u001b[39m] \u001b[39m=\u001b[39m t[\u001b[39m'\u001b[39m\u001b[39msubreddit\u001b[39m\u001b[39m'\u001b[39m]\n\u001b[1;32m      <a href='vscode-notebook-cell:/Users/jakobschlierf/Desktop/Master/Thesis/Github/Test_run/test.ipynb#ch0000027?line=4'>5</a>\u001b[0m     r[\u001b[39m'\u001b[39m\u001b[39mcrosspost_from_id\u001b[39m\u001b[39m'\u001b[39m] \u001b[39m=\u001b[39m t[\u001b[39m'\u001b[39m\u001b[39msubreddit_id\u001b[39m\u001b[39m'\u001b[39m]\n",
      "\u001b[0;31mIndexError\u001b[0m: list index out of range"
     ]
    }
   ],
   "source": [
    "\n",
    "df2.to_pickle(f'../../Files/test.pickle')"
   ]
  },
  {
   "cell_type": "markdown",
   "metadata": {},
   "source": [
    "# PySpark Test"
   ]
  },
  {
   "cell_type": "code",
   "execution_count": 6,
   "metadata": {},
   "outputs": [
    {
     "ename": "ValueError",
     "evalue": "Cannot run multiple SparkContexts at once; existing SparkContext(app=spark_test, master=local[4]) created by __init__ at /tmp/ipykernel_320226/2751826978.py:2 ",
     "output_type": "error",
     "traceback": [
      "\u001b[0;31m---------------------------------------------------------------------------\u001b[0m",
      "\u001b[0;31mValueError\u001b[0m                                Traceback (most recent call last)",
      "\u001b[1;32m/home/3147567/Thesis/test.ipynb Cell 13'\u001b[0m in \u001b[0;36m<cell line: 2>\u001b[0;34m()\u001b[0m\n\u001b[1;32m      <a href='vscode-notebook-cell://ssh-remote%2Bdsba/home/3147567/Thesis/test.ipynb#ch0000011vscode-remote?line=0'>1</a>\u001b[0m \u001b[39mfrom\u001b[39;00m \u001b[39mpyspark\u001b[39;00m \u001b[39mimport\u001b[39;00m SparkConf, SparkContext \n\u001b[0;32m----> <a href='vscode-notebook-cell://ssh-remote%2Bdsba/home/3147567/Thesis/test.ipynb#ch0000011vscode-remote?line=1'>2</a>\u001b[0m sc \u001b[39m=\u001b[39m SparkContext(\u001b[39m\"\u001b[39;49m\u001b[39mlocal[4]\u001b[39;49m\u001b[39m\"\u001b[39;49m, \u001b[39m'\u001b[39;49m\u001b[39mspark_test\u001b[39;49m\u001b[39m'\u001b[39;49m)\n",
      "File \u001b[0;32m~/.conda/envs/reddit_env/lib/python3.9/site-packages/pyspark/context.py:144\u001b[0m, in \u001b[0;36mSparkContext.__init__\u001b[0;34m(self, master, appName, sparkHome, pyFiles, environment, batchSize, serializer, conf, gateway, jsc, profiler_cls)\u001b[0m\n\u001b[1;32m    <a href='file:///home/3147567/.conda/envs/reddit_env/lib/python3.9/site-packages/pyspark/context.py?line=138'>139</a>\u001b[0m \u001b[39mif\u001b[39;00m gateway \u001b[39mis\u001b[39;00m \u001b[39mnot\u001b[39;00m \u001b[39mNone\u001b[39;00m \u001b[39mand\u001b[39;00m gateway\u001b[39m.\u001b[39mgateway_parameters\u001b[39m.\u001b[39mauth_token \u001b[39mis\u001b[39;00m \u001b[39mNone\u001b[39;00m:\n\u001b[1;32m    <a href='file:///home/3147567/.conda/envs/reddit_env/lib/python3.9/site-packages/pyspark/context.py?line=139'>140</a>\u001b[0m     \u001b[39mraise\u001b[39;00m \u001b[39mValueError\u001b[39;00m(\n\u001b[1;32m    <a href='file:///home/3147567/.conda/envs/reddit_env/lib/python3.9/site-packages/pyspark/context.py?line=140'>141</a>\u001b[0m         \u001b[39m\"\u001b[39m\u001b[39mYou are trying to pass an insecure Py4j gateway to Spark. This\u001b[39m\u001b[39m\"\u001b[39m\n\u001b[1;32m    <a href='file:///home/3147567/.conda/envs/reddit_env/lib/python3.9/site-packages/pyspark/context.py?line=141'>142</a>\u001b[0m         \u001b[39m\"\u001b[39m\u001b[39m is not allowed as it is a security risk.\u001b[39m\u001b[39m\"\u001b[39m)\n\u001b[0;32m--> <a href='file:///home/3147567/.conda/envs/reddit_env/lib/python3.9/site-packages/pyspark/context.py?line=143'>144</a>\u001b[0m SparkContext\u001b[39m.\u001b[39;49m_ensure_initialized(\u001b[39mself\u001b[39;49m, gateway\u001b[39m=\u001b[39;49mgateway, conf\u001b[39m=\u001b[39;49mconf)\n\u001b[1;32m    <a href='file:///home/3147567/.conda/envs/reddit_env/lib/python3.9/site-packages/pyspark/context.py?line=144'>145</a>\u001b[0m \u001b[39mtry\u001b[39;00m:\n\u001b[1;32m    <a href='file:///home/3147567/.conda/envs/reddit_env/lib/python3.9/site-packages/pyspark/context.py?line=145'>146</a>\u001b[0m     \u001b[39mself\u001b[39m\u001b[39m.\u001b[39m_do_init(master, appName, sparkHome, pyFiles, environment, batchSize, serializer,\n\u001b[1;32m    <a href='file:///home/3147567/.conda/envs/reddit_env/lib/python3.9/site-packages/pyspark/context.py?line=146'>147</a>\u001b[0m                   conf, jsc, profiler_cls)\n",
      "File \u001b[0;32m~/.conda/envs/reddit_env/lib/python3.9/site-packages/pyspark/context.py:342\u001b[0m, in \u001b[0;36mSparkContext._ensure_initialized\u001b[0;34m(cls, instance, gateway, conf)\u001b[0m\n\u001b[1;32m    <a href='file:///home/3147567/.conda/envs/reddit_env/lib/python3.9/site-packages/pyspark/context.py?line=338'>339</a>\u001b[0m     callsite \u001b[39m=\u001b[39m SparkContext\u001b[39m.\u001b[39m_active_spark_context\u001b[39m.\u001b[39m_callsite\n\u001b[1;32m    <a href='file:///home/3147567/.conda/envs/reddit_env/lib/python3.9/site-packages/pyspark/context.py?line=340'>341</a>\u001b[0m     \u001b[39m# Raise error if there is already a running Spark context\u001b[39;00m\n\u001b[0;32m--> <a href='file:///home/3147567/.conda/envs/reddit_env/lib/python3.9/site-packages/pyspark/context.py?line=341'>342</a>\u001b[0m     \u001b[39mraise\u001b[39;00m \u001b[39mValueError\u001b[39;00m(\n\u001b[1;32m    <a href='file:///home/3147567/.conda/envs/reddit_env/lib/python3.9/site-packages/pyspark/context.py?line=342'>343</a>\u001b[0m         \u001b[39m\"\u001b[39m\u001b[39mCannot run multiple SparkContexts at once; \u001b[39m\u001b[39m\"\u001b[39m\n\u001b[1;32m    <a href='file:///home/3147567/.conda/envs/reddit_env/lib/python3.9/site-packages/pyspark/context.py?line=343'>344</a>\u001b[0m         \u001b[39m\"\u001b[39m\u001b[39mexisting SparkContext(app=\u001b[39m\u001b[39m%s\u001b[39;00m\u001b[39m, master=\u001b[39m\u001b[39m%s\u001b[39;00m\u001b[39m)\u001b[39m\u001b[39m\"\u001b[39m\n\u001b[1;32m    <a href='file:///home/3147567/.conda/envs/reddit_env/lib/python3.9/site-packages/pyspark/context.py?line=344'>345</a>\u001b[0m         \u001b[39m\"\u001b[39m\u001b[39m created by \u001b[39m\u001b[39m%s\u001b[39;00m\u001b[39m at \u001b[39m\u001b[39m%s\u001b[39;00m\u001b[39m:\u001b[39m\u001b[39m%s\u001b[39;00m\u001b[39m \u001b[39m\u001b[39m\"\u001b[39m\n\u001b[1;32m    <a href='file:///home/3147567/.conda/envs/reddit_env/lib/python3.9/site-packages/pyspark/context.py?line=345'>346</a>\u001b[0m         \u001b[39m%\u001b[39m (currentAppName, currentMaster,\n\u001b[1;32m    <a href='file:///home/3147567/.conda/envs/reddit_env/lib/python3.9/site-packages/pyspark/context.py?line=346'>347</a>\u001b[0m             callsite\u001b[39m.\u001b[39mfunction, callsite\u001b[39m.\u001b[39mfile, callsite\u001b[39m.\u001b[39mlinenum))\n\u001b[1;32m    <a href='file:///home/3147567/.conda/envs/reddit_env/lib/python3.9/site-packages/pyspark/context.py?line=347'>348</a>\u001b[0m \u001b[39melse\u001b[39;00m:\n\u001b[1;32m    <a href='file:///home/3147567/.conda/envs/reddit_env/lib/python3.9/site-packages/pyspark/context.py?line=348'>349</a>\u001b[0m     SparkContext\u001b[39m.\u001b[39m_active_spark_context \u001b[39m=\u001b[39m instance\n",
      "\u001b[0;31mValueError\u001b[0m: Cannot run multiple SparkContexts at once; existing SparkContext(app=spark_test, master=local[4]) created by __init__ at /tmp/ipykernel_320226/2751826978.py:2 "
     ]
    }
   ],
   "source": [
    "from pyspark import SparkConf, SparkContext \n",
    "sc = SparkContext(\"local[4]\", 'spark_test')\n",
    "\n",
    "\n",
    "\n"
   ]
  },
  {
   "cell_type": "code",
   "execution_count": 36,
   "metadata": {},
   "outputs": [],
   "source": [
    "lines = sc.textFile(\"Files/RS_2005-07.bz2\", )"
   ]
  },
  {
   "cell_type": "code",
   "execution_count": 42,
   "metadata": {},
   "outputs": [
    {
     "data": {
      "text/plain": [
       "['{\"archived\":true,\"author\":\"zaz\",\"author_flair_background_color\":null,\"author_flair_css_class\":null,\"author_flair_richtext\":[],\"author_flair_text\":null,\"author_flair_text_color\":null,\"author_flair_type\":\"text\",\"brand_safe\":true,\"can_gild\":true,\"contest_mode\":false,\"created_utc\":1120181161,\"distinguished\":null,\"domain\":\"cnn.com\",\"edited\":false,\"gilded\":0,\"hidden\":false,\"hide_score\":false,\"id\":\"204\",\"is_crosspostable\":true,\"is_reddit_media_domain\":false,\"is_self\":false,\"is_video\":false,\"link_flair_css_class\":null,\"link_flair_richtext\":[],\"link_flair_text\":null,\"link_flair_text_color\":\"dark\",\"link_flair_type\":\"text\",\"locked\":false,\"media\":null,\"media_embed\":{},\"no_follow\":false,\"num_comments\":0,\"num_crossposts\":0,\"over_18\":false,\"parent_whitelist_status\":\"all_ads\",\"permalink\":\"\\\\/r\\\\/reddit.com\\\\/comments\\\\/204\\\\/cnncom_dj_admits_false_tale_about_missing_teen\\\\/\",\"rte_mode\":\"markdown\",\"score\":4,\"secure_media\":null,\"secure_media_embed\":{},\"selftext\":\"\",\"send_replies\":true,\"spoiler\":false,\"stickied\":false,\"subreddit\":\"reddit.com\",\"subreddit_id\":\"t5_6\",\"subreddit_name_prefixed\":\"r\\\\/reddit.com\",\"subreddit_type\":\"archived\",\"suggested_sort\":null,\"thumbnail\":\"default\",\"thumbnail_height\":null,\"thumbnail_width\":null,\"title\":\"CNN.com - DJ admits false tale about missing teen - Jun 30, 2005\",\"url\":\"http:\\\\/\\\\/www.cnn.com\\\\/2005\\\\/LAW\\\\/06\\\\/30\\\\/aruba.missing\\\\/index.html\",\"whitelist_status\":\"all_ads\"}']"
      ]
     },
     "execution_count": 42,
     "metadata": {},
     "output_type": "execute_result"
    }
   ],
   "source": [
    "# lines.map(lambda x: x[0]).take(1)\n",
    "lines.take(1)"
   ]
  }
 ],
 "metadata": {
  "interpreter": {
   "hash": "6c5bfe69c2b2d435baea75ee1a7865fc7666bb526179204de658e4f2811cb086"
  },
  "kernelspec": {
   "display_name": "Python 3.9.12 ('reddit_env_test')",
   "language": "python",
   "name": "python3"
  },
  "language_info": {
   "codemirror_mode": {
    "name": "ipython",
    "version": 3
   },
   "file_extension": ".py",
   "mimetype": "text/x-python",
   "name": "python",
   "nbconvert_exporter": "python",
   "pygments_lexer": "ipython3",
   "version": "3.9.12"
  },
  "orig_nbformat": 4
 },
 "nbformat": 4,
 "nbformat_minor": 2
}
